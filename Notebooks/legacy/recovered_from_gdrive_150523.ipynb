{
 "cells": [
  {
   "cell_type": "markdown",
   "metadata": {},
   "source": [
    "# PRS Project"
   ]
  },
  {
   "cell_type": "markdown",
   "metadata": {},
   "source": [
    "### Create a <u>phased</u> vcf.gz file from haps/sample"
   ]
  },
  {
   "cell_type": "markdown",
   "metadata": {},
   "source": [
    "#### convert shapeit's haps/sample files to vcf"
   ]
  },
  {
   "cell_type": "code",
   "execution_count": null,
   "metadata": {},
   "outputs": [],
   "source": [
    "p=\"ceu\" \n",
    "ds1_name=\"1kg\"\n",
    "ds1_pop=\"kdv\" # eur-minus-${p}-aj-snps\n",
    "\n",
    "for a in {1..22}; do shapeit -convert --input-haps $PRS_DATASETS/${ds1_name}/imputation_panels/${ds1_pop}/chr${a}.phased --output-vcf $PRS_DATASETS/${ds1_name}/imputation_panels/${ds1_pop}/chr${a}.phased.vcf && echo \"done chr${a}\" & done"
   ]
  },
  {
   "cell_type": "markdown",
   "metadata": {},
   "source": [
    "#### Define export (if not exists):"
   ]
  },
  {
   "cell_type": "code",
   "execution_count": null,
   "metadata": {},
   "outputs": [],
   "source": [
    "export BCFTOOLS_PLUGINS=/specific/elkon/tools/bcftools-git/bcftools/plugins"
   ]
  },
  {
   "cell_type": "markdown",
   "metadata": {},
   "source": [
    "#### Creates a compressed (bgz) and indexed (tabix) file  "
   ]
  },
  {
   "cell_type": "code",
   "execution_count": null,
   "metadata": {},
   "outputs": [],
   "source": [
    "p=\"ceu\" \n",
    "ds1_name=\"1kg\"\n",
    "ds1_pop=\"eur\" # eur-minus-${p}-aj-snps\n",
    "\n",
    "declare -a chrs=({1..22}); for a in ${chrs[@]}; do bgzip $PRS_DATASETS/${ds1_name}/imputation_panels/${ds1_pop}/chr${a}.phased.vcf && tabix -f $PRS_DATASETS/${ds1_name}/imputation_panels/${ds1_pop}/chr${a}.phased.vcf.gz && echo \"done chr${a}\"  &  done"
   ]
  },
  {
   "cell_type": "markdown",
   "metadata": {},
   "source": [
    "#### Flip strands in **phased** data (using bcftools + +fixref plugin)"
   ]
  },
  {
   "cell_type": "code",
   "execution_count": null,
   "metadata": {},
   "outputs": [],
   "source": [
    "p=\"ceu\" \n",
    "ds1_name=\"1kg\"\n",
    "ds1_pop=\"eur\" # eur-minus-${p}-aj-snps\n",
    "\n",
    "for a in {1..22}; do bcftools +fixref $PRS_DATASETS/${ds1_name}/imputation_panels/${ds1_pop}/chr${a}.phased.vcf.gz -Oz -o $PRS_DATASETS/${ds1_name}/imputation_panels/${ds1_pop}/chr${a}.phased.flipped.vcf.gz -- -d -f $HOME_ELKON/data-scratch/human_g1k_v37.fasta -i $HOME_ELKON/data-scratch/1000G_ALL/chr${a}.vcf.gz && echo \"done chr${a}\" & done"
   ]
  },
  {
   "cell_type": "markdown",
   "metadata": {},
   "source": [
    "#### sort position in (unsorted) vcf files"
   ]
  },
  {
   "cell_type": "code",
   "execution_count": null,
   "metadata": {},
   "outputs": [],
   "source": [
    "p=\"ceu\" \n",
    "ds1_name=\"1kg\"\n",
    "ds1_pop=\"eur\" # eur-minus-${p}-aj-snps\n",
    "declare -a chrs=(8 15); \n",
    "\n",
    "for a in ${chrs[@]}; do mv $PRS_DATASETS/${ds1_name}/imputation_panels/${ds1_pop}/chr${a}.phased.flipped.vcf.gz $PRS_DATASETS/${ds1_name}/imputation_panels/${ds1_pop}/chr${a}.phased.flipped.unsorted.vcf.gz; done\n",
    "for a in ${chrs[@]}; do bcftools sort $PRS_DATASETS/${ds1_name}/imputation_panels/${ds1_pop}/chr${a}.phased.flipped.unsorted.vcf.gz -Oz -o $PRS_DATASETS/1kg/imputation_panels/${ds1_pop}/chr${a}.phased.flipped.vcf.gz && echo \"done chr${a}\"; done"
   ]
  },
  {
   "cell_type": "markdown",
   "metadata": {},
   "source": [
    "#### Index a vcf.gz (bgz) file (create a tbi file):"
   ]
  },
  {
   "cell_type": "code",
   "execution_count": null,
   "metadata": {},
   "outputs": [],
   "source": [
    "p=\"ceu\" \n",
    "ds1_name=\"1kg\"\n",
    "ds1_pop=\"eur\" # eur-minus-${p}-aj-snps\n",
    "\n",
    "declare -a chrs=({1..22}); for a in ${chrs[@]}; do tabix -f $PRS_DATASETS/${ds1_name}/imputation_panels/${ds1_pop}/chr${a}.phased.flipped.vcf.gz && echo \"done chr${a}\" & done"
   ]
  },
  {
   "cell_type": "markdown",
   "metadata": {},
   "source": [
    "#### Merge files"
   ]
  },
  {
   "cell_type": "code",
   "execution_count": null,
   "metadata": {},
   "outputs": [],
   "source": [
    "p=\"ceu\"\n",
    "ds1_name=\"1kg\"\n",
    "ds1_pop=\"eur\"\n",
    "ds2_name=\"ajkg14\"\n",
    "ds2_pop=\"t101\"\n",
    "merged_panel=${ds1_pop}-${ds2_name}-${ds2_pop}-merged\n",
    "\n",
    "mkdir -p $PRS_DATASETS/${ds1_name}/imputation_panels/${merged_panel} || true\n",
    "declare -a chrs=({1..22}); for a in ${chrs[@]}; do bcftools merge -Oz -o $PRS_DATASETS/${ds1_name}/imputation_panels/${merged_panel}/chr${a}.vcf.gz $PRS_DATASETS/${ds1_name}/imputation_panels/${ds1_pop}/chr${a}.phased.flipped.vcf.gz  $PRS_DATASETS/${ds2_name}/imputation_panels/${ds2_pop}/phased/chr${a}.phased.flipped.vcf.gz && echo \"done chr${a}\" & done"
   ]
  },
  {
   "cell_type": "markdown",
   "metadata": {},
   "source": [
    "#### Make haps/sample from merged files"
   ]
  },
  {
   "cell_type": "code",
   "execution_count": null,
   "metadata": {},
   "outputs": [],
   "source": [
    "p=\"ceu\"\n",
    "ds1_name=\"1kg\"\n",
    "ds1_pop=\"eur\" # eur-minus-${p}-aj-snps\n",
    "ds2_name=\"ajkg14\"\n",
    "ds2_pop=\"t101\"\n",
    "merged_panel=${ds1_pop}-${ds2_name}-${ds2_pop}-merged\n",
    "\n",
    "declare -a chrs=({1..22}); for a in ${chrs[@]}; do plink2 --vcf $PRS_DATASETS/${ds1_name}/imputation_panels/${merged_panel}/chr${a}.vcf.gz --export haps --out $PRS_DATASETS/1kg/imputation_panels/${merged_panel}/chr${a} --geno 0 --min-alleles 2 --max-alleles 2 --threads 50 & done\n"
   ]
  },
  {
   "cell_type": "markdown",
   "metadata": {},
   "source": [
    "#### Generate imputation panels"
   ]
  },
  {
   "cell_type": "code",
   "execution_count": null,
   "metadata": {},
   "outputs": [],
   "source": [
    "p=\"ceu\"\n",
    "ds1_name=\"1kg\"\n",
    "ds1_pop=\"eur\" # eur-minus-${p}-aj-snps\n",
    "ds2_name=\"ajkg14\"\n",
    "ds2_pop=\"t101\"\n",
    "merged_panel=${ds1_pop}-${ds2_name}-${ds2_pop}-merged\n",
    "\n",
    "declare -a chrs=({1..22}); for a in ${chrs[@]}; do  shapeit -convert --input-haps $PRS_DATASETS/1kg/imputation_panels/${merged_panel}/chr${a} --output-log $PRS_DATASETS/1kg/imputation_panels/${merged_panel}/chr${a}.log --output-ref $PRS_DATASETS/1kg/imputation_panels/${pop}/chr${a}.ref.hap $PRS_DATASETS/1kg/imputation_panels/${merged_panel}/chr${a}.ref.legend.gz $PRS_DATASETS/1kg/imputation_panels/${merged_panel}/chr${a}.ref.sample --thread 50 & done"
   ]
  },
  {
   "cell_type": "markdown",
   "metadata": {},
   "source": [
    "#### Run impute2 using run_by_capacity.sh script"
   ]
  },
  {
   "cell_type": "code",
   "execution_count": null,
   "metadata": {},
   "outputs": [],
   "source": [
    "ds1_name=\"1kg\"\n",
    "ds1_pop=\"tsi2\" # \"eur-minus-${p}-aj-snps\" # \"eur\"\n",
    "ds2_name=\"ajkg14\"\n",
    "ds2_pop=\"t101\"\n",
    "merged_panel=${ds1_pop} # ${ds1_pop}-${ds2_name}-${ds2_pop}-merged\n",
    "\n",
    "bash run_by_capacity.sh --cmd_fn impute_${merged_panel}_scz --input_fn chrs"
   ]
  },
  {
   "cell_type": "markdown",
   "metadata": {},
   "source": [
    "#### Convert chrs in shamir to bed in elkon"
   ]
  },
  {
   "cell_type": "code",
   "execution_count": null,
   "metadata": {},
   "outputs": [],
   "source": [
    "target=\"ukbb_sas\"\n",
    "imp=\"impute2_1kg_eur100\"\n",
    "target_path=\"/specific/netapp5/gaga/gaga-pd/prs_data/datasets/dec/\"${target}\"/${imp}/\"\n",
    "target_path_elkon=\"/specific/elkon/hagailevi/PRS/datasets/dec/\"${target}\"/${imp}/\"\n",
    "\n",
    "mkdir -p ${target_path_elkon}/raw/impute2/bed || echo \"\"\n",
    "for a in {1..22}; do plink --gen ${target_path}/raw/impute2/chrs/chr${a}.impute2 --sample $PRS_DATASETS/${target}/original/raw/phased/chr${a}.phased.sample --oxford-single-chr ${a} --make-bed --threads 50 --out ${target_path_elkon}/raw/impute2/bed/ds${a}; done\n"
   ]
  },
  {
   "cell_type": "markdown",
   "metadata": {},
   "source": [
    "#### merge impute2 files"
   ]
  },
  {
   "cell_type": "code",
   "execution_count": null,
   "metadata": {},
   "outputs": [],
   "source": [
    "target='dbg-scz19'\n",
    "ds1_name=\"1kg\"\n",
    "ds1_pop=\"eur100-2\" # \"eur-minus-${p}-aj-snps # eur\n",
    "# ds2_name=\"ajkg14\"\n",
    "# ds2_pop=\"t101\"\n",
    "ds_merged_imputed=impute2_${ds1_name}_${ds1_pop} # -${ds2_name}-${ds2_pop}-merged\n",
    "\n",
    "bash merge_chrs_impute2_all_seq.sh --target ${target} --imp ${ds_merged_imputed}\n",
    "bash merge_chrs_impute2.sh --target ${target} --imp ${ds_merged_imputed} \n",
    "\n"
   ]
  },
  {
   "cell_type": "markdown",
   "metadata": {},
   "source": [
    "#### move after merge (Shamir)"
   ]
  },
  {
   "cell_type": "code",
   "execution_count": null,
   "metadata": {},
   "outputs": [],
   "source": [
    "# p=\"fin\"\n",
    "target=\"dbg-scz19\"\n",
    "ds1_name=\"1kg\"\n",
    "ds1_pop=\"eur100-2\"  # \"eur-minus-${p}-aj-snps\"\n",
    "# ds2_name=\"ajkg14\"\n",
    "# ds2_pop=\"t101\"\n",
    "\n",
    "ds_merged_imputed=impute2_${ds1_name}_${ds1_pop} # impute2_${ds1_name}_${ds1_pop}-${ds2_name}-${ds2_pop}impute2_\n",
    "\n",
    "for a in bim bed fam; do  mv $PRS_DATASETS/${target}/${ds_merged_imputed}/raw/impute2/bed/ds.all.${a} $PRS_DATASETS/${target}/${ds_merged_imputed}/ds.${a} & done "
   ]
  },
  {
   "cell_type": "markdown",
   "metadata": {},
   "source": [
    "#### move after merge (Elkon)"
   ]
  },
  {
   "cell_type": "code",
   "execution_count": null,
   "metadata": {},
   "outputs": [],
   "source": [
    "# p=\"fin\"\n",
    "target=\"ukbb_afr\"\n",
    "ds1_name=\"1kg\"\n",
    "ds1_pop=\"eur-minus-gbr\"  # \"eur-minus-${p}-aj-snps\"\n",
    "# ds2_name=\"ajkg14\"\n",
    "# ds2_pop=\"t101\"\n",
    "\n",
    "PRS_ELKON_DATASETS=\"/specific/elkon/hagailevi/PRS/datasets/dec\"\n",
    "\n",
    "ds_merged_imputed=impute2_${ds1_name}_${ds1_pop} # impute2_${ds1_name}_${ds1_pop}-${ds2_name}-${ds2_pop}impute2_\n",
    "\n",
    "for a in bim bed fam; do  mv $PRS_ELKON_DATASETS/${target}/${ds_merged_imputed}/raw/impute2/bed/ds.all.${a} $PRS_DATASETS/${target}/${ds_merged_imputed}/ds.${a} & done "
   ]
  },
  {
   "cell_type": "markdown",
   "metadata": {},
   "source": [
    "#### Run qc_target and calc_prs "
   ]
  },
  {
   "cell_type": "code",
   "execution_count": null,
   "metadata": {},
   "outputs": [],
   "source": [
    "# p=\"ceu\"\n",
    "discovery=\"D2_hght_yengo_2018\" # \"UKB_ht_EUR_1\"# \"D_t2d_mahajan_2018\"\n",
    "target=\"ukbb_sas\" # \"ukbb_afr\"\n",
    "ds1_name=\"1kg\"\n",
    "ds1_pop=\"eur100-minus-gbr\" # \"eur-minus-${p}-aj-snps\" # \"eur\" # \n",
    "pheno=\"\" # \"ht\"\n",
    "# ds2_name=\"ajkg14\"\n",
    "# ds2_pop=\"t101\"\n",
    "ds_merged_imputed=impute2_${ds1_name}_${ds1_pop} # impute2_${ds1_name}_${ds1_pop}-${ds2_name}-${ds2_pop}-merged\n",
    "\n",
    "\n",
    "bash qc_target_data.sh --target ${target} --imp ${ds_merged_imputed}  # && bash calc_prs.sh --target ${target} --imp ${ds_merged_imputed} --discovery ${discovery} --stage 0 --pheno ${pheno} --pval_th 0.00000005,0.001,0.005,0.01,0.05,0.1,0.2,0.3,0.4,0.5"
   ]
  },
  {
   "cell_type": "code",
   "execution_count": null,
   "metadata": {},
   "outputs": [],
   "source": [
    "# p=\"ceu\"\n",
    "target='ukbb_afr'\n",
    "ds1_name=\"1kg\"\n",
    "ds1_pop=\"afr\" # \"eur-minus-${p}-aj-snps\" # \"eur\" # \n",
    "discovery='ukbb_utfi_morton_2019'\n",
    "pheno=\"utfi\"\n",
    "# ds2_name=\"ajkg14\"\n",
    "# ds2_pop=\"t101\"\n",
    "ds_merged_imputed=impute2_${ds1_name}_${ds1_pop} # impute2_${ds1_name}_${ds1_pop}-${ds2_name}-${ds2_pop}-merged\n",
    "\n",
    "bash calc_prs.sh --target ${target} --imp ${ds_merged_imputed} --discovery ${discovery} --pheno ${pheno} --stage 0 --pval_th 0.00000005,0.001,0.005,0.01,0.05,0.1,0.2,0.3,0.4,0.5"
   ]
  },
  {
   "cell_type": "markdown",
   "metadata": {},
   "source": [
    "## Check if parts files are not corrupted:"
   ]
  },
  {
   "cell_type": "code",
   "execution_count": null,
   "metadata": {},
   "outputs": [],
   "source": [
    "## Default params\n",
    "# panel=\"1kg\"\n",
    "# start_pos=0\n",
    "# end_pos=500\n",
    "\n",
    "imp=\"impute2_1kg_sas\"\n",
    "target=\"ukbb_sas\"\n",
    "\n",
    "bash remove_inconsistent_part_files.sh --target ${target} --imp ${imp} --chrs 3-22"
   ]
  },
  {
   "cell_type": "markdown",
   "metadata": {},
   "source": [
    "## Remove a corrupted file by the number of the corrupted line"
   ]
  },
  {
   "cell_type": "code",
   "execution_count": null,
   "metadata": {},
   "outputs": [],
   "source": [
    "sum=0 \n",
    "chr=8\n",
    "line_number=2160093\n",
    "\n",
    "datasets_folder=$PRS_DATASETS\n",
    "for a in {1..500}; do \n",
    "    echo \"start $a\"; \n",
    "    sum=$((sum + $(cat ${datasets_folder}/ukbb_sas/impute2_1kg_sas/raw/impute2/parts/chr${chr}.${a}.legend | wc -l))); echo \"end $a: $sum\"; if [[ $sum -gt  ${line_number} ]]; then echo \"here $a\"; break; fi; done"
   ]
  },
  {
   "cell_type": "markdown",
   "metadata": {},
   "source": [
    "## zip part files:"
   ]
  },
  {
   "cell_type": "code",
   "execution_count": null,
   "metadata": {},
   "outputs": [],
   "source": [
    "## Default params\n",
    "# panel=\"1kg\"\n",
    "# start_pos=0\n",
    "# end_pos=500\n",
    "\n",
    "# Single imp\n",
    "# imp=\"impute2_1kg_eur2\"\n",
    "\n",
    "target=\"dbg-scz19\"\n",
    "ls -1 $PRS_DATASETS | grep impute2 | xargs -I {} -n 1 -P 10 bash zip_part_files.sh --target ${target} --imp {}\n",
    "\n"
   ]
  },
  {
   "cell_type": "markdown",
   "metadata": {},
   "source": [
    "## zip chr files:"
   ]
  },
  {
   "cell_type": "code",
   "execution_count": null,
   "metadata": {},
   "outputs": [],
   "source": [
    "## Default params\n",
    "# panel=\"1kg\"\n",
    "\n",
    "# Single imp\n",
    "# imp=\"impute2_1kg_eur2\"\n",
    "\n",
    "target=\"dbg-scz19\"\n",
    "ls -1 $PRS_DATASETS | grep impute2 | xargs -I {} -n 1 -P 10 bash zip_chr_files.sh --target ${target} --imp {}\n",
    "\n"
   ]
  },
  {
   "cell_type": "markdown",
   "metadata": {},
   "source": [
    "## Preparing new pheno files from the UKB"
   ]
  },
  {
   "cell_type": "code",
   "execution_count": null,
   "metadata": {},
   "outputs": [],
   "source": [
    "for pop in \"gbr\" \"sas\" \"afr\"; do\n",
    "     for pheno in \"t2d\" \"osar\" \"hfvr\" \"chol\" \"ht\" \"ast\"; do\n",
    "         ( python prepare_pheno_file.py --raw_phenotype_file $PRS_DATASETS/ukbb/ukb_code6.csv --pop_file $PRS_DATASETS/ukbb/pop.panel.${pop} --pheno_file $PRS_DATASETS/ukbb/pheno_${pheno}_${pop} --conditions_file $PRS_DATASETS/ukbb/conditions_${pheno}.json\n",
    "         echo -e \"FID\\tIID\\tlabel\" > $PRS_DATASETS/ukbb/pheno_${pheno}_${pop}.tmp\n",
    "         tail -n +2 $PRS_DATASETS/ukbb/pheno_${pheno}_${pop} >> $PRS_DATASETS/ukbb/pheno_${pheno}_${pop}.tmp\n",
    "         mv $PRS_DATASETS/ukbb/pheno_${pheno}_${pop}.tmp $PRS_DATASETS/ukbb/pheno_${pheno}_${pop}\n",
    "         if [[ -d $PRS_DATASETS/ukbb_${pop} ]]; then cp $PRS_DATASETS/ukbb/pheno_${pheno}_${pop} $PRS_DATASETS/ukbb_${pop}/pheno_${pheno}_; fi \n",
    "         echo \"done ${pop} ${pheno}!\" ) &\n",
    "     done\n",
    "done"
   ]
  },
  {
   "cell_type": "code",
   "execution_count": null,
   "metadata": {},
   "outputs": [],
   "source": [
    "pheno=\"ctrt\" # \"t2d\" \"osar\" \"hfvr\" \"chol\" \"ht\" \"ast\" ## \"hyty\" \"gerx\" \"madd\" \"utfi\" \"angna\" \"ctrt\"\n",
    "pops=(\"gbr\" \"eur\")\n",
    "for pop in ${pops[@]}; do \n",
    "    bash generate_gwas.sh --target ukbb --imp imputeX --pop ${pop} --pheno ${pheno} --discovery UKB_${pheno}_${pop} --stage 2;\n",
    "done\n"
   ]
  },
  {
   "cell_type": "markdown",
   "metadata": {},
   "source": [
    "#### Generate GWAS from directly from pop target set"
   ]
  },
  {
   "cell_type": "code",
   "execution_count": null,
   "metadata": {},
   "outputs": [],
   "source": [
    "pheno=\"ctrt\" # \"t2d\" \"osar\" \"hfvr\" \"chol\" \"ht\" \"ast\"\n",
    "pop=\"eur\"\n",
    "bash generate_gwas.sh --target ukbb_${pop} --imp imputeX_new --pheno ${pheno} --discovery UKB_${pheno}_${pop} --stage 2"
   ]
  },
  {
   "cell_type": "markdown",
   "metadata": {},
   "source": [
    "## Calc PRS for UKB GWASs"
   ]
  },
  {
   "cell_type": "code",
   "execution_count": null,
   "metadata": {},
   "outputs": [],
   "source": [
    "# available imps: \"impute2_1kg_eur\" \"impute2_1kg_sas\" \"impute2_1kg_afr\" \"imputeX_new\" \"imputeX_ibs\"\n",
    "# phenos of UKB: \"t2d\" \"osar\" \"hfvr\" \"chol\" \"ht\" \"ast\"\n",
    "# targets : \"ukbb_sas\" \"ukbb_afr\"\n",
    "\n",
    "\n",
    "discovery_pops=(\"eur\" \"gbr\")\n",
    "declare -a phenos=(\"hyty\" \"gerx\" \"madd\" \"angna\" \"utfi\" \"ctrt\") # (\"height\") # (\"ast\" \"t2d\" \"osar\" \"hfvr\" \"chol\" \"ht\" \"height\")\n",
    "declare -a targets=(\"ukbb_afr\" \"ukbb_sas\")  \n",
    "declare -a imps=(\"impute2_1kg_eur\" \"impute2_1kg_sas\" \"impute2_1kg_afr\") # (\"impute2_1kg_eur100\" \"impute2_1kg_eur\" \"impute2_1kg_sas\" \"impute2_1kg_afr\" \"imputeX_new\" \"impute2_1kg_ibs\" \"impute2_1kg_eur-minus-gbr\" \"impute2_1kg_eur100\") \n",
    "declare -A continuouss=(['utfi']='false' ['ctrt']='false' ['angna']='false' ['gerx']='false' ['madd']='false' ['hyty']='false') # (['height']='true') # (['ast']='false' ['t2d']='false' ['osar']='false'  ['hfvr']='false' ['chol']='false' ['ht']='false' ['height']='true') # ['D2_hdlp_willer_2013']='false' ['D_t2d_mahajan_2018']='false' \n",
    "for discovery_pop in ${discovery_pops[@]}; do\n",
    "    for pheno in ${phenos[@]}; do \n",
    "        discovery=\"UKB_${pheno}_${discovery_pop}\"\n",
    "        continuous=${continuouss[${pheno}]}\n",
    "        for target in ${targets[@]}; do\n",
    "             for imp in ${imps[@]}; do # \n",
    "                 echo $PRS_DATASETS/${target}/${imp}\n",
    "                    if [[ -d $PRS_DATASETS/${target}/${imp} ]]; then\n",
    "                     bash calc_prs.sh --target ${target} --imp ${imp} --discovery ${discovery} --stage 5 --pheno ${pheno} --continuous ${continuous} --pval_th 0.001,0.005,0.01,0.05,0.1,0.2,0.3,0.4,0.5;\n",
    "                 fi       \n",
    "             done\n",
    "        done\n",
    "    done \n",
    "done"
   ]
  },
  {
   "cell_type": "markdown",
   "metadata": {},
   "source": [
    "\n",
    "## Calc PRS for Public GWASs"
   ]
  },
  {
   "cell_type": "code",
   "execution_count": null,
   "metadata": {},
   "outputs": [],
   "source": [
    "# available imps: \"impute2_1kg_eur\" \"impute2_1kg_sas\" \"impute2_1kg_afr\" \"imputeX_new\" \"imputeX_ibs\"\n",
    "# phenos of UKB: \"t2d\" \"osar\" \"hfvr\" \"chol\" \"ht\" \"ast\"\n",
    "# public GWASs corresponding to UKB phenos: \"D2_ldlp_willer_2013\" \"D2_chol_willer_2013\" \"D2_hdlp_willer_2013\" \"D2_sysp_evangelou_2018\" \"D2_dias_evangelou_2018\" \"D2_asth_zhu_2019\" \"D_t2d_mahajan_2018\" \"D2_t2di_mahajan_2018\"\n",
    "\n",
    "declare -a targets=(\"ukbb_sas\" \"ukbb_afr\")\n",
    "declare -a imps=(\"impute2_1kg_eur100-minus-gbr\") (\"impute2_1kg_eur\" \"impute2_1kg_sas\" \"impute2_1kg_afr\" \"imputeX_new\" \"impute2_1kg_ibs\" \"impute2_1kg_eur-minus-gbr\" \"impute2_1kg_eur100\") \n",
    "declare -A gwas_to_pheno=(['D2_hght_yengo_2018']='height' ['D2_ldlp_willer_2013']='chol' ['D2_chol_willer_2013']='chol'  ['D2_sysp_evangelou_2018']='ht' ['D2_dias_evangelou_2018']='ht' ['D2_asth_zhu_2019']='ast' ['D2_t2di_mahajan_2018']='t2d') # ['D2_hdlp_willer_2013']='chol' ['D_t2d_mahajan_2018']='t2d' \n",
    "declare -A continuouss=(['D2_hght_yengo_2018']='true' ['D2_ldlp_willer_2013']='false' ['D2_chol_willer_2013']='false'  ['D2_sysp_evangelou_2018']='false' ['D2_dias_evangelou_2018']='false' ['D2_asth_zhu_2019']='false' ['D2_t2di_mahajan_2018']='false') # ['D2_hdlp_willer_2013']='false' ['D_t2d_mahajan_2018']='false' \n",
    "for discovery in ${!gwas_to_pheno[@]} ; do \n",
    "    pheno=${gwas_to_pheno[${discovery}]}\n",
    "    continuous=${continuouss[${discovery}]}\n",
    "    for target in ${targets[@]}; do\n",
    "         for imp in ${imps[@]}; do\n",
    "             if [[ -d $PRS_DATASETS/${target}/${imp} ]]; then\n",
    "                 echo \"bash calc_prs.sh --target ${target} --imp ${imp} --discovery ${discovery} --stage 0 --pheno ${pheno} --pval_th 0.001,0.005,0.01,0.05,0.1,0.2,0.3,0.4,0.5\";\n",
    "                 bash calc_prs.sh --target ${target} --imp ${imp} --discovery ${discovery} --stage 0 --pheno ${pheno} --continuous ${continuous} --pval_th 0.001,0.005,0.01,0.05,0.1,0.2,0.3,0.4,0.5;\n",
    "             fi       \n",
    "         done\n",
    "    done\n",
    "done"
   ]
  },
  {
   "cell_type": "markdown",
   "metadata": {},
   "source": [
    "## merge UKB chrs files"
   ]
  },
  {
   "cell_type": "code",
   "execution_count": null,
   "metadata": {},
   "outputs": [],
   "source": [
    "pop=\"eur\"\n",
    "ukbb_chr_path=$PRS_DATASETS/ukbb/raw/chrs\n",
    "rm $ukbb_chr_path/mergelist.txt || echo \"\"\n",
    "for i in {1..22}; do\n",
    "    echo ${ukbb_chr_path}/chr${i}_${pop} >> ${ukbb_chr_path}/mergelist.txt\n",
    "done\n",
    "plink --merge-list ${ukbb_chr_path}/mergelist.txt --make-bed --out ${ukbb_chr_path}/ds_${pop}.all || ret=$?\n",
    "echo $ret\n",
    "if [[ -f ${ukbb_chr_path}/ds_${pop}.all-merge.missnp ]] && [[ ret -ne 0  ]]; then\n",
    "    echo 'fix bed files'\n",
    "    for i in {1..22}; do\n",
    "        plink --bfile ${ukbb_chr_path}/chr${i}_${pop} --exclude ${ukbb_chr_path}/ds_${pop}.all-merge.missnp --make-bed --out ${ukbb_chr_path}/chr${i}_${pop}.fixed || echo \"\" \n",
    "        mv ${ukbb_chr_path}/chr${i}_${pop}.fixed.fam ${ukbb_chr_path}/chr${i}_${pop}.fam\n",
    "        mv ${ukbb_chr_path}/chr${i}_${pop}.fixed.bim ${ukbb_chr_path}/chr${i}_${pop}.bim\n",
    "        mv ${ukbb_chr_path}/chr${i}_${pop}.fixed.bed ${ukbb_chr_path}/chr${i}_${pop}.bed\n",
    "    done\n",
    "\n",
    "echo \"retry to merge (fixed) chrs files\"\n",
    "plink --exclude ${ukbb_chr_path}/ds_${pop}.all-merge.missnp --merge-list ${ukbb_chr_path}/mergelist.txt --make-bed --out ${ukbb_chr_path}/ds_${pop}.all\n",
    "\n",
    "fi\n"
   ]
  },
  {
   "cell_type": "markdown",
   "metadata": {},
   "source": [
    "## Subsets of 1kg"
   ]
  },
  {
   "cell_type": "code",
   "execution_count": null,
   "metadata": {},
   "outputs": [],
   "source": [
    "for a in \"ACB\" \"ASW\" \"BEB\" \"GBR\" \"CDX\" \"CLM\" \"ESN\" \"GWD\" \"GIH\" \"CHB\" \"CHS\" \"ITU\" \"JPT\" \"KHV\" \"LWK\" \"MSL\" \"MXL\" \"PEL\" \"PUR\" \"PJL\" \"STU\" \"YRI\" \"FIN\" \"TSI\" \"IBS\" \"CEU\"; do cat pop.panel | grep ${a} | cut -f 1 > pop.${a,,}.panel; done"
   ]
  },
  {
   "cell_type": "code",
   "execution_count": null,
   "metadata": {},
   "outputs": [],
   "source": [
    "for a in \"ACB\" \"ASW\" \"BEB\" \"GBR\" \"CDX\" \"CLM\" \"ESN\" \"GWD\" \"GIH\" \"CHB\" \"CHS\" \"ITU\" \"JPT\" \"KHV\" \"LWK\" \"MSL\" \"MXL\" \"PEL\" \"PUR\" \"PJL\" \"STU\" \"YRI\" \"CEU\" \"IBS\" \"TSI\" \"FIN\"; do head -n 20  pop.${a,,}.panel > pop.${a,,}20.panel; done"
   ]
  },
  {
   "cell_type": "code",
   "execution_count": null,
   "metadata": {},
   "outputs": [],
   "source": [
    "for a in \"ACB\" \"ASW\" \"BEB\" \"GBR\" \"CDX\" \"CLM\" \"ESN\" \"GWD\" \"GIH\" \"CHB\" \"CHS\" \"ITU\" \"JPT\" \"KHV\" \"LWK\" \"MSL\" \"MXL\" \"PEL\" \"PUR\" \"PJL\" \"STU\" \"YRI\" \"CEU\" \"IBS\" \"TSI\" \"FIN\"; do tail -n +21 pop.${a,,}.panel | head -n 70 > pop.${a,,}70.panel; done"
   ]
  },
  {
   "cell_type": "code",
   "execution_count": null,
   "metadata": {},
   "outputs": [],
   "source": [
    "sp=\"eur\"; b=20; rm pop.${sp}${b}.panel; for a in gbr fin tsi ibs ceu; do cat pop.${a}${b}.panel >> pop.${sp}${b}.panel; done\n",
    "sp=\"eur\"; b=70; rm pop.${sp}${b}.panel; for a in gbr fin tsi ibs ceu; do cat pop.${a}${b}.panel >> pop.${sp}${b}.panel; done\n",
    "\n",
    "sp=\"afr\"; b=20; rm pop.${sp}${b}.panel; for a in acb esn gwd lwk yri; do cat pop.${a}${b}.panel >> pop.${sp}${b}.panel; done #  asw msl\n",
    "sp=\"afr\"; b=70; rm pop.${sp}${b}.panel; for a in acb esn gwd lwk yri; do cat pop.${a}${b}.panel >> pop.${sp}${b}.panel; done #  asw msl\n",
    "\n",
    "sp=\"sas\"; b=20; rm pop.${sp}${b}.panel; for a in beb gih itu pjl stu; do cat pop.${a}${b}.panel >> pop.${sp}${b}.panel; done\n",
    "sp=\"sas\"; b=70; rm pop.${sp}${b}.panel; for a in beb gih itu pjl stu; do cat pop.${a}${b}.panel >> pop.${sp}${b}.panel; done\n",
    "\n",
    "sp=\"eas\"; b=20; rm pop.${sp}${b}.panel; for a in cdx chb chs jpt khv; do cat pop.${a}${b}.panel >> pop.${sp}${b}.panel; done\n",
    "sp=\"eas\"; b=70; rm pop.${sp}${b}.panel; for a in cdx chb chs jpt khv; do cat pop.${a}${b}.panel >> pop.${sp}${b}.panel; done\n",
    "\n",
    "sp=\"amr\"; b=20; rm pop.${sp}${b}.panel; for a in clm mxl pel pur; do cat pop.${a}${b}.panel >> pop.${sp}${b}.panel; done\n",
    "sp=\"amr\"; b=70; rm pop.${sp}${b}.panel; for a in clm mxl pel pur; do cat pop.${a}${b}.panel >> pop.${sp}${b}.panel; done\n",
    "\n"
   ]
  },
  {
   "cell_type": "markdown",
   "metadata": {},
   "source": [
    "## Aggreagte impute 1kg results"
   ]
  },
  {
   "cell_type": "code",
   "execution_count": null,
   "metadata": {},
   "outputs": [],
   "source": [
    "cat ds.fam | awk '{print $1\"\\t\"$2\"\\t\"0\"\\t\"$2}' >recoded.txt\n",
    "plink --bfile ds --update-ids recoded.txt --make-bed --out ds2\n",
    "plink --bfile ds2 --bmerge ../true/ds --make-bed --out ds_merged\n",
    "plink --bfile ds2 --exclude ds_merged-merge.missnp --make-bed --out ds2_excluded\n",
    "plink --bfile ds2_excluded --bmerge ../true/ds --make-bed --out ds_merged"
   ]
  },
  {
   "cell_type": "code",
   "execution_count": null,
   "metadata": {},
   "outputs": [],
   "source": [
    "plink --bfile ds_merged --extract $ELKON_SCRATCH/1000G_ALL/strict_mask --range --make-bed --out ds_merged_strict"
   ]
  },
  {
   "cell_type": "code",
   "execution_count": null,
   "metadata": {},
   "outputs": [],
   "source": [
    "pop=\"1kg_sas70\" # \"1kg_afr2\"\n",
    "\n",
    "for a in {1..22}; do \n",
    "    plink --bfile impute2_${pop}/ds_merged --chr ${a} --geno 0.1 --maf 0.01 --hwe 1e-06 --recode vcf --out impute2_${pop}/ds.QC_merged_${a}; \n",
    "done"
   ]
  },
  {
   "cell_type": "code",
   "execution_count": null,
   "metadata": {},
   "outputs": [],
   "source": [
    "pop=afr;\n",
    "idx=3\n",
    "\n",
    "for chr in {1..22}; do \n",
    "    echo \"start $chr\";  \n",
    "    bcftools view -S reordered_samples${idx} impute2_1kg_${pop}70/ds.QC_merged_${chr}.vcf > impute2_1kg_${pop}70/ds.QC_merged_reordered_${chr}.vcf; \n",
    "done"
   ]
  },
  {
   "cell_type": "code",
   "execution_count": null,
   "metadata": {},
   "outputs": [],
   "source": [
    "pop=eas;\n",
    "header_idx=12\n",
    "for chr in {1..2}; do \n",
    "    echo \"start chr $chr\"; \n",
    "    for a in {0..545}; do \n",
    "        org=$(($a+10)); \n",
    "        imp=$(($a+556)); \n",
    "        cat impute2_1kg_${pop}70/ds.QC_merged_reordered_${chr}.vcf | awk '{sum+=($'$org'==$'$imp' && index($'$imp',\".\")==0 && NR>'$header_idx'); count+=(index($'$imp',\".\")==0 && NR > '$header_idx' );}; END{print sum\"\\t\"count\"\\t\"sum/count}'; \n",
    "    done > impute2_1kg_${pop}70/chr${chr}_qc_merged_reordered_imputation_score\n",
    "done"
   ]
  },
  {
   "cell_type": "code",
   "execution_count": null,
   "metadata": {},
   "outputs": [],
   "source": [
    "declare -A eur_ar=([min]=1 [max]=100 [name]=EUR); \n",
    "declare -A eas_ar=([min]=101 [max]=200 [name]=EAS); \n",
    "declare -A sas_ar=([min]=201 [max]=300 [name]=SAS); \n",
    "declare -A afr_ar=([min]=301 [max]=400 [name]=AFR); \n",
    "declare -A afr_ar2=([min]=401 [max]=600 [name]=AFR2); \n",
    "chrs=(22 21)\n",
    "arr=(eur_ar eas_ar sas_ar afr_ar afr_ar2); \n",
    "\n",
    "for chr in {1..22}; do # \n",
    "    for idx in ${arr[@]}; do \n",
    "    declare -n cur_ar=\"$idx\" \n",
    "        for pop in eur eas afr sas; \n",
    "            do echo -n -e \"${cur_ar[name]}\\t$chr\\t$pop\\t\"; head -n ${cur_ar[max]} impute2_1kg_${pop}70/chr${chr}_qc_merged_reordered_imputation_score | tail -n +${cur_ar[min]}| awk '{sum0+=$2; sum+=($2-$1); sum1+=$3; count+=1;}; END{print sum0/count\"\\t\"sum/count\"\\t\"sum1/count}'; \n",
    "        done;\n",
    "        echo \"\"  \n",
    "    done;  \n",
    "done >res_reordered"
   ]
  },
  {
   "cell_type": "markdown",
   "metadata": {},
   "source": [
    "## Aggreagte impute ajkg14-27 results"
   ]
  },
  {
   "cell_type": "code",
   "execution_count": null,
   "metadata": {},
   "outputs": [],
   "source": [
    "cat ds.fam | awk '{print $1\"\\t\"$2\"\\t\"0\"\\t\"$2}' >recoded.txt\n",
    "plink --bfile ds --update-ids recoded.txt --make-bed --out ds2\n",
    "plink --bfile ds2 --bmerge ../true/ds --make-bed --out ds_merged\n",
    "plink --bfile ds2 --exclude ds_merged-merge.missnp --make-bed --out ds2_excluded\n",
    "plink --bfile ds2_excluded --bmerge ../true/ds --make-bed --out ds_merged\n",
    "\n"
   ]
  },
  {
   "cell_type": "code",
   "execution_count": null,
   "metadata": {},
   "outputs": [],
   "source": [
    "pop=\"1kg_eur-ajkg14-t101-merged\" # \"1kg_afr2\"\n",
    "\n",
    "for a in {1..22}; do \n",
    "    plink --bfile impute2_${pop}/ds_merged --chr ${a} --geno 0.1 --maf 0.01 --hwe 1e-06 --recode vcf --out impute2_${pop}/ds.QC_merged_${a}; \n",
    "done"
   ]
  },
  {
   "cell_type": "code",
   "execution_count": null,
   "metadata": {},
   "outputs": [],
   "source": [
    "pop=\"1kg_eur-ajkg14-t101-merged\" # \"ajkg14_t101\" # \"1kg_afr2\"\n",
    "\n",
    "for chr in {22..1}; do \n",
    "    echo \"start chr $chr\"; \n",
    "    for a in {0..26}; do \n",
    "        org=$(($a+10)); \n",
    "        imp=$(($a+37)); \n",
    "        cat impute2_${pop}/ds.QC_merged_${chr}.vcf | awk '{sum+=($'$org'==$'$imp' && index($'$imp',\".\")==0 && NR>7); count+=(index($'$imp',\".\")==0 && NR > 7 );}; END{print sum\"\\t\"count\"\\t\"sum/count}'; \n",
    "    done > impute2_${pop}/chr${chr}_qc_imputation_score1 \n",
    "done"
   ]
  },
  {
   "cell_type": "code",
   "execution_count": null,
   "metadata": {},
   "outputs": [],
   "source": [
    "chrs=(1 20 22)\n",
    "\n",
    "for chr in {1..22}; do # \n",
    "    for pop in ajkg14_t101 1kg_eur2 1kg_eas2 1kg_afr2 1kg_gbr2 1kg_eur-ajkg14-t101-merged;\n",
    "        do echo -n -e \"$chr\\t$pop\\t\"; cat impute2_${pop}/chr${chr}_qc_imputation_score1 | awk '{sum0+=$2; sum+=($2-$1); sum1+=$3; count+=1;}; END{print sum0/count\"\\t\"sum/count\"\\t\"sum1/count}'; \n",
    "    done;  \n",
    "    echo \"\"\n",
    "done >res_reordered"
   ]
  },
  {
   "cell_type": "markdown",
   "metadata": {},
   "source": [
    "## BCAC "
   ]
  },
  {
   "cell_type": "markdown",
   "metadata": {},
   "source": [
    "### generate imputed version from oxford files"
   ]
  },
  {
   "cell_type": "code",
   "execution_count": null,
   "metadata": {},
   "outputs": [],
   "source": [
    "eth=\"euro\"\n",
    "array=\"icogs\"\n",
    "echo \"ID_1 ID_2 missing sex\" > elkon_723_${eth}_${array}_sample_order.sample\n",
    "echo \"0 0 0 D\" >> elkon_723_${eth}_${array}_sample_order.sample\n",
    "cat elkon_723_${eth}_${array}_sample_order.txt | awk '{print $1\" \"$1\" 0 2\"}' >> elkon_723_${eth}_${array}_sample_order.sample"
   ]
  },
  {
   "cell_type": "markdown",
   "metadata": {},
   "source": [
    "#### For Hispanic only use this block:"
   ]
  },
  {
   "cell_type": "code",
   "execution_count": null,
   "metadata": {},
   "outputs": [],
   "source": [
    "eth=\"hispanic\"\n",
    "echo \"ID_1 ID_2 missing sex\" > elkon_723_${eth}_sample_order.sample\n",
    "echo \"0 0 0 D\" >> elkon_723_${eth}_sample_order.sample\n",
    "cat elkon_723_${eth}_sample_order.txt | awk '{print $2\" \"$2\" 0 2\"}' >> elkon_723_${eth}_sample_order.sample"
   ]
  },
  {
   "cell_type": "code",
   "execution_count": null,
   "metadata": {},
   "outputs": [],
   "source": [
    "target=\"bcac_onco_aj\"\n",
    "eth=\"euro\"\n",
    "array=\"icogs\"\n",
    "imp=\"impX\"\n",
    "target_path_elkon=\"/specific/elkon/hagailevi/PRS/datasets/dec/\"${target}\"/${imp}/\"\n",
    "mkdir -p ${target_path_elkon}/raw/ox_to_bed || echo \"\"\n",
    "for a in {22..22}; do plink --gen elkon_723_${eth}_${array}_imputed_probs_chr${a}.txt.gz --sample elkon_723_${eth}_${array}_sample_order.sample --oxford-single-chr ${a} --keep pop.il.panel --make-bed --threads 50 --out ${target_path_elkon}/raw/ox_to_bed/ds${a}; done\n"
   ]
  },
  {
   "cell_type": "code",
   "execution_count": null,
   "metadata": {},
   "outputs": [],
   "source": [
    "target=\"bcac_icogs_euro\"\n",
    "eth=\"euro\"\n",
    "array=\"icogs\"\n",
    "imp=\"impX\"\n",
    "target_path_elkon=\"/specific/elkon/hagailevi/PRS/datasets/dec/\"${target}\"/${imp}/\"\n",
    "mkdir -p ${target_path_elkon}/raw/ox_to_bed || echo \"\"\n",
    "for a in {16..22}; do plink --gen elkon_723_${eth}_${array}_imputed_probs_chr${a}.fixed2.txt.gz --sample elkon_723_${eth}_${array}_sample_order.sample --oxford-single-chr ${a} --make-bed --threads 50 --out ${target_path_elkon}/raw/ox_to_bed/ds${a}; done\n"
   ]
  },
  {
   "cell_type": "markdown",
   "metadata": {},
   "source": [
    "#### fix icogs files"
   ]
  },
  {
   "cell_type": "code",
   "execution_count": null,
   "metadata": {},
   "outputs": [],
   "source": [
    "gunzip -c  elkon_723_euro_icogs_imputed_probs_chr2.txt.gz | sed 's/^/--- /' | gzip >  elkon_723_euro_icogs_imputed_probs_chr2.fixed2.txt.gz"
   ]
  },
  {
   "cell_type": "code",
   "execution_count": null,
   "metadata": {},
   "outputs": [],
   "source": [
    " for a in {10..15}; do plink --gen elkon_723_${eth}_${array}_imputed_probs_chr${a}.fixed2.txt.gz --sample elkon_723_${eth}_${array}_sample_order.sample --oxford-single-chr ${a} --make-bed --threads 50 --out ${target_path_elkon}/raw/ox_to_bed/ds${a}; done"
   ]
  },
  {
   "cell_type": "markdown",
   "metadata": {},
   "source": [
    "#### Generate GWAS using plink2 with PCs (TBD!)"
   ]
  },
  {
   "cell_type": "code",
   "execution_count": null,
   "metadata": {},
   "outputs": [],
   "source": [
    "eth=pl\n",
    "target=\"bcac_onco_eur-minus-${eth}\"\n",
    "imp=\"impX_new\"\n",
    "\n",
    "if [[ ! -d $PRS_GWASS/${target} ]]\n",
    "    echo \"Creating dir: $PRS_GWASS/${target}\"\n",
    "    mkdir -p $PRS_GWASS/${target}\n",
    "fi\n",
    "\n",
    "plink2 --bfile ds.QC --glm --pheno $PRS_DATASETS/${target}/${imp}/pheno --allow-no-sex --covar ds...TBD! --covar-name PC1,PC2,PC3,PC4,PC5 --out $PRS_GWASS/${target}/gwas\n",
    "#plink2 --bfile ds.QC --glm --pheno $PRS_DATASETS/${target}/${imp}/pheno --allow-no-sex --covar covar_reformatted --covar-name PC1,PC2,PC3,PC4,PC5,country,history,age,er,brca12 --out gwas_covar"
   ]
  },
  {
   "cell_type": "markdown",
   "metadata": {},
   "source": [
    "#### Modify BCAC's SNP id file to correct format (using vim)"
   ]
  },
  {
   "cell_type": "code",
   "execution_count": null,
   "metadata": {},
   "outputs": [],
   "source": [
    ":   1,$s/\\:*\\:.\\{-}\\t/\\t\n",
    ":   g!/rs/d"
   ]
  },
  {
   "cell_type": "markdown",
   "metadata": {},
   "source": [
    "## CV"
   ]
  },
  {
   "cell_type": "markdown",
   "metadata": {},
   "source": [
    "#### Create CV"
   ]
  },
  {
   "cell_type": "code",
   "execution_count": null,
   "metadata": {},
   "outputs": [],
   "source": [
    "folds=5\n",
    "rep_start=1\n",
    "rep_end=1\n",
    "\n",
    "discovery='bcac_onco_eur-5pcs'\n",
    "target='bcac_onco_aj'\n",
    "imp='impX_new'\n",
    "method='ls'\n",
    "hp=\"0.2,0.5,0.9,1\"\n",
    "# hp=\"0.00000005,0.001,0.005,0.01,0.05,0.1,0.2,0.3,0.4,0.5\"\n",
    "stage=1\n",
    "\n",
    "for rep in `seq ${rep_start} ${rep_end}`; do \n",
    "    \n",
    "    echo start rep ${rep}...\n",
    " \n",
    "    # Create cv\n",
    "    #python create_cv.py --rep ${rep}\n",
    "    \n",
    "    # Estimate hyperparameters on validation and test sets\n",
    "    for fold in `seq 1 ${folds}`; do \n",
    "        bash calc_prs_cv_${method}.sh --discovery ${discovery} --target ${target} --imp ${imp} --cv ${fold}_${folds} --stage ${stage} --hp ${hp} --rep ${rep};\n",
    "    done\n",
    "    \n",
    "    # Aggregate metrics\n",
    "    python aggregate_prs_statistics_cv_${method}_bcac_aj.py --imp ${imp} --rep ${rep}\n",
    "\n",
    "done\n",
    "\n",
    "python plot_metrics_boxplots_cv_${method}_bcac_aj.py --rep_start ${rep_start} --rep_end ${rep_end}"
   ]
  },
  {
   "cell_type": "markdown",
   "metadata": {},
   "source": [
    "#### create \"both\" set (train + validation)"
   ]
  },
  {
   "cell_type": "code",
   "execution_count": null,
   "metadata": {},
   "outputs": [],
   "source": [
    "for a in {1..10}; do cat $PRS_DATASETS/bcac_onco_aj/rep_${a}/pheno___1_5_train > $PRS_DATASETS/bcac_onco_aj/rep_${a}/pheno___5_both; tail -n +2 $PRS_DATASETS/bcac_onco_aj/rep_${a}/pheno___1_5_validation >> $PRS_DATASETS/bcac_onco_aj/rep_${a}/pheno___5_both; done"
   ]
  },
  {
   "cell_type": "code",
   "execution_count": null,
   "metadata": {},
   "outputs": [],
   "source": [
    "\n",
    "discovery_path=$PRS_GWASS/bcac_onco_eur-5pcs/\n",
    "\n",
    "if [[ ! -f ds.dupvar ]]; then\n",
    "    touch ds.dupvar\n",
    "fi\n",
    "echo clumping\n",
    "plink \\\n",
    "    --bfile ds.QC \\\n",
    "  --clump-p1 1 \\\n",
    "  --clump-p2 1 \\\n",
    "  --clump-r2 0.2 \\\n",
    "  --clump-kb 500 \\\n",
    "  --clump ${discovery_path}gwas.QC.Transformed \\\n",
    "  --clump-snp-field SNP \\\n",
    "  --clump-field P \\\n",
    "  --out eur \\\n",
    "  --exclude ds.dupvar\n",
    "\n",
    "echo filter by clumping\n",
    "awk 'NR!=1{print $3}' eur.clumped >  eur.valid.snp"
   ]
  },
  {
   "cell_type": "markdown",
   "metadata": {},
   "source": [
    "#### create \"both\" datasets"
   ]
  },
  {
   "cell_type": "code",
   "execution_count": null,
   "metadata": {},
   "outputs": [],
   "source": [
    "for a in {71..110}; do cat rep_${a}/pheno___1_5_train > rep_${a}/pheno___5_both; tail -n +2  rep_${a}/pheno___1_5_validation >> rep_${a}/pheno___5_both; done"
   ]
  },
  {
   "cell_type": "code",
   "execution_count": null,
   "metadata": {},
   "outputs": [],
   "source": [
    "for b in {71..75}; do for a in {1..5}; do bash prepare_cv_datasets.sh --discovery test --target bcac_onco_aj --imp impX_new --cv ${a}_5 --rep ${b}; done ; bash prepare_cv_datasets.sh --discovery test --target bcac_onco_aj --imp impX_new --cv 5 --rep ${b}; done \n",
    "for b in {76..80}; do for a in {1..5}; do bash prepare_cv_datasets.sh --discovery test --target bcac_onco_aj --imp impX_new --cv ${a}_5 --rep ${b}; done ; bash prepare_cv_datasets.sh --discovery test --target bcac_onco_aj --imp impX_new --cv 5 --rep ${b}; done \n",
    "for b in {81..85}; do for a in {1..5}; do bash prepare_cv_datasets.sh --discovery test --target bcac_onco_aj --imp impX_new --cv ${a}_5 --rep ${b}; done ; bash prepare_cv_datasets.sh --discovery test --target bcac_onco_aj --imp impX_new --cv 5 --rep ${b}; done \n",
    "for b in {86..90}; do for a in {1..5}; do bash prepare_cv_datasets.sh --discovery test --target bcac_onco_aj --imp impX_new --cv ${a}_5 --rep ${b}; done ; bash prepare_cv_datasets.sh --discovery test --target bcac_onco_aj --imp impX_new --cv 5 --rep ${b}; done \n",
    "for b in {91..95}; do for a in {1..5}; do bash prepare_cv_datasets.sh --discovery test --target bcac_onco_aj --imp impX_new --cv ${a}_5 --rep ${b}; done ; bash prepare_cv_datasets.sh --discovery test --target bcac_onco_aj --imp impX_new --cv 5 --rep ${b}; done \n",
    "for b in {96..100}; do for a in {1..5}; do bash prepare_cv_datasets.sh --discovery test --target bcac_onco_aj --imp impX_new --cv ${a}_5 --rep ${b}; done ; bash prepare_cv_datasets.sh --discovery test --target bcac_onco_aj --imp impX_new --cv 5 --rep ${b}; done\n",
    "for b in {100..105}; do for a in {1..5}; do bash prepare_cv_datasets.sh --discovery test --target bcac_onco_aj --imp impX_new --cv ${a}_5 --rep ${b}; done ; bash prepare_cv_datasets.sh --discovery test --target bcac_onco_aj --imp impX_new --cv 5 --rep ${b}; done \n",
    "for b in {105..110}; do for a in {1..5}; do bash prepare_cv_datasets.sh --discovery test --target bcac_onco_aj --imp impX_new --cv ${a}_5 --rep ${b}; done ; bash prepare_cv_datasets.sh --discovery test --target bcac_onco_aj --imp impX_new --cv 5 --rep ${b}; done\n"
   ]
  },
  {
   "cell_type": "code",
   "execution_count": null,
   "metadata": {},
   "outputs": [],
   "source": [
    "for b in {72..72}; do bash run_cv_single_rep_bcac_aj.sh --rep ${b} --method ls; bash run_cv_single_rep_test_bcac_aj.sh --rep ${b} --method ls --stage 1; done \n",
    "for b in {76..80}; do bash run_cv_single_rep_bcac_aj.sh --rep ${b} --method pt; bash run_cv_single_rep_test_bcac_aj.sh --rep ${b} --method pt --stage 1; done \n",
    "for b in {81..85}; do bash run_cv_single_rep_bcac_aj.sh --rep ${b} --method pt; bash run_cv_single_rep_test_bcac_aj.sh --rep ${b} --method pt --stage 1; done \n",
    "for b in {86..90}; do bash run_cv_single_rep_bcac_aj.sh --rep ${b} --method pt; bash run_cv_single_rep_test_bcac_aj.sh --rep ${b} --method pt --stage 1; done \n",
    "for b in {91..95}; do bash run_cv_single_rep_bcac_aj.sh --rep ${b} --method pt; bash run_cv_single_rep_test_bcac_aj.sh --rep ${b} --method pt --stage 1; done \n",
    "for b in {96..100};  do bash run_cv_single_rep_bcac_aj.sh --rep ${b} --method pt; bash run_cv_single_rep_test_bcac_aj.sh --rep ${b} --method pt --stage 1; done \n",
    "for b in {100..105}; do bash run_cv_single_rep_bcac_aj.sh --rep ${b} --method pt; bash run_cv_single_rep_test_bcac_aj.sh --rep ${b} --method pt --stage 1; done \n",
    "for b in {105..110}; do bash run_cv_single_rep_bcac_aj.sh --rep ${b} --method pt; bash run_cv_single_rep_test_bcac_aj.sh --rep ${b} --method pt --stage 1; done \n"
   ]
  },
  {
   "cell_type": "code",
   "execution_count": null,
   "metadata": {},
   "outputs": [],
   "source": [
    "plink --bfile ds0 --extract $PRS_GWASS/bca_313/313.valid.snp --a1-allele $PRS_GWASS/bca_313/313_rsids.tsv 5 3 --make-bed --out ds"
   ]
  },
  {
   "cell_type": "markdown",
   "metadata": {},
   "source": [
    "## liftover"
   ]
  },
  {
   "cell_type": "code",
   "execution_count": null,
   "metadata": {},
   "outputs": [],
   "source": [
    "python $PRS_TOOLS/liftOverPlink/liftOverPlink.py --map $PRS_DATASETS/humc/original/raw/liftover/ds38.map --out $PRS_DATASETS/hadassa/original/raw/liftover/lifted --chain $PRS_TOOLS/liftOverPlink/hg38ToHg19.over.chain\n",
    "python $PRS_TOOLS/liftOverPlink/rmBadLifts.py --map lifted.map --out good_lifted.map --log bad_lifted.dat\n",
    "cut -f 2 bad_lifted.dat > to_exclude.dat\n",
    "cut -f 4 lifted.bed.unlifted | sed \"/^#/d\" >> to_exclude.dat\n",
    "plink --file ds38 --recode --out lifted_filtered --exclude to_exclude.dat --allow-extra-chr\n",
    "plink --ped lifted_filtered.ped --map good_lifted.map --recode --out final\n"
   ]
  },
  {
   "cell_type": "markdown",
   "metadata": {},
   "source": [
    "## convert vcf to hg19 using annotations"
   ]
  },
  {
   "cell_type": "markdown",
   "metadata": {},
   "source": [
    "#### copy headers"
   ]
  },
  {
   "cell_type": "code",
   "execution_count": null,
   "metadata": {},
   "outputs": [],
   "source": [
    "# Retrieve first data lines\n",
    "a=$(awk '{if(substr($0,1,1)!=\"#\"){print NR; exit;}}' humc19.vcf)\n",
    "# Copy headers\n",
    "head -n $(($a-1)) humc19.vcf > humc19_reformatted.vcf"
   ]
  },
  {
   "cell_type": "markdown",
   "metadata": {},
   "source": [
    "####  reformat data"
   ]
  },
  {
   "cell_type": "code",
   "execution_count": null,
   "metadata": {},
   "outputs": [],
   "source": [
    "tail -n +66  humc19.vcf  | awk '{len=split($8,ar,\";\"); is_hg19=0; for(i=1;i<=len; i++){if (ar[i] ~ /hg19_chr/){split(ar[i],a,\"=\"); a_val=a[2]}; if (ar[i] ~ /hg19_position/){split(ar[i],b,\"=\"); b_val=b[2]; is_hg19=1}}; if(is_hg19==1){printf a_val\"\\t\"b_val\"\\t\"$3\"\\t\"$4\"\\t\"$5\"\\t\"$6\"\\t\"$7\"\\t\"$8\"\\t\"$9; for(i=1; i<=181; i++){printf \"\\t\"$(9+i)}; printf \"\\n\"} }' >> humc19_reformatted.vcf"
   ]
  },
  {
   "cell_type": "markdown",
   "metadata": {},
   "source": [
    "#### Convert to bed files"
   ]
  },
  {
   "cell_type": "code",
   "execution_count": null,
   "metadata": {},
   "outputs": [],
   "source": [
    "plink --vcf humc19_reformatted.vcf --vcf-idspace-to $ --double-id --make-bed --allow-extra-chr --out ../ds"
   ]
  },
  {
   "cell_type": "code",
   "execution_count": null,
   "metadata": {},
   "outputs": [],
   "source": [
    "discoveries=\"bcac_onco_eur-5pcs\" \n",
    "targets=\"bcac_onco_aj\"\n",
    "imps=\"impX_new\"\n",
    "methods=\"pt3,pt2,ls,ld\"\n",
    "methods=${methods//,/ }\n",
    "base_rep=105\n",
    "suffix=\"bcac_aj2\"\n",
    "\n",
    "## aggregate_prs_statistics\n",
    "for method in ${methods[@]}; do\n",
    "    for cur_rep in {1..6}; do \n",
    "        echo \"start aggreagating method ${method} rep ${base_rep}_${cur_rep}\"\n",
    "        python aggregate_prs_statistics_cv_${method}.py --discoveries ${discoveries} --targets ${targets} --imps ${imps} --rep ${base_rep}_${cur_rep} --suffix ${suffix} &&\n",
    "        python plot_metrics_boxplots_cv_${method}.py --discoveries ${discoveries} --targets ${targets} --imps ${imps} --rep_start ${base_rep}_${cur_rep} --rep_end ${base_rep}_${cur_rep} --suffix ${suffix} && \\\n",
    "        python plot_metrics_boxplots_cv_${method}.py --discoveries ${discoveries} --targets ${targets} --imps ${imps} --rep_start ${base_rep}_${cur_rep} --rep_end ${base_rep}_${cur_rep} --metric or_99 --suffix ${suffix} &\n",
    "    done;    \n",
    "done;\n",
    "\n",
    "\n",
    "# ## for cur_rep in {1..6}; do \n",
    "#     python aggregate_prs_statistics_cv_${method}.py --discoveries PGC2_noAJ --targets dbg-scz19 --imps impute2_ajkg14_t101,impute2_1kg_eur2,impute2_1kg_eas2,impute2_1kg_afr2,impute2_1kg_gbr2,impute2_1kg_ceu2,impute2_1kg_tsi2,impute2_1kg_ibs2,impute2_1kg_fin2 --rep ${base_rep}_${cur_rep};\n",
    "# done;\n",
    " "
   ]
  },
  {
   "cell_type": "code",
   "execution_count": null,
   "metadata": {},
   "outputs": [],
   "source": [
    "discoveries=\"bcac_onco_eur-minus-uk-5pcs\" \n",
    "targets=\"bcac_onco_uk_6000\"\n",
    "imps=\"impX_new\"\n",
    "methods=\"ls,pt\"\n",
    "methods=${methods//,/ }\n",
    "base_rep=105\n",
    "suffix=\"bcac_minus_uk_uk\"\n",
    "\n",
    "## aggregate_prs_statistics\n",
    "for method in ${methods[@]}; do\n",
    "    for cur_rep in {1..5}; do \n",
    "        echo \"start aggreagating method ${method} rep ${base_rep}_${cur_rep}\"\n",
    "        python aggregate_prs_statistics_cv_${method}.py --discoveries ${discoveries} --targets ${targets} --imps ${imps} --rep ${base_rep}_${cur_rep} --suffix ${suffix} &&\n",
    "        python plot_metrics_boxplots_cv_${method}.py --discoveries ${discoveries} --targets ${targets} --imps ${imps} --rep_start ${base_rep}_${cur_rep} --rep_end ${base_rep}_${cur_rep} --suffix ${suffix} && \\\n",
    "        python plot_metrics_boxplots_cv_${method}.py --discoveries ${discoveries} --targets ${targets} --imps ${imps} --rep_start ${base_rep}_${cur_rep} --rep_end ${base_rep}_${cur_rep} --metric or_99 --suffix ${suffix} &\n",
    "    done;    \n",
    "done;\n",
    "\n",
    "\n",
    "# ## for cur_rep in {1..6}; do \n",
    "#     python aggregate_prs_statistics_cv_${method}.py --discoveries PGC2_noAJ --targets dbg-scz19 --imps impute2_ajkg14_t101,impute2_1kg_eur2,impute2_1kg_eas2,impute2_1kg_afr2,impute2_1kg_gbr2,impute2_1kg_ceu2,impute2_1kg_tsi2,impute2_1kg_ibs2,impute2_1kg_fin2 --rep ${base_rep}_${cur_rep};\n",
    "# done;\n",
    " "
   ]
  },
  {
   "cell_type": "code",
   "execution_count": null,
   "metadata": {},
   "outputs": [],
   "source": [
    "discoveries=\"bcac_onco_eur-minus-uk-5pcs\" \n",
    "targets=\"bcac_onco_aj\"\n",
    "imps=\"impX_new\"\n",
    "methods=\"pt3,ls\"\n",
    "methods=${methods//,/ }\n",
    "base_rep=105\n",
    "suffix=\"bcac_minus_uk_aj\"\n",
    "\n",
    "## aggregate_prs_statistics\n",
    "for method in ${methods[@]}; do\n",
    "    for cur_rep in {1..6}; do \n",
    "        echo \"start aggreagating method ${method} rep ${base_rep}_${cur_rep}\"\n",
    "        python aggregate_prs_statistics_cv_${method}.py --discoveries ${discoveries} --targets ${targets} --imps ${imps} --rep ${base_rep}_${cur_rep} --suffix ${suffix} &&\n",
    "        python plot_metrics_boxplots_cv_${method}.py --discoveries ${discoveries} --targets ${targets} --imps ${imps} --rep_start ${base_rep}_${cur_rep} --rep_end ${base_rep}_${cur_rep} --suffix ${suffix} && \\\n",
    "        python plot_metrics_boxplots_cv_${method}.py --discoveries ${discoveries} --targets ${targets} --imps ${imps} --rep_start ${base_rep}_${cur_rep} --rep_end ${base_rep}_${cur_rep} --metric or_99 --suffix ${suffix} &\n",
    "    done;    \n",
    "done;\n",
    "\n",
    "\n",
    "# ## for cur_rep in {1..6}; do \n",
    "#     python aggregate_prs_statistics_cv_${method}.py --discoveries PGC2_noAJ --targets dbg-scz19 --imps impute2_ajkg14_t101,impute2_1kg_eur2,impute2_1kg_eas2,impute2_1kg_afr2,impute2_1kg_gbr2,impute2_1kg_ceu2,impute2_1kg_tsi2,impute2_1kg_ibs2,impute2_1kg_fin2 --rep ${base_rep}_${cur_rep};\n",
    "# done;\n",
    " "
   ]
  },
  {
   "cell_type": "markdown",
   "metadata": {},
   "source": [
    "#### aggregate bcac_onco_eur-minus-pl"
   ]
  },
  {
   "cell_type": "code",
   "execution_count": null,
   "metadata": {},
   "outputs": [],
   "source": [
    "discoveries=\"bcac_onco_eur-minus-pl\" \n",
    "targets=\"bcac_onco_aj\"\n",
    "imps=\"impX_new\"\n",
    "methods=\"pt2,pt3,ls,ld\"\n",
    "methods=${methods//,/ }\n",
    "base_rep=105\n",
    "suffix=\"bcac_minus_pl_aj\"\n",
    "\n",
    "## aggregate_prs_statistics\n",
    "for method in ${methods[@]}; do\n",
    "    for cur_rep in {1..6}; do \n",
    "        echo \"start aggreagating method ${method} rep ${base_rep}_${cur_rep}\"\n",
    "        python aggregate_prs_statistics_cv_${method}.py --discoveries ${discoveries} --targets ${targets} --imps ${imps} --rep ${base_rep}_${cur_rep} --suffix ${suffix} &&\n",
    "        python plot_metrics_boxplots_cv_${method}.py --discoveries ${discoveries} --targets ${targets} --imps ${imps} --rep_start ${base_rep}_${cur_rep} --rep_end ${base_rep}_${cur_rep} --suffix ${suffix} && \\\n",
    "        python plot_metrics_boxplots_cv_${method}.py --discoveries ${discoveries} --targets ${targets} --imps ${imps} --rep_start ${base_rep}_${cur_rep} --rep_end ${base_rep}_${cur_rep} --metric or_99 --suffix ${suffix} &\n",
    "    done;    \n",
    "done;\n",
    "\n",
    "\n",
    "# ## for cur_rep in {1..6}; do \n",
    "#     python aggregate_prs_statistics_cv_${method}.py --discoveries PGC2_noAJ --targets dbg-scz19 --imps impute2_ajkg14_t101,impute2_1kg_eur2,impute2_1kg_eas2,impute2_1kg_afr2,impute2_1kg_gbr2,impute2_1kg_ceu2,impute2_1kg_tsi2,impute2_1kg_ibs2,impute2_1kg_fin2 --rep ${base_rep}_${cur_rep};\n",
    "# done;\n",
    " "
   ]
  },
  {
   "cell_type": "code",
   "execution_count": null,
   "metadata": {},
   "outputs": [],
   "source": [
    "discoveries=\"bcac_onco_eur-minus-pl\" \n",
    "targets=\"bcac_onco_aj\"\n",
    "imps=\"impX_new\"\n",
    "methods=\"pt3,pt2,ls\"\n",
    "methods=${methods//,/ }\n",
    "base_rep=105\n",
    "suffix=\"bcac_minus_pl_aj\"\n",
    "\n",
    "## aggregate_prs_statistics\n",
    "for method in ${methods[@]}; do\n",
    "    for cur_rep in {1..6}; do \n",
    "        echo \"start aggreagating method ${method} rep ${base_rep}_${cur_rep}\"\n",
    "        python aggregate_prs_statistics_cv_${method}.py --discoveries ${discoveries} --targets ${targets} --imps ${imps} --rep ${base_rep}_${cur_rep} --suffix ${suffix} &&\n",
    "        python plot_metrics_boxplots_cv_${method}.py --discoveries ${discoveries} --targets ${targets} --imps ${imps} --rep_start ${base_rep}_${cur_rep} --rep_end ${base_rep}_${cur_rep} --suffix ${suffix} && \\\n",
    "        python plot_metrics_boxplots_cv_${method}.py --discoveries ${discoveries} --targets ${targets} --imps ${imps} --rep_start ${base_rep}_${cur_rep} --rep_end ${base_rep}_${cur_rep} --metric or_99 --suffix ${suffix} &\n",
    "    done;    \n",
    "done;\n",
    "\n",
    "\n",
    "# ## for cur_rep in {1..6}; do \n",
    "#     python aggregate_prs_statistics_cv_${method}.py --discoveries PGC2_noAJ --targets dbg-scz19 --imps impute2_ajkg14_t101,impute2_1kg_eur2,impute2_1kg_eas2,impute2_1kg_afr2,impute2_1kg_gbr2,impute2_1kg_ceu2,impute2_1kg_tsi2,impute2_1kg_ibs2,impute2_1kg_fin2 --rep ${base_rep}_${cur_rep};\n",
    "# done;\n",
    " "
   ]
  },
  {
   "cell_type": "markdown",
   "metadata": {},
   "source": [
    "# Imptutation: revised"
   ]
  },
  {
   "cell_type": "markdown",
   "metadata": {},
   "source": [
    "### prepare datasets"
   ]
  },
  {
   "cell_type": "markdown",
   "metadata": {},
   "source": [
    "#### single rep"
   ]
  },
  {
   "cell_type": "code",
   "execution_count": null,
   "metadata": {},
   "outputs": [],
   "source": [
    "discovery=\"PGC2_noAJ\"\n",
    "target=\"dbg-scz19\"\n",
    "imp=\"impute2_ajkg14_t101\"\n",
    "base_rep=\"105\"\n",
    "cur_rep=\"2\"\n",
    "rep=\"${base_rep}_${cur_rep}\"\n",
    "n_folds=5\n",
    "for fold in {1..5}; do bash prepare_cv_datasets.sh --discovery ${discovery} --target ${target} --imp ${imp} --rep ${rep} --cv ${fold}_${n_folds}; done\n",
    "bash prepare_cv_datasets.sh --discovery ${discovery} --target ${target} --imp ${imp} --rep ${rep} --cv ${fold}"
   ]
  },
  {
   "cell_type": "markdown",
   "metadata": {},
   "source": [
    "#### multiple reps"
   ]
  },
  {
   "cell_type": "code",
   "execution_count": null,
   "metadata": {},
   "outputs": [],
   "source": [
    "discovery=\"PGC2_noAJ\"\n",
    "target=\"dbg-scz19\"\n",
    "imp=\"impute2_1kg_afr2\"\n",
    "base_rep=\"105\"\n",
    "n_folds=5\n",
    "for cur_rep in {1..6}; for cur_fold in {1..5}; do bash prepare_cv_datasets.sh --discovery ${discovery} --target ${target} --imp ${imp} --rep ${base_rep}_${cur_rep} --cv ${cur_fold}_${n_folds}; done; done\n",
    "for cur_rep in {1..6}; do bash prepare_cv_datasets.sh --discovery ${discovery} --target ${target} --imp ${imp} --rep ${base_rep}_${cur_rep} --cv ${n_folds}; done;"
   ]
  },
  {
   "cell_type": "markdown",
   "metadata": {},
   "source": [
    "#### multiple imps (UKB)"
   ]
  },
  {
   "cell_type": "code",
   "execution_count": null,
   "metadata": {},
   "outputs": [],
   "source": [
    "discovery=\"PGC2_noAJ\"\n",
    "target=\"dbg-scz19\"\n",
    "imp_pops=\"eur,sas,gbr\"\n",
    "imp_pops=(${imp_pops//,/ })\n",
    "base_rep=\"105\"\n",
    "n_folds=5\n",
    "\n",
    "for imp_pop in imp_pops; do for cur_rep in {1..6}; do for cur_fold in {1..5}; do bash prepare_cv_datasets.sh --discovery ${discovery} --target ${target} --imp impute2_1kg_${imp_pop} --rep ${base_rep}_${cur_rep} --cv ${cur_fold}_${n_folds} --pheno ht; done; done; done\n",
    "for imp_pop in imp_pops; do for cur_rep in {1..6}; do bash prepare_cv_datasets.sh --discovery ${discovery} --target ${target} --imp impute2_1kg_${imp_pop} --rep ${base_rep}_${cur_rep} --cv ${n_folds} --pheno ht; done; done\n"
   ]
  },
  {
   "cell_type": "markdown",
   "metadata": {},
   "source": [
    "### run PRS method on rep"
   ]
  },
  {
   "cell_type": "code",
   "execution_count": null,
   "metadata": {},
   "outputs": [],
   "source": [
    "discovery=\"PGC2_noAJ\"\n",
    "target=\"dbg-scz19\"\n",
    "imp=\"impute2_ajkg14_t101\" # \"impute2_1kg_ceu2\"\n",
    "method=\"ld\"\n",
    "base_rep=105\n",
    "\n",
    "for cur_rep in {1..6}; do bash run_cv_single_rep.sh --discovery ${discovery} --target ${target} --imp ${imp} --method ${method} --rep ${base_rep}_${cur_rep} --start_fold 2 && bash run_cv_test_single_rep.sh --discovery ${discovery} --target ${target} --imp ${imp} --method ${method} --rep ${base_rep}_${cur_rep}; done\n",
    "\n",
    "## decomposed into separated commands:\n",
    "# for cur_rep in {1..6}; do bash run_cv_single_rep.sh --discovery ${discovery} --target ${target} --imp ${imp} --method pt2 --rep ${base_rep}_${cur_rep};  done\n",
    "# for cur_rep in {1..6}; do bash run_cv_test_single_rep.sh --discovery ${discovery} --target ${target} --imp ${imp} --method pt2 --rep ${base_rep}_${cur_rep}; done\n"
   ]
  },
  {
   "cell_type": "code",
   "execution_count": null,
   "metadata": {},
   "outputs": [],
   "source": [
    "discovery=\"PGC2_noAJ\"\n",
    "target=\"dbg-scz19\"\n",
    "imp=\"impute2_1kg_afr2\" # \"impute2_1kg_ceu2\"\n",
    "method=\"ld\"\n",
    "base_rep=105\n",
    "stage=1\n",
    "folds=5\n",
    "\n",
    "\n",
    "for cur_rep in {1..6}; do\n",
    "    for fold in {1..5}; do\n",
    "        res=$(ls -1 /specific/netapp5/gaga/gaga-pd/prs_data/PRSs//PGC2_noAJ_dbg-scz19/${imp}/rep_${base_rep}_${cur_rep}/prs.cv.ld___${fold}_5_validation.or.summary.*.tsv | wc -l);\n",
    "        echo \"res validation: ${res}\"\n",
    "        if [[ ${res} -eq 0 ]]; then\n",
    "            bash calc_prs_cv_${method}.sh --discovery ${discovery} --target ${target} --imp ${imp} --cv ${fold}_${folds} --stage ${stage} --rep ${base_rep}_${cur_rep};\n",
    "        fi   \n",
    "    done;\n",
    "    res=$(ls -1 /specific/netapp5/gaga/gaga-pd/prs_data/PRSs//PGC2_noAJ_dbg-scz19/${imp}/rep_${base_rep}_${cur_rep}/prs.cv.ld___5_test.or.summary.*.tsv | wc -l);\n",
    "    echo \"res test: ${res}\"\n",
    "    if [[ ${res} -eq 0 ]]; then\n",
    "        bash calc_prs_cv_${method}.sh --discovery ${discovery} --target ${target} --imp ${imp} --cv 5 --stage ${stage} --rep ${base_rep}_${cur_rep}; \n",
    "    fi \n",
    "done\n",
    "\n"
   ]
  },
  {
   "cell_type": "markdown",
   "metadata": {},
   "source": [
    "### Aggregate results (SCZ)"
   ]
  },
  {
   "cell_type": "code",
   "execution_count": null,
   "metadata": {},
   "outputs": [],
   "source": [
    "discoveries=\"PGC2_noAJ\" \n",
    "targets=\"dbg-scz19\"\n",
    "imps=\"impute2_1kg_eur-ajkg14-t101-merged,impute2_ajkg14_t101,impute2_1kg_eur2,impute2_1kg_eas2,impute2_1kg_afr2,impute2_1kg_gbr2,impute2_1kg_ceu2,impute2_1kg_tsi2,impute2_1kg_ibs2,impute2_1kg_fin2\"\n",
    "methods=\"pt3,pt2,ls,ld\"\n",
    "methods=${methods//,/ }\n",
    "base_rep=105\n",
    "suffix=\"scz\"\n",
    "\n",
    "## aggregate_prs_statistics\n",
    "for method in ${methods[@]}; do\n",
    "    for cur_rep in {1..6}; do \n",
    "        echo \"start aggreagating method ${method} rep ${base_rep}_${cur_rep}\"\n",
    "        # python aggregate_prs_statistics_cv_${method}.py --discoveries ${discoveries} --targets ${targets} --imps ${imps} --rep ${base_rep}_${cur_rep} --suffix ${suffix} && \\\n",
    "        # python plot_metrics_boxplots_cv_${method}.py --discoveries ${discoveries} --targets ${targets} --imps ${imps} --rep_start ${base_rep}_${cur_rep} --rep_end ${base_rep}_${cur_rep} --suffix ${suffix} & # && \\\n",
    "        python plot_metrics_boxplots_cv_${method}.py --discoveries ${discoveries} --targets ${targets} --imps ${imps} --rep_start ${base_rep}_${cur_rep} --rep_end ${base_rep}_${cur_rep} --metric or_99 --suffix ${suffix};\n",
    "    done;    \n",
    "done;\n",
    "\n",
    "\n",
    "# ## for cur_rep in {1..6}; do \n",
    "#     python aggregate_prs_statistics_cv_${method}.py --discoveries PGC2_noAJ --targets dbg-scz19 --imps impute2_ajkg14_t101,impute2_1kg_eur2,impute2_1kg_eas2,impute2_1kg_afr2,impute2_1kg_gbr2,impute2_1kg_ceu2,impute2_1kg_tsi2,impute2_1kg_ibs2,impute2_1kg_fin2 --rep ${base_rep}_${cur_rep};\n",
    "# done;\n",
    " "
   ]
  },
  {
   "cell_type": "code",
   "execution_count": null,
   "metadata": {},
   "outputs": [],
   "source": [
    "discoveries=\"PGC2_noAJ\" \n",
    "targets=\"dbg-scz19\"\n",
    "imps=\"impute2_ajkg14_t101,impute2_1kg_eur2,impute2_1kg_eas2,impute2_1kg_afr2,impute2_1kg_gbr2,impute2_1kg_tsi2,impute2_1kg_ibs2\" # impute2_1kg_ceu2,impute2_1kg_fin2,\n",
    "method=\"ls\"\n",
    "base_rep=105\n",
    "\n",
    "for cur_rep in {1..6}; do \n",
    "    python plot_metrics_boxplots_cv_${method}.py --discoveries ${discoveries} --targets ${targets} --imps ${imps} --rep_start ${base_rep}_${cur_rep} --rep_end ${base_rep}_${cur_rep};\n",
    "    python plot_metrics_boxplots_cv_${method}.py --discoveries ${discoveries} --targets ${targets} --imps ${imps} --rep_start ${base_rep}_${cur_rep} --rep_end ${base_rep}_${cur_rep} --metric or_99;\n",
    "    # python plot_metrics_boxplots_cv_${method}.py --discoveries ${discoveries} --targets ${targets} --imps ${imps} --rep_start ${base_rep}_${cur_rep} --rep_end ${base_rep}_${cur_rep} --metric or_99;\n",
    "done;\n"
   ]
  },
  {
   "cell_type": "markdown",
   "metadata": {},
   "source": [
    "### Run all folds UKB (recovery from latest stage)"
   ]
  },
  {
   "cell_type": "code",
   "execution_count": null,
   "metadata": {},
   "outputs": [],
   "source": [
    "# discoveries=\"D2_sysp_evangelou_2018,D2_dias_evangelou_2018,D2_asth_zhu_2019,D2_chol_willer_2013,D2_ldlp_willer_2013,D2_t2di_mahajan_2018,D2_gerx_an_2019,D2_madd_howard_2019\" # \"D2_sysp_evangelou_2018\" D2_hdlp_willer_2013\n",
    "discoveries=\"UKB_ht_eur,UKB_chol_eur,UKB_hfvr_eur,UKB_hyty_eur,UKB_madd_eur,UKB_osar_eur,UKB_t2d_eur,UKB_utfi_eur,UKB_gerx_eur,UKB_angna_eur,UKB_ast_eur,UKB_ctrt_eur\"\n",
    "discoveries=${discoveries//,/ }\n",
    "targets=\"ukbb_afr\"\n",
    "targets=${targets//,/ }\n",
    "imps=\"original\" # \"impute2_1kg_gbr\" # ,impute2_1kg_afr,impute2_1kg_gbr\" # \"impute2_1kg_eur,impute2_1kg_afr,impute2_1kg_gbr,impute2_1kg_sas\" # \"impute2_1kg_ceu2\"\n",
    "imps=${imps//,/ }\n",
    "method=\"ls\"\n",
    "base_rep=105\n",
    "folds=5\n",
    "complete_missing=true\n",
    "\n",
    "\n",
    "# declare -A gwas_to_pheno=(['D2_hght_yengo_2018']='height' ['D2_ldlp_willer_2013']='chol' ['D2_hdlp_willer_2013']='chol' ['D2_chol_willer_2013']='chol'  ['D2_sysp_evangelou_2018']='ht' ['D2_dias_evangelou_2018']='ht' ['D2_asth_zhu_2019']='ast' ['D2_t2di_mahajan_2018']='t2d' ['D2_madd_howard_2019']='madd' ['D2_gerx_an_2019']='gerx') # ['D2_hdlp_willer_2013']='chol' ['D_t2d_mahajan_2018']='t2d' \n",
    "declare -A gwas_to_pheno=(['UKB_ht_eur']='ht' ['UKB_chol_eur']='chol' ['UKB_hfvr_eur']='hfvr' ['UKB_hyty_eur']='hyty'  ['UKB_madd_eur']='madd' ['UKB_osar_eur']='osar' ['UKB_t2d_eur']='t2d' ['UKB_utfi_eur']='utfi' ['UKB_gerx_eur']='gerx' ['UKB_angna_eur']='angna' ['UKB_ast_eur']='ast' ['UKB_ctrt_eur']='ctrt') \n",
    "\n",
    "counter=0\n",
    "min_n_profiles=80\n",
    "min_n_profiles_res3=10\n",
    "\n",
    "for discovery in ${discoveries[@]}; do\n",
    "    pheno=${gwas_to_pheno[${discovery}]}\n",
    "    for target in ${targets[@]}; do\n",
    "        for imp in ${imps[@]}; do\n",
    "            for cur_rep in {1..6}; do\n",
    "                for fold in {1..5}; do\n",
    "                    res1=$(ls -1 /specific/netapp5/gaga/gaga-pd/prs_data/PRSs//${discovery}_${target}/${imp}/rep_${base_rep}_${cur_rep}/lasso/prs.cv.${method}___${fold}_${folds}_train.*.weights 2>/dev/null| wc -l );\n",
    "                    res2=$(ls -1 /specific/netapp5/gaga/gaga-pd/prs_data/PRSs//${discovery}_${target}/${imp}/rep_${base_rep}_${cur_rep}/prs.cv.${method}_${pheno}__${fold}_${folds}_validation.*.profile 2>/dev/null| wc -l ) ;\n",
    "                    res3=$(ls -1 /specific/netapp5/gaga/gaga-pd/prs_data/PRSs//${discovery}_${target}/${imp}/rep_${base_rep}_${cur_rep}/prs.cv.${method}_${pheno}__${fold}_${folds}_validation.or.summary.1-*.tsv 2>/dev/null | wc -l );\n",
    "                    stage=-1\n",
    "                    if [[ ${res3} -lt ${min_n_profiles_res3} ]]; then\n",
    "                        stage=3\n",
    "                    fi\n",
    "                    if [[ ${res2} -lt ${min_n_profiles} ]]; then\n",
    "                        stage=2\n",
    "                    fi\n",
    "                    if [[ ${res1} -lt ${min_n_profiles} ]]; then\n",
    "                        stage=1\n",
    "                    fi\n",
    "                    echo \"Discovery: ${discovery}, Target: ${target}, imp: ${imp}, rep: ${cur_rep}, fold: ${fold}: res validation: stage 1 - ${res1}, stage 2 - ${res2}, stage 3 - ${res3}\" \n",
    "                    if [[ ${stage} -ne -1 ]]; then\n",
    "                        if [[ ${complete_missing} = true ]]; then\n",
    "                            bash calc_prs_cv_${method}.sh --discovery ${discovery} --target ${target} --imp ${imp} --cv ${fold}_${folds} --rep ${base_rep}_${cur_rep} --pheno ${pheno} --stage ${stage};\n",
    "                        fi\n",
    "                        counter=$((${counter}+1))\n",
    "                    fi   \n",
    "                done;\n",
    "                res1=$(ls -1 /specific/netapp5/gaga/gaga-pd/prs_data/PRSs//${discovery}_${target}/${imp}/rep_${base_rep}_${cur_rep}/lasso/prs.cv.${method}___${folds}_both.*.weights 2>/dev/null| wc -l );\n",
    "                res2=$(ls -1 /specific/netapp5/gaga/gaga-pd/prs_data/PRSs//${discovery}_${target}/${imp}/rep_${base_rep}_${cur_rep}/prs.cv.${method}_${pheno}__${folds}_test.*.profile 2>/dev/null | wc -l);\n",
    "                res3=$(ls -1 /specific/netapp5/gaga/gaga-pd/prs_data/PRSs//${discovery}_${target}/${imp}/rep_${base_rep}_${cur_rep}/prs.cv.${method}_${pheno}__${folds}_test.or.summary.1-*.tsv 2>/dev/null | wc -l );\n",
    "                echo \"Discovery: ${discovery}, Target: ${target}, imp: ${imp}, rep: ${cur_rep}, fold: ${fold}: res test: stage 1 - ${res1}, stage 2 - ${res2}, stage 3 - ${res3}\"\n",
    "                stage=-1\n",
    "                if [[ ${res3} -lt ${min_n_profiles_res3} ]]; then\n",
    "                    stage=3\n",
    "                fi\n",
    "                if [[ ${res2} -lt ${min_n_profiles} ]]; then\n",
    "                        stage=2\n",
    "                fi\n",
    "                if [[ ${res1} -lt ${min_n_profiles} ]]; then\n",
    "                    stage=1\n",
    "                fi\n",
    "                if [[ ${stage} -ne -1 ]]; then\n",
    "                    if [[ ${complete_missing} = true ]]; then\n",
    "                        bash calc_prs_cv_${method}.sh --discovery ${discovery} --target ${target} --imp ${imp} --cv 5 --rep ${base_rep}_${cur_rep} --pheno ${pheno} --stage ${stage} ;\n",
    "                    fi\n",
    "                    counter=$((${counter}+1))\n",
    "                fi \n",
    "            done\n",
    "        done\n",
    "    done\n",
    "done\n",
    "\n",
    "echo \"counter: ${counter}\"\n"
   ]
  },
  {
   "cell_type": "code",
   "execution_count": null,
   "metadata": {},
   "outputs": [],
   "source": [
    "pop=\"sas\"\n",
    "discoveries=\"D2_sysp_evangelou_2018\" # \"D2_sysp_evangelou_2018,D2_dias_evangelou_2018,D2_asth_zhu_2019,D2_chol_willer_2013,D2_ldlp_willer_2013,D2_t2di_mahajan_2018,D2_gerx_an_2019,D2_madd_howard_2019\" # \"D2_sysp_evangelou_2018,D2_dias_evangelou_2018,D2_asth_zhu_2019,D2_chol_willer_2013,D2_hdlp_willer_2013,D2_ldlp_willer_2013,D2_t2di_mahajan_2018,D2_gerx_an_2019,D2_madd_howard_2019\" # \"D2_sysp_evangelou_2018\" D2_hdlp_willer_2013\n",
    "# discoveries=\"UKB_ht_eur,UKB_chol_eur,UKB_hfvr_eur,UKB_hyty_eur,UKB_madd_eur,UKB_osar_eur,UKB_t2d_eur,UKB_utfi_eur,UKB_gerx_eur,UKB_angna_eur,UKB_ast_eur,UKB_ctrt_eur\"\n",
    "discoveries=${discoveries//,/ }\n",
    "targets=\"ukbb_sas,ukbb_afr\" # \"ukbb_${pop}\"\n",
    "targets=${targets//,/ }\n",
    "imps=\"impX_new\" # \"impute2_1kg_gbr,impute2_1kg_eur,impute2_1kg_${pop}\" # ,impute2_1kg_afr\" # ,impute2_1kg_sas \"impute2_1kg_ceu2\"\n",
    "imps=${imps//,/ }\n",
    "method=\"pt2\"\n",
    "base_rep=105\n",
    "folds=5\n",
    "complete_missing=true\n",
    "\n",
    "\n",
    "declare -A gwas_to_pheno=(['D2_hght_yengo_2018']='height' ['D2_ldlp_willer_2013']='chol' ['D2_hdlp_willer_2013']='chol' ['D2_chol_willer_2013']='chol'  ['D2_sysp_evangelou_2018']='ht' ['D2_dias_evangelou_2018']='ht' ['D2_asth_zhu_2019']='ast' ['D2_t2di_mahajan_2018']='t2d' ['D2_madd_howard_2019']='madd' ['D2_gerx_an_2019']='gerx') # ['D2_hdlp_willer_2013']='chol' ['D_t2d_mahajan_2018']='t2d' \n",
    "# declare -A gwas_to_pheno=(['UKB_ht_eur']='ht' ['UKB_chol_eur']='chol' ['UKB_hfvr_eur']='hfvr' ['UKB_hyty_eur']='hyty'  ['UKB_madd_eur']='madd' ['UKB_osar_eur']='osar' ['UKB_t2d_eur']='t2d' ['UKB_utfi_eur']='utfi' ['UKB_gerx_eur']='gerx' ['UKB_angna_eur']='angna' ['UKB_ast_eur']='ast' ['UKB_ctrt_eur']='ctrt') \n",
    "\n",
    "counter=0\n",
    "min_n_profiles=9\n",
    "\n",
    "for discovery in ${discoveries[@]}; do\n",
    "    pheno=${gwas_to_pheno[${discovery}]}\n",
    "    for target in ${targets[@]}; do\n",
    "        for imp in ${imps[@]}; do\n",
    "            for cur_rep in {1..6}; do\n",
    "                for fold in {1..5}; do\n",
    "                    res1=$(ls -1 /specific/netapp5/gaga/gaga-pd/prs_data/PRSs//${discovery}_${target}/${imp}/rep_${base_rep}_${cur_rep}/prs.cv.${method}_${pheno}__${fold}_${folds}_validation.*.profile 2>/dev/null| wc -l ) ;\n",
    "                    res3=$(ls -1 /specific/netapp5/gaga/gaga-pd/prs_data/PRSs//${discovery}_${target}/${imp}/rep_${base_rep}_${cur_rep}/prs.cv.${method}_${pheno}__${fold}_${folds}_validation.or.summary.*.tsv 2>/dev/null | wc -l );\n",
    "                    stage=-1\n",
    "                    if [[ ${res3} -lt ${min_n_profiles} ]]; then\n",
    "                        stage=3\n",
    "                    fi\n",
    "                    if [[ ${res1} -lt ${min_n_profiles} ]]; then\n",
    "                        stage=1\n",
    "                    fi\n",
    "                    # echo \"Discovery: ${discovery}, Target: ${target}, imp: ${imp}, rep: ${cur_rep}, fold: ${fold}: res validation: stage 1 - ${res1}, stage 3 - ${res3}\" \n",
    "                    if [[ ${stage} -ne -1 ]]; then\n",
    "                        if [[ ${complete_missing} = true ]]; then\n",
    "                           bash calc_prs_cv_${method}.sh --discovery ${discovery} --target ${target} --imp ${imp} --cv ${fold}_${folds} --rep ${base_rep}_${cur_rep} --pheno ${pheno} --stage ${stage};\n",
    "                        fi\n",
    "                        echo \"Discovery: ${discovery}, Target: ${target}, imp: ${imp}, rep: ${cur_rep}, fold: ${fold}: res validation: stage 1 - ${res1}, stage 3 - ${res3}\" \n",
    "                        counter=$((${counter}+1))\n",
    "                    fi   \n",
    "                done;\n",
    "                res1=$(ls -1 /specific/netapp5/gaga/gaga-pd/prs_data/PRSs//${discovery}_${target}/${imp}/rep_${base_rep}_${cur_rep}/prs.cv.${method}_${pheno}__${fold}_test.*.profile 2>/dev/null | wc -l);\n",
    "                res3=$(ls -1 /specific/netapp5/gaga/gaga-pd/prs_data/PRSs//${discovery}_${target}/${imp}/rep_${base_rep}_${cur_rep}/prs.cv.${method}_${pheno}__${fold}_test.or.summary.*.tsv 2>/dev/null | wc -l );\n",
    "                # echo \"Discovery: ${discovery}, Target: ${target}, imp: ${imp}, rep: ${cur_rep}, fold: ${fold}: res test: stage 1 - ${res1}, stage 3 - ${res3}\"\n",
    "                stage=-1\n",
    "                if [[ ${res3} -lt ${min_n_profiles} ]]; then\n",
    "                    stage=3\n",
    "                fi\n",
    "                if [[ ${res1} -lt ${min_n_profiles} ]]; then\n",
    "                    stage=1\n",
    "                fi\n",
    "                if [[ ${stage} -ne -1 ]]; then\n",
    "                    if [[ ${complete_missing} = true ]]; then\n",
    "                        bash calc_prs_cv_${method}.sh --discovery ${discovery} --target ${target} --imp ${imp} --cv 5 --rep ${base_rep}_${cur_rep} --pheno ${pheno} --stage ${stage};\n",
    "                    fi\n",
    "                    echo \"Discovery: ${discovery}, Target: ${target}, imp: ${imp}, rep: ${cur_rep}, fold: ${fold}: res test: stage 1 - ${res1}, stage 3 - ${res3}\"\n",
    "                    counter=$((${counter}+1))\n",
    "                fi \n",
    "            done\n",
    "        done\n",
    "    done\n",
    "done\n",
    "\n",
    "echo \"counter: ${counter}\"\n",
    "\n"
   ]
  },
  {
   "cell_type": "markdown",
   "metadata": {},
   "source": [
    "### Aggregate results (UKB)"
   ]
  },
  {
   "cell_type": "code",
   "execution_count": null,
   "metadata": {},
   "outputs": [],
   "source": [
    "# discoveries=\"D2_sysp_evangelou_2018,D2_chol_willer_2013,,D2_t2di_mahajan_2018,D2_gerx_an_2019,D2_madd_howard_2019\" # D2_ldlp_willer_2013 # \"D2_sysp_evangelou_2018,D2_dias_evangelou_2018,D2_asth_zhu_2019,D2_chol_willer_2013,D2_hdlp_willer_2013,,D2_t2di_mahajan_2018,D2_gerx_an_2019,D2_madd_howard_2019\" # D2_ldlp_willer_2013\n",
    "discoveries=\"UKB_ht_eur,UKB_chol_eur,UKB_hfvr_eur,UKB_hyty_eur,UKB_madd_eur,UKB_osar_eur,UKB_t2d_eur,UKB_utfi_eur,UKB_gerx_eur,UKB_angna_eur,UKB_ast_eur,UKB_ctrt_eur\"\n",
    "suffix=\"ukb_gwas\"\n",
    "method=\"pt3\"\n",
    "base_rep=105\n",
    "stage=1\n",
    "folds=5\n",
    "\n",
    "\n",
    "targets=\"ukbb_afr,ukbb_sas\" # ${pop}\" # ,ukbb_sas\n",
    "imps=\"original,impute2_1kg_sas,impute2_1kg_afr,impute2_1kg_eur\" # ,impute2_1kg_gbr,imputeX_new\" # \"impute2_1kg_sas,impute2_1kg_afr,impute2_1kg_eur,impute2_1kg_gbr\" # impute2_1kg_${pop} ,impute2_1kg_sas\" \n",
    "\n",
    "declare -A gwas_to_pheno=(['D2_hght_yengo_2018']='height' ['D2_ldlp_willer_2013']='chol' ['D2_hdlp_willer_2013']='chol' \\\n",
    "                          ['D2_chol_willer_2013']='chol'  ['D2_sysp_evangelou_2018']='ht' ['D2_dias_evangelou_2018']='ht' \\\n",
    "                          ['D2_asth_zhu_2019']='ast' ['D2_t2di_mahajan_2018']='t2d'\\\n",
    "                          ['D2_madd_howard_2019']='madd' ['D2_gerx_an_2019']='gerx'\\\n",
    "                          ['UKB_ht_eur']='ht' ['UKB_chol_eur']='chol' \\\n",
    "                          ['UKB_hfvr_eur']='hfvr' ['UKB_hyty_eur']='hyty'  ['UKB_madd_eur']='madd' \\\n",
    "                          ['UKB_osar_eur']='osar' ['UKB_t2d_eur']='t2d' ['UKB_utfi_eur']='utfi' \\\n",
    "                          ['UKB_gerx_eur']='gerx' ['UKB_angna_eur']='angna' ['UKB_ast_eur']='ast' \\\n",
    "                          ['UKB_ctrt_eur']='ctrt') \n",
    "\n",
    "## aggregate_prs_statistics\n",
    "for cur_rep in {1..6}; do \n",
    "    python aggregate_prs_statistics_cv_${method}.py --discoveries ${discoveries} --targets ${targets} --imps ${imps} --rep ${base_rep}_${cur_rep} --suffix ${suffix} &&\\\n",
    "    python plot_metrics_boxplots_cv_${method}.py --discoveries ${discoveries} --targets ${targets} --imps ${imps} --rep_start ${base_rep}_${cur_rep} --rep_end ${base_rep}_${cur_rep} --suffix ${suffix} &&\\\n",
    "    python plot_metrics_boxplots_cv_${method}.py --discoveries ${discoveries} --targets ${targets} --imps ${imps} --rep_start ${base_rep}_${cur_rep} --rep_end ${base_rep}_${cur_rep} --suffix ${suffix} --metric or_99 \n",
    "done;\n",
    "\n"
   ]
  },
  {
   "cell_type": "code",
   "execution_count": null,
   "metadata": {},
   "outputs": [],
   "source": [
    "discoveries=\"D2_sysp_evangelou_2018,D2_dias_evangelou_2018,D2_asth_zhu_2019,D2_chol_willer_2013,D2_hdlp_willer_2013,D2_ldlp_willer_2013,D2_t2di_mahajan_2018,D2_gerx_an_2019,D2_madd_howard_2019\" \n",
    "# discoveries=\"UKB_ht_eur,UKB_chol_eur,UKB_hfvr_eur,UKB_hyty_eur,UKB_madd_eur,UKB_osar_eur,UKB_t2d_eur,UKB_utfi_eur,UKB_gerx_eur,UKB_angna_eur,UKB_ast_eur,UKB_ctrt_eur\"\n",
    "method=\"pt2\"\n",
    "base_rep=105\n",
    "stage=1\n",
    "folds=5\n",
    "declare -A gwas_to_pheno=(['D2_hght_yengo_2018']='height' ['D2_ldlp_willer_2013']='chol' ['D2_hdlp_willer_2013']='chol' ['D2_chol_willer_2013']='chol'  ['D2_sysp_evangelou_2018']='ht' ['D2_dias_evangelou_2018']='ht' ['D2_asth_zhu_2019']='ast' ['D2_t2di_mahajan_2018']='t2d') # ['D2_hdlp_willer_2013']='chol' ['D_t2d_mahajan_2018']='t2d' \n",
    "# declare -A gwas_to_pheno=(['UKB_ht_eur']='ht' ['UKB_chol_eur']='chol' ['UKB_hfvr_eur']='hfvr' ['UKB_hyty_eur']='hyty'  ['UKB_madd_eur']='madd' ['UKB_osar_eur']='osar' ['UKB_t2d_eur']='t2d' ['UKB_utfi_eur']='utfi' ['UKB_gerx_eur']='gerx' ['UKB_angna_eur']='angna' ['UKB_ast_eur']='ast' ['UKB_ctrt_eur']='ctrt') \n",
    "\n",
    "targets=\"ukbb_afr,ukbb_sas\" # \"ukbb_sas,ukbb_afr\" # ,ukbb_sas\"\n",
    "imps=\"original,impute2_1kg_sas,impute2_1kg_afr,impute2_1kg_eur,impute2_1kg_gbr\" # \"impute2_1kg_ceu2\"\n",
    "\n",
    "\n",
    "for cur_rep in {1..6}; do \n",
    "    python plot_metrics_boxplots_cv_${method}.py --discoveries ${discoveries} --targets ${targets} --imps ${imps} --rep_start ${base_rep}_${cur_rep} --rep_end ${base_rep}_${cur_rep} --suffix ${targets};\n",
    "    python plot_metrics_boxplots_cv_${method}.py --discoveries ${discoveries} --targets ${targets} --imps ${imps} --rep_start ${base_rep}_${cur_rep} --rep_end ${base_rep}_${cur_rep} --suffix ${targets} --metric or_99;\n",
    "    # python plot_metrics_boxplots_cv_${method}.py --discoveries ${discoveries} --targets ${targets} --imps ${imps} --rep_start ${base_rep}_${cur_rep} --rep_end ${base_rep}_${cur_rep} --metric or_99;\n",
    "done;\n"
   ]
  },
  {
   "cell_type": "markdown",
   "metadata": {},
   "source": [
    "### Add phenotypes with the same sets as an existing one (\\_ht\\_; hypertension)"
   ]
  },
  {
   "cell_type": "code",
   "execution_count": null,
   "metadata": {},
   "outputs": [],
   "source": [
    "\n",
    "for cur_rep in {1..6}; do \n",
    "    cd rep_105_${cur_rep}\n",
    "    for pheno in chol t2d gerx madd angna ast ctrt gerx height hfvr hyty osar utfi; do \n",
    "        echo \"rep_105_${cur_rep} ${pheno}\"\n",
    "        ls -1 pheno_ht_* | xargs -I A bash -c 'fl=$(echo A | awk '\"'\"'{ gsub(/_ht_/, \"_'${pheno}'_\"); print $0}'\"'\"'); awk '\"'\"'{if(NR==FNR){c[$1]++; next}; if (c[$1]>0){print $0}}'\"'\"' <(cat A) <(cat ../pheno_'${pheno}'_) > ${fl}'\n",
    "    done\n",
    "    cd ..\n",
    "done"
   ]
  },
  {
   "cell_type": "markdown",
   "metadata": {},
   "source": [
    "### liftOver"
   ]
  },
  {
   "cell_type": "code",
   "execution_count": null,
   "metadata": {},
   "outputs": [],
   "source": [
    "vcf_file=\"...\"\n",
    "\n",
    "plink --vcf ${vcf_file}.vcf --allow-extra-chr --chr 1-22 --recode --out ds0 \n",
    "python $PRS_TOOLS/liftOverPlink/liftOverPlink.py --map ds0.map --out lifted --chain $PRS_TOOLS/liftOverPlink/hg38ToHg19.over.chain\n",
    "python $PRS_TOOLS/liftOverPlink/rmBadLifts.py --map lifted.map --out good_lifted.map --log bad_lifted.dat\n",
    "cut -f 2 bad_lifted.dat > to_exclude.dat\n",
    "cut -f 4 lifted.bed.unlifted | sed \"/^#/d\" >> to_exclude.dat\n",
    "plink --file ds0 --recode --out lifted --exclude to_exclude.dat\n",
    "plink --ped lifted.ped --map good_lifted.map --make-bed --out ds_lifted"
   ]
  },
  {
   "cell_type": "markdown",
   "metadata": {},
   "source": [
    "### Clean lasso files"
   ]
  },
  {
   "cell_type": "code",
   "execution_count": null,
   "metadata": {},
   "outputs": [],
   "source": [
    "cat $PRS_CODEBASE/lasso_folders | head -n 5 | xargs -I {} bash -c 'ls -d {}*' | \\\n",
    " xargs -I A -n 1 -P 80  bash -c  'echo \"start A\" && cat A | awk '\"'\"'{if($6!=0){print $0}}'\"'\"' > \"A_\" && sleep 0 | mv A_ A && echo \"done A\"'"
   ]
  },
  {
   "cell_type": "markdown",
   "metadata": {},
   "source": [
    "### prepare cv files for another imputation strategy"
   ]
  },
  {
   "cell_type": "code",
   "execution_count": null,
   "metadata": {},
   "outputs": [],
   "source": [
    "# pheno=\"ctrt\"; \n",
    "# for b in {1..6}; do for a in {1..5}; do bash prepare_cv_datasets.sh --discovery test --target ukbb_sas --imp original --cv ${a}_5 --rep 105_${b} --pheno ${pheno}; done; bash prepare_cv_datasets.sh --discovery test --target ukbb_sas --imp original --cv 5 --rep 105_${b} --pheno ${pheno}; done\n",
    "\n",
    " target=\"ukbb_sas\";pheno=\"ht\"; for b in {1..6}; do for a in {1..5}; do bash prepare_cv_datasets.sh --discovery test --target ${target} --imp original --cv ${a}_5 --rep 105_${b} --pheno ${pheno}; done; done"
   ]
  },
  {
   "cell_type": "markdown",
   "metadata": {},
   "source": [
    "### Aggregate GAIN results"
   ]
  },
  {
   "cell_type": "code",
   "execution_count": null,
   "metadata": {},
   "outputs": [],
   "source": [
    "discoveries=\"PGC2_noAJ\" \n",
    "targets=\"gain_afr\"\n",
    "imps=\"impute2_1kg_eur,impute2_1kg_afr,impute2_1kg_eas\"\n",
    "methods=\"pt3\" # \"pt,pt2,ls\"\n",
    "methods=${methods//,/ }\n",
    "base_rep=105\n",
    "suffix=\"scz_gain\"\n",
    "\n",
    "## aggregate_prs_statistics\n",
    "for method in ${methods[@]}; do\n",
    "    for cur_rep in {1..6}; do \n",
    "        echo \"start aggreagating method ${method} rep ${base_rep}_${cur_rep}\"\n",
    "        python aggregate_prs_statistics_cv_${method}.py --discoveries ${discoveries} --targets ${targets} --imps ${imps} --rep ${base_rep}_${cur_rep} --suffix ${suffix} &&\n",
    "        python plot_metrics_boxplots_cv_${method}.py --discoveries ${discoveries} --targets ${targets} --imps ${imps} --rep_start ${base_rep}_${cur_rep} --rep_end ${base_rep}_${cur_rep} --suffix ${suffix} && \\\n",
    "        python plot_metrics_boxplots_cv_${method}.py --discoveries ${discoveries} --targets ${targets} --imps ${imps} --rep_start ${base_rep}_${cur_rep} --rep_end ${base_rep}_${cur_rep} --metric or_99 --suffix ${suffix} &\n",
    "    done;    \n",
    "done;\n",
    "\n",
    "\n",
    "# ## for cur_rep in {1..6}; do \n",
    "#     python aggregate_prs_statistics_cv_${method}.py --discoveries PGC2_noAJ --targets dbg-scz19 --imps impute2_ajkg14_t101,impute2_1kg_eur2,impute2_1kg_eas2,impute2_1kg_afr2,impute2_1kg_gbr2,impute2_1kg_ceu2,impute2_1kg_tsi2,impute2_1kg_ibs2,impute2_1kg_fin2 --rep ${base_rep}_${cur_rep};\n",
    "# done;\n",
    " "
   ]
  },
  {
   "cell_type": "markdown",
   "metadata": {},
   "source": [
    "### Aggregate bcac AJ results"
   ]
  },
  {
   "cell_type": "code",
   "execution_count": null,
   "metadata": {},
   "outputs": [],
   "source": [
    "discoveries=\"bcac_onco_eur-5pcs\" \n",
    "targets=\"bcac_onco_aj\"\n",
    "imps=\"impute2_1kg_eur2,impute2_1kg_afr2,impute2_1kg_eas2,impute2_ajkg14_t101\"\n",
    "methods=\"pt3\" # \"pt,pt2,ls\"\n",
    "methods=${methods//,/ }\n",
    "base_rep=105\n",
    "suffix=\"bc_aj\"\n",
    "\n",
    "## aggregate_prs_statistics\n",
    "for method in ${methods[@]}; do\n",
    "    for cur_rep in {1..6}; do \n",
    "        echo \"start aggreagating method ${method} rep ${base_rep}_${cur_rep}\"\n",
    "        python aggregate_prs_statistics_cv_${method}.py --discoveries ${discoveries} --targets ${targets} --imps ${imps} --rep ${base_rep}_${cur_rep} --suffix ${suffix} &&\n",
    "        python plot_metrics_boxplots_cv_${method}.py --discoveries ${discoveries} --targets ${targets} --imps ${imps} --rep_start ${base_rep}_${cur_rep} --rep_end ${base_rep}_${cur_rep} --suffix ${suffix} && \\\n",
    "        python plot_metrics_boxplots_cv_${method}.py --discoveries ${discoveries} --targets ${targets} --imps ${imps} --rep_start ${base_rep}_${cur_rep} --rep_end ${base_rep}_${cur_rep} --metric or_99 --suffix ${suffix} &\n",
    "    done;    \n",
    "done;\n",
    "\n",
    "\n",
    "# ## for cur_rep in {1..6}; do \n",
    "#     python aggregate_prs_statistics_cv_${method}.py --discoveries PGC2_noAJ --targets dbg-scz19 --imps impute2_ajkg14_t101,impute2_1kg_eur2,impute2_1kg_eas2,impute2_1kg_afr2,impute2_1kg_gbr2,impute2_1kg_ceu2,impute2_1kg_tsi2,impute2_1kg_ibs2,impute2_1kg_fin2 --rep ${base_rep}_${cur_rep};\n",
    "# done;\n",
    " "
   ]
  },
  {
   "cell_type": "markdown",
   "metadata": {},
   "source": [
    "### Aggregate SCZ EAS dbg-scz19 AJ results"
   ]
  },
  {
   "cell_type": "code",
   "execution_count": null,
   "metadata": {},
   "outputs": [],
   "source": [
    "discoveries=\"LH_PGC-SCZ-EAS,LH_PGC-SCZ-EAS_LS\" \n",
    "targets=\"dbg-scz19\"\n",
    "imps=\"impute2_1kg_eur2,impute2_1kg_afr2,impute2_1kg_eas2 \" # \",impute2_ajkg14_t101\"\n",
    "methods=\"pt3\" # \"pt,pt2,ls\"\n",
    "methods=${methods//,/ }\n",
    "base_rep=105\n",
    "suffix=\"scz_aj_eas\"\n",
    "\n",
    "## aggregate_prs_statistics\n",
    "for method in ${methods[@]}; do\n",
    "    for cur_rep in {1..6}; do \n",
    "        echo \"start aggreagating method ${method} rep ${base_rep}_${cur_rep}\"\n",
    "        python aggregate_prs_statistics_cv_${method}.py --discoveries ${discoveries} --targets ${targets} --imps ${imps} --rep ${base_rep}_${cur_rep} --suffix ${suffix} &&\n",
    "        python plot_metrics_boxplots_cv_${method}.py --discoveries ${discoveries} --targets ${targets} --imps ${imps} --rep_start ${base_rep}_${cur_rep} --rep_end ${base_rep}_${cur_rep} --suffix ${suffix} && \\\n",
    "        python plot_metrics_boxplots_cv_${method}.py --discoveries ${discoveries} --targets ${targets} --imps ${imps} --rep_start ${base_rep}_${cur_rep} --rep_end ${base_rep}_${cur_rep} --metric or_99 --suffix ${suffix} &\n",
    "    done;    \n",
    "done;\n",
    "\n",
    "\n",
    "# ## for cur_rep in {1..6}; do \n",
    "#     python aggregate_prs_statistics_cv_${method}.py --discoveries PGC2_noAJ --targets dbg-scz19 --imps impute2_ajkg14_t101,impute2_1kg_eur2,impute2_1kg_eas2,impute2_1kg_afr2,impute2_1kg_gbr2,impute2_1kg_ceu2,impute2_1kg_tsi2,impute2_1kg_ibs2,impute2_1kg_fin2 --rep ${base_rep}_${cur_rep};\n",
    "# done;\n"
   ]
  },
  {
   "cell_type": "code",
   "execution_count": null,
   "metadata": {},
   "outputs": [],
   "source": [
    "discoveries=\"vim,LH_PGC-SCZ-EAS_LS\" \n",
    "targets=\"dbg-scz19\"\n",
    "imps=\"impute2_1kg_eur2,impute2_1kg_afr2,impute2_1kg_eas2 \" # \",impute2_ajkg14_t101\"\n",
    "methods=\"ls\" # \"pt,pt2,ls\"\n",
    "methods=${methods//,/ }\n",
    "base_rep=105\n",
    "suffix=\"scz_aj_eas\"\n",
    "\n",
    "## aggregate_prs_statistics\n",
    "for method in ${methods[@]}; do\n",
    "    for cur_rep in {1..6}; do \n",
    "        echo \"start aggreagating method ${method} rep ${base_rep}_${cur_rep}\"\n",
    "        python aggregate_prs_statistics_cv_${method}.py --discoveries ${discoveries} --targets ${targets} --imps ${imps} --rep ${base_rep}_${cur_rep} --suffix ${suffix}\n",
    "    done;    \n",
    "done;\n",
    "\n",
    "\n"
   ]
  },
  {
   "cell_type": "markdown",
   "metadata": {},
   "source": [
    "### Aggregate SCZ EAS gain_afr results"
   ]
  },
  {
   "cell_type": "code",
   "execution_count": null,
   "metadata": {},
   "outputs": [],
   "source": [
    "discoveries=\"LH_PGC-SCZ-EAS,LH_PGC-SCZ-EAS_LS\" \n",
    "targets=\"gain_afr\"\n",
    "imps=\"impute2_1kg_eur,impute2_1kg_afr,impute2_1kg_eas\"\n",
    "methods=\"pt3\" # ,pt2,ls\"\n",
    "methods=${methods//,/ }\n",
    "base_rep=105\n",
    "suffix=\"scz_gain_afr_eas\"\n",
    "\n",
    "## aggregate_prs_statistics\n",
    "for method in ${methods[@]}; do\n",
    "    for cur_rep in {1..6}; do \n",
    "        echo \"start aggreagating method ${method} rep ${base_rep}_${cur_rep}\"\n",
    "        python aggregate_prs_statistics_cv_${method}.py --discoveries ${discoveries} --targets ${targets} --imps ${imps} --rep ${base_rep}_${cur_rep} --suffix ${suffix} &&\n",
    "        python plot_metrics_boxplots_cv_${method}.py --discoveries ${discoveries} --targets ${targets} --imps ${imps} --rep_start ${base_rep}_${cur_rep} --rep_end ${base_rep}_${cur_rep} --suffix ${suffix} && \\\n",
    "        python plot_metrics_boxplots_cv_${method}.py --discoveries ${discoveries} --targets ${targets} --imps ${imps} --rep_start ${base_rep}_${cur_rep} --rep_end ${base_rep}_${cur_rep} --metric or_99 --suffix ${suffix} &\n",
    "    done;    \n",
    "done;\n",
    "\n",
    "\n",
    "# ## for cur_rep in {1..6}; do \n",
    "#     python aggregate_prs_statistics_cv_${method}.py --discoveries PGC2_noAJ --targets dbg-scz19 --imps impute2_ajkg14_t101,impute2_1kg_eur2,impute2_1kg_eas2,impute2_1kg_afr2,impute2_1kg_gbr2,impute2_1kg_ceu2,impute2_1kg_tsi2,impute2_1kg_ibs2,impute2_1kg_fin2 --rep ${base_rep}_${cur_rep};\n",
    "# done;\n",
    " "
   ]
  },
  {
   "cell_type": "markdown",
   "metadata": {},
   "source": [
    "### Aggregate BC EAS aj results"
   ]
  },
  {
   "cell_type": "code",
   "execution_count": null,
   "metadata": {},
   "outputs": [],
   "source": [
    "discoveries=\"GC_bc_sakaue_2020,GC_bc_sakaue_2020_LS\" \n",
    "targets=\"bcac_onco_aj\"\n",
    "imps=\"impute2_1kg_eur2,impute2_1kg_afr2,impute2_1kg_eas2,impute2_ajkg14_t101\"\n",
    "methods=\"pt3\"# \"pt,pt2,ls\"\n",
    "methods=${methods//,/ }\n",
    "base_rep=105\n",
    "suffix=\"bc_aj_eas\"\n",
    "\n",
    "## aggregate_prs_statistics\n",
    "for method in ${methods[@]}; do\n",
    "    for cur_rep in {1..6}; do \n",
    "        echo \"start aggreagating method ${method} rep ${base_rep}_${cur_rep}\"\n",
    "        python aggregate_prs_statistics_cv_${method}.py --discoveries ${discoveries} --targets ${targets} --imps ${imps} --rep ${base_rep}_${cur_rep} --suffix ${suffix} &&\n",
    "        python plot_metrics_boxplots_cv_${method}.py --discoveries ${discoveries} --targets ${targets} --imps ${imps} --rep_start ${base_rep}_${cur_rep} --rep_end ${base_rep}_${cur_rep} --suffix ${suffix} && \\\n",
    "        python plot_metrics_boxplots_cv_${method}.py --discoveries ${discoveries} --targets ${targets} --imps ${imps} --rep_start ${base_rep}_${cur_rep} --rep_end ${base_rep}_${cur_rep} --metric or_99 --suffix ${suffix} &\n",
    "    done;    \n",
    "done;\n",
    "\n",
    "\n",
    "# ## for cur_rep in {1..6}; do \n",
    "#     python aggregate_prs_statistics_cv_${method}.py --discoveries PGC2_noAJ --targets dbg-scz19 --imps impute2_ajkg14_t101,impute2_1kg_eur2,impute2_1kg_eas2,impute2_1kg_afr2,impute2_1kg_gbr2,impute2_1kg_ceu2,impute2_1kg_tsi2,impute2_1kg_ibs2,impute2_1kg_fin2 --rep ${base_rep}_${cur_rep};\n",
    "# done;\n",
    " "
   ]
  },
  {
   "cell_type": "code",
   "execution_count": null,
   "metadata": {},
   "outputs": [],
   "source": [
    "discoveries=\"D2_ldlp_willer_2013,D2_chol_willer_2013,D2_hdlp_willer_2013,D2_sysp_evangelou_2018,D2_dias_evangelou_2018,D2_asth_zhu_2019,D_t2d_mahajan_2018,D2_t2di_mahajan_2018\"; \n",
    "discoveries=${discoveries//,/ }\n",
    "targets=ukbb_sas,ukbb_afr\n",
    "targets=${targets//,/ }\n",
    "\n",
    "declare -A gwas_to_pheno=(['D2_hght_yengo_2018']='height' ['D2_ldlp_willer_2013']='chol' ['D2_hdlp_willer_2013']='chol' \\\n",
    "                          ['D2_chol_willer_2013']='chol'  ['D2_sysp_evangelou_2018']='ht' ['D2_dias_evangelou_2018']='ht' \\\n",
    "                          ['D2_asth_zhu_2019']='ast' ['D2_t2di_mahajan_2018']='t2d'\\\n",
    "                          ['D2_madd_howard_2019']='madd' ['D2_gerx_an_2019']='gerx'\\\n",
    "                          ['UKB_ht_eur']='ht' ['UKB_chol_eur']='chol' \\\n",
    "                          ['UKB_hfvr_eur']='hfvr' ['UKB_hyty_eur']='hyty'  ['UKB_madd_eur']='madd' \\\n",
    "                          ['UKB_osar_eur']='osar' ['UKB_t2d_eur']='t2d' ['UKB_utfi_eur']='utfi' \\\n",
    "                          ['UKB_gerx_eur']='gerx' ['UKB_angna_eur']='angna' ['UKB_ast_eur']='ast' \\\n",
    "                          ['UKB_ctrt_eur']='ctrt') \n",
    "\n",
    "for discovery in ${discoveries[@]}; do\n",
    "    pheno=${gwas_to_pheno[${discovery}]}\n",
    "    for target in ${targets[@]}; do \n",
    "        echo \"running ls -1 /specific/netapp5/gaga/gaga-pd/prs_data/PRSs/${discovery}_${target}/*/*/prs.cv.pt3___* | awk '{print \\$0; gsub(\\\"___\\\", \\\"_'$pheno'__\\\"); print \\$0}' | xargs  -n 2 mv\"\n",
    "        ls -1 /specific/netapp5/gaga/gaga-pd/prs_data/PRSs/${discovery}_${target}/*/*/prs.cv.pt3___* | awk '{print $0; gsub(\"___\", \"_'$pheno'__\"); print $0}' | xargs  -n 2 mv\n",
    "    done\n",
    "done\n",
    "\n",
    "\n"
   ]
  },
  {
   "cell_type": "code",
   "execution_count": null,
   "metadata": {},
   "outputs": [],
   "source": []
  },
  {
   "cell_type": "code",
   "execution_count": null,
   "metadata": {},
   "outputs": [],
   "source": []
  },
  {
   "cell_type": "code",
   "execution_count": null,
   "metadata": {},
   "outputs": [],
   "source": []
  },
  {
   "cell_type": "code",
   "execution_count": null,
   "metadata": {},
   "outputs": [],
   "source": []
  },
  {
   "cell_type": "markdown",
   "metadata": {},
   "source": [
    "#### Generate folders to eth datasets"
   ]
  },
  {
   "cell_type": "code",
   "execution_count": null,
   "metadata": {},
   "outputs": [],
   "source": [
    "eth=pl \n",
    "imp=impX_new \n",
    "\n",
    "# Create directories\n",
    "mkdir -p $PRS_DATASETS_ELKON/bcac_onco_${eth}/${imp}\n",
    "mkdir -p $PRS_DATASETS_ELKON/bcac_onco-eur-minus-${eth}/${imp}\n",
    "\n",
    "# link ELKON to GAGA\n",
    "ln -s $PRS_DATASETS_ELKON/bcac_onco_${eth} $PRS_DATASETS/bcac_onco_${eth}/${imp}\n",
    "ln -s $PRS_DATASETS_ELKON/bcac_onco_eur-minus-${eth} $PRS_DATASETS/bcac_onco_eur-minus-${eth}/${imp}"
   ]
  },
  {
   "cell_type": "markdown",
   "metadata": {},
   "source": [
    "#### Create pop.panel file"
   ]
  },
  {
   "cell_type": "code",
   "execution_count": null,
   "metadata": {},
   "outputs": [],
   "source": [
    "head -n 1 $PRS_DATASETS/bcac_onco_eur/pop.panel | grep Poland > $PRS_DATASETS/bcac_onco_${eth}/pop.panel\n",
    "cat $PRS_DATASETS/bcac_onco_eur/pop.panel | grep Poland >> $PRS_DATASETS/bcac_onco_${eth}/pop.panel\n",
    "\n",
    "head -n 1 $PRS_DATASETS/bcac_onco_eur/pop.panel | grep -v Poland > $PRS_DATASETS/bcac_onco_eur-minus-${eth}/pop.panel\n",
    "cat $PRS_DATASETS/bcac_onco_eur/pop.panel | grep Poland >> $PRS_DATASETS/bcac_onco_eur-minus-${eth}/pop.panel"
   ]
  },
  {
   "cell_type": "markdown",
   "metadata": {},
   "source": [
    "#### Create pheno files"
   ]
  },
  {
   "cell_type": "code",
   "execution_count": null,
   "metadata": {},
   "outputs": [],
   "source": [
    "# Create pop \n",
    "\n",
    "\n",
    "# Create pheno to eth\n",
    "awk '{if(NR==FNR){c[$1]++; next;} if(c[$1]>0){print $0}}' <(cat $PRS_DATASETS/bcac_onco_pl/pop.panel) <(cat $PRS_DATASETS/bcac_onco_eur/pheno) > /specific/netapp5/gaga/gaga-pd/prs_data/datasets/dec/bcac_onc\n",
    "o_pl/pheno\n",
    "\n",
    "# Create pheno to eur-minus-eth\n",
    "awk '{if(NR==FNR){c[$1]++; next;} if(c[$1]>0){print $0}}' <(cat $PRS_DATASETS/bcac_onco_eur-minus-${eth}/pop.panel) <(cat $PRS_DATASETS/bcac_onco_eur/pheno) > /specific/netapp5/gaga/gaga-pd/prs_data/datasets/dec/bcac_onco_eur-minus-${eth}/pheno"
   ]
  },
  {
   "cell_type": "markdown",
   "metadata": {},
   "source": [
    "#### Generate eth dataset"
   ]
  },
  {
   "cell_type": "code",
   "execution_count": null,
   "metadata": {},
   "outputs": [],
   "source": [
    "eth=pl \n",
    "imp=impX_new \n",
    "plink --bfile $PRS_DATASETS/${imp}/ds --keep $PRS_DATASETS/bcac_onco_${eth}/pop.panel --make-bed --out $PRS_DATASETS/bcac_onco_pl/${imp}/ds"
   ]
  },
  {
   "cell_type": "markdown",
   "metadata": {},
   "source": [
    "#### QC eth set "
   ]
  },
  {
   "cell_type": "code",
   "execution_count": null,
   "metadata": {},
   "outputs": [],
   "source": [
    "bash qc_target_data.sh --target bcac_onco_pl --imp impX_new"
   ]
  },
  {
   "cell_type": "markdown",
   "metadata": {},
   "source": [
    "#### Create reps and folds "
   ]
  },
  {
   "cell_type": "code",
   "execution_count": null,
   "metadata": {},
   "outputs": [],
   "source": [
    "eth=pl \n",
    "python create_cv_repetitions.py --dataset bcac_onco_${eth}"
   ]
  },
  {
   "cell_type": "markdown",
   "metadata": {},
   "source": [
    "#### Create plink files for each rep and each fold (Do it for rep 1..6)"
   ]
  },
  {
   "cell_type": "code",
   "execution_count": null,
   "metadata": {},
   "outputs": [],
   "source": [
    "base_rep=105; \n",
    "rep=1\n",
    "eth=pl\n",
    "imp=impX_new\n",
    "\n",
    "for a in {1..5}; do bash prepare_cv_datasets.sh --discovery test --target bcac_onco_${eth}  --imp ${imp} --cv ${a}_5 --rep ${base_rep}_${rep}; done\n",
    "bash prepare_cv_datasets.sh --discovery test --target bcac_onco_${eth}  --imp ${imp} --cv 5 --rep ${base_rep}_${rep};"
   ]
  },
  {
   "cell_type": "markdown",
   "metadata": {},
   "source": [
    "#### Generate eur-minus-eth"
   ]
  },
  {
   "cell_type": "code",
   "execution_count": null,
   "metadata": {},
   "outputs": [],
   "source": [
    "eth=pl \n",
    "imp=impX_new\n",
    "plink --bfile $PRS_DATASETS_ELKON/bcac_onco_eur/${imp}/ds --remove $PRS_DATASETS_ELKON/bcac_onco_${eth}/pop.panel  --make-bed --geno 0.1 --mind 0.1 --maf 0.05 --out $PRS_DATASETS/bcac_onco_eur-minus-${eth}/${imp}/ds.QC"
   ]
  },
  {
   "cell_type": "code",
   "execution_count": null,
   "metadata": {},
   "outputs": [],
   "source": [
    "eth=pl  \n",
    "bash calc_pca2_full.sh --target bcac_onco_eur-minus-${eth} --imp impX_new --stage 2"
   ]
  }
 ],
 "metadata": {
  "kernelspec": {
   "display_name": "Python 3",
   "language": "python",
   "name": "python3"
  },
  "language_info": {
   "codemirror_mode": {
    "name": "ipython",
    "version": 3
   },
   "file_extension": ".py",
   "mimetype": "text/x-python",
   "name": "python",
   "nbconvert_exporter": "python",
   "pygments_lexer": "ipython3",
   "version": "3.8.5"
  }
 },
 "nbformat": 4,
 "nbformat_minor": 5
}
