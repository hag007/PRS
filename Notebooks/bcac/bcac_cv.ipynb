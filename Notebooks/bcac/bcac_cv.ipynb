{
 "cells": [
  {
   "cell_type": "markdown",
   "metadata": {
    "pycharm": {
     "name": "#%% md\n"
    }
   },
   "source": [
    "## BCAC CV"
   ]
  },
  {
   "cell_type": "markdown",
   "metadata": {
    "pycharm": {
     "name": "#%% md\n"
    }
   },
   "source": [
    "### Create an LD for a specific GWAS and dataset (Legacy. Use now pt3.sh)"
   ]
  },
  {
   "cell_type": "code",
   "execution_count": null,
   "metadata": {
    "pycharm": {
     "name": "#%%\n"
    }
   },
   "outputs": [],
   "source": [
    "\n",
    "discovery_path=$PRS_GWASS/bcac_onco_eur-5pcs/\n",
    "\n",
    "if [[ ! -f ds.dupvar ]]; then\n",
    "    touch ds.dupvar\n",
    "fi\n",
    "echo clumping\n",
    "plink \\\n",
    "    --bfile ds.QC \\\n",
    "  --clump-p1 1 \\\n",
    "  --clump-p2 1 \\\n",
    "  --clump-r2 0.2 \\\n",
    "  --clump-kb 500 \\\n",
    "  --clump ${discovery_path}gwas.QC.Transformed \\\n",
    "  --clump-snp-field SNP \\\n",
    "  --clump-field P \\\n",
    "  --out eur \\\n",
    "  --exclude ds.dupvar\n",
    "\n",
    "echo filter by clumping\n",
    "awk 'NR!=1{print $3}' eur.clumped >  eur.valid.snp"
   ]
  },
  {
   "cell_type": "markdown",
   "metadata": {
    "pycharm": {
     "name": "#%% md\n"
    }
   },
   "source": [
    "### Prepare splits"
   ]
  },
  {
   "cell_type": "markdown",
   "metadata": {
    "pycharm": {
     "name": "#%% md\n"
    }
   },
   "source": [
    "### Prepare datasets"
   ]
  },
  {
   "cell_type": "markdown",
   "metadata": {
    "pycharm": {
     "name": "#%% md\n"
    }
   },
   "source": [
    "#### multiple imps (UKB)"
   ]
  },
  {
   "cell_type": "code",
   "execution_count": null,
   "metadata": {
    "pycharm": {
     "name": "#%%\n"
    }
   },
   "outputs": [],
   "source": [
    "discovery=\"bcac_onco_eur-5pcs\"\n",
    "target=\"bcac_onco_aj\"\n",
    "imp=impX_new\n",
    "base_rep=\"105\"\n",
    "n_repetitions=6\n",
    "n_folds=5\n",
    "## Adjust reps and folds according to a parameter\n",
    "\n",
    "#Prepare inner CV (train+validation)\n",
    "for cur_rep in $(seq 1 $n_repetitions); do \n",
    "    for cur_fold in $(seq 1 $n_folds); do \n",
    "        bash prepare_cv_datasets.sh --discovery ${discovery} --target ${target} \\\n",
    "        --imp ${imp} --rep ${base_rep}_${cur_rep} \\\n",
    "        --cv ${cur_fold}_${n_folds}; \n",
    "    done \n",
    "done\n",
    "\n",
    "#Prepare outer CV (both+test)\n",
    "for cur_rep in $(seq 1 $n_repetitions); do \n",
    "    bash prepare_cv_datasets.sh --discovery ${discovery} --target ${target} \\\n",
    "    --imp ${imp} --rep ${base_rep}_${cur_rep} \\\n",
    "    --cv ${n_folds}\n",
    "done "
   ]
  },
  {
   "cell_type": "markdown",
   "metadata": {
    "pycharm": {
     "name": "#%% md\n"
    }
   },
   "source": [
    "### Create CV"
   ]
  },
  {
   "cell_type": "markdown",
   "metadata": {
    "pycharm": {
     "name": "#%% md\n"
    }
   },
   "source": [
    "#### Generally the best practive it os run the scripts ```run_folds/run_UKB_folds_<method>.sh```. The run only parts that are missing in the CV scheme and is generally faster and safer."
   ]
  },
  {
   "cell_type": "code",
   "execution_count": null,
   "metadata": {
    "pycharm": {
     "name": "#%%\n"
    }
   },
   "outputs": [],
   "source": [
    "method=ls\n",
    "\n",
    "discoveries=\"bcac_onco_eur-5pcs\" \n",
    "targets=\"bcac_onco_aj\"\n",
    "imps=\"impX_new\"\n",
    "\n",
    "bash run_folds_${method}.sh --discoveries=${discoveries} --targets=${targets} --imps=${imps}"
   ]
  },
  {
   "cell_type": "markdown",
   "metadata": {
    "pycharm": {
     "name": "#%% md\n"
    }
   },
   "source": [
    "#### To override existing results, use the scripts below."
   ]
  },
  {
   "cell_type": "markdown",
   "metadata": {
    "pycharm": {
     "name": "#%% md\n"
    }
   },
   "source": [
    "#### Run PRS method across reps"
   ]
  },
  {
   "cell_type": "code",
   "execution_count": null,
   "metadata": {
    "pycharm": {
     "name": "#%%\n"
    }
   },
   "outputs": [],
   "source": [
    "discovery=\"bcac_onco_eur-5pcs\"\n",
    "target=\"bcac_onco_aj\"\n",
    "imp=\"impX_new\" # \"impute2_1kg_ceu2\"\n",
    "method=\"ls\"\n",
    "base_rep=105\n",
    "\n",
    "for cur_rep in {1..6}; do \n",
    "    bash run_cv_single_rep.sh --discovery ${discovery} --target ${target} --imp ${imp} \\\n",
    "    --method ${method} --rep ${base_rep}_${cur_rep} --start_fold 2 && \\\n",
    "    bash run_cv_test_single_rep.sh --discovery ${discovery} --target ${target} --imp ${imp} \\\n",
    "    --method ${method} --rep ${base_rep}_${cur_rep}; \n",
    "done"
   ]
  },
  {
   "cell_type": "markdown",
   "metadata": {
    "pycharm": {
     "name": "#%% md\n"
    }
   },
   "source": [
    "#### Altentively, it can be executed as two separated commads (usefule for reruns of failed executions)"
   ]
  },
  {
   "cell_type": "code",
   "execution_count": null,
   "metadata": {
    "pycharm": {
     "name": "#%%\n"
    }
   },
   "outputs": [],
   "source": [
    "discovery=\"bcac_onco_eur-5pcs\"\n",
    "target=\"bcac_onco_aj\"\n",
    "imp=\"impX_new\" # \"impute2_1kg_ceu2\"\n",
    "method=\"ls\"\n",
    "base_rep=105\n",
    "\n",
    "for cur_rep in {1..6}; do \n",
    "    bash run_cv_single_rep.sh --discovery ${discovery} --target ${target} --imp ${imp} \\\n",
    "    --method ${method} --rep ${base_rep}_${cur_rep}\n",
    "done\n",
    "\n",
    "for cur_rep in {1..6}; do \n",
    "    bash run_cv_test_single_rep.sh --discovery ${discovery} --target ${target} --imp ${imp} \\\n",
    "    --method ${method} --rep ${base_rep}_${cur_rep}\n",
    "done"
   ]
  },
  {
   "cell_type": "markdown",
   "metadata": {
    "pycharm": {
     "name": "#%% md\n"
    }
   },
   "source": [
    "### Clean lasso output weight files from 0 weighted SNPs"
   ]
  },
  {
   "cell_type": "code",
   "execution_count": null,
   "metadata": {
    "pycharm": {
     "name": "#%%\n"
    }
   },
   "outputs": [],
   "source": [
    "cat $PRS_CODEBASE/lasso_folders | head -n 5 | xargs -I {} bash -c 'ls -d {}*' | \\\n",
    " xargs -I A -n 1 -P 80  bash -c  'echo \"start A\" && cat A | awk '\"'\"'{if($6!=0){print $0}}'\"'\"' > \"A_\" && sleep 0 | mv A_ A && echo \"done A\"'"
   ]
  },
  {
   "cell_type": "markdown",
   "metadata": {
    "pycharm": {
     "name": "#%% md\n"
    }
   },
   "source": [
    "### Run 6X5 nested CV"
   ]
  },
  {
   "cell_type": "code",
   "execution_count": null,
   "metadata": {
    "pycharm": {
     "name": "#%%\n"
    }
   },
   "outputs": [],
   "source": [
    "discoveries=\"bcac_onco_eur-5pcs\" \n",
    "targets=\"bcac_onco_aj\"\n",
    "imps=\"impX_new\"\n",
    "methods=\"pt3,pt2,ls,ld\"\n",
    "methods=${methods//,/ }\n",
    "base_rep=105\n",
    "suffix=\"bcac_aj2\"\n",
    "\n",
    "## aggregate_prs_statistics\n",
    "for method in ${methods[@]}; do\n",
    "    for cur_rep in {1..6}; do \n",
    "        echo \"start aggreagating method ${method} rep ${base_rep}_${cur_rep}\"\n",
    "        python aggregate_prs_statistics_cv_${method}.py --discoveries ${discoveries} --targets ${targets} --imps ${imps} --rep ${base_rep}_${cur_rep} --suffix ${suffix} &&\n",
    "        python plot_metrics_boxplots_cv_${method}.py --discoveries ${discoveries} --targets ${targets} --imps ${imps} --rep_start ${base_rep}_${cur_rep} --rep_end ${base_rep}_${cur_rep} --suffix ${suffix} && \\\n",
    "        python plot_metrics_boxplots_cv_${method}.py --discoveries ${discoveries} --targets ${targets} --imps ${imps} --rep_start ${base_rep}_${cur_rep} --rep_end ${base_rep}_${cur_rep} --metric or_99 --suffix ${suffix} &\n",
    "    done;    \n",
    "done;\n",
    "\n",
    "\n",
    "# ## for cur_rep in {1..6}; do \n",
    "#     python aggregate_prs_statistics_cv_${method}.py --discoveries PGC2_noAJ --targets dbg-scz19 --imps impute2_ajkg14_t101,impute2_1kg_eur2,impute2_1kg_eas2,impute2_1kg_afr2,impute2_1kg_gbr2,impute2_1kg_ceu2,impute2_1kg_tsi2,impute2_1kg_ibs2,impute2_1kg_fin2 --rep ${base_rep}_${cur_rep};\n",
    "# done;\n",
    " "
   ]
  },
  {
   "cell_type": "code",
   "execution_count": null,
   "metadata": {
    "pycharm": {
     "name": "#%%\n"
    }
   },
   "outputs": [],
   "source": [
    "discoveries=\"bcac_onco_eur-minus-uk-5pcs\" \n",
    "targets=\"bcac_onco_uk_6000\"\n",
    "imps=\"impX_new\"\n",
    "methods=\"ls,pt\"\n",
    "methods=${methods//,/ }\n",
    "base_rep=105\n",
    "suffix=\"bcac_minus_uk_uk\"\n",
    "\n",
    "## aggregate_prs_statistics\n",
    "for method in ${methods[@]}; do\n",
    "    for cur_rep in {1..5}; do \n",
    "        echo \"start aggreagating method ${method} rep ${base_rep}_${cur_rep}\"\n",
    "        python aggregate_prs_statistics_cv_${method}.py --discoveries ${discoveries} --targets ${targets} --imps ${imps} --rep ${base_rep}_${cur_rep} --suffix ${suffix} &&\n",
    "        python plot_metrics_boxplots_cv_${method}.py --discoveries ${discoveries} --targets ${targets} --imps ${imps} --rep_start ${base_rep}_${cur_rep} --rep_end ${base_rep}_${cur_rep} --suffix ${suffix} && \\\n",
    "        python plot_metrics_boxplots_cv_${method}.py --discoveries ${discoveries} --targets ${targets} --imps ${imps} --rep_start ${base_rep}_${cur_rep} --rep_end ${base_rep}_${cur_rep} --metric or_99 --suffix ${suffix} &\n",
    "    done;    \n",
    "done;\n",
    "\n",
    "\n",
    "# ## for cur_rep in {1..6}; do \n",
    "#     python aggregate_prs_statistics_cv_${method}.py --discoveries PGC2_noAJ --targets dbg-scz19 --imps impute2_ajkg14_t101,impute2_1kg_eur2,impute2_1kg_eas2,impute2_1kg_afr2,impute2_1kg_gbr2,impute2_1kg_ceu2,impute2_1kg_tsi2,impute2_1kg_ibs2,impute2_1kg_fin2 --rep ${base_rep}_${cur_rep};\n",
    "# done;\n",
    " "
   ]
  },
  {
   "cell_type": "code",
   "execution_count": null,
   "metadata": {
    "pycharm": {
     "name": "#%%\n"
    }
   },
   "outputs": [],
   "source": [
    "discoveries=\"bcac_onco_eur-minus-uk-5pcs\" \n",
    "targets=\"bcac_onco_aj\"\n",
    "imps=\"impX_new\"\n",
    "methods=\"pt3,ls\"\n",
    "methods=${methods//,/ }\n",
    "base_rep=105\n",
    "suffix=\"bcac_minus_uk_aj\"\n",
    "\n",
    "## aggregate_prs_statistics\n",
    "for method in ${methods[@]}; do\n",
    "    for cur_rep in {1..6}; do \n",
    "        echo \"start aggreagating method ${method} rep ${base_rep}_${cur_rep}\"\n",
    "        python aggregate_prs_statistics_cv_${method}.py --discoveries ${discoveries} --targets ${targets} --imps ${imps} --rep ${base_rep}_${cur_rep} --suffix ${suffix} &&\n",
    "        python plot_metrics_boxplots_cv_${method}.py --discoveries ${discoveries} --targets ${targets} --imps ${imps} --rep_start ${base_rep}_${cur_rep} --rep_end ${base_rep}_${cur_rep} --suffix ${suffix} && \\\n",
    "        python plot_metrics_boxplots_cv_${method}.py --discoveries ${discoveries} --targets ${targets} --imps ${imps} --rep_start ${base_rep}_${cur_rep} --rep_end ${base_rep}_${cur_rep} --metric or_99 --suffix ${suffix} &\n",
    "    done;    \n",
    "done;\n",
    "\n",
    "\n",
    "# ## for cur_rep in {1..6}; do \n",
    "#     python aggregate_prs_statistics_cv_${method}.py --discoveries PGC2_noAJ --targets dbg-scz19 --imps impute2_ajkg14_t101,impute2_1kg_eur2,impute2_1kg_eas2,impute2_1kg_afr2,impute2_1kg_gbr2,impute2_1kg_ceu2,impute2_1kg_tsi2,impute2_1kg_ibs2,impute2_1kg_fin2 --rep ${base_rep}_${cur_rep};\n",
    "# done;\n",
    " "
   ]
  },
  {
   "cell_type": "markdown",
   "metadata": {
    "pycharm": {
     "name": "#%% md\n"
    }
   },
   "source": [
    "#### aggregate bcac_onco_eur-minus-pl"
   ]
  },
  {
   "cell_type": "code",
   "execution_count": null,
   "metadata": {
    "pycharm": {
     "name": "#%%\n"
    }
   },
   "outputs": [],
   "source": [
    "discoveries=\"bcac_onco_eur-minus-pl\" \n",
    "targets=\"bcac_onco_aj\"\n",
    "imps=\"impX_new\"\n",
    "methods=\"pt2,pt3,ls,ld\"\n",
    "methods=${methods//,/ }\n",
    "base_rep=105\n",
    "suffix=\"bcac_minus_pl_aj\"\n",
    "\n",
    "## aggregate_prs_statistics\n",
    "for method in ${methods[@]}; do\n",
    "    for cur_rep in {1..6}; do \n",
    "        echo \"start aggreagating method ${method} rep ${base_rep}_${cur_rep}\"\n",
    "        python aggregate_prs_statistics_cv_${method}.py --discoveries ${discoveries} --targets ${targets} --imps ${imps} --rep ${base_rep}_${cur_rep} --suffix ${suffix} &&\n",
    "        python plot_metrics_boxplots_cv_${method}.py --discoveries ${discoveries} --targets ${targets} --imps ${imps} --rep_start ${base_rep}_${cur_rep} --rep_end ${base_rep}_${cur_rep} --suffix ${suffix} && \\\n",
    "        python plot_metrics_boxplots_cv_${method}.py --discoveries ${discoveries} --targets ${targets} --imps ${imps} --rep_start ${base_rep}_${cur_rep} --rep_end ${base_rep}_${cur_rep} --metric or_99 --suffix ${suffix} &\n",
    "    done;    \n",
    "done;\n",
    "\n",
    "\n",
    "# ## for cur_rep in {1..6}; do \n",
    "#     python aggregate_prs_statistics_cv_${method}.py --discoveries PGC2_noAJ --targets dbg-scz19 --imps impute2_ajkg14_t101,impute2_1kg_eur2,impute2_1kg_eas2,impute2_1kg_afr2,impute2_1kg_gbr2,impute2_1kg_ceu2,impute2_1kg_tsi2,impute2_1kg_ibs2,impute2_1kg_fin2 --rep ${base_rep}_${cur_rep};\n",
    "# done;\n",
    " "
   ]
  },
  {
   "cell_type": "code",
   "execution_count": null,
   "metadata": {
    "pycharm": {
     "name": "#%%\n"
    }
   },
   "outputs": [],
   "source": [
    "discoveries=\"bcac_onco_eur-minus-pl\" \n",
    "targets=\"bcac_onco_aj\"\n",
    "imps=\"impX_new\"\n",
    "methods=\"pt3,pt2,ls\"\n",
    "methods=${methods//,/ }\n",
    "base_rep=105\n",
    "suffix=\"bcac_minus_pl_aj\"\n",
    "\n",
    "## aggregate_prs_statistics\n",
    "for method in ${methods[@]}; do\n",
    "    for cur_rep in {1..6}; do \n",
    "        echo \"start aggreagating method ${method} rep ${base_rep}_${cur_rep}\"\n",
    "        python aggregate_prs_statistics_cv_${method}.py --discoveries ${discoveries} --targets ${targets} --imps ${imps} --rep ${base_rep}_${cur_rep} --suffix ${suffix} &&\n",
    "        python plot_metrics_boxplots_cv_${method}.py --discoveries ${discoveries} --targets ${targets} --imps ${imps} --rep_start ${base_rep}_${cur_rep} --rep_end ${base_rep}_${cur_rep} --suffix ${suffix} && \\\n",
    "        python plot_metrics_boxplots_cv_${method}.py --discoveries ${discoveries} --targets ${targets} --imps ${imps} --rep_start ${base_rep}_${cur_rep} --rep_end ${base_rep}_${cur_rep} --metric or_99 --suffix ${suffix} &\n",
    "    done;    \n",
    "done;\n",
    "\n",
    "\n",
    "# ## for cur_rep in {1..6}; do \n",
    "#     python aggregate_prs_statistics_cv_${method}.py --discoveries PGC2_noAJ --targets dbg-scz19 --imps impute2_ajkg14_t101,impute2_1kg_eur2,impute2_1kg_eas2,impute2_1kg_afr2,impute2_1kg_gbr2,impute2_1kg_ceu2,impute2_1kg_tsi2,impute2_1kg_ibs2,impute2_1kg_fin2 --rep ${base_rep}_${cur_rep};\n",
    "# done;\n",
    " "
   ]
  }
 ],
 "metadata": {
  "kernelspec": {
   "display_name": "Bash",
   "language": "bash",
   "name": "bash"
  },
  "language_info": {
   "codemirror_mode": "shell",
   "file_extension": ".sh",
   "mimetype": "text/x-sh",
   "name": "bash"
  }
 },
 "nbformat": 4,
 "nbformat_minor": 5
}
