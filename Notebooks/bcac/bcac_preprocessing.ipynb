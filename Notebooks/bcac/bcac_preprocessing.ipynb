{
 "cells": [
  {
   "cell_type": "markdown",
   "metadata": {},
   "source": [
    "## BCAC preprocessing"
   ]
  },
  {
   "cell_type": "markdown",
   "metadata": {},
   "source": [
    "### Convert imputed oxford files to bed"
   ]
  },
  {
   "cell_type": "markdown",
   "metadata": {},
   "source": [
    "#### Reformat the raw sample files of oncoarray (and iCOGS?)"
   ]
  },
  {
   "cell_type": "code",
   "execution_count": null,
   "metadata": {},
   "outputs": [],
   "source": [
    "eth=\"euro\"\n",
    "array=\"oncoarray\"\n",
    "echo \"ID_1 ID_2 missing sex\" > elkon_723_${eth}_${array}_sample_order.sample\n",
    "echo \"0 0 0 D\" >> elkon_723_${eth}_${array}_sample_order.sample\n",
    "cat elkon_723_${eth}_${array}_sample_order.txt | awk '{print $1\" \"$1\" 0 2\"}' >> elkon_723_${eth}_${array}_sample_order.sample"
   ]
  },
  {
   "cell_type": "markdown",
   "metadata": {},
   "source": [
    "#### For the Hispanic dataset, run the following alternative block"
   ]
  },
  {
   "cell_type": "code",
   "execution_count": null,
   "metadata": {},
   "outputs": [],
   "source": [
    "eth=\"hispanic\"\n",
    "echo \"ID_1 ID_2 missing sex\" > elkon_723_${eth}_sample_order.sample\n",
    "echo \"0 0 0 D\" >> elkon_723_${eth}_sample_order.sample\n",
    "cat elkon_723_${eth}_sample_order.txt | awk '{print $2\" \"$2\" 0 2\"}' >> elkon_723_${eth}_sample_order.sample"
   ]
  },
  {
   "cell_type": "markdown",
   "metadata": {},
   "source": [
    "#### iCOGS dosage files needs to be reformatted too"
   ]
  },
  {
   "cell_type": "code",
   "execution_count": null,
   "metadata": {},
   "outputs": [],
   "source": [
    "gunzip -c  elkon_723_euro_icogs_imputed_probs_chr2.txt.gz | sed 's/^/--- /' | gzip >  elkon_723_euro_icogs_imputed_probs_chr2.fixed2.txt.gz"
   ]
  },
  {
   "cell_type": "code",
   "execution_count": null,
   "metadata": {},
   "outputs": [],
   "source": [
    " for a in {10..15}; do plink --gen elkon_723_${eth}_${array}_imputed_probs_chr${a}.fixed2.txt.gz --sample elkon_723_${eth}_${array}_sample_order.sample --oxford-single-chr ${a} --make-bed --threads 50 --out ${target_path_elkon}/raw/ox_to_bed/ds${a}; done"
   ]
  },
  {
   "cell_type": "markdown",
   "metadata": {},
   "source": [
    "#### Convert raw (oxford/gen) files to bed files"
   ]
  },
  {
   "cell_type": "code",
   "execution_count": null,
   "metadata": {},
   "outputs": [],
   "source": [
    "target=\"bcac_onco_aj\"\n",
    "eth=\"euro\"\n",
    "array=\"oncoarray\"\n",
    "imp=\"impX\"\n",
    "target_path_elkon=\"/specific/elkon/hagailevi/PRS/datasets/dec/\"${target}\"/${imp}/\"\n",
    "mkdir -p ${target_path_elkon}/raw/ox_to_bed || echo \"\"\n",
    "for a in {22..22}; do plink --gen elkon_723_${eth}_${array}_imputed_probs_chr${a}.txt.gz --sample elkon_723_${eth}_${array}_sample_order.sample --oxford-single-chr ${a} --keep pop.il.panel --make-bed --threads 50 --out ${target_path_elkon}/raw/ox_to_bed/ds${a}; done\n"
   ]
  },
  {
   "cell_type": "code",
   "execution_count": null,
   "metadata": {},
   "outputs": [],
   "source": [
    "target=\"bcac_onco_eur\"\n",
    "eth=\"euro\"\n",
    "array=\"oncoarray\"\n",
    "imp=\"impX\"\n",
    "target_path_elkon=\"/specific/elkon/hagailevi/PRS/datasets/dec/\"${target}\"/${imp}/\"\n",
    "mkdir -p ${target_path_elkon}/raw/ox_to_bed || echo \"\"\n",
    "for a in {16..22}; do plink --gen elkon_723_${eth}_${array}_imputed_probs_chr${a}.fixed2.txt.gz --sample elkon_723_${eth}_${array}_sample_order.sample --oxford-single-chr ${a} --make-bed --threads 50 --out ${target_path_elkon}/raw/ox_to_bed/ds${a}; done\n"
   ]
  },
  {
   "cell_type": "markdown",
   "metadata": {},
   "source": [
    "### Create a subset of of the 313 SNPs "
   ]
  },
  {
   "cell_type": "code",
   "execution_count": null,
   "metadata": {},
   "outputs": [],
   "source": [
    "plink --bfile ds0 --extract $PRS_GWASS/bca_313/313.valid.snp --a1-allele $PRS_GWASS/bca_313/313_rsids.tsv 5 3 --make-bed --out ds"
   ]
  },
  {
   "cell_type": "markdown",
   "metadata": {},
   "source": [
    "### Generate GWAS from BCAC data using plink2 with PCs (TBD!)"
   ]
  },
  {
   "cell_type": "code",
   "execution_count": null,
   "metadata": {},
   "outputs": [],
   "source": [
    "eth=pl\n",
    "target=\"bcac_onco_eur-minus-${eth}\"\n",
    "imp=\"impX_new\"\n",
    "\n",
    "if [[ ! -d $PRS_GWASS/${target} ]]\n",
    "    echo \"Creating dir: $PRS_GWASS/${target}\"\n",
    "    mkdir -p $PRS_GWASS/${target}\n",
    "fi\n",
    "\n",
    "plink2 --bfile ds.QC --glm --pheno $PRS_DATASETS/${target}/${imp}/pheno --allow-no-sex --covar ds...TBD! --covar-name PC1,PC2,PC3,PC4,PC5 --out $PRS_GWASS/${target}/gwas\n",
    "#plink2 --bfile ds.QC --glm --pheno $PRS_DATASETS/${target}/${imp}/pheno --allow-no-sex --covar covar_reformatted --covar-name PC1,PC2,PC3,PC4,PC5,country,history,age,er,brca12 --out gwas_covar"
   ]
  },
  {
   "cell_type": "markdown",
   "metadata": {},
   "source": [
    "#### Modify BCAC's SNP id file to correct format (using vim)"
   ]
  },
  {
   "cell_type": "code",
   "execution_count": null,
   "metadata": {},
   "outputs": [],
   "source": [
    ":   1,$s/\\:*\\:.\\{-}\\t/\\t\n",
    ":   g!/rs/d"
   ]
  }
 ],
 "metadata": {
  "kernelspec": {
   "display_name": "Bash",
   "language": "bash",
   "name": "bash"
  },
  "language_info": {
   "codemirror_mode": "shell",
   "file_extension": ".sh",
   "mimetype": "text/x-sh",
   "name": "bash"
  }
 },
 "nbformat": 4,
 "nbformat_minor": 5
}
