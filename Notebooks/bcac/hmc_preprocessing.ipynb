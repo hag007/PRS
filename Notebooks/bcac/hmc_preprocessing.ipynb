{
 "cells": [
  {
   "cell_type": "markdown",
   "metadata": {
    "pycharm": {
     "name": "#%% md\n"
    }
   },
   "source": [
    "## HMC preprocessing"
   ]
  },
  {
   "cell_type": "markdown",
   "metadata": {
    "pycharm": {
     "name": "#%% md\n"
    }
   },
   "source": [
    "### Convert from hg38 to hg19"
   ]
  },
  {
   "cell_type": "markdown",
   "metadata": {
    "pycharm": {
     "name": "#%% md\n"
    }
   },
   "source": [
    "## Method #1: liftover"
   ]
  },
  {
   "cell_type": "code",
   "execution_count": null,
   "metadata": {
    "pycharm": {
     "name": "#%%\n"
    }
   },
   "outputs": [],
   "source": [
    "python $PRS_TOOLS/liftOverPlink/liftOverPlink.py --map $PRS_DATASETS/humc/original/raw/liftover/ds38.map --out $PRS_DATASETS/hadassa/original/raw/liftover/lifted --chain $PRS_TOOLS/liftOverPlink/hg38ToHg19.over.chain\n",
    "python $PRS_TOOLS/liftOverPlink/rmBadLifts.py --map lifted.map --out good_lifted.map --log bad_lifted.dat\n",
    "cut -f 2 bad_lifted.dat > to_exclude.dat\n",
    "cut -f 4 lifted.bed.unlifted | sed \"/^#/d\" >> to_exclude.dat\n",
    "plink --file ds38 --recode --out lifted_filtered --exclude to_exclude.dat --allow-extra-chr\n",
    "plink --ped lifted_filtered.ped --map good_lifted.map --recode --out final\n"
   ]
  },
  {
   "cell_type": "markdown",
   "metadata": {
    "pycharm": {
     "name": "#%% md\n"
    }
   },
   "source": [
    "## Method #2: convert vcf to hg19 using annotations included in the vcf file"
   ]
  },
  {
   "cell_type": "markdown",
   "metadata": {
    "pycharm": {
     "name": "#%% md\n"
    }
   },
   "source": [
    "#### copy headers"
   ]
  },
  {
   "cell_type": "code",
   "execution_count": null,
   "metadata": {
    "pycharm": {
     "name": "#%%\n"
    }
   },
   "outputs": [],
   "source": [
    "# Retrieve first data lines\n",
    "a=$(awk '{if(substr($0,1,1)!=\"#\"){print NR; exit;}}' humc19.vcf)\n",
    "# Copy headers\n",
    "head -n $(($a-1)) humc19.vcf > humc19_reformatted.vcf"
   ]
  },
  {
   "cell_type": "markdown",
   "metadata": {
    "pycharm": {
     "name": "#%% md\n"
    }
   },
   "source": [
    "####  reformat data"
   ]
  },
  {
   "cell_type": "code",
   "execution_count": null,
   "metadata": {
    "pycharm": {
     "name": "#%%\n"
    }
   },
   "outputs": [],
   "source": [
    "tail -n +66  humc19.vcf  | awk '{len=split($8,ar,\";\"); is_hg19=0; for(i=1;i<=len; i++){if (ar[i] ~ /hg19_chr/){split(ar[i],a,\"=\"); a_val=a[2]}; if (ar[i] ~ /hg19_position/){split(ar[i],b,\"=\"); b_val=b[2]; is_hg19=1}}; if(is_hg19==1){printf a_val\"\\t\"b_val\"\\t\"$3\"\\t\"$4\"\\t\"$5\"\\t\"$6\"\\t\"$7\"\\t\"$8\"\\t\"$9; for(i=1; i<=181; i++){printf \"\\t\"$(9+i)}; printf \"\\n\"} }' >> humc19_reformatted.vcf"
   ]
  },
  {
   "cell_type": "markdown",
   "metadata": {
    "pycharm": {
     "name": "#%% md\n"
    }
   },
   "source": [
    "#### Convert to bed files"
   ]
  },
  {
   "cell_type": "code",
   "execution_count": null,
   "metadata": {
    "pycharm": {
     "name": "#%%\n"
    }
   },
   "outputs": [],
   "source": [
    "plink --vcf humc19_reformatted.vcf --vcf-idspace-to $ --double-id --make-bed --allow-extra-chr --out ../ds"
   ]
  }
 ],
 "metadata": {
  "kernelspec": {
   "display_name": "Bash",
   "language": "bash",
   "name": "bash"
  },
  "language_info": {
   "codemirror_mode": "shell",
   "file_extension": ".sh",
   "mimetype": "text/x-sh",
   "name": "bash"
  }
 },
 "nbformat": 4,
 "nbformat_minor": 5
}