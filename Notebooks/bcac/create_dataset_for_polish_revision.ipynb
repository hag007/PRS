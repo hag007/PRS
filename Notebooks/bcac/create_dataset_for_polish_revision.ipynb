{
 "cells": [
  {
   "cell_type": "markdown",
   "metadata": {},
   "source": [
    "## Create polish dataset for revision"
   ]
  },
  {
   "cell_type": "markdown",
   "metadata": {},
   "source": [
    "#### Generate folders to eth datasets"
   ]
  },
  {
   "cell_type": "code",
   "execution_count": null,
   "metadata": {},
   "outputs": [],
   "source": [
    "eth=pl \n",
    "imp=impX_new \n",
    "\n",
    "# Create directories\n",
    "mkdir -p $PRS_DATASETS_ELKON/bcac_onco_${eth}/${imp}\n",
    "mkdir -p $PRS_DATASETS_ELKON/bcac_onco-eur-minus-${eth}/${imp}\n",
    "\n",
    "# link ELKON to GAGA\n",
    "ln -s $PRS_DATASETS_ELKON/bcac_onco_${eth} $PRS_DATASETS/bcac_onco_${eth}/${imp}\n",
    "ln -s $PRS_DATASETS_ELKON/bcac_onco_eur-minus-${eth} $PRS_DATASETS/bcac_onco_eur-minus-${eth}/${imp}"
   ]
  },
  {
   "cell_type": "markdown",
   "metadata": {},
   "source": [
    "#### Create pop.panel file"
   ]
  },
  {
   "cell_type": "code",
   "execution_count": null,
   "metadata": {},
   "outputs": [],
   "source": [
    "head -n 1 $PRS_DATASETS/bcac_onco_eur/pop.panel | grep Poland > $PRS_DATASETS/bcac_onco_${eth}/pop.panel\n",
    "cat $PRS_DATASETS/bcac_onco_eur/pop.panel | grep Poland >> $PRS_DATASETS/bcac_onco_${eth}/pop.panel\n",
    "\n",
    "head -n 1 $PRS_DATASETS/bcac_onco_eur/pop.panel | grep -v Poland > $PRS_DATASETS/bcac_onco_eur-minus-${eth}/pop.panel\n",
    "cat $PRS_DATASETS/bcac_onco_eur/pop.panel | grep Poland >> $PRS_DATASETS/bcac_onco_eur-minus-${eth}/pop.panel"
   ]
  },
  {
   "cell_type": "markdown",
   "metadata": {},
   "source": [
    "#### Create pheno files"
   ]
  },
  {
   "cell_type": "code",
   "execution_count": null,
   "metadata": {},
   "outputs": [],
   "source": [
    "# Create pop \n",
    "\n",
    "\n",
    "# Create pheno to eth\n",
    "awk '{if(NR==FNR){c[$1]++; next;} if(c[$1]>0){print $0}}' <(cat $PRS_DATASETS/bcac_onco_pl/pop.panel) <(cat $PRS_DATASETS/bcac_onco_eur/pheno) > /specific/netapp5/gaga/gaga-pd/prs_data/datasets/dec/bcac_onc\n",
    "o_pl/pheno\n",
    "\n",
    "# Create pheno to eur-minus-eth\n",
    "awk '{if(NR==FNR){c[$1]++; next;} if(c[$1]>0){print $0}}' <(cat $PRS_DATASETS/bcac_onco_eur-minus-${eth}/pop.panel) <(cat $PRS_DATASETS/bcac_onco_eur/pheno) > /specific/netapp5/gaga/gaga-pd/prs_data/datasets/dec/bcac_onco_eur-minus-${eth}/pheno"
   ]
  },
  {
   "cell_type": "markdown",
   "metadata": {},
   "source": [
    "#### Generate eth dataset"
   ]
  },
  {
   "cell_type": "code",
   "execution_count": null,
   "metadata": {},
   "outputs": [],
   "source": [
    "eth=pl \n",
    "imp=impX_new \n",
    "plink --bfile $PRS_DATASETS/${imp}/ds --keep $PRS_DATASETS/bcac_onco_${eth}/pop.panel --make-bed --out $PRS_DATASETS/bcac_onco_pl/${imp}/ds"
   ]
  },
  {
   "cell_type": "markdown",
   "metadata": {},
   "source": [
    "#### QC eth set "
   ]
  },
  {
   "cell_type": "code",
   "execution_count": null,
   "metadata": {},
   "outputs": [],
   "source": [
    "bash qc_target_data.sh --target bcac_onco_pl --imp impX_new"
   ]
  },
  {
   "cell_type": "markdown",
   "metadata": {},
   "source": [
    "#### Create reps and folds "
   ]
  },
  {
   "cell_type": "code",
   "execution_count": null,
   "metadata": {},
   "outputs": [],
   "source": [
    "eth=pl \n",
    "python create_cv_repetitions.py --dataset bcac_onco_${eth}"
   ]
  },
  {
   "cell_type": "markdown",
   "metadata": {},
   "source": [
    "#### Create plink files for each rep and each fold (Do it for rep 1..6)"
   ]
  },
  {
   "cell_type": "code",
   "execution_count": null,
   "metadata": {},
   "outputs": [],
   "source": [
    "base_rep=105; \n",
    "rep=1\n",
    "eth=pl\n",
    "imp=impX_new\n",
    "\n",
    "for a in {1..5}; do bash prepare_cv_datasets.sh --discovery test --target bcac_onco_${eth}  --imp ${imp} --cv ${a}_5 --rep ${base_rep}_${rep}; done\n",
    "bash prepare_cv_datasets.sh --discovery test --target bcac_onco_${eth}  --imp ${imp} --cv 5 --rep ${base_rep}_${rep};"
   ]
  },
  {
   "cell_type": "markdown",
   "metadata": {},
   "source": [
    "#### Generate eur-minus-eth"
   ]
  },
  {
   "cell_type": "code",
   "execution_count": null,
   "metadata": {},
   "outputs": [],
   "source": [
    "eth=pl \n",
    "imp=impX_new\n",
    "plink --bfile $PRS_DATASETS_ELKON/bcac_onco_eur/${imp}/ds --remove $PRS_DATASETS_ELKON/bcac_onco_${eth}/pop.panel  --make-bed --geno 0.1 --mind 0.1 --maf 0.05 --out $PRS_DATASETS/bcac_onco_eur-minus-${eth}/${imp}/ds.QC"
   ]
  },
  {
   "cell_type": "code",
   "execution_count": null,
   "metadata": {},
   "outputs": [],
   "source": [
    "eth=pl  \n",
    "bash calc_pca2_full.sh --target bcac_onco_eur-minus-${eth} --imp impX_new --stage 2"
   ]
  }
 ],
 "metadata": {
  "kernelspec": {
   "display_name": "Bash",
   "language": "bash",
   "name": "bash"
  },
  "language_info": {
   "codemirror_mode": "shell",
   "file_extension": ".sh",
   "mimetype": "text/x-sh",
   "name": "bash"
  }
 },
 "nbformat": 4,
 "nbformat_minor": 5
}
