{
 "cells": [
  {
   "cell_type": "code",
   "execution_count": 135,
   "metadata": {},
   "outputs": [],
   "source": [
    "import pandas as pd\n",
    "import os.path"
   ]
  },
  {
   "cell_type": "markdown",
   "metadata": {},
   "source": [
    "## 0. Set variables"
   ]
  },
  {
   "cell_type": "code",
   "execution_count": 136,
   "metadata": {},
   "outputs": [],
   "source": [
    "username='hagailevi'\n",
    "dec_folder='dec' # mai_dec\n",
    "ds_path=f\"/home/elkon2/{username}/PRS/datasets/{dec_folder}/\"\n",
    "imp=\"impX/\"\n",
    "# make sure to mkdir impX in all the data_dirs\n",
    "\n",
    "gwas_path=f\"/specific/elkon/{username}/PRS/GWASs/\""
   ]
  },
  {
   "cell_type": "code",
   "execution_count": 137,
   "metadata": {},
   "outputs": [],
   "source": [
    "# once you decide the dirs names, mkdir them all\n",
    "# data=\"bcac_onco_afr/\"\n",
    "# my_data_dir=\"mai_bcac_onco_afr_all/\"\n",
    "# discovery=\"mai_bcac_onco_afr_no_1200_usa/\"\n",
    "# target=\"mai_bcac_onco_afr_1200_usa/\"\n",
    "# pop=\"afr\"\n",
    "\n",
    "data=\"bcac_onco_eas1/\"\n",
    "my_data_dir=\"bcac_onco_eas1/\"\n",
    "discovery=\"bcac_onco_eas1/\"\n",
    "target=\"bcac_onco_eas_thai/\"\n",
    "pop=\"EAS\"\n",
    "ds_name=\"ds0\""
   ]
  },
  {
   "cell_type": "markdown",
   "metadata": {},
   "source": [
    "## 1. Filter datasets"
   ]
  },
  {
   "cell_type": "markdown",
   "metadata": {},
   "source": [
    "#### Update snps names"
   ]
  },
  {
   "cell_type": "code",
   "execution_count": 106,
   "metadata": {
    "scrolled": true
   },
   "outputs": [
    {
     "data": {
      "text/html": [
       "<div>\n",
       "<style scoped>\n",
       "    .dataframe tbody tr th:only-of-type {\n",
       "        vertical-align: middle;\n",
       "    }\n",
       "\n",
       "    .dataframe tbody tr th {\n",
       "        vertical-align: top;\n",
       "    }\n",
       "\n",
       "    .dataframe thead th {\n",
       "        text-align: right;\n",
       "    }\n",
       "</style>\n",
       "<table border=\"1\" class=\"dataframe\">\n",
       "  <thead>\n",
       "    <tr style=\"text-align: right;\">\n",
       "      <th></th>\n",
       "      <th>0</th>\n",
       "      <th>1</th>\n",
       "      <th>2</th>\n",
       "      <th>3</th>\n",
       "      <th>4</th>\n",
       "      <th>5</th>\n",
       "    </tr>\n",
       "  </thead>\n",
       "  <tbody>\n",
       "    <tr>\n",
       "      <th>0</th>\n",
       "      <td>1</td>\n",
       "      <td>rs376342519:10616:CCGCCGTTGCAAAGGCGCGCCG:C</td>\n",
       "      <td>0</td>\n",
       "      <td>10616</td>\n",
       "      <td>CCGCCGTTGCAAAGGCGCGCCG</td>\n",
       "      <td>C</td>\n",
       "    </tr>\n",
       "    <tr>\n",
       "      <th>1</th>\n",
       "      <td>1</td>\n",
       "      <td>1:10642:G:A</td>\n",
       "      <td>0</td>\n",
       "      <td>10642</td>\n",
       "      <td>A</td>\n",
       "      <td>G</td>\n",
       "    </tr>\n",
       "    <tr>\n",
       "      <th>2</th>\n",
       "      <td>1</td>\n",
       "      <td>1:11008:C:G</td>\n",
       "      <td>0</td>\n",
       "      <td>11008</td>\n",
       "      <td>G</td>\n",
       "      <td>C</td>\n",
       "    </tr>\n",
       "  </tbody>\n",
       "</table>\n",
       "</div>"
      ],
      "text/plain": [
       "   0                                           1  2      3  \\\n",
       "0  1  rs376342519:10616:CCGCCGTTGCAAAGGCGCGCCG:C  0  10616   \n",
       "1  1                                 1:10642:G:A  0  10642   \n",
       "2  1                                 1:11008:C:G  0  11008   \n",
       "\n",
       "                        4  5  \n",
       "0  CCGCCGTTGCAAAGGCGCGCCG  C  \n",
       "1                       A  G  \n",
       "2                       G  C  "
      ]
     },
     "metadata": {},
     "output_type": "display_data"
    },
    {
     "data": {
      "text/plain": [
       "(20734271, 6)"
      ]
     },
     "execution_count": 106,
     "metadata": {},
     "output_type": "execute_result"
    }
   ],
   "source": [
    "# ds_file_path=ds_path+data+imp+\"ds.QC.bim\"\n",
    "ds_file_path=ps.path.join(ds_path, data, imp, f\"{ds_name}.bim\")\n",
    "bim_df=pd.read_csv(ds_file_path,header=None,sep=\"\\t\")\n",
    "display(bim_df.head(3))\n",
    "bim_df.shape"
   ]
  },
  {
   "cell_type": "code",
   "execution_count": 107,
   "metadata": {},
   "outputs": [
    {
     "data": {
      "text/html": [
       "<div>\n",
       "<style scoped>\n",
       "    .dataframe tbody tr th:only-of-type {\n",
       "        vertical-align: middle;\n",
       "    }\n",
       "\n",
       "    .dataframe tbody tr th {\n",
       "        vertical-align: top;\n",
       "    }\n",
       "\n",
       "    .dataframe thead th {\n",
       "        text-align: right;\n",
       "    }\n",
       "</style>\n",
       "<table border=\"1\" class=\"dataframe\">\n",
       "  <thead>\n",
       "    <tr style=\"text-align: right;\">\n",
       "      <th></th>\n",
       "      <th>0</th>\n",
       "      <th>1</th>\n",
       "      <th>2</th>\n",
       "      <th>3</th>\n",
       "      <th>4</th>\n",
       "      <th>5</th>\n",
       "      <th>6</th>\n",
       "    </tr>\n",
       "  </thead>\n",
       "  <tbody>\n",
       "    <tr>\n",
       "      <th>0</th>\n",
       "      <td>1</td>\n",
       "      <td>rs376342519:10616:CCGCCGTTGCAAAGGCGCGCCG:C</td>\n",
       "      <td>0</td>\n",
       "      <td>10616</td>\n",
       "      <td>CCGCCGTTGCAAAGGCGCGCCG</td>\n",
       "      <td>C</td>\n",
       "      <td>rs376342519</td>\n",
       "    </tr>\n",
       "    <tr>\n",
       "      <th>1</th>\n",
       "      <td>1</td>\n",
       "      <td>1:10642:G:A</td>\n",
       "      <td>0</td>\n",
       "      <td>10642</td>\n",
       "      <td>A</td>\n",
       "      <td>G</td>\n",
       "      <td>None</td>\n",
       "    </tr>\n",
       "    <tr>\n",
       "      <th>2</th>\n",
       "      <td>1</td>\n",
       "      <td>1:11008:C:G</td>\n",
       "      <td>0</td>\n",
       "      <td>11008</td>\n",
       "      <td>G</td>\n",
       "      <td>C</td>\n",
       "      <td>None</td>\n",
       "    </tr>\n",
       "  </tbody>\n",
       "</table>\n",
       "</div>"
      ],
      "text/plain": [
       "   0                                           1  2      3  \\\n",
       "0  1  rs376342519:10616:CCGCCGTTGCAAAGGCGCGCCG:C  0  10616   \n",
       "1  1                                 1:10642:G:A  0  10642   \n",
       "2  1                                 1:11008:C:G  0  11008   \n",
       "\n",
       "                        4  5            6  \n",
       "0  CCGCCGTTGCAAAGGCGCGCCG  C  rs376342519  \n",
       "1                       A  G         None  \n",
       "2                       G  C         None  "
      ]
     },
     "metadata": {},
     "output_type": "display_data"
    }
   ],
   "source": [
    "func = lambda x: x.split(':')[0] if 'rs' in x else None\n",
    "my_ds_df=bim_df\n",
    "my_ds_df[6] = my_ds_df[1].apply(func)\n",
    "display(my_ds_df.head(3))"
   ]
  },
  {
   "cell_type": "code",
   "execution_count": 108,
   "metadata": {},
   "outputs": [
    {
     "data": {
      "text/html": [
       "<div>\n",
       "<style scoped>\n",
       "    .dataframe tbody tr th:only-of-type {\n",
       "        vertical-align: middle;\n",
       "    }\n",
       "\n",
       "    .dataframe tbody tr th {\n",
       "        vertical-align: top;\n",
       "    }\n",
       "\n",
       "    .dataframe thead th {\n",
       "        text-align: right;\n",
       "    }\n",
       "</style>\n",
       "<table border=\"1\" class=\"dataframe\">\n",
       "  <thead>\n",
       "    <tr style=\"text-align: right;\">\n",
       "      <th></th>\n",
       "      <th>0</th>\n",
       "      <th>1</th>\n",
       "      <th>2</th>\n",
       "      <th>3</th>\n",
       "      <th>4</th>\n",
       "      <th>5</th>\n",
       "      <th>6</th>\n",
       "    </tr>\n",
       "  </thead>\n",
       "  <tbody>\n",
       "    <tr>\n",
       "      <th>0</th>\n",
       "      <td>1</td>\n",
       "      <td>rs376342519:10616:CCGCCGTTGCAAAGGCGCGCCG:C</td>\n",
       "      <td>0</td>\n",
       "      <td>10616</td>\n",
       "      <td>CCGCCGTTGCAAAGGCGCGCCG</td>\n",
       "      <td>C</td>\n",
       "      <td>rs376342519</td>\n",
       "    </tr>\n",
       "    <tr>\n",
       "      <th>5</th>\n",
       "      <td>1</td>\n",
       "      <td>rs201725126:13116:T:G</td>\n",
       "      <td>0</td>\n",
       "      <td>13116</td>\n",
       "      <td>G</td>\n",
       "      <td>T</td>\n",
       "      <td>rs201725126</td>\n",
       "    </tr>\n",
       "    <tr>\n",
       "      <th>6</th>\n",
       "      <td>1</td>\n",
       "      <td>rs200579949:13118:A:G</td>\n",
       "      <td>0</td>\n",
       "      <td>13118</td>\n",
       "      <td>G</td>\n",
       "      <td>A</td>\n",
       "      <td>rs200579949</td>\n",
       "    </tr>\n",
       "  </tbody>\n",
       "</table>\n",
       "</div>"
      ],
      "text/plain": [
       "   0                                           1  2      3  \\\n",
       "0  1  rs376342519:10616:CCGCCGTTGCAAAGGCGCGCCG:C  0  10616   \n",
       "5  1                       rs201725126:13116:T:G  0  13116   \n",
       "6  1                       rs200579949:13118:A:G  0  13118   \n",
       "\n",
       "                        4  5            6  \n",
       "0  CCGCCGTTGCAAAGGCGCGCCG  C  rs376342519  \n",
       "5                       G  T  rs201725126  \n",
       "6                       G  A  rs200579949  "
      ]
     },
     "metadata": {},
     "output_type": "display_data"
    }
   ],
   "source": [
    "my_ds_df=my_ds_df.dropna()\n",
    "display(my_ds_df.head(3))"
   ]
  },
  {
   "cell_type": "code",
   "execution_count": 392,
   "metadata": {},
   "outputs": [],
   "source": [
    "#### CHECK ALL VALID ####\n",
    "# filtered = my_ds_df[6].str.contains('rs')\n",
    "# print(filtered)\n",
    "# true_count = filtered.sum()\n",
    "# print(true_count)"
   ]
  },
  {
   "cell_type": "markdown",
   "metadata": {},
   "source": [
    "#### Remove duplicates and snps from different chrom and same position"
   ]
  },
  {
   "cell_type": "code",
   "execution_count": 109,
   "metadata": {},
   "outputs": [
    {
     "data": {
      "text/html": [
       "<div>\n",
       "<style scoped>\n",
       "    .dataframe tbody tr th:only-of-type {\n",
       "        vertical-align: middle;\n",
       "    }\n",
       "\n",
       "    .dataframe tbody tr th {\n",
       "        vertical-align: top;\n",
       "    }\n",
       "\n",
       "    .dataframe thead th {\n",
       "        text-align: right;\n",
       "    }\n",
       "</style>\n",
       "<table border=\"1\" class=\"dataframe\">\n",
       "  <thead>\n",
       "    <tr style=\"text-align: right;\">\n",
       "      <th></th>\n",
       "      <th>0</th>\n",
       "      <th>1</th>\n",
       "      <th>2</th>\n",
       "      <th>3</th>\n",
       "      <th>4</th>\n",
       "      <th>5</th>\n",
       "      <th>6</th>\n",
       "    </tr>\n",
       "  </thead>\n",
       "  <tbody>\n",
       "    <tr>\n",
       "      <th>0</th>\n",
       "      <td>1</td>\n",
       "      <td>rs376342519:10616:CCGCCGTTGCAAAGGCGCGCCG:C</td>\n",
       "      <td>0</td>\n",
       "      <td>10616</td>\n",
       "      <td>CCGCCGTTGCAAAGGCGCGCCG</td>\n",
       "      <td>C</td>\n",
       "      <td>rs376342519</td>\n",
       "    </tr>\n",
       "    <tr>\n",
       "      <th>1</th>\n",
       "      <td>1</td>\n",
       "      <td>rs201725126:13116:T:G</td>\n",
       "      <td>0</td>\n",
       "      <td>13116</td>\n",
       "      <td>G</td>\n",
       "      <td>T</td>\n",
       "      <td>rs201725126</td>\n",
       "    </tr>\n",
       "    <tr>\n",
       "      <th>2</th>\n",
       "      <td>1</td>\n",
       "      <td>rs200579949:13118:A:G</td>\n",
       "      <td>0</td>\n",
       "      <td>13118</td>\n",
       "      <td>G</td>\n",
       "      <td>A</td>\n",
       "      <td>rs200579949</td>\n",
       "    </tr>\n",
       "  </tbody>\n",
       "</table>\n",
       "</div>"
      ],
      "text/plain": [
       "   0                                           1  2      3  \\\n",
       "0  1  rs376342519:10616:CCGCCGTTGCAAAGGCGCGCCG:C  0  10616   \n",
       "1  1                       rs201725126:13116:T:G  0  13116   \n",
       "2  1                       rs200579949:13118:A:G  0  13118   \n",
       "\n",
       "                        4  5            6  \n",
       "0  CCGCCGTTGCAAAGGCGCGCCG  C  rs376342519  \n",
       "1                       G  T  rs201725126  \n",
       "2                       G  A  rs200579949  "
      ]
     },
     "metadata": {},
     "output_type": "display_data"
    }
   ],
   "source": [
    "filtered_ds_df=my_ds_df.groupby(3, as_index=False,sort=False).first()\n",
    "filtered_ds_df = filtered_ds_df.reindex(columns=my_ds_df.columns)\n",
    "display(filtered_ds_df.head(3)) "
   ]
  },
  {
   "cell_type": "code",
   "execution_count": 110,
   "metadata": {},
   "outputs": [
    {
     "data": {
      "text/html": [
       "<div>\n",
       "<style scoped>\n",
       "    .dataframe tbody tr th:only-of-type {\n",
       "        vertical-align: middle;\n",
       "    }\n",
       "\n",
       "    .dataframe tbody tr th {\n",
       "        vertical-align: top;\n",
       "    }\n",
       "\n",
       "    .dataframe thead th {\n",
       "        text-align: right;\n",
       "    }\n",
       "</style>\n",
       "<table border=\"1\" class=\"dataframe\">\n",
       "  <thead>\n",
       "    <tr style=\"text-align: right;\">\n",
       "      <th></th>\n",
       "      <th>0</th>\n",
       "      <th>1</th>\n",
       "      <th>2</th>\n",
       "      <th>3</th>\n",
       "      <th>4</th>\n",
       "      <th>5</th>\n",
       "      <th>6</th>\n",
       "    </tr>\n",
       "  </thead>\n",
       "  <tbody>\n",
       "    <tr>\n",
       "      <th>0</th>\n",
       "      <td>1</td>\n",
       "      <td>rs376342519:10616:CCGCCGTTGCAAAGGCGCGCCG:C</td>\n",
       "      <td>0</td>\n",
       "      <td>10616</td>\n",
       "      <td>CCGCCGTTGCAAAGGCGCGCCG</td>\n",
       "      <td>C</td>\n",
       "      <td>rs376342519</td>\n",
       "    </tr>\n",
       "    <tr>\n",
       "      <th>1</th>\n",
       "      <td>1</td>\n",
       "      <td>rs201725126:13116:T:G</td>\n",
       "      <td>0</td>\n",
       "      <td>13116</td>\n",
       "      <td>G</td>\n",
       "      <td>T</td>\n",
       "      <td>rs201725126</td>\n",
       "    </tr>\n",
       "    <tr>\n",
       "      <th>2</th>\n",
       "      <td>1</td>\n",
       "      <td>rs200579949:13118:A:G</td>\n",
       "      <td>0</td>\n",
       "      <td>13118</td>\n",
       "      <td>G</td>\n",
       "      <td>A</td>\n",
       "      <td>rs200579949</td>\n",
       "    </tr>\n",
       "  </tbody>\n",
       "</table>\n",
       "</div>"
      ],
      "text/plain": [
       "   0                                           1  2      3  \\\n",
       "0  1  rs376342519:10616:CCGCCGTTGCAAAGGCGCGCCG:C  0  10616   \n",
       "1  1                       rs201725126:13116:T:G  0  13116   \n",
       "2  1                       rs200579949:13118:A:G  0  13118   \n",
       "\n",
       "                        4  5            6  \n",
       "0  CCGCCGTTGCAAAGGCGCGCCG  C  rs376342519  \n",
       "1                       G  T  rs201725126  \n",
       "2                       G  A  rs200579949  "
      ]
     },
     "metadata": {},
     "output_type": "display_data"
    }
   ],
   "source": [
    "filtered_ds_df_nodup=filtered_ds_df.drop_duplicates(subset=[6])\n",
    "display(filtered_ds_df_nodup.head(3))"
   ]
  },
  {
   "cell_type": "markdown",
   "metadata": {},
   "source": [
    "#### Create snps mapping file"
   ]
  },
  {
   "cell_type": "code",
   "execution_count": 111,
   "metadata": {},
   "outputs": [
    {
     "data": {
      "text/html": [
       "<div>\n",
       "<style scoped>\n",
       "    .dataframe tbody tr th:only-of-type {\n",
       "        vertical-align: middle;\n",
       "    }\n",
       "\n",
       "    .dataframe tbody tr th {\n",
       "        vertical-align: top;\n",
       "    }\n",
       "\n",
       "    .dataframe thead th {\n",
       "        text-align: right;\n",
       "    }\n",
       "</style>\n",
       "<table border=\"1\" class=\"dataframe\">\n",
       "  <thead>\n",
       "    <tr style=\"text-align: right;\">\n",
       "      <th></th>\n",
       "      <th>1</th>\n",
       "      <th>6</th>\n",
       "    </tr>\n",
       "  </thead>\n",
       "  <tbody>\n",
       "    <tr>\n",
       "      <th>0</th>\n",
       "      <td>rs376342519:10616:CCGCCGTTGCAAAGGCGCGCCG:C</td>\n",
       "      <td>rs376342519</td>\n",
       "    </tr>\n",
       "    <tr>\n",
       "      <th>1</th>\n",
       "      <td>rs201725126:13116:T:G</td>\n",
       "      <td>rs201725126</td>\n",
       "    </tr>\n",
       "    <tr>\n",
       "      <th>2</th>\n",
       "      <td>rs200579949:13118:A:G</td>\n",
       "      <td>rs200579949</td>\n",
       "    </tr>\n",
       "  </tbody>\n",
       "</table>\n",
       "</div>"
      ],
      "text/plain": [
       "                                            1            6\n",
       "0  rs376342519:10616:CCGCCGTTGCAAAGGCGCGCCG:C  rs376342519\n",
       "1                       rs201725126:13116:T:G  rs201725126\n",
       "2                       rs200579949:13118:A:G  rs200579949"
      ]
     },
     "metadata": {},
     "output_type": "display_data"
    },
    {
     "data": {
      "text/html": [
       "<div>\n",
       "<style scoped>\n",
       "    .dataframe tbody tr th:only-of-type {\n",
       "        vertical-align: middle;\n",
       "    }\n",
       "\n",
       "    .dataframe tbody tr th {\n",
       "        vertical-align: top;\n",
       "    }\n",
       "\n",
       "    .dataframe thead th {\n",
       "        text-align: right;\n",
       "    }\n",
       "</style>\n",
       "<table border=\"1\" class=\"dataframe\">\n",
       "  <thead>\n",
       "    <tr style=\"text-align: right;\">\n",
       "      <th></th>\n",
       "      <th>6</th>\n",
       "    </tr>\n",
       "  </thead>\n",
       "  <tbody>\n",
       "    <tr>\n",
       "      <th>0</th>\n",
       "      <td>rs376342519</td>\n",
       "    </tr>\n",
       "    <tr>\n",
       "      <th>1</th>\n",
       "      <td>rs201725126</td>\n",
       "    </tr>\n",
       "    <tr>\n",
       "      <th>2</th>\n",
       "      <td>rs200579949</td>\n",
       "    </tr>\n",
       "  </tbody>\n",
       "</table>\n",
       "</div>"
      ],
      "text/plain": [
       "             6\n",
       "0  rs376342519\n",
       "1  rs201725126\n",
       "2  rs200579949"
      ]
     },
     "metadata": {},
     "output_type": "display_data"
    }
   ],
   "source": [
    "snp_map=filtered_ds_df_nodup[[1,6]]\n",
    "display(snp_map.head(3))\n",
    "to_extract=snp_map[[1]]\n",
    "display(to_extract.head(3))"
   ]
  },
  {
   "cell_type": "code",
   "execution_count": 112,
   "metadata": {},
   "outputs": [],
   "source": [
    "out_path=ds_path+my_data_dir+imp+\"snps_mapping\"\n",
    "snp_map.to_csv(out_path,header=False, index=False, sep='\\t')"
   ]
  },
  {
   "cell_type": "code",
   "execution_count": 113,
   "metadata": {},
   "outputs": [],
   "source": [
    "out_path=ds_path+my_data_dir+imp+\"to_extract\"\n",
    "to_extract.to_csv(out_path,header=False, index=False, sep='\\t')"
   ]
  },
  {
   "cell_type": "markdown",
   "metadata": {},
   "source": [
    "#### function call in bash : update snps names and extract only the desired snps"
   ]
  },
  {
   "cell_type": "code",
   "execution_count": 115,
   "metadata": {
    "scrolled": true
   },
   "outputs": [
    {
     "name": "stdout",
     "output_type": "stream",
     "text": [
      "run the following command in bash:\n",
      ".........................\n",
      "plink --bfile /home/elkon2/hagailevi/PRS/datasets/dec/bcac_onco_eas2/impX/ds0 --extract /home/elkon2/hagailevi/PRS/datasets/dec/bcac_onco_eas2/impX/to_extract --make-bed --out /home/elkon2/hagailevi/PRS/datasets/dec/bcac_onco_eas2/impX/ds.QC2 && \\\n",
      "plink --bfile /home/elkon2/hagailevi/PRS/datasets/dec/bcac_onco_eas2/impX/ds.QC2 --update-name /home/elkon2/hagailevi/PRS/datasets/dec/bcac_onco_eas2/impX/snps_mapping  --make-bed --out /home/elkon2/hagailevi/PRS/datasets/dec/bcac_onco_eas2/impX/ds\n",
      ".........................\n"
     ]
    }
   ],
   "source": [
    "print(\"run the following command in bash:\")\n",
    "print(\".........................\")\n",
    "# print(f'plink --bfile {ds_path}{data}{imp}ds.QC --update-name {ds_path}{my_data_dir}{imp}snps_mapping \\\n",
    "# --make-bed --out {ds_path}{my_data_dir}{imp}ds.QC2')\n",
    "# print(\".........................\")\n",
    "# print(f'plink --bfile {ds_path}{my_data_dir}{imp}ds.QC2 --extract {ds_path}{my_data_dir}{imp}to_extract \\\n",
    "# --make-bed --out {ds_path}{my_data_dir}{imp}ds.QC3')\n",
    "print(f'plink --bfile {ds_path}{data}{imp}ds0 --extract {ds_path}{my_data_dir}{imp}to_extract --make-bed --out {ds_path}{my_data_dir}{imp}ds.QC2 && \\\\')\n",
    "print(f'plink --bfile {ds_path}{my_data_dir}{imp}ds.QC2 --update-name {ds_path}{my_data_dir}{imp}snps_mapping  \\\n",
    "--make-bed --out {ds_path}{my_data_dir}{imp}ds')\n",
    "print(\".........................\")"
   ]
  },
  {
   "cell_type": "code",
   "execution_count": 134,
   "metadata": {},
   "outputs": [
    {
     "data": {
      "text/html": [
       "<div>\n",
       "<style scoped>\n",
       "    .dataframe tbody tr th:only-of-type {\n",
       "        vertical-align: middle;\n",
       "    }\n",
       "\n",
       "    .dataframe tbody tr th {\n",
       "        vertical-align: top;\n",
       "    }\n",
       "\n",
       "    .dataframe thead th {\n",
       "        text-align: right;\n",
       "    }\n",
       "</style>\n",
       "<table border=\"1\" class=\"dataframe\">\n",
       "  <thead>\n",
       "    <tr style=\"text-align: right;\">\n",
       "      <th></th>\n",
       "      <th>super_pop</th>\n",
       "      <th>pop</th>\n",
       "    </tr>\n",
       "    <tr>\n",
       "      <th>0</th>\n",
       "      <th></th>\n",
       "      <th></th>\n",
       "    </tr>\n",
       "  </thead>\n",
       "  <tbody>\n",
       "    <tr>\n",
       "      <th>BCAC-10000042</th>\n",
       "      <td>EAS</td>\n",
       "      <td>Korea</td>\n",
       "    </tr>\n",
       "    <tr>\n",
       "      <th>BCAC-10001931</th>\n",
       "      <td>EAS</td>\n",
       "      <td>Thailand</td>\n",
       "    </tr>\n",
       "    <tr>\n",
       "      <th>BCAC-10004924</th>\n",
       "      <td>EAS</td>\n",
       "      <td>Hong Kong</td>\n",
       "    </tr>\n",
       "    <tr>\n",
       "      <th>BCAC-10005455</th>\n",
       "      <td>EAS</td>\n",
       "      <td>Hong Kong</td>\n",
       "    </tr>\n",
       "    <tr>\n",
       "      <th>BCAC-10009312</th>\n",
       "      <td>EAS</td>\n",
       "      <td>China</td>\n",
       "    </tr>\n",
       "  </tbody>\n",
       "</table>\n",
       "</div>"
      ],
      "text/plain": [
       "              super_pop        pop\n",
       "0                                 \n",
       "BCAC-10000042       EAS      Korea\n",
       "BCAC-10001931       EAS   Thailand\n",
       "BCAC-10004924       EAS  Hong Kong\n",
       "BCAC-10005455       EAS  Hong Kong\n",
       "BCAC-10009312       EAS      China"
      ]
     },
     "metadata": {},
     "output_type": "display_data"
    },
    {
     "data": {
      "image/png": "[encoded data removed]",
      "text/plain": [
       "<Figure size 432x288 with 1 Axes>"
      ]
     },
     "metadata": {
      "needs_background": "light"
     },
     "output_type": "display_data"
    }
   ],
   "source": [
    "import pandas as pd\n",
    "import matplotlib.pyplot as plt\n",
    "df_pca=pd.read_csv(\"/home/elkon2/hagailevi/PRS/datasets/dec/bcac_onco_eas_all/impX/ds.eigenvec\", sep=' ', index_col=0, header=None).iloc[:,1:]\n",
    "df_pop=pd.read_csv(\"/home/elkon2/hagailevi/PRS/datasets/dec/bcac_onco_eas_all/pop.panel.pca\", sep='\\t', index_col=0).iloc[:,1:]\n",
    "df_pop=df_pop.loc[df_pca.index]\n",
    "for a in df_pop['pop'].unique():\n",
    "    ids=df_pop[df_pop['pop']==a].index\n",
    "    plt.scatter(df_pca.loc[ids].iloc[:,0], df_pca.loc[ids].iloc[:,1], label=a)\n",
    "plt.legend()\n",
    "display(df_pop.head())"
   ]
  },
  {
   "cell_type": "markdown",
   "metadata": {},
   "source": [
    "## 2. devide into 2 datasets"
   ]
  },
  {
   "cell_type": "code",
   "execution_count": 79,
   "metadata": {},
   "outputs": [
    {
     "name": "stdout",
     "output_type": "stream",
     "text": [
      "                   0              1          2         3\n",
      "0                FID            IID  super_pop       pop\n",
      "1      BCAC-32177711  BCAC-32177711        EAS  Thailand\n",
      "2      BCAC-23766888  BCAC-23766888        EAS  Thailand\n",
      "3      BCAC-53600637  BCAC-53600637        EAS  Thailand\n",
      "4      BCAC-63656834  BCAC-63656834        EAS  Thailand\n",
      "...              ...            ...        ...       ...\n",
      "20162  BCAC-16288304  BCAC-16288304        EAS    Taiwan\n",
      "20163  BCAC-30575450  BCAC-30575450        EAS    Taiwan\n",
      "20164  BCAC-98382585  BCAC-98382585        EAS    Taiwan\n",
      "20165  BCAC-41282705  BCAC-41282705        EAS    Taiwan\n",
      "20166  BCAC-56282610  BCAC-56282610        EAS       USA\n",
      "\n",
      "[20167 rows x 4 columns]\n"
     ]
    }
   ],
   "source": [
    "pop_panel_path=ds_path+data+\"pop.panel\"\n",
    "pop_panel_df=pd.read_csv(pop_panel_path,header=None,sep='\\t')\n",
    "print(pop_panel_df)"
   ]
  },
  {
   "cell_type": "markdown",
   "metadata": {},
   "source": [
    "#### In order to choose the population to be put aside, run the next command in bash:\n",
    "#### ctu -f 4 pop.panel | sort | uniq | -d -c\n",
    "make sure to choose wisely a population that represents best all the samples.\n",
    "can be considered using PCA dot graph.\n",
    "must be over 1000 samples of the chosen population\n"
   ]
  },
  {
   "cell_type": "code",
   "execution_count": 128,
   "metadata": {},
   "outputs": [],
   "source": [
    "# update according to your choice\n",
    "# chosen_pop='USA'\n",
    "# sample_size=1200\n",
    "chosen_pop='Thailand'  \n",
    "sample_size=1395"
   ]
  },
  {
   "cell_type": "code",
   "execution_count": 86,
   "metadata": {},
   "outputs": [
    {
     "name": "stdout",
     "output_type": "stream",
     "text": [
      "                  0              1    2         3\n",
      "1     BCAC-32177711  BCAC-32177711  EAS  Thailand\n",
      "2     BCAC-23766888  BCAC-23766888  EAS  Thailand\n",
      "3     BCAC-53600637  BCAC-53600637  EAS  Thailand\n",
      "4     BCAC-63656834  BCAC-63656834  EAS  Thailand\n",
      "5     BCAC-32977379  BCAC-32977379  EAS  Thailand\n",
      "...             ...            ...  ...       ...\n",
      "1391  BCAC-60150565  BCAC-60150565  EAS  Thailand\n",
      "1392  BCAC-56006359  BCAC-56006359  EAS  Thailand\n",
      "1393  BCAC-83037973  BCAC-83037973  EAS  Thailand\n",
      "1394  BCAC-32478826  BCAC-32478826  EAS  Thailand\n",
      "1395  BCAC-50801270  BCAC-50801270  EAS  Thailand\n",
      "\n",
      "[1395 rows x 4 columns]\n"
     ]
    }
   ],
   "source": [
    "sub_pop_ds=pop_panel_df[pop_panel_df[3]==chosen_pop]\n",
    "print(sub_pop_ds)"
   ]
  },
  {
   "cell_type": "code",
   "execution_count": 88,
   "metadata": {},
   "outputs": [
    {
     "name": "stdout",
     "output_type": "stream",
     "text": [
      "                  0              1    2         3\n",
      "1217  BCAC-21361520  BCAC-21361520  EAS  Thailand\n",
      "421   BCAC-65030163  BCAC-65030163  EAS  Thailand\n",
      "1384  BCAC-44649403  BCAC-44649403  EAS  Thailand\n",
      "701   BCAC-23274080  BCAC-23274080  EAS  Thailand\n",
      "600   BCAC-91237545  BCAC-91237545  EAS  Thailand\n",
      "...             ...            ...  ...       ...\n",
      "1096  BCAC-94017466  BCAC-94017466  EAS  Thailand\n",
      "1131  BCAC-44537491  BCAC-44537491  EAS  Thailand\n",
      "1295  BCAC-86510682  BCAC-86510682  EAS  Thailand\n",
      "861   BCAC-99747378  BCAC-99747378  EAS  Thailand\n",
      "1127  BCAC-12628795  BCAC-12628795  EAS  Thailand\n",
      "\n",
      "[1395 rows x 4 columns]\n"
     ]
    }
   ],
   "source": [
    "random_sample = sub_pop_ds.sample(n=sample_size, random_state=42)\n",
    "print(random_sample)"
   ]
  },
  {
   "cell_type": "code",
   "execution_count": 89,
   "metadata": {},
   "outputs": [
    {
     "name": "stdout",
     "output_type": "stream",
     "text": [
      "                   0              1          2       3\n",
      "0                FID            IID  super_pop     pop\n",
      "1396   BCAC-57865425  BCAC-57865425        EAS  Canada\n",
      "1397   BCAC-69253097  BCAC-69253097        EAS  Canada\n",
      "1398   BCAC-42126061  BCAC-42126061        EAS  Canada\n",
      "1399   BCAC-64786930  BCAC-64786930        EAS  Canada\n",
      "...              ...            ...        ...     ...\n",
      "20162  BCAC-16288304  BCAC-16288304        EAS  Taiwan\n",
      "20163  BCAC-30575450  BCAC-30575450        EAS  Taiwan\n",
      "20164  BCAC-98382585  BCAC-98382585        EAS  Taiwan\n",
      "20165  BCAC-41282705  BCAC-41282705        EAS  Taiwan\n",
      "20166  BCAC-56282610  BCAC-56282610        EAS     USA\n",
      "\n",
      "[18772 rows x 4 columns]\n"
     ]
    }
   ],
   "source": [
    "to_gwas = pop_panel_df[~pop_panel_df[1].isin(random_sample[1])]\n",
    "print(to_gwas)"
   ]
  },
  {
   "cell_type": "code",
   "execution_count": 93,
   "metadata": {},
   "outputs": [],
   "source": [
    "out_path_sample=ds_path+target+\"pop.panel\"\n",
    "random_sample.to_csv(out_path_sample,header=False, index=False, sep='\\t')\n",
    "\n",
    "out_path_no_sample=ds_path+discovery+\"pop.panel\"\n",
    "to_gwas.to_csv(out_path_no_sample,header=False, index=False, sep='\\t')"
   ]
  },
  {
   "cell_type": "markdown",
   "metadata": {},
   "source": [
    "#### function call in bash"
   ]
  },
  {
   "cell_type": "code",
   "execution_count": 94,
   "metadata": {},
   "outputs": [
    {
     "name": "stdout",
     "output_type": "stream",
     "text": [
      "run the following commands in bash:\n",
      ".........................\n",
      "plink --bfile /specific/elkon/hagailevi/PRS/datasets/dec_mai/mai_bcac_onco_eas_all/impX/ds.QC3 --keep /specific/elkon/hagailevi/PRS/datasets/dec_mai/mai_bcac_onco_eas_thai/pop.panel --make-bed --out /specific/elkon/hagailevi/PRS/datasets/dec_mai/mai_bcac_onco_eas_thai/impX/ds\n",
      ".........................\n",
      "plink --bfile /specific/elkon/hagailevi/PRS/datasets/dec_mai/mai_bcac_onco_eas_all/impX/ds.QC3 --keep /specific/elkon/hagailevi/PRS/datasets/dec_mai/mai_bcac_onco_eas_no_thai/pop.panel --make-bed --out /specific/elkon/hagailevi/PRS/datasets/dec_mai/mai_bcac_onco_eas_no_thai/impX/ds\n",
      ".........................\n"
     ]
    }
   ],
   "source": [
    "bfile_path=f'{ds_path}{my_data_dir}{imp}ds.QC3'\n",
    "print(\"run the following commands in bash:\")\n",
    "print(\".........................\")\n",
    "print(f'plink --bfile {bfile_path} --keep {out_path_sample} --make-bed --out {ds_path}{target}{imp}ds')\n",
    "print(\".........................\")\n",
    "print(f'plink --bfile {bfile_path} --keep {out_path_no_sample} --make-bed --out {ds_path}{discovery}{imp}ds')\n",
    "print(\".........................\")"
   ]
  },
  {
   "cell_type": "markdown",
   "metadata": {},
   "source": [
    "#### run qc_target_data.sh on both DS\n",
    "the file directory: \"/specific/elkon/maibendayan/PRS/codebase/qc_target_data.sh\""
   ]
  },
  {
   "cell_type": "code",
   "execution_count": 95,
   "metadata": {},
   "outputs": [
    {
     "name": "stdout",
     "output_type": "stream",
     "text": [
      "function call: \n",
      ".........................\n",
      "bash qc_target_data.sh --discovery=mai_bcac_onco_eas_no_thai --target=mai_bcac_onco_eas_thai --imp=impX\n",
      ".........................\n",
      "bash qc_target_data.sh --discovery=mai_bcac_onco_eas_no_thai --target=mai_bcac_onco_eas_no_thai --imp=impX\n",
      ".........................\n"
     ]
    }
   ],
   "source": [
    "print(\"function call: \")\n",
    "print(\".........................\")\n",
    "print(f'bash qc_target_data.sh --discovery={discovery.rstrip(\"/\")} --target={target.rstrip(\"/\")} --imp={imp.rstrip(\"/\")}')\n",
    "print(\".........................\")\n",
    "print(f'bash qc_target_data.sh --discovery={discovery.rstrip(\"/\")} --target={discovery.rstrip(\"/\")} --imp={imp.rstrip(\"/\")}')\n",
    "print(\".........................\")"
   ]
  },
  {
   "cell_type": "markdown",
   "metadata": {},
   "source": [
    "#### copy pheno file to the new directories in respect to the IIDs"
   ]
  },
  {
   "cell_type": "code",
   "execution_count": null,
   "metadata": {},
   "outputs": [],
   "source": [
    "pheno=pd.read_csv(f'{ds_path}{data}pheno', sep='\\t', header=None)\n",
    "pheno.columns=[\"FID\",\"IID\",\"label\"]\n",
    "pheno.to_csv(f'{ds_path}{my_data_dir}pheno', sep='\\t', header=False,index=False)\n",
    "\n",
    "pheno_sample=pheno[pheno[\"IID\"].isin(random_sample[0])]\n",
    "pheno_sample.to_csv(f'{ds_path}{target}pheno', sep='\\t', header=True,index=False)\n",
    "\n",
    "pheno_to_gwas=pheno[pheno[\"IID\"].isin(to_gwas[0])]\n",
    "pheno_to_gwas.to_csv(f'{ds_path}{discovery}pheno', sep='\\t', header=True,index=False)"
   ]
  },
  {
   "cell_type": "markdown",
   "metadata": {},
   "source": [
    "## 3. Prepare input files for GWAS \n",
    "#### (here we proccess \"no_sample\" file only)"
   ]
  },
  {
   "cell_type": "markdown",
   "metadata": {},
   "source": [
    "#### Reformat the .covar file (=ds.eigenvec)"
   ]
  },
  {
   "cell_type": "code",
   "execution_count": 41,
   "metadata": {},
   "outputs": [
    {
     "name": "stdout",
     "output_type": "stream",
     "text": [
      "                 FID            IID       PC1       PC2       PC3       PC4  \\\n",
      "0      BCAC-10000042  BCAC-10000042  0.007552 -0.001965 -0.006767  0.009670   \n",
      "1      BCAC-10004924  BCAC-10004924 -0.007581 -0.004096  0.006058 -0.002442   \n",
      "2      BCAC-10005455  BCAC-10005455 -0.003739 -0.008387 -0.000207 -0.007411   \n",
      "3      BCAC-10009312  BCAC-10009312 -0.002486 -0.009305 -0.002186 -0.002663   \n",
      "4      BCAC-10012118  BCAC-10012118  0.007525 -0.001145 -0.008167  0.007033   \n",
      "...              ...            ...       ...       ...       ...       ...   \n",
      "11841  BCAC-99964412  BCAC-99964412 -0.004841 -0.007820  0.000506 -0.006362   \n",
      "11842  BCAC-99974969  BCAC-99974969 -0.016099  0.022453 -0.016591  0.020997   \n",
      "11843  BCAC-99976900  BCAC-99976900  0.011282  0.015876  0.014570 -0.007349   \n",
      "11844  BCAC-99977930  BCAC-99977930 -0.009925 -0.003827  0.006644  0.003520   \n",
      "11845  BCAC-99980956  BCAC-99980956  0.007922 -0.000745 -0.005886  0.008287   \n",
      "\n",
      "            PC5       PC6  \n",
      "0      0.015545  0.003417  \n",
      "1      0.000285 -0.001916  \n",
      "2     -0.008980 -0.000571  \n",
      "3     -0.002341  0.008833  \n",
      "4      0.015677  0.001552  \n",
      "...         ...       ...  \n",
      "11841  0.000501  0.003952  \n",
      "11842 -0.018370  0.030219  \n",
      "11843  0.000750  0.003147  \n",
      "11844  0.023333 -0.000139  \n",
      "11845 -0.003206 -0.006939  \n",
      "\n",
      "[11846 rows x 8 columns]\n"
     ]
    }
   ],
   "source": [
    "evec_path=f'{ds_path}{discovery}{imp}'\n",
    "evec_file=pd.read_csv(f'{evec_path}ds.eigenvec', sep=' ', header=None)\n",
    "evec_file.columns=[\"FID\", \"IID\", \"PC1\", \"PC2\", \"PC3\", \"PC4\", \"PC5\", \"PC6\"]\n",
    "print(evec_file)\n",
    "evec_file.to_csv(f'{evec_path}covar_reformatted', header=True, index=False, sep='\\t')"
   ]
  },
  {
   "cell_type": "markdown",
   "metadata": {},
   "source": [
    "#### Reformat the pheno files: output is two files - pheno01 where label is 0,1 and pheno where label is 1,2"
   ]
  },
  {
   "cell_type": "code",
   "execution_count": 110,
   "metadata": {},
   "outputs": [
    {
     "name": "stdout",
     "output_type": "stream",
     "text": [
      "................\n",
      "\n",
      "function call:\n",
      "mv /specific/elkon/hagailevi/PRS/datasets/dec_mai/mai_bcac_onco_eas_no_thai/pheno /specific/elkon/hagailevi/PRS/datasets/dec_mai/mai_bcac_onco_eas_no_thai/pheno01\n",
      "\n",
      "head -n 1 /specific/elkon/hagailevi/PRS/datasets/dec_mai/mai_bcac_onco_eas_no_thai/pheno01 > /specific/elkon/hagailevi/PRS/datasets/dec_mai/mai_bcac_onco_eas_no_thai/pheno\n",
      "\n",
      "tail -n +2 /specific/elkon/hagailevi/PRS/datasets/dec_mai/mai_bcac_onco_eas_no_thai/pheno01 | awk '{ $3 = $3 + 1; print }' >> /specific/elkon/hagailevi/PRS/datasets/dec_mai/mai_bcac_onco_eas_no_thai/pheno\n",
      "................\n",
      "\n",
      "function call:\n",
      "mv /specific/elkon/hagailevi/PRS/datasets/dec_mai/mai_bcac_onco_eas_thai/pheno /specific/elkon/hagailevi/PRS/datasets/dec_mai/mai_bcac_onco_eas_thai/pheno01\n",
      "\n",
      "head -n 1 /specific/elkon/hagailevi/PRS/datasets/dec_mai/mai_bcac_onco_eas_thai/pheno01 > /specific/elkon/hagailevi/PRS/datasets/dec_mai/mai_bcac_onco_eas_thai/pheno\n",
      "\n",
      "tail -n +2 /specific/elkon/hagailevi/PRS/datasets/dec_mai/mai_bcac_onco_eas_thai/pheno01 | awk '{ $3 = $3 + 1; print }' >> /specific/elkon/hagailevi/PRS/datasets/dec_mai/mai_bcac_onco_eas_thai/pheno\n",
      "................\n"
     ]
    }
   ],
   "source": [
    "paths=[f'{ds_path}{discovery}',f'{ds_path}{target}']\n",
    "for path in paths:\n",
    "    print(\"................\\n\")\n",
    "    print(\"function call:\")\n",
    "    print(f'mv {path}pheno {path}pheno01\\n')\n",
    "    print(f'head -n 1 {path}pheno01 > {path}pheno\\n')\n",
    "    command=\"'{ $3 = $3 + 1; print }'\"\n",
    "    print(f'tail -n +2 {path}pheno01 | awk {command} >> {path}pheno')\n",
    "print(\"................\")"
   ]
  },
  {
   "cell_type": "markdown",
   "metadata": {},
   "source": [
    "#### run the next command in bash:"
   ]
  },
  {
   "cell_type": "code",
   "execution_count": 111,
   "metadata": {},
   "outputs": [
    {
     "name": "stdout",
     "output_type": "stream",
     "text": [
      "function call:\n",
      "................\n",
      "mkdir /specific/elkon/hagailevi/PRS/GWASs/mai_bcac_onco_eas_no_thai-5pcs\n",
      "................\n",
      "plink2 --bfile /specific/elkon/hagailevi/PRS/datasets/dec_mai/mai_bcac_onco_eas_no_thai/impX/ds.QC --glm no-x-sex --covar /specific/elkon/hagailevi/PRS/datasets/dec_mai/mai_bcac_onco_eas_no_thai/impX/covar_reformatted --covar-name PC1,PC2,PC3,PC4,PC5 --pheno /specific/elkon/hagailevi/PRS/datasets/dec_mai/mai_bcac_onco_eas_no_thai/pheno --out /specific/elkon/hagailevi/PRS/GWASs/mai_bcac_onco_eas_no_thai-5pcs/gwas --threads 4\n",
      "................\n"
     ]
    }
   ],
   "source": [
    "pheno_path=f'{ds_path}{discovery}pheno'\n",
    "bfile_path=f'{ds_path}{discovery}{imp}'\n",
    "\n",
    "print(\"function call:\")\n",
    "print(\"................\")\n",
    "print(f'mkdir {gwas_path}{discovery.rstrip(\"/\")}-5pcs')\n",
    "print(\"................\")\n",
    "print(f'plink2 --bfile {bfile_path}ds.QC --glm no-x-sex --covar {bfile_path}covar_reformatted --covar-name \\\n",
    "PC1,PC2,PC3,PC4,PC5 --pheno {pheno_path} --out {gwas_path}{discovery.rstrip(\"/\")}-5pcs/gwas --threads 4')\n",
    "print(\"................\")"
   ]
  },
  {
   "cell_type": "markdown",
   "metadata": {},
   "source": [
    "## 4. Process the new GAWS file we had just created"
   ]
  },
  {
   "cell_type": "code",
   "execution_count": 34,
   "metadata": {},
   "outputs": [],
   "source": [
    "# #### Make sure to remove the '#' at the beginning of the file - it presents the headers as a #commant\n",
    "# print(f'vim {gwas_path}{discovery.rstrip(\"/\")}-5pcs/gwas.label.glm.logistic.hybrid')"
   ]
  },
  {
   "cell_type": "markdown",
   "metadata": {},
   "source": [
    "#### Rename header to avoide conflicts"
   ]
  },
  {
   "cell_type": "code",
   "execution_count": 138,
   "metadata": {},
   "outputs": [
    {
     "name": "stderr",
     "output_type": "stream",
     "text": [
      "/home/gaga/hagailevi/anaconda3/lib/python3.8/site-packages/IPython/core/interactiveshell.py:3146: DtypeWarning: Columns (9) have mixed types.Specify dtype option on import or set low_memory=False.\n",
      "  has_raised = await self.run_ast_nodes(code_ast.body, cell_name,\n"
     ]
    },
    {
     "name": "stdout",
     "output_type": "stream",
     "text": [
      "          CHROM       POS           ID REF                     ALT  \\\n",
      "0             1     10616  rs376342519   C  CCGCCGTTGCAAAGGCGCGCCG   \n",
      "1             1     10616  rs376342519   C  CCGCCGTTGCAAAGGCGCGCCG   \n",
      "2             1     10616  rs376342519   C  CCGCCGTTGCAAAGGCGCGCCG   \n",
      "3             1     10616  rs376342519   C  CCGCCGTTGCAAAGGCGCGCCG   \n",
      "4             1     10616  rs376342519   C  CCGCCGTTGCAAAGGCGCGCCG   \n",
      "...         ...       ...          ...  ..                     ...   \n",
      "94210903     22  51240820  rs202228854   C                       T   \n",
      "94210904     22  51240820  rs202228854   C                       T   \n",
      "94210905     22  51240820  rs202228854   C                       T   \n",
      "94210906     22  51240820  rs202228854   C                       T   \n",
      "94210907     22  51240820  rs202228854   C                       T   \n",
      "\n",
      "                             A1_ FIRTH? TEST  OBS_CT           OR  LOG(OR)_SE  \\\n",
      "0         CCGCCGTTGCAAAGGCGCGCCG      N  ADD   13207       1.1099    0.176047   \n",
      "1         CCGCCGTTGCAAAGGCGCGCCG      N  PC1   13207    0.0915628    2.047900   \n",
      "2         CCGCCGTTGCAAAGGCGCGCCG      N  PC2   13207      282.315    2.040160   \n",
      "3         CCGCCGTTGCAAAGGCGCGCCG      N  PC3   13207   0.00104704    2.079700   \n",
      "4         CCGCCGTTGCAAAGGCGCGCCG      N  PC4   13207       728501    2.223310   \n",
      "...                          ...    ...  ...     ...          ...         ...   \n",
      "94210903                       T      N  PC1    6431    0.0217257    3.051600   \n",
      "94210904                       T      N  PC2    6431      92.1675    2.968670   \n",
      "94210905                       T      N  PC3    6431     0.023313    3.001420   \n",
      "94210906                       T      N  PC4    6431  3.07718e+06    3.676850   \n",
      "94210907                       T      N  PC5    6431      10.4112    2.871320   \n",
      "\n",
      "            Z_STAT             P ERRCODE  \n",
      "0         0.592264  5.536740e-01       .  \n",
      "1        -1.167410  2.430470e-01       .  \n",
      "2         2.765980  5.675270e-03       .  \n",
      "3        -3.299410  9.688740e-04       .  \n",
      "4         6.071460  1.267510e-09       .  \n",
      "...            ...           ...     ...  \n",
      "94210903 -1.254840  2.095370e-01       .  \n",
      "94210904  1.523780  1.275630e-01       .  \n",
      "94210905 -1.252320  2.104530e-01       .  \n",
      "94210906  4.063130  4.841830e-05       .  \n",
      "94210907  0.815962  4.145220e-01       .  \n",
      "\n",
      "[94210908 rows x 14 columns]\n"
     ]
    }
   ],
   "source": [
    "gwas_file=f'{gwas_path}{discovery.rstrip(\"/\")}-5pcs/gwas.label.glm.logistic.hybrid'\n",
    "if not os.path.isfile(gwas_file):\n",
    "    gwas_file=f'{gwas_path}{discovery.rstrip(\"/\")}-5pcs/gwas.label.glm.linear'\n",
    "gwas_df=pd.read_csv(gwas_file, sep=\"\\t\")\n",
    "gwas_df = gwas_df.rename(columns={'A1': 'A1_'})\n",
    "gwas_df = gwas_df.rename(columns={'#CHROM': 'CHROM'})\n",
    "print(gwas_df)\n",
    "gwas_df.to_csv(f'{gwas_file}_',sep='\\t',index=False,header=True)"
   ]
  },
  {
   "cell_type": "markdown",
   "metadata": {},
   "source": [
    "#### run the next command in bash:"
   ]
  },
  {
   "cell_type": "code",
   "execution_count": 52,
   "metadata": {},
   "outputs": [
    {
     "name": "stdout",
     "output_type": "stream",
     "text": [
      "function call:\n",
      "................\n",
      "head -n 1 /specific/elkon/hagailevi/PRS/GWASs/mai_bcac_onco_eas_no_thai-5pcs/gwas.label.glm.linear_ > /specific/elkon/hagailevi/PRS/GWASs/mai_bcac_onco_eas_no_thai-5pcs/gwas_raw.tsv \n",
      "\n",
      "cat /specific/elkon/hagailevi/PRS/GWASs/mai_bcac_onco_eas_no_thai-5pcs/gwas.label.glm.linear_ | grep ADD >> /specific/elkon/hagailevi/PRS/GWASs/mai_bcac_onco_eas_no_thai-5pcs/gwas_raw.tsv\n",
      "................\n"
     ]
    }
   ],
   "source": [
    "print(\"function call:\")\n",
    "print(\"................\")\n",
    "print(f'head -n 1 {gwas_file}_ > {gwas_path}{discovery.rstrip(\"/\")}-5pcs/gwas_raw.tsv \\n')\n",
    "print(f'cat {gwas_file}_ | grep ADD >> {gwas_path}{discovery.rstrip(\"/\")}-5pcs/gwas_raw.tsv')\n",
    "print(\"................\")"
   ]
  },
  {
   "cell_type": "markdown",
   "metadata": {},
   "source": [
    "#### Prepare GWAS"
   ]
  },
  {
   "cell_type": "code",
   "execution_count": 54,
   "metadata": {},
   "outputs": [
    {
     "name": "stdout",
     "output_type": "stream",
     "text": [
      "function call: \n",
      ".........................\n",
      "python prepare_gwas.py --discovery=mai_bcac_onco_eas_no_thai-5pcs --discovery_population=EAS --N 5000\n",
      ".........................\n"
     ]
    }
   ],
   "source": [
    "print(\"function call: \")\n",
    "print(\".........................\")\n",
    "print(f'python prepare_gwas.py --discovery={discovery.rstrip(\"/\")}-5pcs --discovery_population={pop} --N 5000')\n",
    "print(\".........................\")  "
   ]
  },
  {
   "cell_type": "markdown",
   "metadata": {},
   "source": [
    "#### GWAS QC!"
   ]
  },
  {
   "cell_type": "code",
   "execution_count": 55,
   "metadata": {},
   "outputs": [
    {
     "name": "stdout",
     "output_type": "stream",
     "text": [
      "function call: \n",
      ".........................\n",
      "bash qc_discovery_data.sh --discovery=mai_bcac_onco_eas_no_thai-5pcs\n",
      ".........................\n"
     ]
    }
   ],
   "source": [
    "print(\"function call: \")\n",
    "print(\".........................\")\n",
    "print(f'bash qc_discovery_data.sh --discovery={discovery.rstrip(\"/\")}-5pcs')\n",
    "print(\".........................\")"
   ]
  },
  {
   "cell_type": "markdown",
   "metadata": {},
   "source": [
    "#### View the output:"
   ]
  },
  {
   "cell_type": "code",
   "execution_count": 56,
   "metadata": {},
   "outputs": [
    {
     "name": "stdout",
     "output_type": "stream",
     "text": [
      "                SNP  CHR        BP A1 A2     MAF        SE         P     N  \\\n",
      "0         rs4553118    1    832398  T  C  0.1429  0.012961  0.981238  5000   \n",
      "1        rs28593608    1    833927  C  T  0.1627  0.012053  0.613786  5000   \n",
      "2        rs28385272    1    834198  C  T  0.1617  0.012061  0.560918  5000   \n",
      "3         rs4422949    1    834928  G  A  0.1617  0.012059  0.524459  5000   \n",
      "4        rs28570054    1    834999  A  G  0.1617  0.012056  0.521303  5000   \n",
      "...             ...  ...       ... .. ..     ...       ...       ...   ...   \n",
      "3907816  rs12158487   22  51161281  A  C  0.0500  0.014716  0.156971  5000   \n",
      "3907817     rs10451   22  51162059  A  G  0.0500  0.007864  0.658508  5000   \n",
      "3907818    rs715586   22  51163138  T  C  0.0500  0.014670  0.233302  5000   \n",
      "3907819   rs6009957   22  51164287  C  T  0.0500  0.008067  0.557430  5000   \n",
      "3907820   rs8137951   22  51165664  A  G  0.0500  0.008060  0.572811  5000   \n",
      "\n",
      "         INFO        OR  \n",
      "0         1.0 -0.000305  \n",
      "1         1.0 -0.006083  \n",
      "2         1.0 -0.007014  \n",
      "3         1.0 -0.007676  \n",
      "4         1.0 -0.007732  \n",
      "...       ...       ...  \n",
      "3907816   1.0  0.020830  \n",
      "3907817   1.0 -0.003476  \n",
      "3907818   1.0  0.017486  \n",
      "3907819   1.0 -0.004733  \n",
      "3907820   1.0 -0.004545  \n",
      "\n",
      "[3907821 rows x 11 columns]\n"
     ]
    }
   ],
   "source": [
    "output=f'{gwas_path}{discovery.rstrip(\"/\")}-5pcs/gwas.QC.Transformed'\n",
    "output_df=pd.read_csv(output, sep=\"\\t\")\n",
    "print(output_df)"
   ]
  },
  {
   "cell_type": "markdown",
   "metadata": {},
   "source": [
    "## 5. OPTINAL: prepare DS for CV"
   ]
  },
  {
   "cell_type": "code",
   "execution_count": 127,
   "metadata": {},
   "outputs": [
    {
     "name": "stdout",
     "output_type": "stream",
     "text": [
      "function call: \n",
      "python create_cv_repetitions.py --dataset mai_bcac_onco_eas_thai --folds 3 --rep 103\n",
      "bash create_cv_reps_files.sh --discovery=mai_bcac_onco_eas_no_thai-5pcs --target=mai_bcac_onco_eas_thai --imp=impX --pheno=\"\" --n_repetitions=4 --n_folds=3\n",
      "bash split_train_data.sh --discovery=mai_bcac_onco_eas_no_thai-5pcs --target=mai_bcac_onco_eas_thai --imp=impX --pheno=\"\" --n_repetitions=4 --n_folds=3\n",
      "bash rm_train_both_files.sh --ds=mai_bcac_onco_eas_thai --imp=impX --reps=4 --folds=3 --base_rep=103\n"
     ]
    }
   ],
   "source": [
    "n_folds=3\n",
    "rep=103\n",
    "n_reps=4\n",
    "\n",
    "\n",
    "print(\"function call: \")\n",
    "print(f'python create_cv_repetitions.py --dataset {target.rstrip(\"/\")} --folds {n_folds} --rep {rep}')\n",
    "print(f'bash create_cv_reps_files.sh --discovery={discovery.rstrip(\"/\")}-5pcs --target={target.rstrip(\"/\")} --imp={imp.rstrip(\"/\")} --pheno=\"\" --n_repetitions={n_reps} --n_folds={n_folds}')\n",
    "print(f'bash split_train_data.sh --discovery={discovery.rstrip(\"/\")}-5pcs --target={target.rstrip(\"/\")} --imp={imp.rstrip(\"/\")} --pheno=\"\" --n_repetitions={n_reps} --n_folds={n_folds}')\n",
    "print(f'bash rm_train_both_files.sh --ds={target.rstrip(\"/\")} --imp={imp.rstrip(\"/\")} --reps={n_reps} --folds={n_folds} --base_rep={int(n_reps)+99}')\n"
   ]
  },
  {
   "cell_type": "code",
   "execution_count": null,
   "metadata": {},
   "outputs": [],
   "source": []
  }
 ],
 "metadata": {
  "kernelspec": {
   "display_name": "Python 3",
   "language": "python",
   "name": "python3"
  },
  "language_info": {
   "codemirror_mode": {
    "name": "ipython",
    "version": 3
   },
   "file_extension": ".py",
   "mimetype": "text/x-python",
   "name": "python",
   "nbconvert_exporter": "python",
   "pygments_lexer": "ipython3",
   "version": "3.8.5"
  }
 },
 "nbformat": 4,
 "nbformat_minor": 5
}
