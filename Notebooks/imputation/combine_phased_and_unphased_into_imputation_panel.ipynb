{
 "cells": [
  {
   "cell_type": "markdown",
   "metadata": {},
   "source": [
    "## Combine phased and unphased datasets into one imputation panel"
   ]
  },
  {
   "cell_type": "markdown",
   "metadata": {},
   "source": [
    "### First, you need to phase the unphased dataset using shapeit. This process is usually executed via\"run_by_capacity.sh\""
   ]
  },
  {
   "cell_type": "code",
   "execution_count": null,
   "metadata": {},
   "outputs": [],
   "source": [
    "ds2_name=\"ajkg14\"\n",
    "\n",
    "bash run_by_capacity.sh --cmd_fn shapeit_${ds2_name} --input_fn chrs"
   ]
  },
  {
   "cell_type": "markdown",
   "metadata": {},
   "source": [
    "### Create a phased vcf file from phased haps/sample files"
   ]
  },
  {
   "cell_type": "code",
   "execution_count": null,
   "metadata": {},
   "outputs": [],
   "source": [
    "p=\"ceu\" \n",
    "ds1_name=\"1kg\"\n",
    "ds1_pop=\"kdv\" # eur-minus-${p}-aj-snps\n",
    "\n",
    "for a in {1..22}; do shapeit -convert --input-haps $PRS_DATASETS/${ds1_name}/imputation_panels/${ds1_pop}/chr${a}.phased --output-vcf $PRS_DATASETS/${ds1_name}/imputation_panels/${ds1_pop}/chr${a}.phased.vcf && echo \"done chr${a}\" & done"
   ]
  },
  {
   "cell_type": "markdown",
   "metadata": {},
   "source": [
    "### Align datasets"
   ]
  },
  {
   "cell_type": "markdown",
   "metadata": {},
   "source": [
    "#### Define export (if not exists):"
   ]
  },
  {
   "cell_type": "code",
   "execution_count": null,
   "metadata": {},
   "outputs": [],
   "source": [
    "export BCFTOOLS_PLUGINS=/specific/elkon/tools/bcftools-git/bcftools/plugins"
   ]
  },
  {
   "cell_type": "markdown",
   "metadata": {},
   "source": [
    "#### Creates a compressed (bgz) and indexed (tabix) file from phased genome (e.g., 1kG)  "
   ]
  },
  {
   "cell_type": "code",
   "execution_count": null,
   "metadata": {},
   "outputs": [],
   "source": [
    "p=\"ceu\" \n",
    "ds1_name=\"1kg\"\n",
    "ds1_pop=\"eur\" # eur-minus-${p}-aj-snps\n",
    "\n",
    "declare -a chrs=({1..22}); for a in ${chrs[@]}; do bgzip $PRS_DATASETS/${ds1_name}/imputation_panels/${ds1_pop}/chr${a}.phased.vcf && tabix -f $PRS_DATASETS/${ds1_name}/imputation_panels/${ds1_pop}/chr${a}.phased.vcf.gz && echo \"done chr${a}\"  &  done"
   ]
  },
  {
   "cell_type": "markdown",
   "metadata": {},
   "source": [
    "#### Flip strands in **phased** data (using bcftools +fixref plugin)"
   ]
  },
  {
   "cell_type": "code",
   "execution_count": null,
   "metadata": {},
   "outputs": [],
   "source": [
    "p=\"ceu\" \n",
    "ds1_name=\"1kg\"\n",
    "ds1_pop=\"eur\" # eur-minus-${p}-aj-snps\n",
    "\n",
    "for a in {1..22}; do \n",
    "    bcftools +fixref $PRS_DATASETS/${ds1_name}/imputation_panels/${ds1_pop}/chr${a}.phased.vcf.gz -Oz -o \\\n",
    "    $PRS_DATASETS/${ds1_name}/imputation_panels/${ds1_pop}/chr${a}.phased.flipped.vcf.gz -- -d \\\n",
    "    -f $HOME_ELKON/data-scratch/human_g1k_v37.fasta \\\n",
    "    -i $HOME_ELKON/data-scratch/1000G_ALL/chr${a}.vcf.gz \\\n",
    "    && echo \"done chr${a}\" & \\\n",
    "done"
   ]
  },
  {
   "cell_type": "markdown",
   "metadata": {},
   "source": [
    "#### sort position in (unsorted) vcf files"
   ]
  },
  {
   "cell_type": "code",
   "execution_count": null,
   "metadata": {},
   "outputs": [],
   "source": [
    "p=\"ceu\" \n",
    "ds1_name=\"1kg\"\n",
    "ds1_pop=\"eur\" # eur-minus-${p}-aj-snps\n",
    "declare -a chrs=(8 15); \n",
    "\n",
    "for a in ${chrs[@]}; do \n",
    "    mv $PRS_DATASETS/${ds1_name}/imputation_panels/${ds1_pop}/chr${a}.phased.flipped.vcf.gz \\\n",
    "    $PRS_DATASETS/${ds1_name}/imputation_panels/${ds1_pop}/chr${a}.phased.flipped.unsorted.vcf.gz; \n",
    "done\n",
    "\n",
    "for a in ${chrs[@]}; do \n",
    "    bcftools sort $PRS_DATASETS/${ds1_name}/imputation_panels/${ds1_pop}/chr${a}.phased.flipped.unsorted.vcf.gz \\\n",
    "    -Oz -o $PRS_DATASETS/1kg/imputation_panels/${ds1_pop}/chr${a}.phased.flipped.vcf.gz \\\n",
    "    && echo \"done chr${a}\"; \\\n",
    "done"
   ]
  },
  {
   "cell_type": "markdown",
   "metadata": {},
   "source": [
    "#### Index a vcf.gz (bgz) file (create a tbi file):"
   ]
  },
  {
   "cell_type": "code",
   "execution_count": null,
   "metadata": {},
   "outputs": [],
   "source": [
    "p=\"ceu\" \n",
    "ds1_name=\"1kg\"\n",
    "ds1_pop=\"eur\" # eur-minus-${p}-aj-snps\n",
    "declare -a chrs=({1..22}); \n",
    "\n",
    "for a in ${chrs[@]}; do \n",
    "    tabix -f $PRS_DATASETS/${ds1_name}/imputation_panels/${ds1_pop}/chr${a}.phased.flipped.vcf.gz \\\n",
    "    && echo \"done chr${a}\" & \n",
    "done"
   ]
  },
  {
   "cell_type": "markdown",
   "metadata": {},
   "source": [
    "### Merge files"
   ]
  },
  {
   "cell_type": "markdown",
   "metadata": {},
   "source": [
    "#### Merge the two datasets' vcf files"
   ]
  },
  {
   "cell_type": "code",
   "execution_count": null,
   "metadata": {},
   "outputs": [],
   "source": [
    "p=\"ceu\"\n",
    "ds1_name=\"1kg\"\n",
    "ds1_pop=\"eur\"\n",
    "ds2_name=\"ajkg14\"\n",
    "ds2_pop=\"t101\"\n",
    "merged_panel=${ds1_pop}-${ds2_name}-${ds2_pop}-merged\n",
    "\n",
    "mkdir -p $PRS_DATASETS/${ds1_name}/imputation_panels/${merged_panel} || true\n",
    "declare -a chrs=({1..22}); \n",
    "for a in ${chrs[@]}; \n",
    "    do bcftools merge -Oz -o $PRS_DATASETS/${ds1_name}/imputation_panels/${merged_panel}/chr${a}.vcf.gz \\\n",
    "    $PRS_DATASETS/${ds1_name}/imputation_panels/${ds1_pop}/chr${a}.phased.flipped.vcf.gz  \\\n",
    "    $PRS_DATASETS/${ds2_name}/imputation_panels/${ds2_pop}/phased/chr${a}.phased.flipped.vcf.gz && echo \"done chr${a}\" & \\\n",
    "done"
   ]
  },
  {
   "cell_type": "markdown",
   "metadata": {},
   "source": [
    "#### Make haps/sample from merged files"
   ]
  },
  {
   "cell_type": "code",
   "execution_count": null,
   "metadata": {},
   "outputs": [],
   "source": [
    "p=\"ceu\"\n",
    "ds1_name=\"1kg\"\n",
    "ds1_pop=\"eur\" # eur-minus-${p}-aj-snps\n",
    "ds2_name=\"ajkg14\"\n",
    "ds2_pop=\"t101\"\n",
    "merged_panel=${ds1_pop}-${ds2_name}-${ds2_pop}-merged\n",
    "declare -a chrs=({1..22}); \n",
    "\n",
    "for a in ${chrs[@]}; do \n",
    "    plink2 --vcf $PRS_DATASETS/${ds1_name}/imputation_panels/${merged_panel}/chr${a}.vcf.gz \\\n",
    "    --export haps --out $PRS_DATASETS/1kg/imputation_panels/${merged_panel}/chr${a} \\\n",
    "    --geno 0 --min-alleles 2 --max-alleles 2 --threads 50 & \n",
    "done\n"
   ]
  },
  {
   "cell_type": "markdown",
   "metadata": {},
   "source": [
    "### Generate imputation panels"
   ]
  },
  {
   "cell_type": "code",
   "execution_count": null,
   "metadata": {},
   "outputs": [],
   "source": [
    "p=\"ceu\"\n",
    "ds1_name=\"1kg\"\n",
    "ds1_pop=\"eur\" # eur-minus-${p}-aj-snps\n",
    "ds2_name=\"ajkg14\"\n",
    "ds2_pop=\"t101\"\n",
    "merged_panel=${ds1_pop}-${ds2_name}-${ds2_pop}-merged\n",
    "\n",
    "declare -a chrs=({1..22}); \n",
    "for a in ${chrs[@]}; do  \n",
    "    shapeit -convert --input-haps $PRS_DATASETS/1kg/imputation_panels/${merged_panel}/chr${a} \\\n",
    "    --output-log $PRS_DATASETS/1kg/imputation_panels/${merged_panel}/chr${a}.log \\\n",
    "    --output-ref $PRS_DATASETS/1kg/imputation_panels/${pop}/chr${a}.ref.hap \\\n",
    "        $PRS_DATASETS/1kg/imputation_panels/${merged_panel}/chr${a}.ref.legend.gz \n",
    "        $PRS_DATASETS/1kg/imputation_panels/${merged_panel}/chr${a}.ref.sample \\\n",
    "    --thread 50 & \n",
    "done"
   ]
  }
 ],
 "metadata": {
  "kernelspec": {
   "display_name": "Python 3",
   "language": "python",
   "name": "python3"
  },
  "language_info": {
   "codemirror_mode": {
    "name": "ipython",
    "version": 3
   },
   "file_extension": ".py",
   "mimetype": "text/x-python",
   "name": "python",
   "nbconvert_exporter": "python",
   "pygments_lexer": "ipython3",
   "version": "3.8.5"
  }
 },
 "nbformat": 4,
 "nbformat_minor": 5
}
