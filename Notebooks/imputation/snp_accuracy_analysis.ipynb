{
 "cells": [
  {
   "cell_type": "markdown",
   "metadata": {},
   "source": [
    "## Compute SNP accuracy in 1kG population using ethnic homogenous imputation panels "
   ]
  },
  {
   "cell_type": "markdown",
   "metadata": {},
   "source": [
    "### Split 1kg subpopulations into panel and test sets"
   ]
  },
  {
   "cell_type": "code",
   "execution_count": null,
   "metadata": {},
   "outputs": [],
   "source": [
    "for a in \"ACB\" \"ASW\" \"BEB\" \"GBR\" \"CDX\" \"CLM\" \"ESN\" \"GWD\" \"GIH\" \"CHB\" \"CHS\" \"ITU\" \"JPT\" \"KHV\" \"LWK\" \"MSL\" \"MXL\" \"PEL\" \"PUR\" \"PJL\" \"STU\" \"YRI\" \"FIN\" \"TSI\" \"IBS\" \"CEU\"; do cat pop.panel | grep ${a} | cut -f 1 > pop.${a,,}.panel; done"
   ]
  },
  {
   "cell_type": "code",
   "execution_count": null,
   "metadata": {},
   "outputs": [],
   "source": [
    "for a in \"ACB\" \"ASW\" \"BEB\" \"GBR\" \"CDX\" \"CLM\" \"ESN\" \"GWD\" \"GIH\" \"CHB\" \"CHS\" \"ITU\" \"JPT\" \"KHV\" \"LWK\" \"MSL\" \"MXL\" \"PEL\" \"PUR\" \"PJL\" \"STU\" \"YRI\" \"CEU\" \"IBS\" \"TSI\" \"FIN\"; do head -n 20  pop.${a,,}.panel > pop.${a,,}20.panel; done"
   ]
  },
  {
   "cell_type": "code",
   "execution_count": null,
   "metadata": {},
   "outputs": [],
   "source": [
    "for a in \"ACB\" \"ASW\" \"BEB\" \"GBR\" \"CDX\" \"CLM\" \"ESN\" \"GWD\" \"GIH\" \"CHB\" \"CHS\" \"ITU\" \"JPT\" \"KHV\" \"LWK\" \"MSL\" \"MXL\" \"PEL\" \"PUR\" \"PJL\" \"STU\" \"YRI\" \"CEU\" \"IBS\" \"TSI\" \"FIN\"; do tail -n +21 pop.${a,,}.panel | head -n 70 > pop.${a,,}70.panel; done"
   ]
  },
  {
   "cell_type": "code",
   "execution_count": null,
   "metadata": {},
   "outputs": [],
   "source": [
    "sp=\"eur\"; b=20; rm pop.${sp}${b}.panel; for a in gbr fin tsi ibs ceu; do cat pop.${a}${b}.panel >> pop.${sp}${b}.panel; done\n",
    "sp=\"eur\"; b=70; rm pop.${sp}${b}.panel; for a in gbr fin tsi ibs ceu; do cat pop.${a}${b}.panel >> pop.${sp}${b}.panel; done\n",
    "\n",
    "sp=\"afr\"; b=20; rm pop.${sp}${b}.panel; for a in acb esn gwd lwk yri; do cat pop.${a}${b}.panel >> pop.${sp}${b}.panel; done #  asw msl\n",
    "sp=\"afr\"; b=70; rm pop.${sp}${b}.panel; for a in acb esn gwd lwk yri; do cat pop.${a}${b}.panel >> pop.${sp}${b}.panel; done #  asw msl\n",
    "\n",
    "sp=\"sas\"; b=20; rm pop.${sp}${b}.panel; for a in beb gih itu pjl stu; do cat pop.${a}${b}.panel >> pop.${sp}${b}.panel; done\n",
    "sp=\"sas\"; b=70; rm pop.${sp}${b}.panel; for a in beb gih itu pjl stu; do cat pop.${a}${b}.panel >> pop.${sp}${b}.panel; done\n",
    "\n",
    "sp=\"eas\"; b=20; rm pop.${sp}${b}.panel; for a in cdx chb chs jpt khv; do cat pop.${a}${b}.panel >> pop.${sp}${b}.panel; done\n",
    "sp=\"eas\"; b=70; rm pop.${sp}${b}.panel; for a in cdx chb chs jpt khv; do cat pop.${a}${b}.panel >> pop.${sp}${b}.panel; done\n",
    "\n",
    "sp=\"amr\"; b=20; rm pop.${sp}${b}.panel; for a in clm mxl pel pur; do cat pop.${a}${b}.panel >> pop.${sp}${b}.panel; done\n",
    "sp=\"amr\"; b=70; rm pop.${sp}${b}.panel; for a in clm mxl pel pur; do cat pop.${a}${b}.panel >> pop.${sp}${b}.panel; done\n",
    "\n"
   ]
  },
  {
   "cell_type": "markdown",
   "metadata": {},
   "source": [
    "### Aggreagte 1kG SNP accuracy results"
   ]
  },
  {
   "cell_type": "markdown",
   "metadata": {},
   "source": [
    "#### Merge subpopulations (Why only two?)"
   ]
  },
  {
   "cell_type": "code",
   "execution_count": null,
   "metadata": {},
   "outputs": [],
   "source": [
    "cat ds.fam | awk '{print $1\"\\t\"$2\"\\t\"0\"\\t\"$2}' >recoded.txt\n",
    "plink --bfile ds --update-ids recoded.txt --make-bed --out ds2\n",
    "plink --bfile ds2 --bmerge ../true/ds --make-bed --out ds_merged\n",
    "plink --bfile ds2 --exclude ds_merged-merge.missnp --make-bed --out ds2_excluded\n",
    "plink --bfile ds2_excluded --bmerge ../true/ds --make-bed --out ds_merged"
   ]
  },
  {
   "cell_type": "markdown",
   "metadata": {},
   "source": [
    "#### Filter out SNPs that do not apear on the chip"
   ]
  },
  {
   "cell_type": "code",
   "execution_count": null,
   "metadata": {},
   "outputs": [],
   "source": [
    "plink --bfile ds_merged --extract $ELKON_SCRATCH/1000G_ALL/strict_mask --range --make-bed --out ds_merged_strict"
   ]
  },
  {
   "cell_type": "markdown",
   "metadata": {},
   "source": [
    "#### QC and break into per-chromosome vcf files"
   ]
  },
  {
   "cell_type": "code",
   "execution_count": null,
   "metadata": {},
   "outputs": [],
   "source": [
    "pop=\"1kg_sas70\" # \"1kg_afr2\"\n",
    "\n",
    "for a in {1..22}; do \n",
    "    plink --bfile impute2_${pop}/ds_merged --chr ${a} --geno 0.1 --maf 0.01 --hwe 1e-06 \\\n",
    "    --recode vcf --out impute2_${pop}/ds.QC_merged_${a}; \n",
    "done"
   ]
  },
  {
   "cell_type": "markdown",
   "metadata": {},
   "source": [
    "#### Reorder samples"
   ]
  },
  {
   "cell_type": "code",
   "execution_count": null,
   "metadata": {},
   "outputs": [],
   "source": [
    "pop=afr;\n",
    "idx=3\n",
    "\n",
    "for chr in {1..22}; do \n",
    "    echo \"start $chr\";  \n",
    "    bcftools view -S reordered_samples${idx} impute2_1kg_${pop}70/ds.QC_merged_${chr}.vcf > impute2_1kg_${pop}70/ds.QC_merged_reordered_${chr}.vcf; \n",
    "done"
   ]
  },
  {
   "cell_type": "markdown",
   "metadata": {},
   "source": [
    "#### Calculate SNP accuracy per individual"
   ]
  },
  {
   "cell_type": "code",
   "execution_count": null,
   "metadata": {},
   "outputs": [],
   "source": [
    "pop=eas;\n",
    "header_idx=12\n",
    "for chr in {1..22}; do \n",
    "    echo \"start chr $chr\"; \n",
    "    for a in {0..545}; do \n",
    "        org=$(($a+10)); \n",
    "        imp=$(($a+556)); \n",
    "        cat impute2_1kg_${pop}70/ds.QC_merged_reordered_${chr}.vcf | awk '{sum+=($'$org'==$'$imp' && index($'$imp',\".\")==0 && NR>'$header_idx'); count+=(index($'$imp',\".\")==0 && NR > '$header_idx' );}; END{print sum\"\\t\"count\"\\t\"sum/count}'; \n",
    "    done > impute2_1kg_${pop}70/chr${chr}_qc_merged_reordered_imputation_score\n",
    "done"
   ]
  },
  {
   "cell_type": "markdown",
   "metadata": {},
   "source": [
    "#### Calculate SNP accuracy per 1kG ethnic group"
   ]
  },
  {
   "cell_type": "code",
   "execution_count": null,
   "metadata": {},
   "outputs": [],
   "source": [
    "declare -A eur_ar=([min]=1 [max]=100 [name]=EUR); \n",
    "declare -A eas_ar=([min]=101 [max]=200 [name]=EAS); \n",
    "declare -A sas_ar=([min]=201 [max]=300 [name]=SAS); \n",
    "declare -A afr_ar=([min]=301 [max]=400 [name]=AFR); \n",
    "declare -A afr_ar2=([min]=401 [max]=600 [name]=AFR2); \n",
    "chrs=(22 21)#### Merge subpopulations (Why only two?)\n",
    "arr=(eur_ar eas_ar sas_ar afr_ar afr_ar2); \n",
    "\n",
    "for chr in {1..22}; do # \n",
    "    for idx in ${arr[@]}; do \n",
    "    declare -n cur_ar=\"$idx\" \n",
    "        for pop in eur eas afr sas; \n",
    "            do echo -n -e \"${cur_ar[name]}\\t$chr\\t$pop\\t\"; head -n ${cur_ar[max]} impute2_1kg_${pop}70/chr${chr}_qc_merged_reordered_imputation_score | tail -n +${cur_ar[min]}| awk '{sum0+=$2; sum+=($2-$1); sum1+=$3; count+=1;}; END{print sum0/count\"\\t\"sum/count\"\\t\"sum1/count}'; \n",
    "        done;\n",
    "        echo \"\"  \n",
    "    done;  \n",
    "done >res_reordered"
   ]
  },
  {
   "cell_type": "markdown",
   "metadata": {},
   "source": [
    "## Compute SNP accuracy in the ajkg14 dataset using ethnic homogeneous imputation panels"
   ]
  },
  {
   "cell_type": "markdown",
   "metadata": {},
   "source": [
    "### Aggreagte 1kG SNP accuracy results"
   ]
  },
  {
   "cell_type": "markdown",
   "metadata": {},
   "source": [
    "#### Merge subpopulations (Why only two?)"
   ]
  },
  {
   "cell_type": "code",
   "execution_count": null,
   "metadata": {},
   "outputs": [],
   "source": [
    "cat ds.fam | awk '{print $1\"\\t\"$2\"\\t\"0\"\\t\"$2}' >recoded.txt\n",
    "plink --bfile ds --update-ids recoded.txt --make-bed --out ds2\n",
    "plink --bfile ds2 --bmerge ../true/ds --make-bed --out ds_merged\n",
    "plink --bfile ds2 --exclude ds_merged-merge.missnp --make-bed --out ds2_excluded\n",
    "plink --bfile ds2_excluded --bmerge ../true/ds --make-bed --out ds_merged\n",
    "\n"
   ]
  },
  {
   "cell_type": "markdown",
   "metadata": {},
   "source": [
    "#### Filter out SNPs that do not apear on the chip"
   ]
  },
  {
   "cell_type": "code",
   "execution_count": null,
   "metadata": {},
   "outputs": [],
   "source": [
    "plink --bfile ds_merged --extract $ELKON_SCRATCH/1000G_ALL/strict_mask --range --make-bed --out ds_merged_strict"
   ]
  },
  {
   "cell_type": "markdown",
   "metadata": {},
   "source": [
    "#### QC and break into per-chromosome vcf files"
   ]
  },
  {
   "cell_type": "code",
   "execution_count": null,
   "metadata": {},
   "outputs": [],
   "source": [
    "pop=\"1kg_eur-ajkg14-t101-merged\" # \"1kg_afr2\"\n",
    "\n",
    "for a in {1..22}; do \n",
    "    plink --bfile impute2_${pop}/ds_merged --chr ${a} --geno 0.1 --maf 0.01 --hwe 1e-06 \\\n",
    "    --recode vcf --out impute2_${pop}/ds.QC_merged_${a}; \n",
    "done"
   ]
  },
  {
   "cell_type": "markdown",
   "metadata": {},
   "source": [
    "#### Calculate SNP accuracy per individual"
   ]
  },
  {
   "cell_type": "code",
   "execution_count": null,
   "metadata": {},
   "outputs": [],
   "source": [
    "pop=\"1kg_eur-ajkg14-t101-merged\" # \"ajkg14_t101\" # \"1kg_afr2\"\n",
    "\n",
    "for chr in {22..1}; do \n",
    "    echo \"start chr $chr\"; \n",
    "    for a in {0..26}; do \n",
    "        org=$(($a+10)); \n",
    "        imp=$(($a+37)); \n",
    "        cat impute2_${pop}/ds.QC_merged_${chr}.vcf | awk '{sum+=($'$org'==$'$imp' && index($'$imp',\".\")==0 && NR>7); count+=(index($'$imp',\".\")==0 && NR > 7 );}; END{print sum\"\\t\"count\"\\t\"sum/count}'; \n",
    "    done > impute2_${pop}/chr${chr}_qc_imputation_score1 \n",
    "done"
   ]
  },
  {
   "cell_type": "markdown",
   "metadata": {},
   "source": [
    "#### Calculate SNP accuracy for the ajkg14 dataset"
   ]
  },
  {
   "cell_type": "code",
   "execution_count": null,
   "metadata": {},
   "outputs": [],
   "source": [
    "chrs=(1 20 22)\n",
    "\n",
    "for chr in {1..22}; do # \n",
    "    for pop in ajkg14_t101 1kg_eur2 1kg_eas2 1kg_afr2 1kg_gbr2 1kg_eur-ajkg14-t101-merged;\n",
    "        do echo -n -e \"$chr\\t$pop\\t\"; cat impute2_${pop}/chr${chr}_qc_imputation_score1 | awk '{sum0+=$2; sum+=($2-$1); sum1+=$3; count+=1;}; END{print sum0/count\"\\t\"sum/count\"\\t\"sum1/count}'; \n",
    "    done;  \n",
    "    echo \"\"\n",
    "done >res_reordered"
   ]
  }
 ],
 "metadata": {
  "kernelspec": {
   "display_name": "Bash",
   "language": "bash",
   "name": "bash"
  },
  "language_info": {
   "codemirror_mode": "shell",
   "file_extension": ".sh",
   "mimetype": "text/x-sh",
   "name": "bash"
  }
 },
 "nbformat": 4,
 "nbformat_minor": 5
}
