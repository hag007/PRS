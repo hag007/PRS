{
 "cells": [
  {
   "cell_type": "markdown",
   "metadata": {},
   "source": [
    "## Impute datasets"
   ]
  },
  {
   "cell_type": "markdown",
   "metadata": {},
   "source": [
    "#### Run impute2 using run_by_capacity.sh script"
   ]
  },
  {
   "cell_type": "code",
   "execution_count": null,
   "metadata": {},
   "outputs": [],
   "source": [
    "ds1_name=\"1kg\"\n",
    "ds1_pop=\"tsi2\" # \"eur-minus-${p}-aj-snps\" # \"eur\"\n",
    "ds2_name=\"ajkg14\"\n",
    "ds2_pop=\"t101\"\n",
    "merged_panel=${ds1_pop} # ${ds1_pop}-${ds2_name}-${ds2_pop}-merged\n",
    "\n",
    "bash run_by_capacity.sh --cmd_fn impute_${merged_panel}_scz --input_fn chrs"
   ]
  },
  {
   "cell_type": "markdown",
   "metadata": {},
   "source": [
    "#### Check if parts files are not corrupted (by number of fields in each row).\n",
    "After deleting the corrupted files, the impute2 scripts should be executed again to regenerate them."
   ]
  },
  {
   "cell_type": "code",
   "execution_count": null,
   "metadata": {},
   "outputs": [],
   "source": [
    "## Default params\n",
    "# panel=\"1kg\"\n",
    "# start_pos=0\n",
    "# end_pos=500\n",
    "\n",
    "imp=\"impute2_1kg_sas\"\n",
    "target=\"ukbb_sas\"\n",
    "\n",
    "bash remove_inconsistent_part_files.sh --target ${target} --imp ${imp} --chrs 3-22"
   ]
  },
  {
   "cell_type": "markdown",
   "metadata": {},
   "source": [
    "#### Merge impute2 segments into a single bed file\n",
    "1. For each chromosome, merge chromosome segments (part files) into a single (gen/impute2) file.\n",
    "2. Convert chromosome files into a bed files. \n",
    "3. Merge all chromosome bed files into a single bed file"
   ]
  },
  {
   "cell_type": "code",
   "execution_count": null,
   "metadata": {},
   "outputs": [],
   "source": [
    "target='dbg-scz19'\n",
    "ds1_name=\"1kg\"\n",
    "ds1_pop=\"eur100-2\" # \"eur-minus-${p}-aj-snps # eur # ds2_name=\"ajkg14\" # ds2_pop=\"t101\"\n",
    "ds_merged_imputed=impute2_${ds1_name}_${ds1_pop} # -${ds2_name}-${ds2_pop}-merged\n",
    "\n",
    "bash ip_1_merge_to_impute2.sh --target ${target} --imp ${ds_merged_imputed}\n",
    "bash ip_2_convert_to_bed.sh --target ${target} --imp ${ds_merged_imputed} \n",
    "bash ip_3_merge_bed_files.sh --target ${target} --imp ${ds_merged_imputed} \n",
    "\n"
   ]
  },
  {
   "cell_type": "markdown",
   "metadata": {},
   "source": [
    "\n",
    "#### Identiy missed corrupted part files\n",
    "In case the pervious step failed due to missed corrupted part files, these files can be identified by the position of the problematic line in the aggregated chromosome file. After deleting these files, the impute2 scripts should be executed again to regenerate them.  "
   ]
  },
  {
   "cell_type": "code",
   "execution_count": null,
   "metadata": {},
   "outputs": [],
   "source": [
    "sum=0 \n",
    "chr=8\n",
    "line_number=2160093\n",
    "\n",
    "datasets_folder=$PRS_DATASETS\n",
    "for a in {1..500}; do \n",
    "    echo \"cur part file index: $a\"; \n",
    "    sum=$((sum + $(cat ${datasets_folder}/ukbb_sas/impute2_1kg_sas/raw/impute2/parts/chr${chr}.${a}.legend | wc -l))); \n",
    "    echo \"Finished passing on part file index $a (Total no. of lines passed: $sum)\"; \n",
    "    if [[ $sum -gt  ${line_number} ]]; then \n",
    "        echo \"Corrupted file: $a\"\n",
    "        break \n",
    "    fi\n",
    "done"
   ]
  },
  {
   "cell_type": "markdown",
   "metadata": {},
   "source": [
    "#### Move merged dataset into its proper folder"
   ]
  },
  {
   "cell_type": "code",
   "execution_count": null,
   "metadata": {},
   "outputs": [],
   "source": [
    "# p=\"fin\"\n",
    "target=\"dbg-scz19\"\n",
    "ds1_name=\"1kg\"\n",
    "ds1_pop=\"eur100-2\"  # \"eur-minus-${p}-aj-snps\" # ds2_name=\"ajkg14\" # ds2_pop=\"t101\"\n",
    "ds_merged_imputed=impute2_${ds1_name}_${ds1_pop} # impute2_${ds1_name}_${ds1_pop}-${ds2_name}-${ds2_pop}impute2_\n",
    "\n",
    "for a in bim bed fam; do  \n",
    "    mv $PRS_DATASETS/${target}/${ds_merged_imputed}/raw/impute2/bed/ds.all.${a} \\\n",
    "    $PRS_DATASETS/${target}/${ds_merged_imputed}/ds.${a} & \n",
    "done "
   ]
  },
  {
   "cell_type": "markdown",
   "metadata": {},
   "source": [
    "#### Run QC on the data"
   ]
  },
  {
   "cell_type": "code",
   "execution_count": null,
   "metadata": {},
   "outputs": [],
   "source": [
    "# p=\"ceu\"\n",
    "discovery=\"D2_hght_yengo_2018\" # \"UKB_ht_EUR_1\"# \"D_t2d_mahajan_2018\"\n",
    "target=\"ukbb_sas\" # \"ukbb_afr\"\n",
    "ds1_name=\"1kg\"\n",
    "ds1_pop=\"eur100-minus-gbr\" # \"eur-minus-${p}-aj-snps\" # \"eur\" # \n",
    "pheno=\"\" # \"ht\"\n",
    "# ds2_name=\"ajkg14\"\n",
    "# ds2_pop=\"t101\"\n",
    "ds_merged_imputed=impute2_${ds1_name}_${ds1_pop} # impute2_${ds1_name}_${ds1_pop}-${ds2_name}-${ds2_pop}-merged\n",
    "\n",
    "\n",
    "bash qc_target_data.sh --target ${target} --imp ${ds_merged_imputed}  # && bash calc_prs.sh --target ${target} --imp ${ds_merged_imputed} --discovery ${discovery} --stage 0 --pheno ${pheno} --pval_th 0.00000005,0.001,0.005,0.01,0.05,0.1,0.2,0.3,0.4,0.5"
   ]
  },
  {
   "cell_type": "markdown",
   "metadata": {},
   "source": [
    "#### Compute PRS"
   ]
  },
  {
   "cell_type": "code",
   "execution_count": null,
   "metadata": {},
   "outputs": [],
   "source": [
    "# p=\"ceu\"\n",
    "target='ukbb_afr'\n",
    "ds1_name=\"1kg\"\n",
    "ds1_pop=\"afr\" # \"eur-minus-${p}-aj-snps\" # \"eur\" # \n",
    "discovery='ukbb_utfi_morton_2019'\n",
    "pheno=\"utfi\"\n",
    "# ds2_name=\"ajkg14\"\n",
    "# ds2_pop=\"t101\"\n",
    "ds_merged_imputed=impute2_${ds1_name}_${ds1_pop} # impute2_${ds1_name}_${ds1_pop}-${ds2_name}-${ds2_pop}-merged\n",
    "\n",
    "bash calc_prs.sh --target ${target} --imp ${ds_merged_imputed} --discovery ${discovery} --pheno ${pheno} --stage 0 --pval_th 0.00000005,0.001,0.005,0.01,0.05,0.1,0.2,0.3,0.4,0.5"
   ]
  },
  {
   "cell_type": "markdown",
   "metadata": {},
   "source": [
    "### Dealing with part and impute2 files after creating the merged bed file\n",
    "After generating the merged bed file, part and impute2 files are only needed for debug purposes. Therefore, they could be zipped or deleted.\n",
    "Below are scripts for zipping these files\n",
    "\n",
    "**Note that info files can be sometimes useful for QC purposes** (i.e, remove SNPS with low confidence score)."
   ]
  },
  {
   "cell_type": "markdown",
   "metadata": {},
   "source": [
    "#### zip part files:"
   ]
  },
  {
   "cell_type": "code",
   "execution_count": null,
   "metadata": {},
   "outputs": [],
   "source": [
    "## Default params\n",
    "# panel=\"1kg\"\n",
    "# start_pos=0\n",
    "# end_pos=500\n",
    "\n",
    "# Single imp\n",
    "# imp=\"impute2_1kg_eur2\"\n",
    "\n",
    "target=\"dbg-scz19\"\n",
    "ls -1 $PRS_DATASETS | grep impute2 | xargs -I {} -n 1 -P 10 bash zip_part_files.sh --target ${target} --imp {}\n",
    "\n"
   ]
  },
  {
   "cell_type": "markdown",
   "metadata": {},
   "source": [
    "#### zip chr files:"
   ]
  },
  {
   "cell_type": "code",
   "execution_count": null,
   "metadata": {},
   "outputs": [],
   "source": [
    "## Default params\n",
    "# panel=\"1kg\"\n",
    "\n",
    "# Single imp\n",
    "# imp=\"impute2_1kg_eur2\"\n",
    "\n",
    "target=\"dbg-scz19\"\n",
    "ls -1 $PRS_DATASETS | grep impute2 | xargs -I {} -n 1 -P 10 bash zip_chr_files.sh --target ${target} --imp {}\n",
    "\n"
   ]
  }
 ],
 "metadata": {
  "kernelspec": {
   "display_name": "Python 3",
   "language": "python",
   "name": "python3"
  },
  "language_info": {
   "codemirror_mode": {
    "name": "ipython",
    "version": 3
   },
   "file_extension": ".py",
   "mimetype": "text/x-python",
   "name": "python",
   "nbconvert_exporter": "python",
   "pygments_lexer": "ipython3",
   "version": "3.8.5"
  }
 },
 "nbformat": 4,
 "nbformat_minor": 5
}
