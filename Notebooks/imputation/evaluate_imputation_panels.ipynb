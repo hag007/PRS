{
 "cells": [
  {
   "cell_type": "markdown",
   "metadata": {},
   "source": [
    "## Evaluate imputation panels"
   ]
  },
  {
   "cell_type": "markdown",
   "metadata": {},
   "source": [
    "### prepare datasets"
   ]
  },
  {
   "cell_type": "markdown",
   "metadata": {},
   "source": [
    "#### multiple imps (UKB)"
   ]
  },
  {
   "cell_type": "code",
   "execution_count": null,
   "metadata": {},
   "outputs": [],
   "source": [
    "discovery=\"PGC2_noAJ\"\n",
    "target=\"dbg-scz19\"\n",
    "imp_pops=\"eur,sas,gbr\"\n",
    "imp_pops=(${imp_pops//,/ })\n",
    "base_rep=\"105\"\n",
    "n_folds=5\n",
    "pheno=ht # TBD Probably redundant. Check it!\n",
    "## Adjust reps and folds according to a parameter\n",
    "\n",
    "#Prepare inner CV (train+validation)\n",
    "for imp_pop in imp_pops; do \n",
    "    for cur_rep in {1..6}; do \n",
    "        for cur_fold in {1..5}; do \n",
    "            bash prepare_cv_datasets.sh --discovery ${discovery} --target ${target} \\\n",
    "            --imp impute2_1kg_${imp_pop} --rep ${base_rep}_${cur_rep} \\\n",
    "            --cv ${cur_fold}_${n_folds} --pheno ${pheno}; \n",
    "        done \n",
    "    done\n",
    "done\n",
    "\n",
    "#Prepare outer CV (both+test)\n",
    "for imp_pop in imp_pops; do \n",
    "    for cur_rep in {1..6}; do \n",
    "        bash prepare_cv_datasets.sh --discovery ${discovery} --target ${target} \\\n",
    "        --imp impute2_1kg_${imp_pop} --rep ${base_rep}_${cur_rep} \\\n",
    "        --cv ${n_folds} --pheno ${pheno} \n",
    "    done \n",
    "done\n"
   ]
  },
  {
   "cell_type": "markdown",
   "metadata": {},
   "source": [
    "### Generate pheno files to subsets defined for the nested CV (```prepare_datsets.sh```)"
   ]
  },
  {
   "cell_type": "code",
   "execution_count": null,
   "metadata": {},
   "outputs": [],
   "source": [
    "\n",
    "for cur_rep in {1..6}; do \n",
    "    cd rep_105_${cur_rep}\n",
    "    for pheno in chol t2d gerx madd angna ast ctrt gerx height hfvr hyty osar utfi; do \n",
    "        echo \"rep_105_${cur_rep} ${pheno}\"\n",
    "        ls -1 pheno_ht_* | xargs -I A bash -c 'fl=$(echo A | awk '\"'\"'{ gsub(/_ht_/, \"_'${pheno}'_\"); print $0}'\"'\"'); awk '\"'\"'{if(NR==FNR){c[$1]++; next}; if (c[$1]>0){print $0}}'\"'\"' <(cat A) <(cat ../pheno_'${pheno}'_) > ${fl}'\n",
    "    done\n",
    "    cd ..\n",
    "done"
   ]
  },
  {
   "cell_type": "markdown",
   "metadata": {},
   "source": [
    "### Run CV across folds"
   ]
  },
  {
   "cell_type": "markdown",
   "metadata": {},
   "source": [
    "#### Generally the best practive it os run the scripts ```run_folds/run_UKB_folds_<method>.sh```. The run only parts that are missing in the CV scheme and is generally faster and safer."
   ]
  },
  {
   "cell_type": "code",
   "execution_count": null,
   "metadata": {},
   "outputs": [],
   "source": [
    "method=ls\n",
    "\n",
    "discoveries=\"D2_sysp_evangelou_2018,D2_dias_evangelou_2018,D2_asth_zhu_2019,D2_chol_willer_2013,D2_ldlp_willer_2013,D2_t2di_mahajan_2018,D2_gerx_an_2019,D2_madd_howard_2019\" # \"D2_sysp_evangelou_2018\" D2_hdlp_willer_2013\n",
    "# discoveries=\"UKB_ht_eur,UKB_chol_eur,UKB_hfvr_eur,UKB_hyty_eur,UKB_madd_eur,UKB_osar_eur,UKB_t2d_eur,UKB_utfi_eur,UKB_gerx_eur,UKB_angna_eur,UKB_ast_eur,UKB_ctrt_eur\"\n",
    "targets=\"ukbb_afr\"\n",
    "imps=\"original\" # \"impute2_1kg_gbr\" # ,impute2_1kg_afr,impute2_1kg_gbr\" # \"impute2_1kg_eur,impute2_1kg_afr,impute2_1kg_gbr,impute2_1kg_sas\" # \"impute2_1kg_ceu2\"\n",
    "\n",
    "bash run_folds_${method}.sh --discoveries=${discoveries} --targets=${targets} --imps=${imps}"
   ]
  },
  {
   "cell_type": "markdown",
   "metadata": {},
   "source": [
    "#### To override existing results, use the scripts below:"
   ]
  },
  {
   "cell_type": "markdown",
   "metadata": {},
   "source": [
    "#### Run PRS method across reps"
   ]
  },
  {
   "cell_type": "code",
   "execution_count": null,
   "metadata": {},
   "outputs": [],
   "source": [
    "discovery=\"PGC2_noAJ\"\n",
    "target=\"dbg-scz19\"\n",
    "imp=\"impute2_ajkg14_t101\" # \"impute2_1kg_ceu2\"\n",
    "method=\"ld\"\n",
    "base_rep=105\n",
    "\n",
    "for cur_rep in {1..6}; do \n",
    "    bash run_cv_single_rep.sh --discovery ${discovery} --target ${target} --imp ${imp} \\\n",
    "    --method ${method} --rep ${base_rep}_${cur_rep} --start_fold 2 && \\\n",
    "    bash run_cv_test_single_rep.sh --discovery ${discovery} --target ${target} --imp ${imp} \\\n",
    "    --method ${method} --rep ${base_rep}_${cur_rep}; \n",
    "done"
   ]
  },
  {
   "cell_type": "markdown",
   "metadata": {},
   "source": [
    "#### Altentively, it can be executed as two separated commads (usefule for reruns of failed executions)"
   ]
  },
  {
   "cell_type": "code",
   "execution_count": null,
   "metadata": {},
   "outputs": [],
   "source": [
    "discovery=\"PGC2_noAJ\"\n",
    "target=\"dbg-scz19\"\n",
    "imp=\"impute2_ajkg14_t101\" # \"impute2_1kg_ceu2\"\n",
    "method=\"ld\"\n",
    "base_rep=105\n",
    "\n",
    "for cur_rep in {1..6}; do \n",
    "    bash run_cv_single_rep.sh --discovery ${discovery} --target ${target} --imp ${imp} \\\n",
    "    --method ${method} --rep ${base_rep}_${cur_rep}\n",
    "done\n",
    "\n",
    "for cur_rep in {1..6}; do \n",
    "    bash run_cv_test_single_rep.sh --discovery ${discovery} --target ${target} --imp ${imp} \\\n",
    "    --method ${method} --rep ${base_rep}_${cur_rep}\n",
    "done\n"
   ]
  },
  {
   "cell_type": "markdown",
   "metadata": {},
   "source": [
    "### Clean lasso output weight files from 0 weighted SNPs"
   ]
  },
  {
   "cell_type": "code",
   "execution_count": null,
   "metadata": {},
   "outputs": [],
   "source": [
    "cat $PRS_CODEBASE/lasso_folders | head -n 5 | xargs -I {} bash -c 'ls -d {}*' | \\\n",
    " xargs -I A -n 1 -P 80  bash -c  'echo \"start A\" && cat A | awk '\"'\"'{if($6!=0){print $0}}'\"'\"' > \"A_\" && sleep 0 | mv A_ A && echo \"done A\"'"
   ]
  }
 ],
 "metadata": {
  "kernelspec": {
   "display_name": "Bash",
   "language": "bash",
   "name": "bash"
  },
  "language_info": {
   "codemirror_mode": "shell",
   "file_extension": ".sh",
   "mimetype": "text/x-sh",
   "name": "bash"
  }
 },
 "nbformat": 4,
 "nbformat_minor": 5
}
