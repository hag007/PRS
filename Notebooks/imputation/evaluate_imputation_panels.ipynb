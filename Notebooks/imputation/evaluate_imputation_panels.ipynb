{
 "cells": [
  {
   "cell_type": "markdown",
   "metadata": {},
   "source": [
    "## Evaluate imputation panels"
   ]
  },
  {
   "cell_type": "markdown",
   "metadata": {},
   "source": [
    "### prepare datasets"
   ]
  },
  {
   "cell_type": "markdown",
   "metadata": {},
   "source": [
    "#### multiple imps (UKB)"
   ]
  },
  {
   "cell_type": "code",
   "execution_count": 2,
   "metadata": {},
   "outputs": [
    {
     "name": "stdout",
     "output_type": "stream",
     "text": [
      "bash: prepare_cv_datasets.sh: No such file or directory\n",
      "bash: prepare_cv_datasets.sh: No such file or directory\n",
      "bash: prepare_cv_datasets.sh: No such file or directory\n",
      "bash: prepare_cv_datasets.sh: No such file or directory\n",
      "bash: prepare_cv_datasets.sh: No such file or directory\n",
      "bash: prepare_cv_datasets.sh: No such file or directory\n",
      "bash: prepare_cv_datasets.sh: No such file or directory\n",
      "bash: prepare_cv_datasets.sh: No such file or directory\n",
      "bash: prepare_cv_datasets.sh: No such file or directory\n",
      "bash: prepare_cv_datasets.sh: No such file or directory\n",
      "bash: prepare_cv_datasets.sh: No such file or directory\n",
      "bash: prepare_cv_datasets.sh: No such file or directory\n",
      "bash: prepare_cv_datasets.sh: No such file or directory\n",
      "bash: prepare_cv_datasets.sh: No such file or directory\n",
      "bash: prepare_cv_datasets.sh: No such file or directory\n",
      "bash: prepare_cv_datasets.sh: No such file or directory\n",
      "bash: prepare_cv_datasets.sh: No such file or directory\n",
      "bash: prepare_cv_datasets.sh: No such file or directory\n",
      "bash: prepare_cv_datasets.sh: No such file or directory\n",
      "bash: prepare_cv_datasets.sh: No such file or directory\n",
      "bash: prepare_cv_datasets.sh: No such file or directory\n",
      "bash: prepare_cv_datasets.sh: No such file or directory\n",
      "bash: prepare_cv_datasets.sh: No such file or directory\n",
      "bash: prepare_cv_datasets.sh: No such file or directory\n",
      "bash: prepare_cv_datasets.sh: No such file or directory\n",
      "bash: prepare_cv_datasets.sh: No such file or directory\n",
      "bash: prepare_cv_datasets.sh: No such file or directory\n",
      "bash: prepare_cv_datasets.sh: No such file or directory\n",
      "bash: prepare_cv_datasets.sh: No such file or directory\n",
      "bash: prepare_cv_datasets.sh: No such file or directory\n",
      "bash: prepare_cv_datasets.sh: No such file or directory\n",
      "bash: prepare_cv_datasets.sh: No such file or directory\n",
      "bash: prepare_cv_datasets.sh: No such file or directory\n",
      "bash: prepare_cv_datasets.sh: No such file or directory\n",
      "bash: prepare_cv_datasets.sh: No such file or directory\n",
      "bash: prepare_cv_datasets.sh: No such file or directory\n"
     ]
    },
    {
     "ename": "",
     "evalue": "127",
     "output_type": "error",
     "traceback": []
    }
   ],
   "source": [
    "discovery=\"PGC2_noAJ\"\n",
    "target=\"dbg-scz19\"\n",
    "imp_pops=\"eur,sas,gbr\"\n",
    "imp_pops=(${imp_pops//,/ })\n",
    "base_rep=\"105\"\n",
    "n_folds=5\n",
    "pheno=ht # TBD Probably redundant. Check it!\n",
    "## Adjust reps and folds according to a parameter\n",
    "\n",
    "#Prepare inner CV (train+validation)\n",
    "for imp_pop in imp_pops; do \n",
    "    for cur_rep in {1..6}; do \n",
    "        for cur_fold in {1..5}; do \n",
    "            bash prepare_cv_datasets.sh --discovery ${discovery} --target ${target} \\\n",
    "            --imp impute2_1kg_${imp_pop} --rep ${base_rep}_${cur_rep} \\\n",
    "            --cv ${cur_fold}_${n_folds} --pheno ${pheno}; \n",
    "        done \n",
    "    done\n",
    "done\n",
    "\n",
    "#Prepare outer CV (both+test)\n",
    "for imp_pop in imp_pops; do \n",
    "    for cur_rep in {1..6}; do \n",
    "        bash prepare_cv_datasets.sh --discovery ${discovery} --target ${target} \\\n",
    "        --imp impute2_1kg_${imp_pop} --rep ${base_rep}_${cur_rep} \\\n",
    "        --cv ${n_folds} --pheno ${pheno} \n",
    "    done \n",
    "done\n"
   ]
  },
  {
   "cell_type": "markdown",
   "metadata": {},
   "source": [
    "### Generate pheno files to subsets defined for the nested CV (```prepare_datsets.sh```)"
   ]
  },
  {
   "cell_type": "code",
   "execution_count": null,
   "metadata": {},
   "outputs": [],
   "source": [
    "\n",
    "for cur_rep in {1..6}; do \n",
    "    cd rep_105_${cur_rep}\n",
    "    for pheno in chol t2d gerx madd angna ast ctrt gerx height hfvr hyty osar utfi; do \n",
    "        echo \"rep_105_${cur_rep} ${pheno}\"\n",
    "        ls -1 pheno_ht_* | xargs -I A bash -c 'fl=$(echo A | awk '\"'\"'{ gsub(/_ht_/, \"_'${pheno}'_\"); print $0}'\"'\"'); awk '\"'\"'{if(NR==FNR){c[$1]++; next}; if (c[$1]>0){print $0}}'\"'\"' <(cat A) <(cat ../pheno_'${pheno}'_) > ${fl}'\n",
    "    done\n",
    "    cd ..\n",
    "done"
   ]
  },
  {
   "cell_type": "markdown",
   "metadata": {},
   "source": [
    "### Run CV across folds"
   ]
  },
  {
   "cell_type": "markdown",
   "metadata": {},
   "source": [
    "#### Generally the best practive it os run the scripts ```run_folds/run_UKB_folds_<method>.sh```. The run only parts that are missing in the CV scheme and is generally faster and safer."
   ]
  },
  {
   "cell_type": "code",
   "execution_count": null,
   "metadata": {},
   "outputs": [],
   "source": [
    "method=pt3\n",
    "\n",
    "discoveries=\"D2_sysp_evangelou_2018,D2_ldlp_willer_2013,D2_t2di_mahajan_2018,D2_gerx_an_2019,D2_madd_howard_2019\" # \",D2_dias_evangelou_2018\" # \"D2_sysp_evangelou_2018,D2_dias_evangelou_2018,D2_asth_zhu_2019,D2_chol_willer_2013,D2_ldlp_willer_2013,D2_t2di_mahajan_2018,D2_gerx_an_2019,D2_madd_howard_2019\" # \"D2_sysp_evangelou_2018\" D2_hdlp_willer_2013\n",
    "# discoveries=\"UKB_ht_eur,UKB_chol_eur,UKB_hfvr_eur,UKB_hyty_eur,UKB_madd_eur,UKB_osar_eur,UKB_t2d_eur,UKB_utfi_eur,UKB_gerx_eur,UKB_angna_eur,UKB_ast_eur,UKB_ctrt_eur\"\n",
    "targets=\"ukbb_afr,ukbb_sas\"\n",
    "imps=\"original,impute2_1kg_eur,impute2_1kg_afr,impute2_1kg_sas\" # \"impute2_1kg_gbr\" # ,impute2_1kg_afr,impute2_1kg_gbr\" # \"impute2_1kg_eur,impute2_1kg_afr,impute2_1kg_gbr,impute2_1kg_sas\" # \"impute2_1kg_ceu2\"\n",
    "\n",
    "bash run_UKB_folds_${method}.sh --discoveries=${discoveries} --targets=${targets} --imps=${imps} --ld=eur"
   ]
  },
  {
   "cell_type": "markdown",
   "metadata": {},
   "source": [
    "#### To override existing results, use the scripts below:"
   ]
  },
  {
   "cell_type": "markdown",
   "metadata": {},
   "source": [
    "#### Run PRS method across reps"
   ]
  },
  {
   "cell_type": "code",
   "execution_count": null,
   "metadata": {},
   "outputs": [],
   "source": [
    "discovery=\"PGC2_noAJ\"\n",
    "target=\"dbg-scz19\"\n",
    "imps=\"impute2_ajkg14_t101 impute2_1kg_ceu impute2_1kg_gbr impute2_1kg_ibs impute2_1kg_tsi impute2_1kg_fin\" # imp=\"impute2_ajkg14_t101\" # \"impute2_1kg_ceu2\"\n",
    "method=\"ls\"\n",
    "base_rep=105\n",
    "for imp in $imps; do \n",
    "    for cur_rep in {1..6}; do \n",
    "        bash run_cv_single_rep.sh --discovery ${discovery} --target ${target} --imp ${imp} \\\n",
    "        --method ${method} --rep ${base_rep}_${cur_rep} --stage 3 && \\\n",
    "        bash run_cv_test_single_rep.sh --discovery ${discovery} --target ${target} --imp ${imp} \\\n",
    "        --method ${method} --rep ${base_rep}_${cur_rep}  --stage 3; \n",
    "    done\n",
    "\n",
    "done "
   ]
  },
  {
   "cell_type": "markdown",
   "metadata": {},
   "source": [
    "#### Altentively, it can be executed as two separated commads (usefule for reruns of failed executions)"
   ]
  },
  {
   "cell_type": "code",
   "execution_count": null,
   "metadata": {},
   "outputs": [],
   "source": [
    "discovery=\"PGC2_noAJ\"\n",
    "target=\"dbg-scz19\"\n",
    "imp=\"impute2_ajkg14_t101\" # \"impute2_1kg_ceu2\"\n",
    "method=\"ld\"\n",
    "base_rep=105\n",
    "\n",
    "for cur_rep in {1..6}; do \n",
    "    bash run_cv_single_rep.sh --discovery ${discovery} --target ${target} --imp ${imp} \\\n",
    "    --method ${method} --rep ${base_rep}_${cur_rep}\n",
    "done\n",
    "\n",
    "for cur_rep in {1..6}; do \n",
    "    bash run_cv_test_single_rep.sh --discovery ${discovery} --target ${target} --imp ${imp} \\\n",
    "    --method ${method} --rep ${base_rep}_${cur_rep}\n",
    "done\n"
   ]
  },
  {
   "cell_type": "markdown",
   "metadata": {},
   "source": [
    "### Clean lasso output weight files from 0 weighted SNPs"
   ]
  },
  {
   "cell_type": "code",
   "execution_count": null,
   "metadata": {},
   "outputs": [],
   "source": [
    "cat $PRS_CODEBASE/lasso_folders | head -n 5 | xargs -I {} bash -c 'ls -d {}*' | \\\n",
    " xargs -I A -n 1 -P 80  bash -c  'echo \"start A\" && cat A | awk '\"'\"'{if($6!=0){print $0}}'\"'\"' > \"A_\" && sleep 0 | mv A_ A && echo \"done A\"'"
   ]
  },
  {
   "cell_type": "markdown",
   "metadata": {},
   "source": [
    "## Revision"
   ]
  },
  {
   "cell_type": "markdown",
   "metadata": {},
   "source": [
    "#### Evaluate PRS quality using EUR GWASs"
   ]
  },
  {
   "cell_type": "code",
   "execution_count": null,
   "metadata": {},
   "outputs": [],
   "source": [
    "cd $PRS_CODEBASE\n",
    "\n",
    "method=ls # pt3 pt2\n",
    "base_rep=105\n",
    "folds=5\n",
    "rep_start=1\n",
    "rep_end=6\n",
    "fold_start=1\n",
    "fold_end=5\n",
    "\n",
    "# phenos=\"ctrt t2d ast\"\n",
    "# phenos=\"gerx angna utfi\" # utfi # \"ctrt t2d ast utfi gerx angna\" #  chol hfvr hyty ht osar madd\" #  \"ctrt t2d ast utfi gerx angna\" # ctrt chol\n",
    "# phenos=\"chol hfvr hyty\"\n",
    "phenos=\"ht osar madd\"\n",
    "# phenos=\"ctrt t2d ast gerx angna utfi chol hfvr hyty ht osar madd\"\n",
    "\n",
    "targets=\"ukbb_sas,ukbb_afr\"\n",
    "imps=\"original,impute2_1kg_eur,impute2_1kg_sas,impute2_1kg_afr\" \n",
    "\n",
    "for pheno in $phenos; do \n",
    "    discoveries=\"UKB_${pheno}_eur\"\n",
    "    bash run_UKB_folds_${method}.sh --discoveries=${discoveries} --targets=${targets} --imps=${imps} --pheno=${pheno} --ld=eur \\\n",
    "                                    --base_rep=${base_rep} --folds=${folds} --rep_start=${rep_start} --rep_end=${rep_end} --fold_start=${fold_start} --fold_end=${fold_end} & \n",
    "done"
   ]
  },
  {
   "cell_type": "markdown",
   "metadata": {},
   "source": [
    "#### Evalute PRS quality using LDpred2 PRS method (`run_UKB_folds_ld.sh`). Note that it due to computational considerations, we use do only 3X2 nested-CV  "
   ]
  },
  {
   "cell_type": "code",
   "execution_count": null,
   "metadata": {},
   "outputs": [],
   "source": [
    "cd $PRS_CODEBASE\n",
    "\n",
    "method=ld\n",
    "base_rep=102\n",
    "folds=2\n",
    "rep_start=1\n",
    "rep_end=3\n",
    "fold_start=1\n",
    "fold_end=2\n",
    "\n",
    "# phenos=\"ctrt t2d ast\"\n",
    "# phenos=\"gerx angna utfi\" # utfi # \"ctrt t2d ast utfi gerx angna\" #  chol hfvr hyty ht osar madd\" #  \"ctrt t2d ast utfi gerx angna\" # ctrt chol\n",
    "# phenos=\"chol hfvr hyty\"\n",
    "phenos=\"ht osar madd\"\n",
    "# phenos=\"ctrt t2d ast gerx angna utfi chol hfvr hyty ht osar madd\"\n",
    "\n",
    "targets=\"ukbb_sas,ukbb_afr\"\n",
    "imps=\"original,impute2_1kg_eur,impute2_1kg_sas,impute2_1kg_afr\"\n",
    "    \n",
    "for pheno in $phenos; do \n",
    "    discoveries=\"UKB_${pheno}_eur\"\n",
    "    bash run_UKB_folds_${method}.sh --discoveries=${discoveries} --targets=${targets} --imps=${imps} --pheno=${pheno} --ld=eur \\\n",
    "                                    --base_rep=${base_rep} --folds=${folds} --rep_start=${rep_start} --rep_end=${rep_end} --fold_start=${fold_start} --fold_end=${fold_end} & \n",
    "done"
   ]
  },
  {
   "cell_type": "markdown",
   "metadata": {},
   "source": [
    "#### Public EUR GWASs"
   ]
  },
  {
   "cell_type": "code",
   "execution_count": null,
   "metadata": {},
   "outputs": [],
   "source": [
    "method=pt3\n",
    "base_rep=105\n",
    "folds=5\n",
    "rep_start=1\n",
    "rep_end=6\n",
    "fold_start=1\n",
    "fold_end=5\n",
    "\n",
    "# discoveries=\"D2_sysp_evangelou_2018 D2_ldlp_willer_2013 D2_t2di_mahajan_2018 D2_gerx_an_2019 D2_madd_howard_2019\" \n",
    "\n",
    "discoveries=\"D2_sysp_evangelou_2018\" \n",
    "# discoveries=\"D2_ldlp_willer_2013\" \n",
    "# discoveries=\"D2_t2di_mahajan_2018\" \n",
    "# discoveries=\"D2_gerx_an_2019\" \n",
    "# discoveries=\"D2_madd_howard_2019\" \n",
    "\n",
    "imps=\"impute2_1kg_afr\" # \"original,impute2_1kg_eur,impute2_1kg_sas,impute2_1kg_afr\" \n",
    "targets=\"ukbb_afr\" \n",
    "\n",
    "for discovery in $discoveries; do \n",
    "    bash run_UKB_folds_${method}.sh --discoveries=${discovery} --targets=${targets} --imps=${imps} --ld=eur \\\n",
    "                                    --base_rep=${base_rep} --folds=${folds} --rep_start=${rep_start} --rep_end=${rep_end} --fold_start=${fold_start} --fold_end=${fold_end}\n",
    "done\n"
   ]
  },
  {
   "cell_type": "markdown",
   "metadata": {},
   "source": [
    "#### EUR subpopulation panel analysis  "
   ]
  },
  {
   "cell_type": "code",
   "execution_count": null,
   "metadata": {},
   "outputs": [],
   "source": [
    "method=ld # ls pt2 pt3\n",
    "base_rep=105\n",
    "folds=5\n",
    "rep_start=1\n",
    "rep_end=6\n",
    "fold_start=1\n",
    "fold_end=5\n",
    "\n",
    "imps=\"impute2_ajkg14_t101 impute2_1kg_ceu2 impute2_1kg_gbr2\" \n",
    "# imps=\"impute2_1kg_ibs2 impute2_1kg_tsi2 impute2_1kg_fin2\" # imp=\"impute2_ajkg14_t101\" # \"impute2_1kg_ceu2\"\n",
    "\n",
    "discoveries=\"PGC2_noAJ\"\n",
    "targets=\"dbg-scz19\" \n",
    "\n",
    "for imp in $imps; do \n",
    "    bash run_UKB_folds_${method}.sh --discoveries=${discoveries} --targets=${targets} --imps=${imp} --ld=eur \\\n",
    "                                    --base_rep=${base_rep} --folds=${folds} --rep_start=${rep_start} --rep_end=${rep_end} --fold_start=${fold_start} --fold_end=${fold_end}\n",
    "done\n"
   ]
  },
  {
   "cell_type": "markdown",
   "metadata": {},
   "source": [
    "#### Evalute PRS quality using 100-size EUR imputation panel (`run_UKB_folds_{method}.sh`)"
   ]
  },
  {
   "cell_type": "code",
   "execution_count": null,
   "metadata": {},
   "outputs": [],
   "source": [
    "method=ls # pt3 pt2\n",
    "base_rep=105\n",
    "folds=5\n",
    "rep_start=1\n",
    "rep_end=6\n",
    "fold_start=1\n",
    "fold_end=5\n",
    "\n",
    "pheno=ctrt # ctrt chol hfvr hyty ht osar madd t2d ast utfi gerx angna \n",
    "\n",
    "targets=\"ukbb_sas\" # \"ukbb_sas,ukbb_afr\"\n",
    "imps=\"impute2_1kg_eur100\"\n",
    "\n",
    "for pheno in $phenos; do \n",
    "    discoveries=\"UKB_${pheno}_eur\"\n",
    "    bash run_UKB_folds_${method}.sh --discoveries=${discoveries} --targets=${targets} --imps=${imps} --pheno=${pheno} --ld=eur \\\n",
    "                                    --base_rep=${base_rep} --folds=${folds} --rep_start=${rep_start} --rep_end=${rep_end} --fold_start=${fold_start} --fold_end=${fold_end}\n",
    "done\n"
   ]
  },
  {
   "cell_type": "markdown",
   "metadata": {},
   "source": [
    "#### SCZ EUR"
   ]
  },
  {
   "cell_type": "code",
   "execution_count": null,
   "metadata": {},
   "outputs": [],
   "source": [
    "method=pt2 # pt2 pt3 ls \n",
    "base_rep=105\n",
    "folds=5\n",
    "rep_start=1\n",
    "rep_end=6\n",
    "fold_start=1\n",
    "fold_end=5\n",
    "\n",
    "discoveries=\"PGC2_noAJ\" \n",
    "\n",
    "imps=\"impute2_1kg_eur2 impute2_1kg_eas2 impute2_1kg_afr2\" \n",
    "targets=\"dbg-scz19\" \n",
    "\n",
    "for imp in $imps; do \n",
    "    bash run_UKB_folds_${method}.sh --discoveries=${discoveries} --targets=${targets} --imps=${imp} --ld=eur \\\n",
    "                                    --base_rep=${base_rep} --folds=${folds} --rep_start=${rep_start} --rep_end=${rep_end} --fold_start=${fold_start} --fold_end=${fold_end} & \n",
    "done\n"
   ]
  },
  {
   "cell_type": "code",
   "execution_count": null,
   "metadata": {},
   "outputs": [],
   "source": [
    "method=pt2 # ls pt2 pt3\n",
    "base_rep=105\n",
    "folds=5\n",
    "rep_start=1\n",
    "rep_end=6\n",
    "fold_start=1\n",
    "fold_end=5\n",
    "\n",
    "discoveries=\"PGC2_noAJ\" \n",
    "\n",
    "imps=\"impute2_1kg_eur impute2_1kg_eas impute2_1kg_afr\" \n",
    "targets=\"gain_afr\" \n",
    "\n",
    "for imp in $imps; do \n",
    "    bash run_UKB_folds_${method}.sh --discoveries=${discoveries} --targets=${targets} --imps=${imp} --ld=eur \\\n",
    "                                    --base_rep=${base_rep} --folds=${folds} --rep_start=${rep_start} --rep_end=${rep_end} --fold_start=${fold_start} --fold_end=${fold_end} & \n",
    "done\n"
   ]
  },
  {
   "cell_type": "markdown",
   "metadata": {},
   "source": [
    "#### Evaluate PRS quality using EAS GWASs"
   ]
  },
  {
   "cell_type": "code",
   "execution_count": null,
   "metadata": {},
   "outputs": [],
   "source": [
    "method=ls # pt3 pt2\n",
    "base_rep=105\n",
    "folds=5\n",
    "rep_start=1\n",
    "rep_end=6\n",
    "fold_start=1\n",
    "fold_end=5\n",
    "\n",
    "phenos=ctrt # \"ctrt chol hfvr hyty ht osar madd t2d ast utfi gerx angna\" \n",
    "\n",
    "targets=\"ukbb_sas\" # \"ukbb_sas,ukbb_afr\"\n",
    "imps=\"original,impute2_1kg_eur,impute2_1kg_afr,impute2_1kg_sas\" \n",
    "\n",
    "for pheno in $phenos; do \n",
    "    discoveries=\"GC_${pheno}_sakaue_2021\"\n",
    "    bash run_UKB_folds_${method}.sh --discoveries=${discoveries} --targets=${targets} --imps=${imps} --pheno=${pheno} --ld=eas \\\n",
    "                                    --base_rep=${base_rep} --folds=${folds} --rep_start=${rep_start} --rep_end=${rep_end} --fold_start=${fold_start} --fold_end=${fold_end}  \n",
    "done"
   ]
  },
  {
   "cell_type": "markdown",
   "metadata": {},
   "source": [
    "#### SCZ EAS - P+T"
   ]
  },
  {
   "cell_type": "code",
   "execution_count": null,
   "metadata": {},
   "outputs": [],
   "source": [
    "method=pt3 # pt2 pt3\n",
    "base_rep=105\n",
    "folds=5\n",
    "rep_start=1\n",
    "rep_end=6\n",
    "fold_start=1\n",
    "fold_end=5\n",
    "\n",
    "discoveries=\"LH_PGC-SCZ-EAS\" \n",
    "\n",
    "imps=\"impute2_1kg_afr\" # \"impute2_1kg_eur impute2_1kg_eas impute2_1kg_afr\" \n",
    "targets=\"gain_afr\" \n",
    "\n",
    "for imp in $imps; do \n",
    "    bash run_UKB_folds_${method}.sh --discoveries=${discoveries} --targets=${targets} --imps=${imp} --ld=eas \\\n",
    "                                    --base_rep=${base_rep} --folds=${folds} --rep_start=${rep_start} --rep_end=${rep_end} --fold_start=${fold_start} --fold_end=${fold_end} --override=true # & \n",
    "done\n"
   ]
  },
  {
   "cell_type": "code",
   "execution_count": null,
   "metadata": {},
   "outputs": [],
   "source": [
    "method=pt3 # pt2 pt3\n",
    "base_rep=105\n",
    "folds=5\n",
    "rep_start=1\n",
    "rep_end=6\n",
    "fold_start=1\n",
    "fold_end=5\n",
    "\n",
    "discoveries=\"LH_PGC-SCZ-EAS\" \n",
    "\n",
    "imps=\"impute2_1kg_eur2 impute2_1kg_eas2 impute2_1kg_afr2\" \n",
    "targets=\"dbg-scz19\" \n",
    "\n",
    "for imp in $imps; do \n",
    "    bash run_UKB_folds_${method}.sh --discoveries=${discoveries} --targets=${targets} --imps=${imp} --ld=eas \\\n",
    "                                    --base_rep=${base_rep} --folds=${folds} --rep_start=${rep_start} --rep_end=${rep_end} --fold_start=${fold_start} --fold_end=${fold_end} --override=true # & \n",
    "done\n"
   ]
  },
  {
   "cell_type": "markdown",
   "metadata": {},
   "source": [
    "#### SCZ EAS - Lassosum"
   ]
  },
  {
   "cell_type": "code",
   "execution_count": null,
   "metadata": {},
   "outputs": [],
   "source": [
    "method=ls\n",
    "base_rep=105\n",
    "folds=5\n",
    "rep_start=1\n",
    "rep_end=6\n",
    "fold_start=1\n",
    "fold_end=5\n",
    "\n",
    "discoveries=\"LH_PGC-SCZ-EAS_LS\" \n",
    "\n",
    "imps=\"impute2_1kg_eur2 impute2_1kg_eas2 impute2_1kg_afr2\" \n",
    "targets=\"dbg-scz19\" \n",
    "\n",
    "for imp in $imps; do \n",
    "    bash run_UKB_folds_${method}.sh --discoveries=${discoveries} --targets=${targets} --imps=${imp} --ld=eas \\\n",
    "                                    --base_rep=${base_rep} --folds=${folds} --rep_start=${rep_start} --rep_end=${rep_end} --fold_start=${fold_start} --fold_end=${fold_end} & \n",
    "done\n"
   ]
  },
  {
   "cell_type": "code",
   "execution_count": null,
   "metadata": {},
   "outputs": [],
   "source": [
    "method=ls\n",
    "base_rep=105\n",
    "folds=5\n",
    "rep_start=1\n",
    "rep_end=6\n",
    "fold_start=1\n",
    "fold_end=5\n",
    "\n",
    "discoveries=\"LH_PGC-SCZ-EAS_LS\" \n",
    "\n",
    "imps=\"impute2_1kg_afr\" # \"impute2_1kg_eur impute2_1kg_eas impute2_1kg_afr\" \n",
    "targets=\"gain_afr\" \n",
    "\n",
    "for imp in $imps; do \n",
    "    bash run_UKB_folds_${method}.sh --discoveries=${discoveries} --targets=${targets} --imps=${imp} --ld=eas \\\n",
    "                                    --base_rep=${base_rep} --folds=${folds} --rep_start=${rep_start} --rep_end=${rep_end} --fold_start=${fold_start} --fold_end=${fold_end} & \n",
    "done\n"
   ]
  }
 ],
 "metadata": {
  "kernelspec": {
   "display_name": "Bash",
   "language": "bash",
   "name": "bash"
  },
  "language_info": {
   "codemirror_mode": "shell",
   "file_extension": ".sh",
   "mimetype": "text/x-sh",
   "name": "bash"
  }
 },
 "nbformat": 4,
 "nbformat_minor": 5
}
