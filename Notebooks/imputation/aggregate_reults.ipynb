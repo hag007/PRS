{
 "cells": [
  {
   "cell_type": "markdown",
   "metadata": {},
   "source": [
    "### Aggregate imputation results"
   ]
  },
  {
   "cell_type": "markdown",
   "metadata": {},
   "source": [
    "#### SCZ"
   ]
  },
  {
   "cell_type": "code",
   "execution_count": null,
   "metadata": {},
   "outputs": [],
   "source": [
    "discoveries=\"PGC2_noAJ\" \n",
    "targets=\"dbg-scz19\"\n",
    "imps=\"impute2_1kg_eur-ajkg14-t101-merged,impute2_ajkg14_t101,impute2_1kg_eur2,impute2_1kg_eas2,impute2_1kg_afr2,impute2_1kg_gbr2,impute2_1kg_ceu2,impute2_1kg_tsi2,impute2_1kg_ibs2,impute2_1kg_fin2\"\n",
    "methods=\"pt3,pt2,ls,ld\"\n",
    "methods=${methods//,/ }\n",
    "base_rep=105\n",
    "suffix=\"scz\"\n",
    "\n",
    "## aggregate_prs_statistics\n",
    "for method in ${methods[@]}; do\n",
    "    for cur_rep in {1..6}; do \n",
    "        echo \"start aggreagating method ${method} rep ${base_rep}_${cur_rep}\"\n",
    "        # python aggregate_prs_statistics_cv_${method}.py --discoveries ${discoveries} --targets ${targets} --imps ${imps} --rep ${base_rep}_${cur_rep} --suffix ${suffix} && \\\n",
    "        # python plot_metrics_boxplots_cv_${method}.py --discoveries ${discoveries} --targets ${targets} --imps ${imps} --rep_start ${base_rep}_${cur_rep} --rep_end ${base_rep}_${cur_rep} --suffix ${suffix} & # && \\\n",
    "        python plot_metrics_boxplots_cv_${method}.py --discoveries ${discoveries} --targets ${targets} --imps ${imps} --rep_start ${base_rep}_${cur_rep} --rep_end ${base_rep}_${cur_rep} --metric or_99 --suffix ${suffix};\n",
    "    done;    \n",
    "done;\n",
    "\n",
    "\n",
    "# ## for cur_rep in {1..6}; do \n",
    "#     python aggregate_prs_statistics_cv_${method}.py --discoveries PGC2_noAJ --targets dbg-scz19 --imps impute2_ajkg14_t101,impute2_1kg_eur2,impute2_1kg_eas2,impute2_1kg_afr2,impute2_1kg_gbr2,impute2_1kg_ceu2,impute2_1kg_tsi2,impute2_1kg_ibs2,impute2_1kg_fin2 --rep ${base_rep}_${cur_rep};\n",
    "# done;\n",
    " "
   ]
  },
  {
   "cell_type": "code",
   "execution_count": null,
   "metadata": {},
   "outputs": [],
   "source": [
    "discoveries=\"PGC2_noAJ\" \n",
    "targets=\"dbg-scz19\"\n",
    "imps=\"impute2_ajkg14_t101,impute2_1kg_eur2,impute2_1kg_eas2,impute2_1kg_afr2,impute2_1kg_gbr2,impute2_1kg_tsi2,impute2_1kg_ibs2\" # impute2_1kg_ceu2,impute2_1kg_fin2,\n",
    "method=\"ls\"\n",
    "base_rep=105\n",
    "\n",
    "for cur_rep in {1..6}; do \n",
    "    python plot_metrics_boxplots_cv_${method}.py --discoveries ${discoveries} --targets ${targets} --imps ${imps} --rep_start ${base_rep}_${cur_rep} --rep_end ${base_rep}_${cur_rep};\n",
    "    python plot_metrics_boxplots_cv_${method}.py --discoveries ${discoveries} --targets ${targets} --imps ${imps} --rep_start ${base_rep}_${cur_rep} --rep_end ${base_rep}_${cur_rep} --metric or_99;\n",
    "    # python plot_metrics_boxplots_cv_${method}.py --discoveries ${discoveries} --targets ${targets} --imps ${imps} --rep_start ${base_rep}_${cur_rep} --rep_end ${base_rep}_${cur_rep} --metric or_99;\n",
    "done;\n"
   ]
  },
  {
   "cell_type": "markdown",
   "metadata": {},
   "source": [
    "#### UKB"
   ]
  },
  {
   "cell_type": "code",
   "execution_count": null,
   "metadata": {},
   "outputs": [],
   "source": [
    "# discoveries=\"D2_sysp_evangelou_2018,D2_chol_willer_2013,,D2_t2di_mahajan_2018,D2_gerx_an_2019,D2_madd_howard_2019\" # D2_ldlp_willer_2013 # \"D2_sysp_evangelou_2018,D2_dias_evangelou_2018,D2_asth_zhu_2019,D2_chol_willer_2013,D2_hdlp_willer_2013,,D2_t2di_mahajan_2018,D2_gerx_an_2019,D2_madd_howard_2019\" # D2_ldlp_willer_2013\n",
    "discoveries=\"UKB_ht_eur,UKB_chol_eur,UKB_hfvr_eur,UKB_hyty_eur,UKB_madd_eur,UKB_osar_eur,UKB_t2d_eur,UKB_utfi_eur,UKB_gerx_eur,UKB_angna_eur,UKB_ast_eur,UKB_ctrt_eur\"\n",
    "suffix=\"ukb_gwas\"\n",
    "method=\"pt3\"\n",
    "base_rep=105\n",
    "stage=1\n",
    "folds=5\n",
    "\n",
    "\n",
    "targets=\"ukbb_afr,ukbb_sas\" # ${pop}\" # ,ukbb_sas\n",
    "imps=\"original,impute2_1kg_sas,impute2_1kg_afr,impute2_1kg_eur\" # ,impute2_1kg_gbr,imputeX_new\" # \"impute2_1kg_sas,impute2_1kg_afr,impute2_1kg_eur,impute2_1kg_gbr\" # impute2_1kg_${pop} ,impute2_1kg_sas\" \n",
    "\n",
    "declare -A gwas_to_pheno=(['D2_hght_yengo_2018']='height' ['D2_ldlp_willer_2013']='chol' ['D2_hdlp_willer_2013']='chol' \\\n",
    "                          ['D2_chol_willer_2013']='chol'  ['D2_sysp_evangelou_2018']='ht' ['D2_dias_evangelou_2018']='ht' \\\n",
    "                          ['D2_asth_zhu_2019']='ast' ['D2_t2di_mahajan_2018']='t2d'\\\n",
    "                          ['D2_madd_howard_2019']='madd' ['D2_gerx_an_2019']='gerx'\\\n",
    "                          ['UKB_ht_eur']='ht' ['UKB_chol_eur']='chol' \\\n",
    "                          ['UKB_hfvr_eur']='hfvr' ['UKB_hyty_eur']='hyty'  ['UKB_madd_eur']='madd' \\\n",
    "                          ['UKB_osar_eur']='osar' ['UKB_t2d_eur']='t2d' ['UKB_utfi_eur']='utfi' \\\n",
    "                          ['UKB_gerx_eur']='gerx' ['UKB_angna_eur']='angna' ['UKB_ast_eur']='ast' \\\n",
    "                          ['UKB_ctrt_eur']='ctrt') \n",
    "\n",
    "## aggregate_prs_statistics\n",
    "for cur_rep in {1..6}; do \n",
    "    python aggregate_prs_statistics_cv_${method}.py --discoveries ${discoveries} --targets ${targets} --imps ${imps} --rep ${base_rep}_${cur_rep} --suffix ${suffix} &&\\\n",
    "    python plot_metrics_boxplots_cv_${method}.py --discoveries ${discoveries} --targets ${targets} --imps ${imps} --rep_start ${base_rep}_${cur_rep} --rep_end ${base_rep}_${cur_rep} --suffix ${suffix} &&\\\n",
    "    python plot_metrics_boxplots_cv_${method}.py --discoveries ${discoveries} --targets ${targets} --imps ${imps} --rep_start ${base_rep}_${cur_rep} --rep_end ${base_rep}_${cur_rep} --suffix ${suffix} --metric or_99 \n",
    "done;\n",
    "\n"
   ]
  },
  {
   "cell_type": "code",
   "execution_count": null,
   "metadata": {},
   "outputs": [],
   "source": [
    "discoveries=\"D2_sysp_evangelou_2018,D2_dias_evangelou_2018,D2_asth_zhu_2019,D2_chol_willer_2013,D2_hdlp_willer_2013,D2_ldlp_willer_2013,D2_t2di_mahajan_2018,D2_gerx_an_2019,D2_madd_howard_2019\" \n",
    "# discoveries=\"UKB_ht_eur,UKB_chol_eur,UKB_hfvr_eur,UKB_hyty_eur,UKB_madd_eur,UKB_osar_eur,UKB_t2d_eur,UKB_utfi_eur,UKB_gerx_eur,UKB_angna_eur,UKB_ast_eur,UKB_ctrt_eur\"\n",
    "method=\"pt2\"\n",
    "base_rep=105\n",
    "stage=1\n",
    "folds=5\n",
    "declare -A gwas_to_pheno=(['D2_hght_yengo_2018']='height' ['D2_ldlp_willer_2013']='chol' ['D2_hdlp_willer_2013']='chol' ['D2_chol_willer_2013']='chol'  ['D2_sysp_evangelou_2018']='ht' ['D2_dias_evangelou_2018']='ht' ['D2_asth_zhu_2019']='ast' ['D2_t2di_mahajan_2018']='t2d') # ['D2_hdlp_willer_2013']='chol' ['D_t2d_mahajan_2018']='t2d' \n",
    "# declare -A gwas_to_pheno=(['UKB_ht_eur']='ht' ['UKB_chol_eur']='chol' ['UKB_hfvr_eur']='hfvr' ['UKB_hyty_eur']='hyty'  ['UKB_madd_eur']='madd' ['UKB_osar_eur']='osar' ['UKB_t2d_eur']='t2d' ['UKB_utfi_eur']='utfi' ['UKB_gerx_eur']='gerx' ['UKB_angna_eur']='angna' ['UKB_ast_eur']='ast' ['UKB_ctrt_eur']='ctrt') \n",
    "\n",
    "targets=\"ukbb_afr,ukbb_sas\" # \"ukbb_sas,ukbb_afr\" # ,ukbb_sas\"\n",
    "imps=\"original,impute2_1kg_sas,impute2_1kg_afr,impute2_1kg_eur,impute2_1kg_gbr\" # \"impute2_1kg_ceu2\"\n",
    "\n",
    "\n",
    "for cur_rep in {1..6}; do \n",
    "    python plot_metrics_boxplots_cv_${method}.py --discoveries ${discoveries} --targets ${targets} --imps ${imps} --rep_start ${base_rep}_${cur_rep} --rep_end ${base_rep}_${cur_rep} --suffix ${targets};\n",
    "    # python plot_metrics_boxplots_cv_${method}.py --discoveries ${discoveries} --targets ${targets} --imps ${imps} --rep_start ${base_rep}_${cur_rep} --rep_end ${base_rep}_${cur_rep} --suffix ${targets} --metric or_99;\n",
    "    # python plot_metrics_boxplots_cv_${method}.py --discoveries ${discoveries} --targets ${targets} --imps ${imps} --rep_start ${base_rep}_${cur_rep} --rep_end ${base_rep}_${cur_rep} --metric or_99;\n",
    "done;\n"
   ]
  },
  {
   "cell_type": "markdown",
   "metadata": {},
   "source": [
    "####  GAIN"
   ]
  },
  {
   "cell_type": "code",
   "execution_count": null,
   "metadata": {},
   "outputs": [],
   "source": [
    "discoveries=\"PGC2_noAJ\" \n",
    "targets=\"gain_afr\"\n",
    "imps=\"impute2_1kg_eur,impute2_1kg_afr,impute2_1kg_eas\"\n",
    "methods=\"pt3\" # \"pt,pt2,ls\"\n",
    "methods=${methods//,/ }\n",
    "base_rep=105\n",
    "suffix=\"scz_gain\"\n",
    "\n",
    "## aggregate_prs_statistics\n",
    "for method in ${methods[@]}; do\n",
    "    for cur_rep in {1..6}; do \n",
    "        echo \"start aggreagating method ${method} rep ${base_rep}_${cur_rep}\"\n",
    "        python aggregate_prs_statistics_cv_${method}.py --discoveries ${discoveries} --targets ${targets} --imps ${imps} --rep ${base_rep}_${cur_rep} --suffix ${suffix} &&\n",
    "        python plot_metrics_boxplots_cv_${method}.py --discoveries ${discoveries} --targets ${targets} --imps ${imps} --rep_start ${base_rep}_${cur_rep} --rep_end ${base_rep}_${cur_rep} --suffix ${suffix} && \\\n",
    "        python plot_metrics_boxplots_cv_${method}.py --discoveries ${discoveries} --targets ${targets} --imps ${imps} --rep_start ${base_rep}_${cur_rep} --rep_end ${base_rep}_${cur_rep} --metric or_99 --suffix ${suffix} &\n",
    "    done;    \n",
    "done;\n",
    "\n",
    "\n",
    "# ## for cur_rep in {1..6}; do \n",
    "#     python aggregate_prs_statistics_cv_${method}.py --discoveries PGC2_noAJ --targets dbg-scz19 --imps impute2_ajkg14_t101,impute2_1kg_eur2,impute2_1kg_eas2,impute2_1kg_afr2,impute2_1kg_gbr2,impute2_1kg_ceu2,impute2_1kg_tsi2,impute2_1kg_ibs2,impute2_1kg_fin2 --rep ${base_rep}_${cur_rep};\n",
    "# done;\n",
    " "
   ]
  },
  {
   "cell_type": "markdown",
   "metadata": {},
   "source": [
    "#### BCAC AJ"
   ]
  },
  {
   "cell_type": "code",
   "execution_count": null,
   "metadata": {},
   "outputs": [],
   "source": [
    "discoveries=\"bcac_onco_eur-5pcs\" \n",
    "targets=\"bcac_onco_aj\"\n",
    "imps=\"impute2_1kg_eur2,impute2_1kg_afr2,impute2_1kg_eas2,impute2_ajkg14_t101\"\n",
    "methods=\"pt3\" # \"pt,pt2,ls\"\n",
    "methods=${methods//,/ }\n",
    "base_rep=105\n",
    "suffix=\"bc_aj\"\n",
    "\n",
    "## aggregate_prs_statistics\n",
    "for method in ${methods[@]}; do\n",
    "    for cur_rep in {1..6}; do \n",
    "        echo \"start aggreagating method ${method} rep ${base_rep}_${cur_rep}\"\n",
    "        python aggregate_prs_statistics_cv_${method}.py --discoveries ${discoveries} --targets ${targets} --imps ${imps} --rep ${base_rep}_${cur_rep} --suffix ${suffix} &&\n",
    "        python plot_metrics_boxplots_cv_${method}.py --discoveries ${discoveries} --targets ${targets} --imps ${imps} --rep_start ${base_rep}_${cur_rep} --rep_end ${base_rep}_${cur_rep} --suffix ${suffix} && \\\n",
    "        python plot_metrics_boxplots_cv_${method}.py --discoveries ${discoveries} --targets ${targets} --imps ${imps} --rep_start ${base_rep}_${cur_rep} --rep_end ${base_rep}_${cur_rep} --metric or_99 --suffix ${suffix} &\n",
    "    done;    \n",
    "done;\n",
    "\n",
    "\n",
    "# ## for cur_rep in {1..6}; do \n",
    "#     python aggregate_prs_statistics_cv_${method}.py --discoveries PGC2_noAJ --targets dbg-scz19 --imps impute2_ajkg14_t101,impute2_1kg_eur2,impute2_1kg_eas2,impute2_1kg_afr2,impute2_1kg_gbr2,impute2_1kg_ceu2,impute2_1kg_tsi2,impute2_1kg_ibs2,impute2_1kg_fin2 --rep ${base_rep}_${cur_rep};\n",
    "# done;\n",
    " "
   ]
  },
  {
   "cell_type": "markdown",
   "metadata": {},
   "source": [
    "#### SCZ EAS dbg-scz19 AJ"
   ]
  },
  {
   "cell_type": "code",
   "execution_count": null,
   "metadata": {},
   "outputs": [],
   "source": [
    "discoveries=\"LH_PGC-SCZ-EAS,LH_PGC-SCZ-EAS_LS\" \n",
    "targets=\"dbg-scz19\"\n",
    "imps=\"impute2_1kg_eur2,impute2_1kg_afr2,impute2_1kg_eas2 \" # \",impute2_ajkg14_t101\"\n",
    "methods=\"pt3\" # \"pt,pt2,ls\"\n",
    "methods=${methods//,/ }\n",
    "base_rep=105\n",
    "suffix=\"scz_aj_eas\"\n",
    "\n",
    "## aggregate_prs_statistics\n",
    "for method in ${methods[@]}; do\n",
    "    for cur_rep in {1..6}; do \n",
    "        echo \"start aggreagating method ${method} rep ${base_rep}_${cur_rep}\"\n",
    "        python aggregate_prs_statistics_cv_${method}.py --discoveries ${discoveries} --targets ${targets} --imps ${imps} --rep ${base_rep}_${cur_rep} --suffix ${suffix} &&\n",
    "        python plot_metrics_boxplots_cv_${method}.py --discoveries ${discoveries} --targets ${targets} --imps ${imps} --rep_start ${base_rep}_${cur_rep} --rep_end ${base_rep}_${cur_rep} --suffix ${suffix} && \\\n",
    "        python plot_metrics_boxplots_cv_${method}.py --discoveries ${discoveries} --targets ${targets} --imps ${imps} --rep_start ${base_rep}_${cur_rep} --rep_end ${base_rep}_${cur_rep} --metric or_99 --suffix ${suffix} &\n",
    "    done;    \n",
    "done;\n",
    "\n",
    "\n",
    "# ## for cur_rep in {1..6}; do \n",
    "#     python aggregate_prs_statistics_cv_${method}.py --discoveries PGC2_noAJ --targets dbg-scz19 --imps impute2_ajkg14_t101,impute2_1kg_eur2,impute2_1kg_eas2,impute2_1kg_afr2,impute2_1kg_gbr2,impute2_1kg_ceu2,impute2_1kg_tsi2,impute2_1kg_ibs2,impute2_1kg_fin2 --rep ${base_rep}_${cur_rep};\n",
    "# done;\n"
   ]
  },
  {
   "cell_type": "code",
   "execution_count": null,
   "metadata": {},
   "outputs": [],
   "source": [
    "discoveries=\"LH_PGC-SCZ-EAS,LH_PGC-SCZ-EAS_LS\" \n",
    "targets=\"dbg-scz19\"\n",
    "imps=\"impute2_1kg_eur2,impute2_1kg_afr2,impute2_1kg_eas2 \" # \",impute2_ajkg14_t101\"\n",
    "methods=\"ls\" # \"pt,pt2,ls\"\n",
    "methods=${methods//,/ }\n",
    "base_rep=105\n",
    "suffix=\"scz_aj_eas\"\n",
    "\n",
    "## aggregate_prs_statistics\n",
    "for method in ${methods[@]}; do\n",
    "    for cur_rep in {1..6}; do \n",
    "        echo \"start aggreagating method ${method} rep ${base_rep}_${cur_rep}\"\n",
    "        python aggregate_prs_statistics_cv_${method}.py --discoveries ${discoveries} --targets ${targets} --imps ${imps} --rep ${base_rep}_${cur_rep} --suffix ${suffix}\n",
    "    done;    \n",
    "done;\n",
    "\n",
    "\n"
   ]
  },
  {
   "cell_type": "markdown",
   "metadata": {},
   "source": [
    "#### SCZ EAS gain_afr"
   ]
  },
  {
   "cell_type": "code",
   "execution_count": null,
   "metadata": {},
   "outputs": [],
   "source": [
    "discoveries=\"LH_PGC-SCZ-EAS,LH_PGC-SCZ-EAS_LS\" \n",
    "targets=\"gain_afr\"\n",
    "imps=\"impute2_1kg_eur,impute2_1kg_afr,impute2_1kg_eas\"\n",
    "methods=\"pt3\" # ,pt2,ls\"\n",
    "methods=${methods//,/ }\n",
    "base_rep=105\n",
    "suffix=\"scz_gain_afr_eas\"\n",
    "\n",
    "## aggregate_prs_statistics\n",
    "for method in ${methods[@]}; do\n",
    "    for cur_rep in {1..6}; do \n",
    "        echo \"start aggreagating method ${method} rep ${base_rep}_${cur_rep}\"\n",
    "        python aggregate_prs_statistics_cv_${method}.py --discoveries ${discoveries} --targets ${targets} --imps ${imps} --rep ${base_rep}_${cur_rep} --suffix ${suffix} &&\n",
    "        python plot_metrics_boxplots_cv_${method}.py --discoveries ${discoveries} --targets ${targets} --imps ${imps} --rep_start ${base_rep}_${cur_rep} --rep_end ${base_rep}_${cur_rep} --suffix ${suffix} && \\\n",
    "        python plot_metrics_boxplots_cv_${method}.py --discoveries ${discoveries} --targets ${targets} --imps ${imps} --rep_start ${base_rep}_${cur_rep} --rep_end ${base_rep}_${cur_rep} --metric or_99 --suffix ${suffix} &\n",
    "    done;    \n",
    "done;\n",
    "\n",
    "\n",
    "# ## for cur_rep in {1..6}; do \n",
    "#     python aggregate_prs_statistics_cv_${method}.py --discoveries PGC2_noAJ --targets dbg-scz19 --imps impute2_ajkg14_t101,impute2_1kg_eur2,impute2_1kg_eas2,impute2_1kg_afr2,impute2_1kg_gbr2,impute2_1kg_ceu2,impute2_1kg_tsi2,impute2_1kg_ibs2,impute2_1kg_fin2 --rep ${base_rep}_${cur_rep};\n",
    "# done;\n",
    " "
   ]
  },
  {
   "cell_type": "markdown",
   "metadata": {},
   "source": [
    "#### BC EAS AJ"
   ]
  },
  {
   "cell_type": "code",
   "execution_count": null,
   "metadata": {},
   "outputs": [],
   "source": [
    "discoveries=\"GC_bc_sakaue_2020,GC_bc_sakaue_2020_LS\" \n",
    "targets=\"bcac_onco_aj\"\n",
    "imps=\"impute2_1kg_eur2,impute2_1kg_afr2,impute2_1kg_eas2,impute2_ajkg14_t101\"\n",
    "methods=\"pt3\"# \"pt,pt2,ls\"\n",
    "methods=${methods//,/ }\n",
    "base_rep=105\n",
    "suffix=\"bc_aj_eas\"\n",
    "\n",
    "## aggregate_prs_statistics\n",
    "for method in ${methods[@]}; do\n",
    "    for cur_rep in {1..6}; do \n",
    "        echo \"start aggreagating method ${method} rep ${base_rep}_${cur_rep}\"\n",
    "        python aggregate_prs_statistics_cv_${method}.py --discoveries ${discoveries} --targets ${targets} --imps ${imps} --rep ${base_rep}_${cur_rep} --suffix ${suffix} &&\n",
    "        python plot_metrics_boxplots_cv_${method}.py --discoveries ${discoveries} --targets ${targets} --imps ${imps} --rep_start ${base_rep}_${cur_rep} --rep_end ${base_rep}_${cur_rep} --suffix ${suffix} && \\\n",
    "        python plot_metrics_boxplots_cv_${method}.py --discoveries ${discoveries} --targets ${targets} --imps ${imps} --rep_start ${base_rep}_${cur_rep} --rep_end ${base_rep}_${cur_rep} --metric or_99 --suffix ${suffix} &\n",
    "    done;    \n",
    "done;\n",
    "\n",
    "\n",
    "# ## for cur_rep in {1..6}; do \n",
    "#     python aggregate_prs_statistics_cv_${method}.py --discoveries PGC2_noAJ --targets dbg-scz19 --imps impute2_ajkg14_t101,impute2_1kg_eur2,impute2_1kg_eas2,impute2_1kg_afr2,impute2_1kg_gbr2,impute2_1kg_ceu2,impute2_1kg_tsi2,impute2_1kg_ibs2,impute2_1kg_fin2 --rep ${base_rep}_${cur_rep};\n",
    "# done;\n",
    " "
   ]
  },
  {
   "cell_type": "code",
   "execution_count": null,
   "metadata": {},
   "outputs": [],
   "source": [
    "discoveries=\"D2_ldlp_willer_2013,D2_chol_willer_2013,D2_hdlp_willer_2013,D2_sysp_evangelou_2018,D2_dias_evangelou_2018,D2_asth_zhu_2019,D_t2d_mahajan_2018,D2_t2di_mahajan_2018\"; \n",
    "discoveries=${discoveries//,/ }\n",
    "targets=ukbb_sas,ukbb_afr\n",
    "targets=${targets//,/ }\n",
    "\n",
    "declare -A gwas_to_pheno=(['D2_hght_yengo_2018']='height' ['D2_ldlp_willer_2013']='chol' ['D2_hdlp_willer_2013']='chol' \\\n",
    "                          ['D2_chol_willer_2013']='chol'  ['D2_sysp_evangelou_2018']='ht' ['D2_dias_evangelou_2018']='ht' \\\n",
    "                          ['D2_asth_zhu_2019']='ast' ['D2_t2di_mahajan_2018']='t2d'\\\n",
    "                          ['D2_madd_howard_2019']='madd' ['D2_gerx_an_2019']='gerx'\\\n",
    "                          ['UKB_ht_eur']='ht' ['UKB_chol_eur']='chol' \\\n",
    "                          ['UKB_hfvr_eur']='hfvr' ['UKB_hyty_eur']='hyty'  ['UKB_madd_eur']='madd' \\\n",
    "                          ['UKB_osar_eur']='osar' ['UKB_t2d_eur']='t2d' ['UKB_utfi_eur']='utfi' \\\n",
    "                          ['UKB_gerx_eur']='gerx' ['UKB_angna_eur']='angna' ['UKB_ast_eur']='ast' \\\n",
    "                          ['UKB_ctrt_eur']='ctrt') \n",
    "\n",
    "for discovery in ${discoveries[@]}; do\n",
    "    pheno=${gwas_to_pheno[${discovery}]}\n",
    "    for target in ${targets[@]}; do \n",
    "        echo \"running ls -1 /specific/netapp5/gaga/gaga-pd/prs_data/PRSs/${discovery}_${target}/*/*/prs.cv.pt3___* | awk '{print \\$0; gsub(\\\"___\\\", \\\"_'$pheno'__\\\"); print \\$0}' | xargs  -n 2 mv\"\n",
    "        ls -1 /specific/netapp5/gaga/gaga-pd/prs_data/PRSs/${discovery}_${target}/*/*/prs.cv.pt3___* | awk '{print $0; gsub(\"___\", \"_'$pheno'__\"); print $0}' | xargs  -n 2 mv\n",
    "    done\n",
    "done\n",
    "\n",
    "\n"
   ]
  }
 ],
 "metadata": {
  "kernelspec": {
   "display_name": "Python 3",
   "language": "python",
   "name": "python3"
  },
  "language_info": {
   "codemirror_mode": {
    "name": "ipython",
    "version": 3
   },
   "file_extension": ".py",
   "mimetype": "text/x-python",
   "name": "python",
   "nbconvert_exporter": "python",
   "pygments_lexer": "ipython3",
   "version": "3.8.5"
  }
 },
 "nbformat": 4,
 "nbformat_minor": 5
}
