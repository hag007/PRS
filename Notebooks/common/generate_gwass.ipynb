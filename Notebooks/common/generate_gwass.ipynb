{
 "cells": [
  {
   "cell_type": "markdown",
   "metadata": {},
   "source": [
    "## Generate GWAS "
   ]
  },
  {
   "cell_type": "markdown",
   "metadata": {},
   "source": [
    "### Important!  GWAS gneeration shoudlbe adapt to the commad below"
   ]
  },
  {
   "cell_type": "code",
   "execution_count": null,
   "metadata": {},
   "outputs": [],
   "source": [
    "#### TBD params!\n",
    "\n",
    "eth=pl\n",
    "target=\"bcac_onco_eur-minus-${eth}\"\n",
    "imp=\"impX_new\"\n",
    "\n",
    "if [[ ! -d $PRS_GWASS/${target} ]]\n",
    "    echo \"Creating dir: $PRS_GWASS/${target}\"\n",
    "    mkdir -p $PRS_GWASS/${target}\n",
    "fi\n",
    "\n",
    "plink2 --bfile ds.QC --glm --pheno $PRS_DATASETS/${target}/${imp}/pheno --allow-no-sex --covar ds...TBD! --covar-name PC1,PC2,PC3,PC4,PC5 --out $PRS_GWASS/${target}/gwas\n",
    "#plink2 --bfile ds.QC --glm --pheno $PRS_DATASETS/${target}/${imp}/pheno --allow-no-sex --covar covar_reformatted --covar-name PC1,PC2,PC3,PC4,PC5,country,history,age,er,brca12 --out gwas_covar\n"
   ]
  },
  {
   "cell_type": "markdown",
   "metadata": {},
   "source": [
    "#### Generation from a specific dataset derived from the UKB"
   ]
  },
  {
   "cell_type": "code",
   "execution_count": null,
   "metadata": {},
   "outputs": [],
   "source": [
    "pheno=\"ctrt\" # \"t2d\" \"osar\" \"hfvr\" \"chol\" \"ht\" \"ast\"\n",
    "pop=\"eur\"\n",
    "bash generate_gwas.sh --target ukbb_${pop} --imp imputeX_new --pheno ${pheno} --discovery UKB_${pheno}_${pop} --stage 2"
   ]
  },
  {
   "cell_type": "markdown",
   "metadata": {},
   "source": [
    "#### Alternatively, you can generate GWAS from the base UKB dataset"
   ]
  },
  {
   "cell_type": "code",
   "execution_count": null,
   "metadata": {},
   "outputs": [],
   "source": [
    "pheno=\"ctrt\" # \"t2d\" \"osar\" \"hfvr\" \"chol\" \"ht\" \"ast\" ## \"hyty\" \"gerx\" \"madd\" \"utfi\" \"angna\" \"ctrt\"\n",
    "pops=(\"gbr\" \"eur\")\n",
    "for pop in ${pops[@]}; do \n",
    "    bash generate_gwas.sh --target ukbb --imp imputeX --pop ${pop} --pheno ${pheno} --discovery UKB_${pheno}_${pop} --stage 2;\n",
    "done"
   ]
  }
 ],
 "metadata": {
  "kernelspec": {
   "display_name": "Bash",
   "language": "bash",
   "name": "bash"
  },
  "language_info": {
   "codemirror_mode": "shell",
   "file_extension": ".sh",
   "mimetype": "text/x-sh",
   "name": "bash"
  }
 },
 "nbformat": 4,
 "nbformat_minor": 5
}
