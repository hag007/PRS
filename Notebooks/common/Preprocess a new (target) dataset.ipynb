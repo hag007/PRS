{
 "cells": [
  {
   "cell_type": "code",
   "execution_count": null,
   "metadata": {},
   "outputs": [],
   "source": [
    "cd $PRS_CODEBASE"
   ]
  },
  {
   "cell_type": "markdown",
   "metadata": {},
   "source": [
    "## QC target set"
   ]
  },
  {
   "cell_type": "markdown",
   "metadata": {},
   "source": [
    "#### Prepare pheno files for oncoarray datasets"
   ]
  },
  {
   "cell_type": "code",
   "execution_count": 10,
   "metadata": {},
   "outputs": [
    {
     "name": "stdout",
     "output_type": "stream",
     "text": [
      "Done!\n"
     ]
    }
   ],
   "source": [
    "python -c '\n",
    "import pandas as pd \n",
    "import os\n",
    "\n",
    "\n",
    "def save_pheno_files_all(df_agg_formatted, super_pop):\n",
    "\n",
    "    try:\n",
    "        os.makedirs(f\"'$PRS_DATASETS_ELKON'/cimba_{super_pop.lower()}/impX\")\n",
    "    except:\n",
    "        pass\n",
    "    try:\n",
    "        os.symlink(f\"'$PRS_DATASETS_ELKON'/cimba_{super_pop.lower()}\", f\"'$PRS_DATASETS'/cimba_{super_pop.lower()}\")\n",
    "    except:\n",
    "        pass\n",
    "    df_agg_formatted[df_agg_formatted[\"super_pop\"]==super_pop].\\\n",
    "        loc[:,[\"FID\", \"IID\", \"super_pop\", \"pop\"]].to_csv(f\"'$PRS_DATASETS_ELKON'/cimba_{super_pop.lower()}/pop.panel\", sep=\"\\t\", index=False)\n",
    "    df_agg_formatted[df_agg_formatted[\"super_pop\"]==super_pop].\\\n",
    "        loc[:,[\"FID\", \"IID\", \"label\"]].to_csv(f\"'$PRS_DATASETS_ELKON'/cimba_{super_pop.lower()}/pheno\", sep=\"\\t\", index=False)\n",
    "    df_agg_formatted[df_agg_formatted[\"super_pop\"]==super_pop].\\\n",
    "        loc[:,[\"FID\", \"IID\", \"label\", \"censage\", \"diagnosis_age\"]].to_csv(f\"'$PRS_DATASETS_ELKON'/cimba_{super_pop.lower()}/cov2\", sep=\"\\t\", index=False)\n",
    "    df_agg_formatted[df_agg_formatted[\"super_pop\"]==super_pop].\\\n",
    "        loc[:,[\"FID\", \"IID\", \"censage\"]].to_csv(f\"'$PRS_DATASETS_ELKON'/cimba_{super_pop.lower()}/pheno_age\", sep=\"\\t\", index=False)\n",
    "\n",
    "\n",
    "def save_pheno_files_by_brca(df_agg_formatted, super_pop, brca_type):\n",
    "    \n",
    "    try:\n",
    "        os.makedirs(f\"'$PRS_DATASETS_ELKON'/cimba_{super_pop.lower()}_brca{brca_type}/impX\")\n",
    "    except:\n",
    "        pass\n",
    "    try:\n",
    "        os.symlink(f\"'$PRS_DATASETS_ELKON'/cimba_{super_pop.lower()}_brca{brca_type}\", f\"'$PRS_DATASETS'/cimba_{super_pop.lower()}_brca{brca_type}\")\n",
    "    except:\n",
    "        pass\n",
    "    \n",
    "    df_agg_formatted[(df_agg_formatted[\"brca_type\"]==brca_type) & (df_agg_formatted[\"super_pop\"]==super_pop)].\\\n",
    "        loc[:,[\"FID\", \"IID\", \"super_pop\", \"pop\"]].to_csv(f\"'$PRS_DATASETS_ELKON'/cimba_{super_pop.lower()}_brca{brca_type}_oncoarray/pop.panel\", sep=\"\\t\", index=False)\n",
    "    df_agg_formatted[(df_agg_formatted[\"brca_type\"]==brca_type) & (df_agg_formatted[\"super_pop\"]==super_pop)].\\\n",
    "        loc[:,[\"FID\", \"IID\", \"label\"]].to_csv(f\"'$PRS_DATASETS_ELKON'/cimba_{super_pop.lower()}_brca{brca_type}_oncoarray/pheno\", sep=\"\\t\", index=False)\n",
    "    df_agg_formatted[(df_agg_formatted[\"brca_type\"]==brca_type) & (df_agg_formatted[\"super_pop\"]==super_pop)].\\\n",
    "        loc[:,[\"FID\", \"IID\", \"label\", \"censage\", \"diagnosis_age\"]].to_csv(f\"'$PRS_DATASETS_ELKON'/cimba_{super_pop.lower()}_brca{brca_type}_oncoarray/cov2\", sep=\"\\t\", index=False)\n",
    "    df_agg_formatted[(df_agg_formatted[\"brca_type\"]==brca_type) & (df_agg_formatted[\"super_pop\"]==super_pop)].\\\n",
    "        loc[:,[\"FID\", \"IID\", \"censage\"]].to_csv(f\"'$PRS_DATASETS_ELKON'/cimba_{super_pop.lower()}_brca{brca_type}_oncoarray/pheno_age\", sep=\"\\t\", index=False)\n",
    "\n",
    "# Merge raw tables\n",
    "df2=pd.read_csv(\"'$PRS_DATASETS_ELKON'/cimba/impX/raw/pheno_data/B2_ONCO_Phenotype_04_07_2023.txt\", encoding=\"iso-8859-1\")\n",
    "df1=pd.read_csv(\"'$PRS_DATASETS_ELKON'/cimba/impX/raw/pheno_data/B1_ONCO_Phenotype_04_07_2023.txt\", encoding=\"iso-8859-1\")\n",
    "df_agg=pd.concat((df2,df1))\n",
    "\n",
    "# Censor cases where mastectomy or oophorectomy were performed after diagnosis\n",
    "df_agg=df_agg[~(((df_agg[\"ocage\"]< df_agg[\"bpoophage\"]) | (df_agg[\"bc1age\"]< df_agg[\"bpmage\"])))]\n",
    "\n",
    "# Add diagnosis age (either BC or OC)\n",
    "df_agg[\"diagnosis_age\"]= df_agg[[\"bc1age\", \"bc2age\", \"ocage\"]].min(axis=1) \n",
    "# Assign age of dignosis 200 for NA \n",
    "df_agg[\"diagnosis_age\"].fillna(200, inplace=True)\n",
    "\n",
    "#Assign super_pop and pop values\n",
    "df_agg[\"pop\"]=df_agg[\"Country\"]\n",
    "ethnicities={\"1\": \"EUR\", \"2\": \"AFR\", \"3\": \"EAS\", \"4\": \"HIS\", \"5\": \"AJ\", \"6\": \"EUR\"}\n",
    "df_agg[\"super_pop\"]=df_agg[\"ethnicity\"].apply(lambda a: ethnicities.get(a, \"other_unknown\"))\n",
    "df_agg[\"pop\"]=df_agg[[\"super_pop\", \"Country\"]].apply(lambda a: \"AJ\" if a[\"super_pop\"]==\"AJ\" else a[\"Country\"].replace(\" \",\"_\"), axis=1)\n",
    "\n",
    "\n",
    "\n",
    "# Cases are samples that has \"diagnosis_age\". NAs are control\n",
    "df_agg[\"label\"]=df_agg[\"diagnosis_age\"].apply(lambda a: 1 if a==200 else 2)\n",
    "df_agg.to_csv(\"'$PRS_DATASETS_ELKON'/cimba/impX/raw/pheno_data/ONCO_Phenotype_04_07_2023.tsv\", sep=\"\\t\", index=False)\n",
    "\n",
    "# Leave only relevant fields and rename them properly\n",
    "df_agg_formatted=df_agg.loc[pd.isnull(df_agg[\"ocage\"]),[\"Onc_ID\",\"Onc_ID\", \"super_pop\", \"pop\", \"Mut1Gene\", \"diagnosis_age\", \"censage\", \"label\"]]\n",
    "df_agg_formatted.columns = [\"FID\", \"IID\", \"super_pop\", \"pop\", \"brca_type\", \"diagnosis_age\", \"censage\", \"label\"] \n",
    "\n",
    "save_pheno_files_all(df_agg_formatted, \"AJ\")\n",
    "save_pheno_files_all(df_agg_formatted, \"EUR\")\n",
    "\n",
    "save_pheno_files_by_brca(df_agg_formatted, \"AJ\", 1)\n",
    "save_pheno_files_by_brca(df_agg_formatted, \"EUR\", 1)\n",
    "save_pheno_files_by_brca(df_agg_formatted, \"AJ\", 2)\n",
    "save_pheno_files_by_brca(df_agg_formatted, \"EUR\", 2)\n",
    "\n",
    "print(\"Done!\")\n",
    "'\n",
    "\n"
   ]
  },
  {
   "cell_type": "code",
   "execution_count": null,
   "metadata": {},
   "outputs": [],
   "source": [
    "function stats () {\n",
    "    pop=$1\n",
    "    brca_type=$2\n",
    "    if [[ -z $brca_type ]]; then \n",
    "        brca_suffix=\"\"\n",
    "        printf \"${pop}\\tall\\t\\t\"\n",
    "      \n",
    "    else\n",
    "        brca_suffix=\"_brca${brca_type}\"\n",
    "        printf \"${pop}\\t${brca_type}\\t\\t\"\n",
    "    fi\n",
    "    controls=$(cat $PRS_DATASETS/cimba_${pop}${brca_suffix}/pheno | cut -f 3 | grep 1 | wc -l )\n",
    "    cases=$(cat  $PRS_DATASETS/cimba_${pop}${brca_suffix}/pheno | cut -f 3 | grep 2 | wc -l )\n",
    "    total=$(cat  $PRS_DATASETS/cimba_${pop}${brca_suffix}/pheno | cut -f 3 | wc -l )\n",
    "    echo -e \"${cases}\\t${controls}\\t${total}\"\n",
    "#   echo -e \"n_cases=${cases}\\tn_control=${control}\\ttotal=${total}\"\n",
    "}\n",
    "echo -e \"pop\\tbrca_type\\tn_cases\\tn_ctrl\\ttotal\"\n",
    "echo \"=== all ===\"\n",
    "stats \"eur\"\n",
    "stats \"aj\"\n",
    "\n",
    "echo \"=== by brca ===\"\n",
    "stats \"eur\" \"1\"\n",
    "stats \"eur\" \"2\"\n",
    "stats \"aj\" \"1\"\n",
    "stats \"aj\" \"2\"\n"
   ]
  },
  {
   "cell_type": "markdown",
   "metadata": {},
   "source": [
    "#### Prepare pheno files for icogs dataset"
   ]
  },
  {
   "cell_type": "code",
   "execution_count": 7,
   "metadata": {},
   "outputs": [
    {
     "name": "stdout",
     "output_type": "stream",
     "text": [
      "Done!\n"
     ]
    }
   ],
   "source": [
    "python -c '\n",
    "import pandas as pd \n",
    "import os\n",
    "\n",
    "\n",
    "def save_pheno_files_all(df_agg_formatted, super_pop):\n",
    "\n",
    "    try:\n",
    "        os.makedirs(f\"'$PRS_DATASETS_ELKON'/cimba_{super_pop.lower()}/impX_gen\")\n",
    "    except:\n",
    "        pass\n",
    "    try:\n",
    "        os.symlink(f\"'$PRS_DATASETS_ELKON'/cimba_{super_pop.lower()}\", f\"'$PRS_DATASETS'/cimba_{super_pop.lower()}\")\n",
    "    except:\n",
    "        pass\n",
    "    df_agg_formatted[df_agg_formatted[\"super_pop\"]==super_pop].\\\n",
    "        loc[:,[\"FID\", \"IID\", \"super_pop\", \"pop\"]].to_csv(f\"'$PRS_DATASETS_ELKON'/cimba_{super_pop.lower()}/pop.panel\", sep=\"\\t\", index=False)\n",
    "    df_agg_formatted[df_agg_formatted[\"super_pop\"]==super_pop].\\\n",
    "        loc[:,[\"FID\", \"IID\", \"label\"]].to_csv(f\"'$PRS_DATASETS_ELKON'/cimba_{super_pop.lower()}/pheno\", sep=\"\\t\", index=False)\n",
    "    df_agg_formatted[df_agg_formatted[\"super_pop\"]==super_pop].\\\n",
    "        loc[:,[\"FID\", \"IID\", \"label\", \"diagnosis_age\"]].to_csv(f\"'$PRS_DATASETS_ELKON'/cimba_{super_pop.lower()}/cov\", sep=\"\\t\", index=False)\n",
    "    df_agg_formatted[df_agg_formatted[\"super_pop\"]==super_pop].\\\n",
    "        loc[:,[\"FID\", \"IID\", \"censage\"]].to_csv(f\"'$PRS_DATASETS_ELKON'/cimba_{super_pop.lower()}/pheno_age\", sep=\"\\t\", index=False)\n",
    "\n",
    "\n",
    "def save_pheno_files_by_brca(df_agg_formatted, super_pop, brca_type):\n",
    "    \n",
    "    try:\n",
    "        os.makedirs(f\"'$PRS_DATASETS_ELKON'/cimba_{super_pop.lower()}_brca{brca_type}_icogs/impX_gen\")\n",
    "    except:\n",
    "        pass\n",
    "    try:\n",
    "        os.symlink(f\"'$PRS_DATASETS_ELKON'/cimba_{super_pop.lower()}_brca{brca_type}_icogs\", f\"'$PRS_DATASETS'/cimba_{super_pop.lower()}_brca{brca_type}\")\n",
    "    except:\n",
    "        pass\n",
    "    df_agg_formatted[(df_agg_formatted[\"brca_type\"]==brca_type) & (df_agg_formatted[\"super_pop\"]==super_pop)].\\\n",
    "        loc[:,[\"FID\", \"IID\", \"super_pop\", \"pop\"]].to_csv(f\"'$PRS_DATASETS_ELKON'/cimba_{super_pop.lower()}_brca{brca_type}_icogs/pop.panel\", sep=\"\\t\", index=False)\n",
    "    df_agg_formatted[(df_agg_formatted[\"brca_type\"]==brca_type) & (df_agg_formatted[\"super_pop\"]==super_pop)].\\\n",
    "        loc[:,[\"FID\", \"IID\", \"label\"]].to_csv(f\"'$PRS_DATASETS_ELKON'/cimba_{super_pop.lower()}_brca{brca_type}_icogs/pheno\", sep=\"\\t\", index=False)\n",
    "    df_agg_formatted[(df_agg_formatted[\"brca_type\"]==brca_type) & (df_agg_formatted[\"super_pop\"]==super_pop)].\\\n",
    "        loc[:,[\"FID\", \"IID\", \"label\", \"diagnosis_age\"]].to_csv(f\"'$PRS_DATASETS_ELKON'/cimba_{super_pop.lower()}_brca{brca_type}_icogs/cov2\", sep=\"\\t\", index=False)\n",
    "    df_agg_formatted[(df_agg_formatted[\"brca_type\"]==brca_type) & (df_agg_formatted[\"super_pop\"]==super_pop)].\\\n",
    "        loc[:,[\"FID\", \"IID\", \"censage\"]].to_csv(f\"'$PRS_DATASETS_ELKON'/cimba_{super_pop.lower()}_brca{brca_type}_icogs/pheno_age\", sep=\"\\t\", index=False)\n",
    "\n",
    "# Merge raw tables\n",
    "df1=pd.read_csv(\"'$PRS_DATASETS_ELKON'/cimba/impX/raw/pheno_data/B1_iCOGS_Phenotype_04_08_2023.txt\", encoding=\"iso-8859-1\")\n",
    "df2=pd.read_csv(\"'$PRS_DATASETS_ELKON'/cimba/impX/raw/pheno_data/B2_iCOGS_Phenotype_04_08_2023.txt\", encoding=\"iso-8859-1\")\n",
    "df_agg=pd.concat((df1,df2))\n",
    "\n",
    "# Censor cases where mastectomy or oophorectomy were performed after diagnosis\n",
    "df_agg=df_agg[~(((df_agg[\"ocage\"]< df_agg[\"bpoophage\"]) | (df_agg[\"bc1age\"]< df_agg[\"bpmage\"])))]\n",
    "\n",
    "# Add diagnosis age (either BC or OC)\n",
    "df_agg[\"diagnosis_age\"]= df_agg[[\"bc1age\", \"bc2age\", \"ocage\"]].min(axis=1) \n",
    "# Assign age of dignosis 200 for NA \n",
    "df_agg[\"diagnosis_age\"].fillna(200, inplace=True)\n",
    "\n",
    "#Assign super_pop and pop values\n",
    "df_agg[\"pop\"]=df_agg[\"Country\"]\n",
    "ethnicities={\"1\": \"EUR\", \"2\": \"AFR\", \"3\": \"EAS\", \"4\": \"HIS\", \"5\": \"AJ\", \"6\": \"EUR\"}\n",
    "df_agg[\"ethnicity\"]=df_agg[\"ethnicity\"].apply(lambda a: str(int(a)) if type(a)==float and not pd.isnull(a) else a)\n",
    "df_agg[\"super_pop\"]=df_agg[\"ethnicity\"].apply(lambda a: ethnicities.get(a, \"other_unknown\"))\n",
    "df_agg[\"pop\"]=df_agg[[\"super_pop\", \"Country\"]].apply(lambda a: \"AJ\" if a[\"super_pop\"]==\"AJ\" else a[\"Country\"].replace(\" \",\"_\"), axis=1)\n",
    "\n",
    "\n",
    "\n",
    "# Cases are samples that has \"diagnosis_age\". NAs are control\n",
    "df_agg[\"label\"]=df_agg[\"diagnosis_age\"].apply(lambda a: 1 if a==200 else 2)\n",
    "df_agg.to_csv(\"'$PRS_DATASETS_ELKON'/cimba/impX/raw/pheno_data/iCOGS_Phenotype_04_08_2023.tsv\", sep=\"\\t\", index=False)\n",
    "\n",
    "# Leave only relevant fields and rename them properly\n",
    "df_agg_formatted=df_agg.loc[pd.isnull(df_agg[\"ocage\"]),[\"SG_ID\",\"SG_ID\", \"super_pop\", \"pop\", \"Mut1Gene\", \"diagnosis_age\", \"censage\", \"label\"]]\n",
    "df_agg_formatted.columns = [\"FID\", \"IID\", \"super_pop\", \"pop\", \"brca_type\", \"diagnosis_age\", \"censage\", \"label\"] \n",
    "\n",
    "save_pheno_files_all(df_agg_formatted, \"AJ\")\n",
    "save_pheno_files_all(df_agg_formatted, \"EUR\")\n",
    "\n",
    "save_pheno_files_by_brca(df_agg_formatted, \"AJ\", 1)\n",
    "save_pheno_files_by_brca(df_agg_formatted, \"EUR\", 1)\n",
    "save_pheno_files_by_brca(df_agg_formatted, \"AJ\", 2)\n",
    "save_pheno_files_by_brca(df_agg_formatted, \"EUR\", 2)\n",
    "\n",
    "print(\"Done!\")\n",
    "'\n",
    "\n"
   ]
  },
  {
   "cell_type": "code",
   "execution_count": null,
   "metadata": {},
   "outputs": [],
   "source": [
    "while true; do\n",
    "    echo \n",
    "    sleep 60\n",
    "done &\n",
    "\n",
    "function split_cimba_to_subsets () {\n",
    "    pop=$1\n",
    "    array=$2\n",
    "    brca_type=$3\n",
    "    if [[ -z $brca_type ]]; then \n",
    "        brca_suffix=\"\"\n",
    "        echo \"pop=${pop}, brca_type=all\"\n",
    "\n",
    "    else\n",
    "        brca_suffix=\"_brca${brca_type}\"\n",
    "        echo \"pop=${pop}, brca_type=${brca_type}\"\n",
    "    fi\n",
    "   \n",
    "    plink2 --bfile ${PRS_DATASETS_ELKON}/cimba/impX_gen/raw/bed/brca${brca_type}_${array}_all --keep ${PRS_DATASETS_ELKON}/cimba_${pop}${brca_suffix}_${array}/pheno \\\n",
    "    --make-bed --out ${PRS_DATASETS_ELKON}/cimba_${pop}${brca_suffix}_${array}/impX_gen/ds\n",
    "}\n",
    "\n",
    "echo \"=== all ===\"\n",
    "split_cimba_to_subsets \"aj\" \"icogs\" \"1\"\n",
    "split_cimba_to_subsets \"aj\" \"icogs\" \"2\"\n",
    "split_cimba_to_subsets \"eur\" \"icogs\" \"1\"\n",
    "split_cimba_to_subsets \"eur\" \"icogs\" \"2\"\n",
    "\n",
    "split_cimba_to_subsets \"aj\" \"oncoarray\" \"1\"\n",
    "split_cimba_to_subsets \"aj\" \"oncoarray\" \"2\"\n",
    "split_cimba_to_subsets \"eur\" \"oncoarray\" \"1\"\n",
    "split_cimba_to_subsets \"eur\" \"oncoarray\" \"2\"\n"
   ]
  },
  {
   "cell_type": "code",
   "execution_count": null,
   "metadata": {},
   "outputs": [],
   "source": [
    "\n",
    "function run_qc_target () {\n",
    "target=$1\n",
    "imp=$2\n",
    "    bash qc_target_data.sh --target ${target} --imp ${imp}\n",
    "}\n",
    "\n",
    "cd $PRS_CODEBASE\n",
    "run_qc_target \"cimba_aj_brca2\" \"impX\"\n",
    "\n"
   ]
  },
  {
   "cell_type": "code",
   "execution_count": null,
   "metadata": {},
   "outputs": [],
   "source": [
    "while true; do\n",
    "    echo \n",
    "    sleep 60\n",
    "done &\n",
    "function run_calc_prs_mono () {\n",
    "\n",
    "    \n",
    "    cd $PRS_CODEBASE\n",
    "    target=$1\n",
    "    imp=$2\n",
    "        bash calc_prs_pt3.sh --discovery bcac_onco_eur-5pcs --target ${target} --imp ${imp} --stage 3 \n",
    "}\n",
    "\n",
    "cd $PRS_CODEBASE\n",
    "run_calc_prs_mono \"cimba_aj_brca1\" \"impX\"\n",
    "\n",
    "# run_calc_prs_mono \"cimba_aj_brca1\" \"impX\""
   ]
  },
  {
   "cell_type": "code",
   "execution_count": null,
   "metadata": {},
   "outputs": [],
   "source": [
    "run_calc_prs_mono \"cimba_aj_brca1\" \"impX\""
   ]
  },
  {
   "cell_type": "code",
   "execution_count": null,
   "metadata": {},
   "outputs": [],
   "source": [
    "cd /specific/netapp5/gaga/gaga-pd/prs_data/datasets/dec/cimba/impX/raw/bed\n",
    "plink --bfile  brca1_chr1_fixed1 --merge-list brca1_list.txt --allow-no-sex  --make-bed --out ds_brca1_fixed && \\\n",
    "plink --bfile  ds_brca1_fixed --update-chr updated_chrs 1 2 --make-bed --out ds_brca1_chr_fixed \n",
    "plink --bfile  brca2_chr1_fixed2 --merge-list brca2_list.txt --allow-no-sex  --make-bed --out ds_brca2_fixed $$ \\\n",
    "plink --bfile  ds_brca2_fixed --update-chr updated_chrs 1 2 --make-bed --out ds_brca2_chr_fixed"
   ]
  },
  {
   "cell_type": "markdown",
   "metadata": {},
   "source": [
    "#### Create SNP map files"
   ]
  },
  {
   "cell_type": "code",
   "execution_count": null,
   "metadata": {},
   "outputs": [],
   "source": [
    "for chr in {1..22}; do cat  $PRS_DATASETS/cimba/impX_gen/raw/data/onco_brca1_info_chr${chr}_varid.txt | grep rs | awk '{if (NR==1){next}; print $5\"\\t\"substr($5,1,index($5,\":\")-1)}'; done > $PRS_DATASETS/cimba/impX_gen/raw/brca1_oncoarray_snps_map\n",
    "for chr in {1..22}; do cat  $PRS_DATASETS/cimba/impX_gen/raw/data/onco_brca2_info_chr${chr}_varid.txt | grep rs | awk '{if (NR==1){next}; print $5\"\\t\"substr($5,1,index($5,\":\")-1)}'; done > $PRS_DATASETS/cimba/impX_gen/raw/brca2_oncoarray_snps_map\n",
    "for chr in {1..22}; do cat  $PRS_DATASETS/cimba/impX_gen/raw/data/icogs_brca1_info_chr${chr}_varid.txt | grep rs | awk '{if (NR==1){next}; print $5\"\\t\"substr($5,1,index($5,\":\")-1)}'; done > $PRS_DATASETS/cimba/impX_gen/raw/brca1_icogs_snps_map\n",
    "for chr in {1..22}; do cat  $PRS_DATASETS/cimba/impX_gen/raw/data/icogs_brca2_info_chr${chr}_varid.txt | grep rs | awk '{if (NR==1){next}; print $5\"\\t\"substr($5,1,index($5,\":\")-1)}'; done > $PRS_DATASETS/cimba/impX_gen/raw/brca2_icogs_snps_map\n"
   ]
  },
  {
   "cell_type": "markdown",
   "metadata": {},
   "source": [
    "#### Create POS map files"
   ]
  },
  {
   "cell_type": "code",
   "execution_count": null,
   "metadata": {},
   "outputs": [],
   "source": [
    "for chr in {1..22}; do cat  $PRS_DATASETS/cimba/impX_gen/raw/data/onco_brca1_info_chr${chr}_varid.txt | grep rs | awk '{if (NR==1){next}; print $6\"\\t\"substr($5,1,index($5,\":\")-1)}'; done > $PRS_DATASETS/cimba/impX_gen/raw/brca1_oncoarray_pos_map\n",
    "for chr in {1..22}; do cat  $PRS_DATASETS/cimba/impX_gen/raw/data/onco_brca2_info_chr${chr}_varid.txt | grep rs | awk '{if (NR==1){next}; print $6\"\\t\"substr($5,1,index($5,\":\")-1)}'; done > $PRS_DATASETS/cimba/impX_gen/raw/brca2_oncoarray_pos_map\n",
    "for chr in {1..22}; do cat  $PRS_DATASETS/cimba/impX_gen/raw/data/icogs_brca1_info_chr${chr}_varid.txt | grep rs | awk '{if (NR==1){next}; print $6\"\\t\"substr($5,1,index($5,\":\")-1)}'; done > $PRS_DATASETS/cimba/impX_gen/raw/brca1_icogs_pos_map\n",
    "for chr in {1..22}; do cat  $PRS_DATASETS/cimba/impX_gen/raw/data/icogs_brca2_info_chr${chr}_varid.txt | grep rs | awk '{if (NR==1){next}; print $6\"\\t\"substr($5,1,index($5,\":\")-1)}'; done > $PRS_DATASETS/cimba/impX_gen/raw/brca2_icogs_pos_map"
   ]
  },
  {
   "cell_type": "markdown",
   "metadata": {},
   "source": [
    "#### Remove duplicate SNPs from map file"
   ]
  },
  {
   "cell_type": "code",
   "execution_count": null,
   "metadata": {},
   "outputs": [],
   "source": [
    "function remove_dup_snps_from_map(){\n",
    " \n",
    "    brca_type=$1\n",
    "    array=$2\n",
    "    map_type=$3\n",
    "    awk '{if(NR==FNR){c[$1]++; next;} if(c[$2]==0 && $2!=\"\"){print $0}}' \\\n",
    "    <(cat $PRS_DATASETS/cimba/impX_gen/raw/brca${brca_type}_${array}_${map_type} | cut -f 2 | sort | uniq -d) \\\n",
    "    <(cat $PRS_DATASETS/cimba/impX_gen/raw/brca${brca_type}_${array}_${map_type}) \\\n",
    "    > $PRS_DATASETS/cimba/impX_gen/raw/brca${brca_type}_${array}_${map_type}_no_dups\n",
    "    \n",
    "    echo \"Done $brca_type $array $map_type\"\n",
    "\n",
    "}\n",
    "\n",
    "remove_dup_snps_from_map 2 icogs snps_map &\n",
    "remove_dup_snps_from_map 1 icogs snps_map & \n",
    "remove_dup_snps_from_map 2 oncoarray snps_map & \n",
    "remove_dup_snps_from_map 1 oncoarray snps_map & \n",
    " "
   ]
  },
  {
   "cell_type": "markdown",
   "metadata": {},
   "source": [
    "#### Create final datasets:\n",
    "- Fix SNP ids\n",
    "- Split according to population (AJ vs. EUR), brca type, array "
   ]
  },
  {
   "cell_type": "code",
   "execution_count": null,
   "metadata": {},
   "outputs": [],
   "source": [
    "function generate_final_sets(){\n",
    "    pop=$1\n",
    "    brca_type=$2\n",
    "    array=$3\n",
    "    \n",
    "    \n",
    "    plink --bfile  /specific/netapp5/gaga/gaga-pd/prs_data/datasets/dec/cimba/impX_gen/raw/bed/brca${brca_type}_${array}_all \\\n",
    "    --update-name  $PRS_DATASETS/cimba/impX_gen/raw/brca${brca_type}_${array}_snps_map_no_dups \\\n",
    "    --keep ${PRS_DATASETS_ELKON}/cimba_${pop}_brca${brca_type}_${array}/pheno \\\n",
    "    --make-bed --out ${PRS_DATASETS_ELKON}/cimba_${pop}_brca${brca_type}_${array}/impX_gen/ds \n",
    "}\n",
    "\n",
    "generate_final_sets aj 1 icogs \n",
    "\n",
    "generate_final_sets eur 2 icogs \n",
    "generate_final_sets eur 1 icogs \n",
    "generate_final_sets eur 2 oncoarray  \n",
    "generate_final_sets eur 1 oncoarray \n",
    "\n",
    "\n",
    "generate_final_sets aj 1 icogs \n",
    "generate_final_sets aj 2 icogs \n",
    "generate_final_sets aj 1 oncoarray \n",
    "generate_final_sets aj 2 oncoarray\n"
   ]
  },
  {
   "cell_type": "code",
   "execution_count": null,
   "metadata": {},
   "outputs": [],
   "source": [
    "function link_to_gaga(){\n",
    "    pop=$1\n",
    "    brca_type=$2\n",
    "    array=$3\n",
    "    \n",
    "    target=cimba_${pop}_brca${brca_type}_${array}\n",
    "    imp=impX_gen\n",
    "\n",
    "    ln -s ${PRS_DATASETS_ELKON}/cimba_${pop}_brca${brca_type}_${array} ${PRS_DATASETS}/cimba_${pop}_brca${brca_type}_${array}\n",
    " \n",
    "}\n",
    "\n",
    "link_to_gaga eur 1 icogs \n",
    "link_to_gaga eur 2 icogs \n",
    "link_to_gaga eur 1 oncoarray \n",
    "link_to_gaga eur 2 oncoarray\n",
    "\n",
    "link_to_gaga aj 1 icogs \n",
    "link_to_gaga aj 2 icogs \n",
    "link_to_gaga aj 1 oncoarray \n",
    "link_to_gaga aj 2 oncoarray\n"
   ]
  },
  {
   "cell_type": "code",
   "execution_count": null,
   "metadata": {},
   "outputs": [],
   "source": [
    "function qc_target_data(){\n",
    "    cd $PRS_CODEBASE\n",
    "    \n",
    "    pop=$1\n",
    "    brca_type=$2\n",
    "    array=$3\n",
    "    \n",
    "    target=cimba_${pop}_brca${brca_type}_${array}\n",
    "    imp=impX_gen\n",
    "\n",
    "    \n",
    "    bash qc_target_data.sh --target ${target} --imp ${imp}   \n",
    "}\n",
    "qc_target_data aj 1 oncoarray\n",
    "\n",
    "\n",
    "qc_target_data eur 1 icogs \n",
    "qc_target_data eur 2 icogs \n",
    "qc_target_data eur 1 oncoarray \n",
    "qc_target_data eur 2 oncoarray\n",
    "\n",
    "qc_target_data aj 1 icogs \n",
    "qc_target_data aj 2 icogs \n",
    "qc_target_data aj 1 oncoarray \n",
    "qc_target_data aj 2 oncoarray\n"
   ]
  },
  {
   "cell_type": "code",
   "execution_count": null,
   "metadata": {},
   "outputs": [],
   "source": [
    "function calc_prs_pt3(){\n",
    "    cd $PRS_CODEBASE\n",
    "    \n",
    "    pop=$1\n",
    "    brca_type=$2\n",
    "    array=$3\n",
    "    target=cimba_${pop}_brca${brca_type}_${array}\n",
    "\n",
    "\n",
    "    discovery=bcac_onco_eur-5pcs # bca_313 # bcac_onco_eur-5pcs\n",
    "    imp=impX_gen\n",
    "    bash calc_prs_pt3.sh --discovery ${discovery} --target ${target} --imp ${imp} --stage 3      \n",
    "\n",
    "#     discovery=bca_313 # bcac_onco_eur-5pcs\n",
    "#     imp=impX_313\n",
    "#     bash calc_prs_313.sh --discovery ${discovery} --target ${target} --imp ${imp} --stage 2  \n",
    "}\n",
    "\n",
    "calc_prs_pt3 eur 1 oncoarray\n",
    "\n",
    "\n",
    "calc_prs_pt3 eur 1 icogs \n",
    "calc_prs_pt3 eur 2 icogs \n",
    "calc_prs_pt3 eur 1 oncoarray \n",
    "calc_prs_pt3 eur 2 oncoarray\n",
    "\n",
    "calc_prs_pt3 aj 1 icogs \n",
    "calc_prs_pt3 aj 2 icogs \n",
    "calc_prs_pt3 aj 1 oncoarray \n",
    "calc_prs_pt3 aj 2 oncoarray\n"
   ]
  },
  {
   "cell_type": "markdown",
   "metadata": {},
   "source": [
    "#### Generate 313 genotype sets"
   ]
  },
  {
   "cell_type": "code",
   "execution_count": 9,
   "metadata": {},
   "outputs": [],
   "source": [
    "python -c '\n",
    "import pandas as pd \n",
    "array=\"oncoarray\"\n",
    "df1=pd.read_csv(f\"'$PRS_DATASETS'/cimba/impX_gen/raw/bed/brca1_{array}_all.bim\", sep=\"\\t\", header=None)\n",
    "df2=pd.read_csv(\"'$PRS_GWASS'/bca_313/313_rsids.tsv\",sep=\"\\t\")\n",
    "df_m=pd.merge(df1,df2, left_on=[0,3], right_on=[\"Chromosome\", \"Position\"], how=\"right\")\n",
    "df_m=df_m[((df_m[5]==df_m[\"Reference Allele\"]) & (df_m[4]==df_m[\"EffectAllele\"])) | ((df_m[4]==df_m[\"Reference Allele\"]) & (df_m[5]==df_m[\"EffectAllele\"]))]\n",
    "df_m.loc[:,[1, \"SNP\"]].to_csv(f\"'$PRS_DATASETS'/cimba/impX_gen/raw/313_snps_{array}_map\", index=False, header=False, sep=\"\\t\")\n",
    "'"
   ]
  },
  {
   "cell_type": "code",
   "execution_count": 5,
   "metadata": {},
   "outputs": [
    {
     "name": "stdout",
     "output_type": "stream",
     "text": [
      "PLINK v1.90b6.24 64-bit (6 Jun 2021)           www.cog-genomics.org/plink/1.9/\n",
      "(C) 2005-2021 Shaun Purcell, Christopher Chang   GNU General Public License v3\n",
      "Logging to /specific/elkon/hagailevi/PRS/datasets/dec/cimba_eur_brca2_icogs/impX_313/ds.log.\n",
      "Options in effect:\n",
      "  --bfile /specific/elkon/hagailevi/PRS/datasets/dec/cimba/impX_gen/raw/bed/brca2_icogs_all\n",
      "  --keep /specific/elkon/hagailevi/PRS/datasets/dec/cimba_eur_brca2_icogs/pheno\n",
      "  --make-bed\n",
      "  --out /specific/elkon/hagailevi/PRS/datasets/dec/cimba_eur_brca2_icogs/impX_313/ds\n",
      "  --update-name /specific/elkon/hagailevi/PRS/datasets/dec/cimba/impX_gen/raw/313_snps_icogs_map\n",
      "\n",
      "1019915 MB RAM detected; reserving 509957 MB for main workspace.\n",
      "20672854 variants loaded from .bim file.\n",
      "1077 people (0 males, 1077 females) loaded from .fam.\n",
      "--update-name: 322 values updated.\n",
      "--keep: 641 people remaining.\n",
      "Using 1 thread (no multithreaded calculations invoked).\n",
      "Before main variant filters, 641 founders and 0 nonfounders present.\n",
      "Calculating allele frequencies... 10111213141516171819202122232425262728293031323334353637383940414243444546474849505152535455565758596061626364656667686970717273747576777879808182838485868788899091929394959697989 done.\n",
      "Total genotyping rate in remaining samples is 0.911139.\n",
      "20672854 variants and 641 people pass filters and QC.\n",
      "Note: No phenotypes present.\n",
      "--make-bed to\n",
      "/specific/elkon/hagailevi/PRS/datasets/dec/cimba_eur_brca2_icogs/impX_313/ds.bed\n",
      "+\n",
      "/specific/elkon/hagailevi/PRS/datasets/dec/cimba_eur_brca2_icogs/impX_313/ds.bim\n",
      "+\n",
      "/specific/elkon/hagailevi/PRS/datasets/dec/cimba_eur_brca2_icogs/impX_313/ds.fam\n",
      "... 101112131415161718192021222324252627282930313233343536373839404142434445464748495051525354555657585960616263646566676869707172737475767778798081828384858687888990919293949596979899done.\n"
     ]
    }
   ],
   "source": [
    "function generate_313_set(){\n",
    "    pop=$1\n",
    "    brca_type=$2\n",
    "    array=$3\n",
    "    \n",
    "    mkdir -p ${PRS_DATASETS_ELKON}/cimba_${pop}_brca${brca_type}_${array}/impX_313 || true\n",
    "    \n",
    "    plink --bfile  ${PRS_DATASETS_ELKON}/cimba/impX_gen/raw/bed/brca${brca_type}_${array}_all \\\n",
    "    --update-name  ${PRS_DATASETS_ELKON}/cimba/impX_gen/raw/313_snps_${array}_map \\\n",
    "    --keep ${PRS_DATASETS_ELKON}/cimba_${pop}_brca${brca_type}_${array}/pheno \\\n",
    "    --make-bed --out ${PRS_DATASETS_ELKON}/cimba_${pop}_brca${brca_type}_${array}/impX_313/ds \n",
    "}\n",
    "\n",
    "generate_313_set aj 1 oncoarray\n"
   ]
  },
  {
   "cell_type": "code",
   "execution_count": null,
   "metadata": {},
   "outputs": [],
   "source": [
    "for a in {1..22}; do echo \"chr ${a}\";  cat onco_brca2_info_chr${a}_varid.txt | awk '{if (substr($5,1,2)==\"rs\"){split($5,a,\":\"); print a[1]\"\\t\"$6}}'>> /specific/netapp5/gaga/gaga-pd/prs_data/datasets/dec/cimba/impX/raw/brca2_positions; done\n",
    "\n",
    "\n",
    "\n",
    "function map_positions(){\n",
    "    pop=$1\n",
    "    brca_type=$2\n",
    "    \n",
    "    if [[ -z $brca_type ]]; then \n",
    "        brca_suffix=\"\"\n",
    "        echo \"pop=${pop}, brca_type=all\"\n",
    "\n",
    "    else\n",
    "        brca_suffix=\"_brca${brca_type}\"\n",
    "        echo \"pop=${pop}, brca_type=${brca_type}\"\n",
    "    fi\n",
    "    \n",
    "    for ext in bim bed fam; do \n",
    "        mv $PRS_DATASETS/cimba_${pop}${brca_suffix}/impX/ds.${ext} $PRS_DATASETS/cimba_${pop}${brca_suffix}/impX/ds0.${ext}\n",
    "        mv $PRS_DATASETS/cimba_${pop}${brca_suffix}/impX/ds.QC.${ext} $PRS_DATASETS/cimba_${pop}${brca_suffix}/impX/ds0.QC.${ext}\n",
    "    done    \n",
    "    \n",
    "    \n",
    "    plink --bfile  $PRS_DATASETS/cimba_${pop}${brca_suffix}/impX/ds0 \\\n",
    "    --update-map  /specific/netapp5/gaga/gaga-pd/prs_data/datasets/dec/cimba/impX/raw/brca2_positions  \\\n",
    "    --make-bed --out $PRS_DATASETS/cimba_${pop}${brca_suffix}/impX/ds\n",
    "}\n",
    "\n",
    "\n",
    "map_positions \"aj\" \"1\"\n",
    "\n",
    "map_positions \"aj\" \"2\"\n"
   ]
  },
  {
   "cell_type": "code",
   "execution_count": null,
   "metadata": {},
   "outputs": [],
   "source": [
    "function generate_genotype_set (){\n",
    "    pop=$1\n",
    "    brca_type=$2\n",
    "    \n",
    "    plink --bfile $PRS_DATASETS/cimba/impX/raw/bed/ds_brca${brca_type}_chr_fixed --keep $PRS_DATASETS/cimba_${pop}_brca${brca_type}/pheno --make-bed --out $PRS_DATASETS/cimba_${pop}_brca${brca_type}/impX/ds\n",
    "} \n",
    "\n",
    "generate_genotype_set \"eur\" \"2\""
   ]
  },
  {
   "cell_type": "code",
   "execution_count": null,
   "metadata": {},
   "outputs": [],
   "source": [
    "function merge_brca_pheno_sets (){\n",
    "    pop=$1\n",
    "\n",
    "    for fname in \"pop.panel\" \"cov2\" \"pheno\"; do \n",
    "        cat $PRS_DATASETS/cimba_${pop}_brca1/${fname} > $PRS_DATASETS/cimba_${pop}/${fname}\n",
    "        tail -n +2 $PRS_DATASETS/cimba_${pop}_brca2/${fname} >> $PRS_DATASETS/cimba_${pop}/${fname}\n",
    "    done\n",
    "    \n",
    "merge_brca_pheno_sets \"eur\"\n",
    "merge_brca_pheno_sets \"aj\""
   ]
  },
  {
   "cell_type": "code",
   "execution_count": null,
   "metadata": {},
   "outputs": [],
   "source": [
    "function merge_brca_genotype_sets (){\n",
    "    pop=$1\n",
    "\n",
    "    plink --bfile $PRS_DATASETS/cimba_${pop}_brca1/impX/ds --bmerge $PRS_DATASETS/cimba_${pop}_brca2/impX/ds --allow-no-sex --make-bed --out $PRS_DATASETS/cimba_${pop}/impX/ds\n",
    "    \n",
    "merge_brca_pheno_sets \"eur\"\n",
    "merge_brca_pheno_sets \"aj\""
   ]
  },
  {
   "cell_type": "markdown",
   "metadata": {},
   "source": [
    "## Generate bem files from gen"
   ]
  },
  {
   "cell_type": "markdown",
   "metadata": {},
   "source": [
    "#### Reformat sample files according to the oxford (gen) format expected by `plink`"
   ]
  },
  {
   "cell_type": "code",
   "execution_count": null,
   "metadata": {},
   "outputs": [],
   "source": [
    "function reformat_sample_files(){\n",
    "    target=\"cimba\"\n",
    "    imp=\"impX_gen\"\n",
    "    brca_type=$1\n",
    "    array=$2\n",
    "    \n",
    "    echo -e  \"ID_1 ID_2 missing sex\\n0 0 0 D\" > $PRS_DATASETS_ELKON/${target}/${imp}/raw/data/sample_files/brca${brca_type}_${array}.sample\n",
    "    cat $PRS_DATASETS_ELKON/${target}/${imp}/raw/data/215_brca${brca_type}_${array}_sample_order.txt | awk '{print $1\" \"$1\" 0 2\"}' >> $PRS_DATASETS_ELKON/${target}/${imp}/raw/data/sample_files/brca${brca_type}_${array}.sample\n",
    "}\n",
    "\n",
    "reformat_sample_files 1 oncoarray\n",
    "reformat_sample_files 2 oncoarray\n",
    "reformat_sample_files 1 icogs\n",
    "reformat_sample_files 2 icogs\n",
    "\n"
   ]
  },
  {
   "cell_type": "markdown",
   "metadata": {},
   "source": [
    "#### Reformat oxford (gen+sample) files to bed files using `plink`"
   ]
  },
  {
   "cell_type": "code",
   "execution_count": null,
   "metadata": {},
   "outputs": [],
   "source": [
    "function reformat_gen_to_bed(){\n",
    "    target=\"cimba\"\n",
    "    imp=\"impX_gen\"\n",
    "    brca_type=$1\n",
    "    array=$2\n",
    " \n",
    "    target_path_elkon=\"/specific/elkon/hagailevi/PRS/datasets/dec/\"${target}\"/${imp}/\"\n",
    "    mkdir -p ${target_path_elkon}/raw/bed || echo \"\"\n",
    "\n",
    "    for a in {1..22}; do \n",
    "        plink --gen $PRS_DATASETS/cimba/impX_gen/raw/data/215_brca${brca_type}_${array}_imputed_probs_chr${a}.gen.gz \\\n",
    "        --sample $PRS_DATASETS/cimba/impX_gen/raw/data/sample_files/brca${brca_type}_${array}.sample \\\n",
    "        --oxford-single-chr ${a} --make-bed --threads 50 \\\n",
    "        --out ${target_path_elkon}/raw/bed/chr${a}_brca${brca_type}_${array}; \n",
    "    done\n",
    "}\n",
    "\n",
    "reformat_gen_to_bed 1 oncoarray\n",
    "reformat_gen_to_bed 2 oncoarray\n",
    "reformat_gen_to_bed 1 icogs\n",
    "reformat_gen_to_bed 2 icogs"
   ]
  },
  {
   "cell_type": "markdown",
   "metadata": {},
   "source": [
    "#### Create list files for merge "
   ]
  },
  {
   "cell_type": "code",
   "execution_count": null,
   "metadata": {},
   "outputs": [],
   "source": [
    "function create_list_file_for_merge(){\n",
    "    brca_type=$1\n",
    "    array=$2\n",
    "    rm $PRS_DATASETS_ELKON/cimba/impX_gen/raw/bed/brca${brca_type}_${array}_list\n",
    "    for a in {2..22}; do echo \"$PRS_DATASETS_ELKON/cimba/impX_gen/raw/bed/chr${a}_brca2_icogs\"; done >> $PRS_DATASETS_ELKON/cimba/impX_gen/raw/bed/brca2_icogs_list\n",
    "}\n",
    "\n",
    "create_list_file_for_merge 1 oncoarray\n",
    "create_list_file_for_merge 2 oncoarray\n",
    "create_list_file_for_merge 1 icogs\n",
    "create_list_file_for_merge 2 icogs"
   ]
  },
  {
   "cell_type": "markdown",
   "metadata": {},
   "source": [
    "#### Merge bed files"
   ]
  },
  {
   "cell_type": "code",
   "execution_count": null,
   "metadata": {},
   "outputs": [],
   "source": [
    "function merge_bed_files(){ \n",
    "    brca_type=$1\n",
    "    array=$2\n",
    "    plink --bfile $PRS_DATASETS_ELKON/cimba/impX_gen/raw/bed/chr1_brca${brca_type}_${array} \\\n",
    "    --merge-list $PRS_DATASETS_ELKON/cimba/impX_gen/raw/bed/brca${brca_type}_${array}_list \\\n",
    "    --make-bed --out $PRS_DATASETS_ELKON/cimba/impX_gen/raw/bed/brca${brca_type}_${array}_all\n",
    "}\n",
    "\n",
    "merge_bed_files 2 icogs\n",
    "\n",
    "\n",
    "merge_bed_from_gen_files 1 oncoarray\n",
    "merge_bed_from_gen_files 2 oncoarray\n",
    "merge_bed_from_gen_files 1 icogs\n",
    "merge_bed_from_gen_files 2 icogs"
   ]
  }
 ],
 "metadata": {
  "kernelspec": {
   "display_name": "Bash",
   "language": "bash",
   "name": "bash"
  },
  "language_info": {
   "codemirror_mode": "shell",
   "file_extension": ".sh",
   "mimetype": "text/x-sh",
   "name": "bash"
  }
 },
 "nbformat": 4,
 "nbformat_minor": 4
}
