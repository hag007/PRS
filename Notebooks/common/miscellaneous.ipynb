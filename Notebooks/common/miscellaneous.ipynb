{
 "cells": [
  {
   "cell_type": "markdown",
   "metadata": {},
   "source": [
    "## Miscellaneous"
   ]
  },
  {
   "cell_type": "markdown",
   "metadata": {},
   "source": [
    "### liftOver"
   ]
  },
  {
   "cell_type": "code",
   "execution_count": null,
   "metadata": {},
   "outputs": [],
   "source": [
    "vcf_file=\"...\"\n",
    "\n",
    "plink --vcf ${vcf_file}.vcf --allow-extra-chr --chr 1-22 --recode --out ds0 \n",
    "python $PRS_TOOLS/liftOverPlink/liftOverPlink.py --map ds0.map --out lifted --chain $PRS_TOOLS/liftOverPlink/hg38ToHg19.over.chain\n",
    "python $PRS_TOOLS/liftOverPlink/rmBadLifts.py --map lifted.map --out good_lifted.map --log bad_lifted.dat\n",
    "cut -f 2 bad_lifted.dat > to_exclude.dat\n",
    "cut -f 4 lifted.bed.unlifted | sed \"/^#/d\" >> to_exclude.dat\n",
    "plink --file ds0 --recode --out lifted --exclude to_exclude.dat\n",
    "plink --ped lifted.ped --map good_lifted.map --make-bed --out ds_lifted"
   ]
  }
 ],
 "metadata": {
  "kernelspec": {
   "display_name": "Bash",
   "language": "bash",
   "name": "bash"
  },
  "language_info": {
   "codemirror_mode": "shell",
   "file_extension": ".sh",
   "mimetype": "text/x-sh",
   "name": "bash"
  }
 },
 "nbformat": 4,
 "nbformat_minor": 4
}
