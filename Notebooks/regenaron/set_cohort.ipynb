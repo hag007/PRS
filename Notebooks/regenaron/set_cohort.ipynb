{
 "cells": [
  {
   "cell_type": "code",
   "execution_count": 35,
   "metadata": {},
   "outputs": [],
   "source": [
    "import pandas as pd\n",
    "# pd.set_option('display.max_rows', 500)\n",
    "\n",
    "df=pd.read_csv('regenaron_cohort_annotations.csv')\n",
    "df['iid'] = df.apply(lambda a: f'SHEBA_{a[\"pid\"]}_{a[\"lab_id\"]}', axis=1)\n",
    "df_brca1=df[df['mutated_gene']=='BRCA1']\n",
    "df_brca1_185=df[df['mutation_type']=='185delAG']\n",
    "\n",
    "df_control=df_brca1_185[(df_brca1_185['age_onset'].fillna(200)>55) & (df_brca1_185['age'] > 55 )]\n",
    "df_case=df_brca1_185[(df_brca1_185['age_onset']<=40) & (df_brca1_185['label']==1)]\n",
    "\n",
    "df_out=pd.concat([df_case, df_control]).loc[:,['iid', 'iid', 'label']]\n",
    "df_out.columns=['FID','IID','label']\n",
    "df_out.to_csv('pheno', sep='\\t', index=False)\n"
   ]
  }
 ],
 "metadata": {
  "kernelspec": {
   "display_name": "Python 3",
   "language": "python",
   "name": "python3"
  },
  "language_info": {
   "codemirror_mode": {
    "name": "ipython",
    "version": 3
   },
   "file_extension": ".py",
   "mimetype": "text/x-python",
   "name": "python",
   "nbconvert_exporter": "python",
   "pygments_lexer": "ipython3",
   "version": "3.8.5"
  }
 },
 "nbformat": 4,
 "nbformat_minor": 4
}
