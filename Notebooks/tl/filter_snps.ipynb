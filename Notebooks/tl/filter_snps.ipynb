{
 "cells": [
  {
   "cell_type": "markdown",
   "metadata": {},
   "source": [
    "## Create sets of SNPs"
   ]
  },
  {
   "cell_type": "markdown",
   "metadata": {},
   "source": [
    "QC the genotypes"
   ]
  },
  {
   "cell_type": "code",
   "execution_count": null,
   "metadata": {},
   "outputs": [],
   "source": [
    "target=bcac_onco_afr\n",
    "bash qc_target_data.sh --target ${target} --imp original"
   ]
  },
  {
   "cell_type": "markdown",
   "metadata": {},
   "source": [
    "Clumping"
   ]
  },
  {
   "cell_type": "code",
   "execution_count": null,
   "metadata": {},
   "outputs": [],
   "source": [
    "discovery=bcac_onco_eur-5pcs\n",
    "imp=original\n",
    "target_ref=bcac_onco_eur\n",
    "target_minor1=bcac_onco_afr\n",
    "target_minor2=bcac_onco_eas"
   ]
  },
  {
   "cell_type": "code",
   "execution_count": null,
   "metadata": {},
   "outputs": [],
   "source": [
    "pheno=chol\n",
    "discovery=UKB_${pheno}_gbr\n",
    "imp=imputeX_full\n",
    "target_ref=ukbb_gbr\n",
    "target_minor1=ukbb_afr\n",
    "target_minor2=ukbb_sas\n",
    "target_minor3=ukbb_irs\n",
    "target_minor4=ukbb_white"
   ]
  },
  {
   "cell_type": "code",
   "execution_count": null,
   "metadata": {},
   "outputs": [],
   "source": [
    "cd $PRS_DATASETS/$target_ref/$imp\n",
    "cat ds.QC.bim | grep rs > ds_rs_snps"
   ]
  },
  {
   "cell_type": "code",
   "execution_count": 3,
   "metadata": {},
   "outputs": [
    {
     "name": "stdout",
     "output_type": "stream",
     "text": [
      "PLINK v1.90b6.24 64-bit (6 Jun 2021)           www.cog-genomics.org/plink/1.9/\n",
      "(C) 2005-2021 Shaun Purcell, Christopher Chang   GNU General Public License v3\n",
      "Logging to ds.QC.log.\n",
      "Options in effect:\n",
      "  --bfile ds.QC\n",
      "  --clump /specific/elkon/hagailevi/PRS/GWASs/bcac_onco_eur-5pcs/gwas.QC.Transformed\n",
      "  --clump-field P\n",
      "  --clump-kb 500\n",
      "  --clump-p1 1\n",
      "  --clump-p2 1\n",
      "  --clump-r2 0.2\n",
      "  --clump-snp-field SNP\n",
      "  --exclude ds.dupvar\n",
      "  --memory 400000\n",
      "  --out ds.QC\n",
      "  --threads 40\n",
      "\n",
      "1019915 MB RAM detected; reserving 400000 MB for main workspace.\n",
      "338487 variants loaded from .bim file.\n",
      "123906 people (0 males, 123906 females) loaded from .fam.\n",
      "--exclude: 338487 variants remaining.\n",
      "\n"
     ]
    }
   ],
   "source": [
    "pheno=ht\n",
    "discovery=UKB_${pheno}_gbr\n",
    "target=ukbb_gbr # $target_ref\n",
    "imp=imputeX_full\n",
    "\n",
    "cd $PRS_DATASETS/$target/$imp\n",
    "cat ds.QC.bim | grep rs > ds_rs_snps\n",
    "\n",
    "memory=400000\n",
    "threads=40\n",
    "\n",
    "\n",
    "plink \\\n",
    "      --bfile ds.QC \\\n",
    "      --extract ds_rs_snps \\\n",
    "      --clump-p1 1 \\\n",
    "      --clump-p2 1 \\\n",
    "      --clump-r2 0.2 \\\n",
    "      --clump-kb 500 \\\n",
    "      --clump $PRS_GWASS/${discovery}/gwas.QC.Transformed \\\n",
    "      --clump-snp-field SNP \\\n",
    "      --clump-field P \\\n",
    "      --out ds.QC_${pheno} \\\n",
    "      --memory ${memory} \\\n",
    "      --threads ${threads} \\\n",
    "      --exclude ds.dupvar\n"
   ]
  },
  {
   "cell_type": "markdown",
   "metadata": {},
   "source": [
    "### Extract representative SNPs using only major target set"
   ]
  },
  {
   "cell_type": "code",
   "execution_count": 7,
   "metadata": {},
   "outputs": [],
   "source": [
    "common_prefix=\"single\""
   ]
  },
  {
   "cell_type": "code",
   "execution_count": null,
   "metadata": {},
   "outputs": [],
   "source": [
    "target_ref=\"ukbb_gbr\"\n",
    "imp=\"imputeX_gbr-snps\"\n",
    "\n",
    "cd $PRS_DATASETS\n",
    "cat $target_ref/$imp/ds.QC_${pheno}.clumped | awk '{print $3}' | grep rs | sort > $target_ref/$imp/${common_prefix}_${pheno}_clumped_snps"
   ]
  },
  {
   "cell_type": "markdown",
   "metadata": {},
   "source": [
    "### Extract representative SNPs using all target sets"
   ]
  },
  {
   "cell_type": "code",
   "execution_count": 5,
   "metadata": {},
   "outputs": [],
   "source": [
    "common_prefix=\"common\""
   ]
  },
  {
   "cell_type": "markdown",
   "metadata": {},
   "source": [
    "Combine two minor target sets"
   ]
  },
  {
   "cell_type": "code",
   "execution_count": 6,
   "metadata": {},
   "outputs": [
    {
     "name": "stdout",
     "output_type": "stream",
     "text": [
      "cat: ukbb_sas/original/ds.QC.clumped: No such file or directory\n",
      "cat: ukbb_afr/original/ds.QC.clumped: No such file or directory\n",
      "cat: ukbb_gbr/original/ds.QC.clumped: No such file or directory\n"
     ]
    }
   ],
   "source": [
    "target_ref=ukbb_gbr\n",
    "target_minor1=ukbb_afr\n",
    "target_minor2=ukbb_sas\n",
    "imp=imputeX_full\n",
    "\n",
    "cd $PRS_DATASETS\n",
    "comm -12 <(cat $target_ref/$imp/ds.QC_${pheno}.clumped | awk '{print $3}' | sort) <(comm -12 <(cat  $target_minor1/$imp/ds.QC_${pheno}.clumped | awk '{print $3}' | sort) <(cat  $target_minor2/$imp/ds.QC_${pheno}.clumped | awk '{print $3}' | sort) | sort) | grep rs | > $target_ref/$imp/${common_prefix}_${pheno}_clumped_snps"
   ]
  },
  {
   "cell_type": "markdown",
   "metadata": {},
   "source": [
    "Combine four minor target sets"
   ]
  },
  {
   "cell_type": "code",
   "execution_count": null,
   "metadata": {},
   "outputs": [],
   "source": [
    "target_ref=ukbb_gbr\n",
    "target_minor1=ukbb_afr\n",
    "target_minor2=ukbb_sas\n",
    "target_minor3=ukbb_irs\n",
    "target_minor4=ukbb_white\n",
    "imp=imputeX_full\n",
    "pheno=t2d\n",
    "\n",
    "comm -12 <(cat $target_ref/$imp/ds.QC_${pheno}.clumped | awk '{print $3}' | sort) <(comm -12 <(cat  $target_minor1/$imp/ds.QC_${pheno}.clumped | awk '{print $3}' | sort) <(comm -12 <(cat  $target_minor2/$imp/ds.QC_${pheno}.clumped | awk '{print $3}' | sort) <(comm -12 <(cat  $target_minor3/$imp/ds.QC_${pheno}.clumped | awk '{print $3}' | sort) <(cat  $target_minor4/$imp/ds.QC_${pheno}.clumped | awk '{print $3}' | sort)))) | grep rs > $target_ref/$imp/${common_prefix}_${pheno}_clumped_snps"
   ]
  },
  {
   "cell_type": "markdown",
   "metadata": {},
   "source": [
    "### Downstream analysis"
   ]
  },
  {
   "cell_type": "markdown",
   "metadata": {},
   "source": [
    "Optional: check SNPs abundance in each chromosome"
   ]
  },
  {
   "cell_type": "code",
   "execution_count": null,
   "metadata": {},
   "outputs": [],
   "source": [
    "cd $PRS_DATASETS\n",
    "awk '{if(NR==FNR){c[$1]++; next;}; if(c[$2]>0){print $1\" \"$2}}' $target_ref/$imp/${common_prefix}_${pheno}_clumped_snps  $target_ref/$imp/ds.QC.bim | awk '{print $1}' | sort | uniq -cd | sort"
   ]
  },
  {
   "cell_type": "markdown",
   "metadata": {},
   "source": [
    "Extract details of SNPs, including pvals"
   ]
  },
  {
   "cell_type": "code",
   "execution_count": null,
   "metadata": {},
   "outputs": [],
   "source": [
    "target_ref=ukbb_gbr\n",
    "cd $PRS_DATASETS\n",
    "awk '{if(NR==FNR){c[$1]++; next;}if(c[$3]>0){print $0} }' $target_ref/$imp/${common_prefix}_${pheno}_clumped_snps $target_ref/$imp/ds.QC_${pheno}.clumped | tr -s ' ' | cut -d ' ' -f 1-6 > $target_ref/$imp/${common_prefix}_${pheno}_clumped_snps_details"
   ]
  },
  {
   "cell_type": "markdown",
   "metadata": {},
   "source": [
    "Filter SNPs by pvalue threshold"
   ]
  },
  {
   "cell_type": "code",
   "execution_count": null,
   "metadata": {},
   "outputs": [],
   "source": [
    "ths=(\"0.000000000001\" \"0.0000000000001\" \"0.00000000000001\") # (\"0.1\" \"0.01\" \"0.001\" \"0.0001\" \"0.00001\"  \"0.00001\" \"0.000001\" \"0.0000001\" \"0.00000001\")\n",
    "\n",
    "cd $PRS_DATASETS\n",
    "for th in ${ths[@]}; do\n",
    "    cat  $target_ref/$imp/${common_prefix}_${pheno}_clumped_snps_details | awk '{if($5<='$th'){print $3}}' > $target_ref/$imp/${common_prefix}_${pheno}_clumped_snps_${th}\n",
    "done"
   ]
  },
  {
   "cell_type": "markdown",
   "metadata": {},
   "source": [
    "## Extract SNPs according to the sets generated above"
   ]
  },
  {
   "cell_type": "markdown",
   "metadata": {},
   "source": [
    "Init params"
   ]
  },
  {
   "cell_type": "code",
   "execution_count": null,
   "metadata": {},
   "outputs": [],
   "source": [
    "targets=(\"bcac_onco_afr\" \"bcac_onco_eas\" \"bcac_onco_eur\")\n",
    "imp=original\n",
    "ths=(\"0.1\" \"0.01\" \"0.001\")"
   ]
  },
  {
   "cell_type": "code",
   "execution_count": 1,
   "metadata": {},
   "outputs": [],
   "source": [
    "targets=(\"ukbb_gbr\") #  \"ukbb_sas\" \"ukbb_afr\" \"ukbb_irs\" \"ukbb_white\")\n",
    "imp=\"imputeX_full\" # \"imputeX_gbr-snps\"\n",
    "ths=(\"0.0000001\")\n",
    "common_prefix=\"single\" # \"common\""
   ]
  },
  {
   "cell_type": "markdown",
   "metadata": {},
   "source": [
    "Refactor bed file to tsv file format"
   ]
  },
  {
   "cell_type": "code",
   "execution_count": null,
   "metadata": {},
   "outputs": [],
   "source": [
    "$target_ref=\"ukbb_gbr\"\n",
    "targets=(\"ukbb_gbr\" \"ukbb_sas\" \"ukbb_afr\" \"ukbb_irs\" \"ukbb_white\")\n",
    "imp=\"imputeX_full\"\n",
    "ths=(\"0.001\") #  \"0.01\" \"0.001\")\n",
    "\n",
    "for th in ${ths[@]}; do\n",
    "    for target in ${targets[@]}; do \n",
    "        cd $PRS_DATASETS/$target/$imp\n",
    "        rm *_no_headers.vcf\n",
    "        plink --bfile ds --extract $PRS_DATASETS/$target_ref/$imp/${common_prefix}_${pheno}_clumped_snps_${th} --recode vcf --out ds.QC_${common_prefix}_${pheno}_${th} && \\\n",
    "        cat ds.QC_${common_prefix}_${pheno}_${th}.vcf | grep -v '##' | awk '{if (FNR==1){print substr($0,2,length($0))} else {print $0}}' > ds.QC_${common_prefix}_${pheno}_${th}_no_comments.vcf\n",
    "    done\n",
    "done"
   ]
  },
  {
   "cell_type": "code",
   "execution_count": null,
   "metadata": {},
   "outputs": [],
   "source": [
    "target_ref=\"ukbb_gbr\"\n",
    "targets=(\"ukbb_sas\" \"ukbb_afr\" \"ukbb_irs\" \"ukbb_white\" \"ukbb_gbr\")\n",
    "imp=\"imputeX_full\"\n",
    "ths=(\"0.001\") #  \"0.01\" \"0.001\")\n",
    "\n",
    "for th in ${ths[@]}; do\n",
    "    for target in ${targets[@]}; do \n",
    "        cd $PRS_DATASETS/$target/$imp\n",
    "        plink --bfile ds --extract $PRS_DATASETS/$target_ref/$imp/${common_prefix}_${pheno}_clumped_snps_${th} --make-bed --out ds.QC_${common_prefix}_${pheno}_${th}\n",
    "    done\n",
    "done"
   ]
  },
  {
   "cell_type": "markdown",
   "metadata": {},
   "source": [
    "Convert vcf cell format (*/*) to minor allele counts (0-2)"
   ]
  },
  {
   "cell_type": "code",
   "execution_count": 4,
   "metadata": {},
   "outputs": [
    {
     "name": "stdout",
     "output_type": "stream",
     "text": [
      "Traceback (most recent call last):\n",
      "  File \"<string>\", line 2, in <module>\n",
      "  File \"/home/gaga/hagailevi/anaconda3/lib/python3.8/site-packages/pandas/__init__.py\", line 30, in <module>\n",
      "    from pandas._libs import hashtable as _hashtable, lib as _lib, tslib as _tslib\n",
      "  File \"/home/gaga/hagailevi/anaconda3/lib/python3.8/site-packages/pandas/_libs/__init__.py\", line 13, in <module>\n",
      "    from pandas._libs.interval import Interval\n",
      "  File \"pandas/_libs/interval.pyx\", line 1, in init pandas._libs.interval\n",
      "  File \"pandas/_libs/hashtable.pyx\", line 1, in init pandas._libs.hashtable\n",
      "  File \"pandas/_libs/missing.pyx\", line 1, in init pandas._libs.missing\n",
      "  File \"/home/gaga/hagailevi/anaconda3/lib/python3.8/site-packages/pandas/_libs/tslibs/__init__.py\", line 30, in <module>\n",
      "    from .conversion import OutOfBoundsTimedelta, localize_pydatetime\n",
      "  File \"pandas/_libs/tslibs/conversion.pyx\", line 58, in init pandas._libs.tslibs.conversion\n",
      "  File \"pandas/_libs/tslibs/parsing.pyx\", line 34, in init pandas._libs.tslibs.parsing\n",
      "  File \"<frozen importlib._bootstrap>\", line 991, in _find_and_load\n",
      "  File \"<frozen importlib._bootstrap>\", line 975, in _find_and_load_unlocked\n",
      "  File \"<frozen importlib._bootstrap>\", line 671, in _load_unlocked\n",
      "  File \"<frozen importlib._bootstrap_external>\", line 779, in exec_module\n",
      "  File \"<frozen importlib._bootstrap_external>\", line 874, in get_code\n",
      "  File \"<frozen importlib._bootstrap_external>\", line 972, in get_data\n",
      "KeyboardInterrupt\n",
      "\n"
     ]
    }
   ],
   "source": [
    "targets=(\"ukbb_gbr\" \"ukbb_sas\" \"ukbb_afr\" \"ukbb_irs\" \"ukbb_white\")\n",
    "imp=\"imputeX_full\"\n",
    "ths=(\"0.001\") # (\"0.1\" \"0.01\" \"0.001\")\n",
    "\n",
    "for th in ${ths[@]}; do # 0.01 0.001; do # 0.1 0.01 0.001 \n",
    "    for target in ${targets[@]}; do\n",
    "        cd $PRS_DATASETS/$target/$imp\n",
    "        python -c \\\n",
    "'\n",
    "import pandas as pd\n",
    "d_enc={\"0/0\" : \"0\", \"0/1\": \"1\", \"1/0\" : \"1\", \"1/1\" : 2}\n",
    "df=pd.read_csv(\"ds.QC_'$common_prefix'_'$pheno'_'$th'_no_comments.vcf\", delim_whitespace=True, index_col=2).iloc[:,8:]\n",
    "df.columns=[col.split(\"_\")[0] for col in df.columns]\n",
    "df=df.applymap(lambda a: d_enc.get(a, \"-1\"))\n",
    "df.to_csv(\"ds_'$common_prefix'_'$pheno'_'$th'.tsv\", sep=\"\\t\")\n",
    "'\n",
    "    done\n",
    "done"
   ]
  },
  {
   "cell_type": "code",
   "execution_count": null,
   "metadata": {},
   "outputs": [],
   "source": [
    "targets=(\"ukbb_gbr\") # (\"ukbb_gbr\" \"ukbb_sas\" \"ukbb_afr\" \"ukbb_irs\" \"ukbb_white\")\n",
    "imp=\"imputeX_full\"\n",
    "ths=(\"0.01\") # (\"0.1\" \"0.01\" \"0.001\")\n",
    "\n",
    "for th in ${ths[@]}; do \n",
    "    for target in ${targets[@]}; do\n",
    "        cd $PRS_DATASETS/$target/$imp\n",
    "        # cut -f 1 ds_${th}.tsv > ds_${th}_index.tsv\n",
    "        cat ds.QC_${common_prefix}_${pheno}_${th}_no_comments.vcf | cut -f 3 | tail -n +2 > ds_${common_prefix}_${pheno}_${th}_index.tsv\n",
    "        head -n 1 ds_${common_prefix}_${pheno}_${th}.tsv | cut -f 2- > ds_${common_prefix}_${pheno}_${th}_header.tsv\n",
    "        tail -n +2 ds_${common_prefix}_${pheno}_${th}.tsv | cut -f 2- > ds_${common_prefix}_${pheno}_${th}_data.tsv\n",
    "    done\n",
    "done"
   ]
  },
  {
   "cell_type": "code",
   "execution_count": null,
   "metadata": {},
   "outputs": [],
   "source": [
    "for th in ${ths[@]}; do \n",
    "    for target in ${targets[@]}; do\n",
    "        cd $PRS_DATASETS/$target/$imp\n",
    "        python -c \\\n",
    "'\n",
    "import pandas as pd\n",
    "df=pd.read_csv(\"ds.QC_'${common_prefix}'_'${pheno}'_'${th}'.bim\", delim_whitespace=True, header=None)\n",
    "for chr,sub_df in df.groupby(0):\n",
    "    print(f\"{chr}\\t{'\"','\"'.join(list(sub_df[1]))}\")\n",
    "' > full_chrs_mutual_${common_prefix}_${pheno}_${th}\n",
    "    done\n",
    "done"
   ]
  },
  {
   "cell_type": "markdown",
   "metadata": {},
   "source": [
    "### generate datasets by a predefined set of SNPs"
   ]
  },
  {
   "cell_type": "code",
   "execution_count": null,
   "metadata": {},
   "outputs": [],
   "source": []
  },
  {
   "cell_type": "code",
   "execution_count": null,
   "metadata": {},
   "outputs": [],
   "source": [
    "target_ref=\"ukbb_gbr\"\n",
    "targets=(\"ukbb_sas\" \"ukbb_afr\" \"ukbb_irs\" \"ukbb_white\" \"ukbb_gbr\")\n",
    "imp=\"imputeX_full\"\n",
    "ds_prefix=\"union_all\"\n",
    "pheno=\"t2d\""
   ]
  },
  {
   "cell_type": "code",
   "execution_count": null,
   "metadata": {},
   "outputs": [],
   "source": [
    "cd $PRS_DATASETS\n",
    "for target in ${targets[@]}; do \n",
    "    plink --bfile $target/$imp/ds.QC --extract $target_ref/${imp}/clumped_snps_${ds_prefix}_${pheno} --make-bed --out $target/$imp/ds.QC_${ds_prefix}_${pheno}; \n",
    "done"
   ]
  },
  {
   "cell_type": "code",
   "execution_count": null,
   "metadata": {},
   "outputs": [],
   "source": [
    "for target in ${targets[@]}; do \n",
    "    cd $PRS_DATASETS/$target/$imp\n",
    "    rm *_no_headers.vcf\n",
    "    plink --bfile ds.QC_${ds_prefix}_${pheno} --recode vcf --out ds.QC_${ds_prefix}_${pheno} && \\\n",
    "    cat ds.QC_${ds_prefix}_${pheno}.vcf | grep -v '##' | awk '{if (FNR==1){print substr($0,2,length($0))} else {print $0}}' > ds.QC_${ds_prefix}_${pheno}_no_comments.vcf\n",
    "done\n"
   ]
  },
  {
   "cell_type": "markdown",
   "metadata": {},
   "source": [
    "Convert vcf cell format (*/*) to minor allele counts (0-2)"
   ]
  },
  {
   "cell_type": "code",
   "execution_count": 4,
   "metadata": {},
   "outputs": [
    {
     "name": "stdout",
     "output_type": "stream",
     "text": [
      "Traceback (most recent call last):\n",
      "  File \"<string>\", line 2, in <module>\n",
      "  File \"/home/gaga/hagailevi/anaconda3/lib/python3.8/site-packages/pandas/__init__.py\", line 30, in <module>\n",
      "    from pandas._libs import hashtable as _hashtable, lib as _lib, tslib as _tslib\n",
      "  File \"/home/gaga/hagailevi/anaconda3/lib/python3.8/site-packages/pandas/_libs/__init__.py\", line 13, in <module>\n",
      "    from pandas._libs.interval import Interval\n",
      "  File \"pandas/_libs/interval.pyx\", line 1, in init pandas._libs.interval\n",
      "  File \"pandas/_libs/hashtable.pyx\", line 1, in init pandas._libs.hashtable\n",
      "  File \"pandas/_libs/missing.pyx\", line 1, in init pandas._libs.missing\n",
      "  File \"/home/gaga/hagailevi/anaconda3/lib/python3.8/site-packages/pandas/_libs/tslibs/__init__.py\", line 30, in <module>\n",
      "    from .conversion import OutOfBoundsTimedelta, localize_pydatetime\n",
      "  File \"pandas/_libs/tslibs/conversion.pyx\", line 58, in init pandas._libs.tslibs.conversion\n",
      "  File \"pandas/_libs/tslibs/parsing.pyx\", line 34, in init pandas._libs.tslibs.parsing\n",
      "  File \"<frozen importlib._bootstrap>\", line 991, in _find_and_load\n",
      "  File \"<frozen importlib._bootstrap>\", line 975, in _find_and_load_unlocked\n",
      "  File \"<frozen importlib._bootstrap>\", line 671, in _load_unlocked\n",
      "  File \"<frozen importlib._bootstrap_external>\", line 779, in exec_module\n",
      "  File \"<frozen importlib._bootstrap_external>\", line 874, in get_code\n",
      "  File \"<frozen importlib._bootstrap_external>\", line 972, in get_data\n",
      "KeyboardInterrupt\n",
      "\n"
     ]
    }
   ],
   "source": [
    "for target in ${targets[@]}; do\n",
    "    cd $PRS_DATASETS/$target/$imp\n",
    "    echo \"start converting $target\"\n",
    "    python -c \\\n",
    "'\n",
    "import pandas as pd\n",
    "d_enc={\"0/0\" : \"0\", \"0/1\": \"1\", \"1/0\" : \"1\", \"1/1\" : 2}\n",
    "df=pd.read_csv(\"ds.QC_'$ds_prefix'_'$pheno'_no_comments.vcf\", delim_whitespace=True, index_col=2).iloc[:,8:]\n",
    "df.columns=[col.split(\"_\")[0] for col in df.columns]\n",
    "df=df.applymap(lambda a: d_enc.get(a, \"-1\"))\n",
    "df.to_csv(\"ds_'$ds_prefix'_'$pheno'.tsv\", sep=\"\\t\")\n",
    "'\n",
    "done"
   ]
  },
  {
   "cell_type": "code",
   "execution_count": null,
   "metadata": {},
   "outputs": [],
   "source": [
    "for target in ${targets[@]}; do\n",
    "    cd $PRS_DATASETS/$target/$imp\n",
    "    # cut -f 1 ds_${th}.tsv > ds_${th}_index.tsv\n",
    "    cat ds.QC_${ds_prefix}_${pheno}_no_comments.vcf | cut -f 3 | tail -n +2 > ds_${ds_prefix}_${pheno}_index.tsv\n",
    "    head -n 1 ds_${ds_prefix}_${pheno}_.tsv | cut -f 2- > ds_${ds_prefix}_${pheno}_header.tsv\n",
    "    tail -n +2 ds_${ds_prefix}_${pheno}_.tsv | cut -f 2- > ds_${ds_prefix}_${pheno}_data.tsv\n",
    "done"
   ]
  },
  {
   "cell_type": "code",
   "execution_count": null,
   "metadata": {},
   "outputs": [],
   "source": [
    "for target in ${targets[@]}; do\n",
    "    cd $PRS_DATASETS/$target/$imp\n",
    "    python -c \\\n",
    "'\n",
    "import pandas as pd\n",
    "df=pd.read_csv(\"ds.QC_'${ds_prefix}'_'${pheno}'.bim\", delim_whitespace=True, header=None)\n",
    "for chr,sub_df in df.groupby(0):\n",
    "    print(f\"{chr}\\t{'\"','\"'.join(list(sub_df[1]))}\")\n",
    "' > full_chrs_mutual_${ds_prefix}_${pheno}\n",
    "done\n"
   ]
  }
 ],
 "metadata": {
  "kernelspec": {
   "display_name": "Bash",
   "language": "bash",
   "name": "bash"
  },
  "language_info": {
   "codemirror_mode": "shell",
   "file_extension": ".sh",
   "mimetype": "text/x-sh",
   "name": "bash"
  }
 },
 "nbformat": 4,
 "nbformat_minor": 4
}
