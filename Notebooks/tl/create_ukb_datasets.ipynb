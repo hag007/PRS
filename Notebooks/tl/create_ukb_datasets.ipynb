{
 "cells": [
  {
   "cell_type": "markdown",
   "metadata": {},
   "source": [
    "Create new folder and id set for each population"
   ]
  },
  {
   "cell_type": "code",
   "execution_count": 4,
   "metadata": {},
   "outputs": [],
   "source": [
    "declare -A eth_by_codes=(['irs']='Irish' ['gbr']='British' ['eur']='White' ['sas']='Asian' ['afr']='African' ['chn']='Chinese')"
   ]
  },
  {
   "cell_type": "code",
   "execution_count": 3,
   "metadata": {},
   "outputs": [],
   "source": [
    "eth_code='chn'\n",
    "eth=${eth_by_codes[${eth_code}]}\n",
    "\n",
    "cd $PRS_DATASETS/ukbb\n",
    "head -n 1 pop.panel > pop.panel.$eth_code\n",
    "cat pop.panel | grep $eth  >> pop.panel.$eth_code\n",
    "\n",
    "cd $PRS_DATASETS/\n",
    "mkdir ukbb_${eth_code}/original\n",
    "cp ukbb/pop.panel.${eth_code} ukbb_${eth_code}/pop.panel"
   ]
  },
  {
   "cell_type": "markdown",
   "metadata": {},
   "source": [
    "create a new folder id set for \"other white individuals\""
   ]
  },
  {
   "cell_type": "code",
   "execution_count": null,
   "metadata": {},
   "outputs": [],
   "source": [
    "cd $PRS_DATASETS/ukbb\n",
    "cat pop.panel.eur | grep -v British | grep -v Irish >> pop.panel.white\n",
    "\n",
    "cd $PRS_DATASETS/\n",
    "mkdir -p ukbb_white/original\n",
    "mv ukbb/pop.panel.white ukbb_white/pop.panel"
   ]
  },
  {
   "cell_type": "markdown",
   "metadata": {},
   "source": [
    "Extract phenos"
   ]
  },
  {
   "cell_type": "code",
   "execution_count": null,
   "metadata": {},
   "outputs": [],
   "source": [
    "pheno=t2d\n",
    "super_pop=eur # for AFR an SAS there are several phenos available under ukbb target set\n",
    "targets=(\"ukbb_gbr\" \"ukbb_irs\" \"ukbb_white\") #  \"ukbb_sas\" \"ukbb_afr\" \"ukbb_chn\")\n",
    "for target in ${targets[@]}; do \n",
    "    awk '{if(NR==FNR){c[$1]++; next;}if(c[$1]>0){print $0}}' $PRS_DATASETS/$target/pop.panel $PRS_DATASETS/ukbb/pheno_${pheno}_${super_pop} > $PRS_DATASETS/$target/pheno_${pheno}_\n",
    "done"
   ]
  },
  {
   "cell_type": "markdown",
   "metadata": {},
   "source": [
    "Extract extract only non-missing SNPs"
   ]
  },
  {
   "cell_type": "code",
   "execution_count": null,
   "metadata": {},
   "outputs": [],
   "source": [
    "plink2 --bfile $PRS_DATASETS/ukbb/imputeX/ds --geno 0 --maf 0.05 --hwe 1e-6 --make-bed --out $PRS_DATASETS/ukbb/imputeX_full/ds.QC "
   ]
  },
  {
   "cell_type": "markdown",
   "metadata": {},
   "source": [
    "Keep only relevant subjects"
   ]
  },
  {
   "cell_type": "code",
   "execution_count": null,
   "metadata": {},
   "outputs": [],
   "source": [
    "eth_code='white'\n",
    "plink2 --bfile $PRS_DATASETS/ukbb/imputeX_full/ds.QC --make-bed --keep $PRS_DATASETS/ukbb_${eth_code}/pop.panel --out $PRS_DATASETS/ukbb_${eth_code}/imputeX_full/ds.QC "
   ]
  }
 ],
 "metadata": {
  "kernelspec": {
   "display_name": "Bash",
   "language": "bash",
   "name": "bash"
  },
  "language_info": {
   "codemirror_mode": "shell",
   "file_extension": ".sh",
   "mimetype": "text/x-sh",
   "name": "bash"
  }
 },
 "nbformat": 4,
 "nbformat_minor": 4
}
